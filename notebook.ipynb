{
 "cells": [
  {
   "cell_type": "markdown",
   "metadata": {},
   "source": [
    "# QCTO - Workplace Module\n",
    "\n",
    "### Project Title: Stroke Prediction Using Machine Learning: Identifying Risk Factors for Early Detection\n",
    "#### Done By: Khumbelo Shaun Dowelani\n",
    "\n",
    "© ExploreAI 2024\n",
    "\n",
    "---\n",
    "\n",
    "## Table of Contents\n",
    "\n",
    "<a href=#BC> Background Context</a>\n",
    "\n",
    "<a href=#one>1. Importing Packages</a>\n",
    "\n",
    "<a href=#two>2. Data Collection and Description</a>\n",
    "\n",
    "<a href=#three>3. Loading Data </a>\n",
    "\n",
    "<a href=#four>4. Data Cleaning and Filtering</a>\n",
    "\n",
    "<a href=#five>5. Exploratory Data Analysis (EDA)</a>\n",
    "\n",
    "<a href=#six>6. Modeling </a>\n",
    "\n",
    "<a href=#seven>7. Evaluation and Validation</a>\n",
    "\n",
    "<a href=#eight>8. Final Model</a>\n",
    "\n",
    "<a href=#nine>9. Conclusion and Future Work</a>\n",
    "\n",
    "<a href=#ten>10. References</a>"
   ]
  },
  {
   "cell_type": "markdown",
   "metadata": {},
   "source": [
    "---\n",
    " <a id=\"BC\"></a>\n",
    "## **Background Context**\n",
    "<a href=#cont>Back to Table of Contents</a>\n",
    "\n",
    "* **Purpose:** Introduce the project, outline its goals, and explain its significance.\n",
    "* **Details:** Include information about the problem domain, the specific questions or challenges the project aims to address, and any relevant background information that sets the stage for the work.\n",
    "---"
   ]
  },
  {
   "cell_type": "markdown",
   "metadata": {},
   "source": [
    "### Context\n",
    "Stroke is the **2nd leading cause of death globally**, responsible for approximately **11% of total deaths**, according to the **World Health Organization (WHO)**. A stroke occurs when blood flow to the brain is disrupted, leading to potential long-term disability or death. Early detection and prevention are **critical** in reducing stroke-related fatalities and improving patient outcomes.  \n",
    "\n",
    "This dataset provides **medical and demographic information** to predict whether a person is at risk of having a stroke. It includes features such as **age, gender, underlying diseases (e.g., hypertension, diabetes), and lifestyle factors (e.g., smoking status)**. By analyzing these factors, we can build a **predictive model** to help identify high-risk individuals and support early medical intervention.  \n",
    "\n",
    "### Purpose of the Project  \n",
    "The goal of this project is to **develop a machine learning model** that predicts the likelihood of a patient experiencing a stroke based on their medical history and lifestyle. This will enable:  \n",
    "\n",
    "- **Early detection of stroke risk**, allowing for timely medical intervention.  \n",
    "- **Identification of key risk factors** contributing to stroke occurrences.  \n",
    "- **Support for healthcare professionals** in decision-making and risk assessment.  \n",
    "\n",
    "### Significance of the Study  \n",
    "By leveraging **machine learning for stroke prediction**, this project aims to **reduce preventable deaths, enhance early diagnosis, and optimize healthcare resource allocation**. A well-performing model could assist in **screening patients efficiently**, leading to better stroke prevention strategies and improved patient care."
   ]
  },
  {
   "cell_type": "markdown",
   "metadata": {},
   "source": [
    "---\n",
    "<a href=#one></a>\n",
    "## **Importing Packages**\n",
    "<a href=#cont>Back to Table of Contents</a>\n",
    "\n",
    "* **Purpose:** Set up the Python environment with necessary libraries and tools.\n",
    "* **Details:** List and import all the Python packages that will be used throughout the project such as Pandas for data manipulation, Matplotlib/Seaborn for visualization, scikit-learn for modeling, etc.\n",
    "---"
   ]
  },
  {
   "cell_type": "code",
   "execution_count": 51,
   "metadata": {},
   "outputs": [],
   "source": [
    "import pandas as pd\n",
    "import numpy as np\n",
    "import plotly.express as px\n",
    "import plotly.graph_objects as go\n",
    "import plotly.figure_factory as ff\n",
    "import matplotlib.pyplot as plt\n",
    "import seaborn as sns"
   ]
  },
  {
   "cell_type": "markdown",
   "metadata": {},
   "source": [
    "---\n",
    "<a href=#two></a>\n",
    "## **Data Collection and Description**\n",
    "<a href=#cont>Back to Table of Contents</a>\n",
    "\n",
    "* **Purpose:** Describe how the data was collected and provide an overview of its characteristics.\n",
    "* **Details:** Mention sources of the data, the methods used for collection (e.g., APIs, web scraping, datasets from repositories), and a general description of the dataset including size, scope, and types of data available (e.g., numerical, categorical).\n",
    "---"
   ]
  },
  {
   "cell_type": "markdown",
   "metadata": {},
   "source": [
    "### Data Source  \n",
    "The dataset was obtained from **Kaggle**, a popular online repository for open datasets. While the exact data collection method is not specified, it is structured for **stroke prediction research** and contains relevant medical and demographic attributes. \n",
    "\n",
    "The dataset contains **5110 rows and 12 columns**, providing relevant information about the patient's health status and demographic data. Below is a detailed description of each attribute:\n",
    "\n",
    "1. **id**:  \n",
    "   - A **unique identifier** for each patient in the dataset.  \n",
    "   \n",
    "2. **gender**:  \n",
    "   - The **gender** of the patient. Possible values are:\n",
    "     - `\"Male\"`, `\"Female\"`, or `\"Other\"`.  \n",
    "   \n",
    "3. **age**:  \n",
    "   - The **age** of the patient in **years**.  \n",
    "\n",
    "4. **hypertension**:  \n",
    "   - Indicates whether the patient has **hypertension** (high blood pressure).\n",
    "     - `0` if the patient **doesn't** have hypertension,  \n",
    "     - `1` if the patient **has** hypertension.  \n",
    "\n",
    "5. **heart_disease**:  \n",
    "   - Indicates whether the patient has a **heart disease**.  \n",
    "     - `0` if the patient **doesn't** have heart disease,  \n",
    "     - `1` if the patient **has** heart disease.  \n",
    "\n",
    "6. **ever_married**:  \n",
    "   - Indicates whether the patient has **ever been married**. Possible values:\n",
    "     - `\"No\"` or `\"Yes\"`.  \n",
    "\n",
    "7. **work_type**:  \n",
    "   - The **type of work** the patient is involved in. Possible values:\n",
    "     - `\"children\"`, `\"Govt_job\"`, `\"Never_worked\"`, `\"Private\"`, or `\"Self-employed\"`.  \n",
    "\n",
    "8. **Residence_type**:  \n",
    "   - Indicates whether the patient lives in a **rural** or **urban** area. Possible values:\n",
    "     - `\"Rural\"` or `\"Urban\"`.  \n",
    "\n",
    "9. **avg_glucose_level**:  \n",
    "   - The **average glucose level** in the patient's blood, typically measured in **mg/dL**.  \n",
    "\n",
    "10. **bmi**:  \n",
    "    - The **body mass index (BMI)** of the patient, a measure of body fat based on height and weight.  \n",
    "\n",
    "11. **smoking_status**:  \n",
    "    - Indicates the patient's **smoking status**. Possible values:\n",
    "      - `\"formerly smoked\"`, `\"never smoked\"`, `\"smokes\"`, or `\"Unknown\"`.  \n",
    "    - Note: `\"Unknown\"` means that the smoking information is unavailable for the patient.  \n",
    "\n",
    "12. **stroke**:  \n",
    "    - The **target variable** indicating whether the patient had a stroke.  \n",
    "      - `1` if the patient **had a stroke**,  \n",
    "      - `0` if the patient **did not have a stroke**.  \n",
    "\n",
    "These attributes form the foundation for predicting whether a patient is likely to experience a stroke. The features include **demographic details**, **health conditions**, and **lifestyle factors**, all of which contribute to the risk of stroke occurrence.  "
   ]
  },
  {
   "cell_type": "markdown",
   "metadata": {},
   "source": [
    "---\n",
    "<a href=#three></a>\n",
    "## **Loading Data**\n",
    "<a href=#cont>Back to Table of Contents</a>\n",
    "\n",
    "* **Purpose:** Load the data into the notebook for manipulation and analysis.\n",
    "* **Details:** Show the code used to load the data and display the first few rows to give a sense of what the raw data looks like.\n",
    "---"
   ]
  },
  {
   "cell_type": "code",
   "execution_count": 2,
   "metadata": {},
   "outputs": [
    {
     "data": {
      "text/html": [
       "<div>\n",
       "<style scoped>\n",
       "    .dataframe tbody tr th:only-of-type {\n",
       "        vertical-align: middle;\n",
       "    }\n",
       "\n",
       "    .dataframe tbody tr th {\n",
       "        vertical-align: top;\n",
       "    }\n",
       "\n",
       "    .dataframe thead th {\n",
       "        text-align: right;\n",
       "    }\n",
       "</style>\n",
       "<table border=\"1\" class=\"dataframe\">\n",
       "  <thead>\n",
       "    <tr style=\"text-align: right;\">\n",
       "      <th></th>\n",
       "      <th>id</th>\n",
       "      <th>gender</th>\n",
       "      <th>age</th>\n",
       "      <th>hypertension</th>\n",
       "      <th>heart_disease</th>\n",
       "      <th>ever_married</th>\n",
       "      <th>work_type</th>\n",
       "      <th>Residence_type</th>\n",
       "      <th>avg_glucose_level</th>\n",
       "      <th>bmi</th>\n",
       "      <th>smoking_status</th>\n",
       "      <th>stroke</th>\n",
       "    </tr>\n",
       "  </thead>\n",
       "  <tbody>\n",
       "    <tr>\n",
       "      <th>0</th>\n",
       "      <td>9046</td>\n",
       "      <td>Male</td>\n",
       "      <td>67.0</td>\n",
       "      <td>0</td>\n",
       "      <td>1</td>\n",
       "      <td>Yes</td>\n",
       "      <td>Private</td>\n",
       "      <td>Urban</td>\n",
       "      <td>228.69</td>\n",
       "      <td>36.6</td>\n",
       "      <td>formerly smoked</td>\n",
       "      <td>1</td>\n",
       "    </tr>\n",
       "    <tr>\n",
       "      <th>1</th>\n",
       "      <td>51676</td>\n",
       "      <td>Female</td>\n",
       "      <td>61.0</td>\n",
       "      <td>0</td>\n",
       "      <td>0</td>\n",
       "      <td>Yes</td>\n",
       "      <td>Self-employed</td>\n",
       "      <td>Rural</td>\n",
       "      <td>202.21</td>\n",
       "      <td>NaN</td>\n",
       "      <td>never smoked</td>\n",
       "      <td>1</td>\n",
       "    </tr>\n",
       "    <tr>\n",
       "      <th>2</th>\n",
       "      <td>31112</td>\n",
       "      <td>Male</td>\n",
       "      <td>80.0</td>\n",
       "      <td>0</td>\n",
       "      <td>1</td>\n",
       "      <td>Yes</td>\n",
       "      <td>Private</td>\n",
       "      <td>Rural</td>\n",
       "      <td>105.92</td>\n",
       "      <td>32.5</td>\n",
       "      <td>never smoked</td>\n",
       "      <td>1</td>\n",
       "    </tr>\n",
       "    <tr>\n",
       "      <th>3</th>\n",
       "      <td>60182</td>\n",
       "      <td>Female</td>\n",
       "      <td>49.0</td>\n",
       "      <td>0</td>\n",
       "      <td>0</td>\n",
       "      <td>Yes</td>\n",
       "      <td>Private</td>\n",
       "      <td>Urban</td>\n",
       "      <td>171.23</td>\n",
       "      <td>34.4</td>\n",
       "      <td>smokes</td>\n",
       "      <td>1</td>\n",
       "    </tr>\n",
       "    <tr>\n",
       "      <th>4</th>\n",
       "      <td>1665</td>\n",
       "      <td>Female</td>\n",
       "      <td>79.0</td>\n",
       "      <td>1</td>\n",
       "      <td>0</td>\n",
       "      <td>Yes</td>\n",
       "      <td>Self-employed</td>\n",
       "      <td>Rural</td>\n",
       "      <td>174.12</td>\n",
       "      <td>24.0</td>\n",
       "      <td>never smoked</td>\n",
       "      <td>1</td>\n",
       "    </tr>\n",
       "  </tbody>\n",
       "</table>\n",
       "</div>"
      ],
      "text/plain": [
       "      id  gender   age  hypertension  heart_disease ever_married  \\\n",
       "0   9046    Male  67.0             0              1          Yes   \n",
       "1  51676  Female  61.0             0              0          Yes   \n",
       "2  31112    Male  80.0             0              1          Yes   \n",
       "3  60182  Female  49.0             0              0          Yes   \n",
       "4   1665  Female  79.0             1              0          Yes   \n",
       "\n",
       "       work_type Residence_type  avg_glucose_level   bmi   smoking_status  \\\n",
       "0        Private          Urban             228.69  36.6  formerly smoked   \n",
       "1  Self-employed          Rural             202.21   NaN     never smoked   \n",
       "2        Private          Rural             105.92  32.5     never smoked   \n",
       "3        Private          Urban             171.23  34.4           smokes   \n",
       "4  Self-employed          Rural             174.12  24.0     never smoked   \n",
       "\n",
       "   stroke  \n",
       "0       1  \n",
       "1       1  \n",
       "2       1  \n",
       "3       1  \n",
       "4       1  "
      ]
     },
     "execution_count": 2,
     "metadata": {},
     "output_type": "execute_result"
    }
   ],
   "source": [
    "# Load the dataset\n",
    "df = pd.read_csv('Data/healthcare-dataset-stroke-data.csv')\n",
    "\n",
    "# Display first few rows\n",
    "df.head()"
   ]
  },
  {
   "cell_type": "markdown",
   "metadata": {},
   "source": [
    "---\n",
    "<a href=#four></a>\n",
    "## **Data Cleaning and Filtering**\n",
    "<a href=#cont>Back to Table of Contents</a>\n",
    "\n",
    "* **Purpose:** Prepare the data for analysis by cleaning and filtering.\n",
    "* **Details:** Include steps for handling missing values, removing outliers, correcting errors, and possibly reducing the data (filtering based on certain criteria or features).\n",
    "---"
   ]
  },
  {
   "cell_type": "code",
   "execution_count": 19,
   "metadata": {},
   "outputs": [
    {
     "name": "stdout",
     "output_type": "stream",
     "text": [
      "Missing Values in Each Column:\n",
      "id                   0\n",
      "gender               0\n",
      "age                  0\n",
      "hypertension         0\n",
      "heart_disease        0\n",
      "ever_married         0\n",
      "work_type            0\n",
      "Residence_type       0\n",
      "avg_glucose_level    0\n",
      "bmi                  0\n",
      "smoking_status       0\n",
      "stroke               0\n",
      "dtype: int64\n"
     ]
    }
   ],
   "source": [
    "print(\"Missing Values in Each Column:\")\n",
    "print(df.isnull().sum())"
   ]
  },
  {
   "cell_type": "code",
   "execution_count": 20,
   "metadata": {},
   "outputs": [
    {
     "name": "stdout",
     "output_type": "stream",
     "text": [
      "id                   0\n",
      "gender               0\n",
      "age                  0\n",
      "hypertension         0\n",
      "heart_disease        0\n",
      "ever_married         0\n",
      "work_type            0\n",
      "Residence_type       0\n",
      "avg_glucose_level    0\n",
      "bmi                  0\n",
      "smoking_status       0\n",
      "stroke               0\n",
      "dtype: int64\n"
     ]
    }
   ],
   "source": [
    "# Drop rows where 'bmi' column has missing values\n",
    "df = df.dropna(subset=['bmi'])\n",
    "\n",
    "# Verify if any missing values remain\n",
    "print(df.isnull().sum())"
   ]
  },
  {
   "cell_type": "code",
   "execution_count": 21,
   "metadata": {},
   "outputs": [
    {
     "name": "stdout",
     "output_type": "stream",
     "text": [
      "\n",
      "Number of Duplicate Rows: 0\n"
     ]
    }
   ],
   "source": [
    "duplicate_count = df.duplicated().sum()\n",
    "print(f\"\\nNumber of Duplicate Rows: {duplicate_count}\")"
   ]
  },
  {
   "cell_type": "code",
   "execution_count": 22,
   "metadata": {},
   "outputs": [
    {
     "name": "stdout",
     "output_type": "stream",
     "text": [
      "Number of rows: 4252\n"
     ]
    }
   ],
   "source": [
    "row_count = df.shape[0]\n",
    "print(f\"Number of rows: {row_count}\")"
   ]
  },
  {
   "cell_type": "code",
   "execution_count": 23,
   "metadata": {},
   "outputs": [],
   "source": [
    "# Define a function to remove outliers using IQR (Interquartile Range)\n",
    "def remove_outliers(df, column):\n",
    "    Q1 = df[column].quantile(0.25)\n",
    "    Q3 = df[column].quantile(0.75)\n",
    "    IQR = Q3 - Q1\n",
    "    lower_bound = Q1 - 1.5 * IQR\n",
    "    upper_bound = Q3 + 1.5 * IQR\n",
    "    return df[(df[column] >= lower_bound) & (df[column] <= upper_bound)]\n",
    "\n",
    "# Apply outlier removal to numeric columns\n",
    "numeric_cols = ['age', 'avg_glucose_level', 'bmi']  # Adjusted based on your dataset\n",
    "for col in numeric_cols:\n",
    "    df = remove_outliers(df, col)\n",
    "\n"
   ]
  },
  {
   "cell_type": "code",
   "execution_count": 24,
   "metadata": {},
   "outputs": [
    {
     "name": "stdout",
     "output_type": "stream",
     "text": [
      "---- Checking for Errors in Each Column ----\n",
      "\n",
      "Duplicate IDs: 0\n",
      "Invalid gender values: 0\n",
      "Invalid ages: 0\n",
      "Invalid hypertension values: 0\n",
      "Invalid heart disease values: 0\n",
      "Invalid marriage status values: 0\n",
      "Invalid work type values: 0\n",
      "Invalid residence type values: 0\n",
      "Invalid avg_glucose_level values: 0\n",
      "Invalid BMI values: 0\n",
      "Invalid smoking status values: 0\n",
      "Invalid stroke values: 0\n"
     ]
    }
   ],
   "source": [
    "# Function to check for errors in each column\n",
    "def check_data_errors(df):\n",
    "    print(\"---- Checking for Errors in Each Column ----\\n\")\n",
    "\n",
    "    # Check for duplicate IDs\n",
    "    if 'id' in df.columns:\n",
    "        duplicate_ids = df['id'].duplicated().sum()\n",
    "        print(f\"Duplicate IDs: {duplicate_ids}\")\n",
    "\n",
    "    # Check for invalid values in 'gender' column\n",
    "    if 'gender' in df.columns:\n",
    "        invalid_genders = df[~df['gender'].isin(['Male', 'Female', 'Other'])]\n",
    "        print(f\"Invalid gender values: {invalid_genders.shape[0]}\")\n",
    "\n",
    "    # Check for negative or unrealistic ages\n",
    "    if 'age' in df.columns:\n",
    "        invalid_ages = df[(df['age'] < 0) | (df['age'] > 120)]  \n",
    "        print(f\"Invalid ages: {invalid_ages.shape[0]}\")\n",
    "\n",
    "    # Check for invalid hypertension values (should be 0 or 1)\n",
    "    if 'hypertension' in df.columns:\n",
    "        invalid_hypertension = df[~df['hypertension'].isin([0, 1])]\n",
    "        print(f\"Invalid hypertension values: {invalid_hypertension.shape[0]}\")\n",
    "\n",
    "    # Check for invalid heart disease values (should be 0 or 1)\n",
    "    if 'heart_disease' in df.columns:\n",
    "        invalid_heart_disease = df[~df['heart_disease'].isin([0, 1])]\n",
    "        print(f\"Invalid heart disease values: {invalid_heart_disease.shape[0]}\")\n",
    "\n",
    "    # Check for invalid marital status\n",
    "    if 'ever_married' in df.columns:\n",
    "        invalid_marriage_status = df[~df['ever_married'].isin(['Yes', 'No'])]\n",
    "        print(f\"Invalid marriage status values: {invalid_marriage_status.shape[0]}\")\n",
    "\n",
    "    # Check for invalid work types\n",
    "    if 'work_type' in df.columns:\n",
    "        valid_work_types = ['children', 'Govt_job', 'Never_worked', 'Private', 'Self-employed']\n",
    "        invalid_work_types = df[~df['work_type'].isin(valid_work_types)]\n",
    "        print(f\"Invalid work type values: {invalid_work_types.shape[0]}\")\n",
    "\n",
    "    # Check for invalid residence type\n",
    "    if 'Residence_type' in df.columns:\n",
    "        invalid_residence = df[~df['Residence_type'].isin(['Rural', 'Urban'])]\n",
    "        print(f\"Invalid residence type values: {invalid_residence.shape[0]}\")\n",
    "\n",
    "    # Check for negative or extremely high avg_glucose_level values\n",
    "    if 'avg_glucose_level' in df.columns:\n",
    "        invalid_glucose = df[df['avg_glucose_level'] <= 0]\n",
    "        print(f\"Invalid avg_glucose_level values: {invalid_glucose.shape[0]}\")\n",
    "\n",
    "    # Check for negative or extreme BMI values\n",
    "    if 'bmi' in df.columns:\n",
    "        invalid_bmi = df[(df['bmi'] <= 0) | (df['bmi'] > 100)]  # BMI over 100 is highly unlikely\n",
    "        print(f\"Invalid BMI values: {invalid_bmi.shape[0]}\")\n",
    "\n",
    "    # Check for invalid smoking status\n",
    "    if 'smoking_status' in df.columns:\n",
    "        valid_smoking_status = ['formerly smoked', 'never smoked', 'smokes', 'Unknown']\n",
    "        invalid_smoking = df[~df['smoking_status'].isin(valid_smoking_status)]\n",
    "        print(f\"Invalid smoking status values: {invalid_smoking.shape[0]}\")\n",
    "\n",
    "    # Check for invalid stroke values (should be 0 or 1)\n",
    "    if 'stroke' in df.columns:\n",
    "        invalid_stroke = df[~df['stroke'].isin([0, 1])]\n",
    "        print(f\"Invalid stroke values: {invalid_stroke.shape[0]}\")\n",
    "\n",
    "# Run the function to check for errors\n",
    "check_data_errors(df)"
   ]
  },
  {
   "cell_type": "code",
   "execution_count": 25,
   "metadata": {},
   "outputs": [
    {
     "name": "stdout",
     "output_type": "stream",
     "text": [
      "Number of rows: 4129\n"
     ]
    }
   ],
   "source": [
    "row_count = df.shape[0]\n",
    "print(f\"Number of rows: {row_count}\")"
   ]
  },
  {
   "cell_type": "markdown",
   "metadata": {},
   "source": [
    "---\n",
    "<a href=#five></a>\n",
    "## **Exploratory Data Analysis (EDA)**\n",
    "<a href=#cont>Back to Table of Contents</a>\n",
    "\n",
    "* **Purpose:** Explore and visualize the data to uncover patterns, trends, and relationships.\n",
    "* **Details:** Use statistics and visualizations to explore the data. This may include histograms, box plots, scatter plots, and correlation matrices. Discuss any significant findings.\n",
    "---\n"
   ]
  },
  {
   "cell_type": "code",
   "execution_count": 11,
   "metadata": {},
   "outputs": [
    {
     "name": "stdout",
     "output_type": "stream",
     "text": [
      "\n",
      "---- Summary Statistics ----\n",
      "                 id          age  hypertension  heart_disease  \\\n",
      "count   4252.000000  4252.000000   4252.000000    4252.000000   \n",
      "mean   37143.407338    40.598655      0.068674       0.036453   \n",
      "std    20987.203681    22.460205      0.252928       0.187438   \n",
      "min       77.000000     0.080000      0.000000       0.000000   \n",
      "25%    18677.750000    22.000000      0.000000       0.000000   \n",
      "50%    37653.000000    41.000000      0.000000       0.000000   \n",
      "75%    55401.750000    58.000000      0.000000       0.000000   \n",
      "max    72940.000000    82.000000      1.000000       1.000000   \n",
      "\n",
      "       avg_glucose_level          bmi       stroke  \n",
      "count        4252.000000  4252.000000  4252.000000  \n",
      "mean           91.513173    27.777046     0.031985  \n",
      "std            22.713855     6.676779     0.175981  \n",
      "min            55.120000    10.300000     0.000000  \n",
      "25%            75.060000    23.000000     0.000000  \n",
      "50%            88.055000    27.400000     0.000000  \n",
      "75%           104.055000    32.100000     0.000000  \n",
      "max           168.150000    46.300000     1.000000  \n"
     ]
    }
   ],
   "source": [
    "print(\"\\n---- Summary Statistics ----\")\n",
    "print(df.describe())"
   ]
  },
  {
   "cell_type": "code",
   "execution_count": 65,
   "metadata": {},
   "outputs": [
    {
     "data": {
      "application/vnd.plotly.v1+json": {
       "config": {
        "plotlyServerURL": "https://plot.ly"
       },
       "data": [
        {
         "bingroup": "x",
         "hovertemplate": "age=%{x}<br>count=%{y}<extra></extra>",
         "legendgroup": "",
         "marker": {
          "color": "lightblue",
          "pattern": {
           "shape": ""
          }
         },
         "name": "",
         "nbinsx": 30,
         "orientation": "v",
         "showlegend": false,
         "type": "histogram",
         "x": {
          "bdata": "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",
          "dtype": "f8"
         },
         "xaxis": "x",
         "yaxis": "y"
        }
       ],
       "layout": {
        "bargap": 0.1,
        "barmode": "relative",
        "legend": {
         "tracegroupgap": 0
        },
        "template": {
         "data": {
          "bar": [
           {
            "error_x": {
             "color": "#f2f5fa"
            },
            "error_y": {
             "color": "#f2f5fa"
            },
            "marker": {
             "line": {
              "color": "rgb(17,17,17)",
              "width": 0.5
             },
             "pattern": {
              "fillmode": "overlay",
              "size": 10,
              "solidity": 0.2
             }
            },
            "type": "bar"
           }
          ],
          "barpolar": [
           {
            "marker": {
             "line": {
              "color": "rgb(17,17,17)",
              "width": 0.5
             },
             "pattern": {
              "fillmode": "overlay",
              "size": 10,
              "solidity": 0.2
             }
            },
            "type": "barpolar"
           }
          ],
          "carpet": [
           {
            "aaxis": {
             "endlinecolor": "#A2B1C6",
             "gridcolor": "#506784",
             "linecolor": "#506784",
             "minorgridcolor": "#506784",
             "startlinecolor": "#A2B1C6"
            },
            "baxis": {
             "endlinecolor": "#A2B1C6",
             "gridcolor": "#506784",
             "linecolor": "#506784",
             "minorgridcolor": "#506784",
             "startlinecolor": "#A2B1C6"
            },
            "type": "carpet"
           }
          ],
          "choropleth": [
           {
            "colorbar": {
             "outlinewidth": 0,
             "ticks": ""
            },
            "type": "choropleth"
           }
          ],
          "contour": [
           {
            "colorbar": {
             "outlinewidth": 0,
             "ticks": ""
            },
            "colorscale": [
             [
              0,
              "#0d0887"
             ],
             [
              0.1111111111111111,
              "#46039f"
             ],
             [
              0.2222222222222222,
              "#7201a8"
             ],
             [
              0.3333333333333333,
              "#9c179e"
             ],
             [
              0.4444444444444444,
              "#bd3786"
             ],
             [
              0.5555555555555556,
              "#d8576b"
             ],
             [
              0.6666666666666666,
              "#ed7953"
             ],
             [
              0.7777777777777778,
              "#fb9f3a"
             ],
             [
              0.8888888888888888,
              "#fdca26"
             ],
             [
              1,
              "#f0f921"
             ]
            ],
            "type": "contour"
           }
          ],
          "contourcarpet": [
           {
            "colorbar": {
             "outlinewidth": 0,
             "ticks": ""
            },
            "type": "contourcarpet"
           }
          ],
          "heatmap": [
           {
            "colorbar": {
             "outlinewidth": 0,
             "ticks": ""
            },
            "colorscale": [
             [
              0,
              "#0d0887"
             ],
             [
              0.1111111111111111,
              "#46039f"
             ],
             [
              0.2222222222222222,
              "#7201a8"
             ],
             [
              0.3333333333333333,
              "#9c179e"
             ],
             [
              0.4444444444444444,
              "#bd3786"
             ],
             [
              0.5555555555555556,
              "#d8576b"
             ],
             [
              0.6666666666666666,
              "#ed7953"
             ],
             [
              0.7777777777777778,
              "#fb9f3a"
             ],
             [
              0.8888888888888888,
              "#fdca26"
             ],
             [
              1,
              "#f0f921"
             ]
            ],
            "type": "heatmap"
           }
          ],
          "histogram": [
           {
            "marker": {
             "pattern": {
              "fillmode": "overlay",
              "size": 10,
              "solidity": 0.2
             }
            },
            "type": "histogram"
           }
          ],
          "histogram2d": [
           {
            "colorbar": {
             "outlinewidth": 0,
             "ticks": ""
            },
            "colorscale": [
             [
              0,
              "#0d0887"
             ],
             [
              0.1111111111111111,
              "#46039f"
             ],
             [
              0.2222222222222222,
              "#7201a8"
             ],
             [
              0.3333333333333333,
              "#9c179e"
             ],
             [
              0.4444444444444444,
              "#bd3786"
             ],
             [
              0.5555555555555556,
              "#d8576b"
             ],
             [
              0.6666666666666666,
              "#ed7953"
             ],
             [
              0.7777777777777778,
              "#fb9f3a"
             ],
             [
              0.8888888888888888,
              "#fdca26"
             ],
             [
              1,
              "#f0f921"
             ]
            ],
            "type": "histogram2d"
           }
          ],
          "histogram2dcontour": [
           {
            "colorbar": {
             "outlinewidth": 0,
             "ticks": ""
            },
            "colorscale": [
             [
              0,
              "#0d0887"
             ],
             [
              0.1111111111111111,
              "#46039f"
             ],
             [
              0.2222222222222222,
              "#7201a8"
             ],
             [
              0.3333333333333333,
              "#9c179e"
             ],
             [
              0.4444444444444444,
              "#bd3786"
             ],
             [
              0.5555555555555556,
              "#d8576b"
             ],
             [
              0.6666666666666666,
              "#ed7953"
             ],
             [
              0.7777777777777778,
              "#fb9f3a"
             ],
             [
              0.8888888888888888,
              "#fdca26"
             ],
             [
              1,
              "#f0f921"
             ]
            ],
            "type": "histogram2dcontour"
           }
          ],
          "mesh3d": [
           {
            "colorbar": {
             "outlinewidth": 0,
             "ticks": ""
            },
            "type": "mesh3d"
           }
          ],
          "parcoords": [
           {
            "line": {
             "colorbar": {
              "outlinewidth": 0,
              "ticks": ""
             }
            },
            "type": "parcoords"
           }
          ],
          "pie": [
           {
            "automargin": true,
            "type": "pie"
           }
          ],
          "scatter": [
           {
            "marker": {
             "line": {
              "color": "#283442"
             }
            },
            "type": "scatter"
           }
          ],
          "scatter3d": [
           {
            "line": {
             "colorbar": {
              "outlinewidth": 0,
              "ticks": ""
             }
            },
            "marker": {
             "colorbar": {
              "outlinewidth": 0,
              "ticks": ""
             }
            },
            "type": "scatter3d"
           }
          ],
          "scattercarpet": [
           {
            "marker": {
             "colorbar": {
              "outlinewidth": 0,
              "ticks": ""
             }
            },
            "type": "scattercarpet"
           }
          ],
          "scattergeo": [
           {
            "marker": {
             "colorbar": {
              "outlinewidth": 0,
              "ticks": ""
             }
            },
            "type": "scattergeo"
           }
          ],
          "scattergl": [
           {
            "marker": {
             "line": {
              "color": "#283442"
             }
            },
            "type": "scattergl"
           }
          ],
          "scattermap": [
           {
            "marker": {
             "colorbar": {
              "outlinewidth": 0,
              "ticks": ""
             }
            },
            "type": "scattermap"
           }
          ],
          "scattermapbox": [
           {
            "marker": {
             "colorbar": {
              "outlinewidth": 0,
              "ticks": ""
             }
            },
            "type": "scattermapbox"
           }
          ],
          "scatterpolar": [
           {
            "marker": {
             "colorbar": {
              "outlinewidth": 0,
              "ticks": ""
             }
            },
            "type": "scatterpolar"
           }
          ],
          "scatterpolargl": [
           {
            "marker": {
             "colorbar": {
              "outlinewidth": 0,
              "ticks": ""
             }
            },
            "type": "scatterpolargl"
           }
          ],
          "scatterternary": [
           {
            "marker": {
             "colorbar": {
              "outlinewidth": 0,
              "ticks": ""
             }
            },
            "type": "scatterternary"
           }
          ],
          "surface": [
           {
            "colorbar": {
             "outlinewidth": 0,
             "ticks": ""
            },
            "colorscale": [
             [
              0,
              "#0d0887"
             ],
             [
              0.1111111111111111,
              "#46039f"
             ],
             [
              0.2222222222222222,
              "#7201a8"
             ],
             [
              0.3333333333333333,
              "#9c179e"
             ],
             [
              0.4444444444444444,
              "#bd3786"
             ],
             [
              0.5555555555555556,
              "#d8576b"
             ],
             [
              0.6666666666666666,
              "#ed7953"
             ],
             [
              0.7777777777777778,
              "#fb9f3a"
             ],
             [
              0.8888888888888888,
              "#fdca26"
             ],
             [
              1,
              "#f0f921"
             ]
            ],
            "type": "surface"
           }
          ],
          "table": [
           {
            "cells": {
             "fill": {
              "color": "#506784"
             },
             "line": {
              "color": "rgb(17,17,17)"
             }
            },
            "header": {
             "fill": {
              "color": "#2a3f5f"
             },
             "line": {
              "color": "rgb(17,17,17)"
             }
            },
            "type": "table"
           }
          ]
         },
         "layout": {
          "annotationdefaults": {
           "arrowcolor": "#f2f5fa",
           "arrowhead": 0,
           "arrowwidth": 1
          },
          "autotypenumbers": "strict",
          "coloraxis": {
           "colorbar": {
            "outlinewidth": 0,
            "ticks": ""
           }
          },
          "colorscale": {
           "diverging": [
            [
             0,
             "#8e0152"
            ],
            [
             0.1,
             "#c51b7d"
            ],
            [
             0.2,
             "#de77ae"
            ],
            [
             0.3,
             "#f1b6da"
            ],
            [
             0.4,
             "#fde0ef"
            ],
            [
             0.5,
             "#f7f7f7"
            ],
            [
             0.6,
             "#e6f5d0"
            ],
            [
             0.7,
             "#b8e186"
            ],
            [
             0.8,
             "#7fbc41"
            ],
            [
             0.9,
             "#4d9221"
            ],
            [
             1,
             "#276419"
            ]
           ],
           "sequential": [
            [
             0,
             "#0d0887"
            ],
            [
             0.1111111111111111,
             "#46039f"
            ],
            [
             0.2222222222222222,
             "#7201a8"
            ],
            [
             0.3333333333333333,
             "#9c179e"
            ],
            [
             0.4444444444444444,
             "#bd3786"
            ],
            [
             0.5555555555555556,
             "#d8576b"
            ],
            [
             0.6666666666666666,
             "#ed7953"
            ],
            [
             0.7777777777777778,
             "#fb9f3a"
            ],
            [
             0.8888888888888888,
             "#fdca26"
            ],
            [
             1,
             "#f0f921"
            ]
           ],
           "sequentialminus": [
            [
             0,
             "#0d0887"
            ],
            [
             0.1111111111111111,
             "#46039f"
            ],
            [
             0.2222222222222222,
             "#7201a8"
            ],
            [
             0.3333333333333333,
             "#9c179e"
            ],
            [
             0.4444444444444444,
             "#bd3786"
            ],
            [
             0.5555555555555556,
             "#d8576b"
            ],
            [
             0.6666666666666666,
             "#ed7953"
            ],
            [
             0.7777777777777778,
             "#fb9f3a"
            ],
            [
             0.8888888888888888,
             "#fdca26"
            ],
            [
             1,
             "#f0f921"
            ]
           ]
          },
          "colorway": [
           "#636efa",
           "#EF553B",
           "#00cc96",
           "#ab63fa",
           "#FFA15A",
           "#19d3f3",
           "#FF6692",
           "#B6E880",
           "#FF97FF",
           "#FECB52"
          ],
          "font": {
           "color": "#f2f5fa"
          },
          "geo": {
           "bgcolor": "rgb(17,17,17)",
           "lakecolor": "rgb(17,17,17)",
           "landcolor": "rgb(17,17,17)",
           "showlakes": true,
           "showland": true,
           "subunitcolor": "#506784"
          },
          "hoverlabel": {
           "align": "left"
          },
          "hovermode": "closest",
          "mapbox": {
           "style": "dark"
          },
          "paper_bgcolor": "rgb(17,17,17)",
          "plot_bgcolor": "rgb(17,17,17)",
          "polar": {
           "angularaxis": {
            "gridcolor": "#506784",
            "linecolor": "#506784",
            "ticks": ""
           },
           "bgcolor": "rgb(17,17,17)",
           "radialaxis": {
            "gridcolor": "#506784",
            "linecolor": "#506784",
            "ticks": ""
           }
          },
          "scene": {
           "xaxis": {
            "backgroundcolor": "rgb(17,17,17)",
            "gridcolor": "#506784",
            "gridwidth": 2,
            "linecolor": "#506784",
            "showbackground": true,
            "ticks": "",
            "zerolinecolor": "#C8D4E3"
           },
           "yaxis": {
            "backgroundcolor": "rgb(17,17,17)",
            "gridcolor": "#506784",
            "gridwidth": 2,
            "linecolor": "#506784",
            "showbackground": true,
            "ticks": "",
            "zerolinecolor": "#C8D4E3"
           },
           "zaxis": {
            "backgroundcolor": "rgb(17,17,17)",
            "gridcolor": "#506784",
            "gridwidth": 2,
            "linecolor": "#506784",
            "showbackground": true,
            "ticks": "",
            "zerolinecolor": "#C8D4E3"
           }
          },
          "shapedefaults": {
           "line": {
            "color": "#f2f5fa"
           }
          },
          "sliderdefaults": {
           "bgcolor": "#C8D4E3",
           "bordercolor": "rgb(17,17,17)",
           "borderwidth": 1,
           "tickwidth": 0
          },
          "ternary": {
           "aaxis": {
            "gridcolor": "#506784",
            "linecolor": "#506784",
            "ticks": ""
           },
           "baxis": {
            "gridcolor": "#506784",
            "linecolor": "#506784",
            "ticks": ""
           },
           "bgcolor": "rgb(17,17,17)",
           "caxis": {
            "gridcolor": "#506784",
            "linecolor": "#506784",
            "ticks": ""
           }
          },
          "title": {
           "x": 0.05
          },
          "updatemenudefaults": {
           "bgcolor": "#506784",
           "borderwidth": 0
          },
          "xaxis": {
           "automargin": true,
           "gridcolor": "#283442",
           "linecolor": "#506784",
           "ticks": "",
           "title": {
            "standoff": 15
           },
           "zerolinecolor": "#283442",
           "zerolinewidth": 2
          },
          "yaxis": {
           "automargin": true,
           "gridcolor": "#283442",
           "linecolor": "#506784",
           "ticks": "",
           "title": {
            "standoff": 15
           },
           "zerolinecolor": "#283442",
           "zerolinewidth": 2
          }
         }
        },
        "title": {
         "text": "Distribution of age"
        },
        "xaxis": {
         "anchor": "y",
         "domain": [
          0,
          1
         ],
         "title": {
          "text": "age"
         }
        },
        "yaxis": {
         "anchor": "x",
         "domain": [
          0,
          1
         ],
         "title": {
          "text": "count"
         }
        }
       }
      }
     },
     "metadata": {},
     "output_type": "display_data"
    },
    {
     "data": {
      "application/vnd.plotly.v1+json": {
       "config": {
        "plotlyServerURL": "https://plot.ly"
       },
       "data": [
        {
         "bingroup": "x",
         "hovertemplate": "avg_glucose_level=%{x}<br>count=%{y}<extra></extra>",
         "legendgroup": "",
         "marker": {
          "color": "lightblue",
          "pattern": {
           "shape": ""
          }
         },
         "name": "",
         "nbinsx": 30,
         "orientation": "v",
         "showlegend": false,
         "type": "histogram",
         "x": {
          "bdata": "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",
          "dtype": "f8"
         },
         "xaxis": "x",
         "yaxis": "y"
        }
       ],
       "layout": {
        "bargap": 0.1,
        "barmode": "relative",
        "legend": {
         "tracegroupgap": 0
        },
        "template": {
         "data": {
          "bar": [
           {
            "error_x": {
             "color": "#f2f5fa"
            },
            "error_y": {
             "color": "#f2f5fa"
            },
            "marker": {
             "line": {
              "color": "rgb(17,17,17)",
              "width": 0.5
             },
             "pattern": {
              "fillmode": "overlay",
              "size": 10,
              "solidity": 0.2
             }
            },
            "type": "bar"
           }
          ],
          "barpolar": [
           {
            "marker": {
             "line": {
              "color": "rgb(17,17,17)",
              "width": 0.5
             },
             "pattern": {
              "fillmode": "overlay",
              "size": 10,
              "solidity": 0.2
             }
            },
            "type": "barpolar"
           }
          ],
          "carpet": [
           {
            "aaxis": {
             "endlinecolor": "#A2B1C6",
             "gridcolor": "#506784",
             "linecolor": "#506784",
             "minorgridcolor": "#506784",
             "startlinecolor": "#A2B1C6"
            },
            "baxis": {
             "endlinecolor": "#A2B1C6",
             "gridcolor": "#506784",
             "linecolor": "#506784",
             "minorgridcolor": "#506784",
             "startlinecolor": "#A2B1C6"
            },
            "type": "carpet"
           }
          ],
          "choropleth": [
           {
            "colorbar": {
             "outlinewidth": 0,
             "ticks": ""
            },
            "type": "choropleth"
           }
          ],
          "contour": [
           {
            "colorbar": {
             "outlinewidth": 0,
             "ticks": ""
            },
            "colorscale": [
             [
              0,
              "#0d0887"
             ],
             [
              0.1111111111111111,
              "#46039f"
             ],
             [
              0.2222222222222222,
              "#7201a8"
             ],
             [
              0.3333333333333333,
              "#9c179e"
             ],
             [
              0.4444444444444444,
              "#bd3786"
             ],
             [
              0.5555555555555556,
              "#d8576b"
             ],
             [
              0.6666666666666666,
              "#ed7953"
             ],
             [
              0.7777777777777778,
              "#fb9f3a"
             ],
             [
              0.8888888888888888,
              "#fdca26"
             ],
             [
              1,
              "#f0f921"
             ]
            ],
            "type": "contour"
           }
          ],
          "contourcarpet": [
           {
            "colorbar": {
             "outlinewidth": 0,
             "ticks": ""
            },
            "type": "contourcarpet"
           }
          ],
          "heatmap": [
           {
            "colorbar": {
             "outlinewidth": 0,
             "ticks": ""
            },
            "colorscale": [
             [
              0,
              "#0d0887"
             ],
             [
              0.1111111111111111,
              "#46039f"
             ],
             [
              0.2222222222222222,
              "#7201a8"
             ],
             [
              0.3333333333333333,
              "#9c179e"
             ],
             [
              0.4444444444444444,
              "#bd3786"
             ],
             [
              0.5555555555555556,
              "#d8576b"
             ],
             [
              0.6666666666666666,
              "#ed7953"
             ],
             [
              0.7777777777777778,
              "#fb9f3a"
             ],
             [
              0.8888888888888888,
              "#fdca26"
             ],
             [
              1,
              "#f0f921"
             ]
            ],
            "type": "heatmap"
           }
          ],
          "histogram": [
           {
            "marker": {
             "pattern": {
              "fillmode": "overlay",
              "size": 10,
              "solidity": 0.2
             }
            },
            "type": "histogram"
           }
          ],
          "histogram2d": [
           {
            "colorbar": {
             "outlinewidth": 0,
             "ticks": ""
            },
            "colorscale": [
             [
              0,
              "#0d0887"
             ],
             [
              0.1111111111111111,
              "#46039f"
             ],
             [
              0.2222222222222222,
              "#7201a8"
             ],
             [
              0.3333333333333333,
              "#9c179e"
             ],
             [
              0.4444444444444444,
              "#bd3786"
             ],
             [
              0.5555555555555556,
              "#d8576b"
             ],
             [
              0.6666666666666666,
              "#ed7953"
             ],
             [
              0.7777777777777778,
              "#fb9f3a"
             ],
             [
              0.8888888888888888,
              "#fdca26"
             ],
             [
              1,
              "#f0f921"
             ]
            ],
            "type": "histogram2d"
           }
          ],
          "histogram2dcontour": [
           {
            "colorbar": {
             "outlinewidth": 0,
             "ticks": ""
            },
            "colorscale": [
             [
              0,
              "#0d0887"
             ],
             [
              0.1111111111111111,
              "#46039f"
             ],
             [
              0.2222222222222222,
              "#7201a8"
             ],
             [
              0.3333333333333333,
              "#9c179e"
             ],
             [
              0.4444444444444444,
              "#bd3786"
             ],
             [
              0.5555555555555556,
              "#d8576b"
             ],
             [
              0.6666666666666666,
              "#ed7953"
             ],
             [
              0.7777777777777778,
              "#fb9f3a"
             ],
             [
              0.8888888888888888,
              "#fdca26"
             ],
             [
              1,
              "#f0f921"
             ]
            ],
            "type": "histogram2dcontour"
           }
          ],
          "mesh3d": [
           {
            "colorbar": {
             "outlinewidth": 0,
             "ticks": ""
            },
            "type": "mesh3d"
           }
          ],
          "parcoords": [
           {
            "line": {
             "colorbar": {
              "outlinewidth": 0,
              "ticks": ""
             }
            },
            "type": "parcoords"
           }
          ],
          "pie": [
           {
            "automargin": true,
            "type": "pie"
           }
          ],
          "scatter": [
           {
            "marker": {
             "line": {
              "color": "#283442"
             }
            },
            "type": "scatter"
           }
          ],
          "scatter3d": [
           {
            "line": {
             "colorbar": {
              "outlinewidth": 0,
              "ticks": ""
             }
            },
            "marker": {
             "colorbar": {
              "outlinewidth": 0,
              "ticks": ""
             }
            },
            "type": "scatter3d"
           }
          ],
          "scattercarpet": [
           {
            "marker": {
             "colorbar": {
              "outlinewidth": 0,
              "ticks": ""
             }
            },
            "type": "scattercarpet"
           }
          ],
          "scattergeo": [
           {
            "marker": {
             "colorbar": {
              "outlinewidth": 0,
              "ticks": ""
             }
            },
            "type": "scattergeo"
           }
          ],
          "scattergl": [
           {
            "marker": {
             "line": {
              "color": "#283442"
             }
            },
            "type": "scattergl"
           }
          ],
          "scattermap": [
           {
            "marker": {
             "colorbar": {
              "outlinewidth": 0,
              "ticks": ""
             }
            },
            "type": "scattermap"
           }
          ],
          "scattermapbox": [
           {
            "marker": {
             "colorbar": {
              "outlinewidth": 0,
              "ticks": ""
             }
            },
            "type": "scattermapbox"
           }
          ],
          "scatterpolar": [
           {
            "marker": {
             "colorbar": {
              "outlinewidth": 0,
              "ticks": ""
             }
            },
            "type": "scatterpolar"
           }
          ],
          "scatterpolargl": [
           {
            "marker": {
             "colorbar": {
              "outlinewidth": 0,
              "ticks": ""
             }
            },
            "type": "scatterpolargl"
           }
          ],
          "scatterternary": [
           {
            "marker": {
             "colorbar": {
              "outlinewidth": 0,
              "ticks": ""
             }
            },
            "type": "scatterternary"
           }
          ],
          "surface": [
           {
            "colorbar": {
             "outlinewidth": 0,
             "ticks": ""
            },
            "colorscale": [
             [
              0,
              "#0d0887"
             ],
             [
              0.1111111111111111,
              "#46039f"
             ],
             [
              0.2222222222222222,
              "#7201a8"
             ],
             [
              0.3333333333333333,
              "#9c179e"
             ],
             [
              0.4444444444444444,
              "#bd3786"
             ],
             [
              0.5555555555555556,
              "#d8576b"
             ],
             [
              0.6666666666666666,
              "#ed7953"
             ],
             [
              0.7777777777777778,
              "#fb9f3a"
             ],
             [
              0.8888888888888888,
              "#fdca26"
             ],
             [
              1,
              "#f0f921"
             ]
            ],
            "type": "surface"
           }
          ],
          "table": [
           {
            "cells": {
             "fill": {
              "color": "#506784"
             },
             "line": {
              "color": "rgb(17,17,17)"
             }
            },
            "header": {
             "fill": {
              "color": "#2a3f5f"
             },
             "line": {
              "color": "rgb(17,17,17)"
             }
            },
            "type": "table"
           }
          ]
         },
         "layout": {
          "annotationdefaults": {
           "arrowcolor": "#f2f5fa",
           "arrowhead": 0,
           "arrowwidth": 1
          },
          "autotypenumbers": "strict",
          "coloraxis": {
           "colorbar": {
            "outlinewidth": 0,
            "ticks": ""
           }
          },
          "colorscale": {
           "diverging": [
            [
             0,
             "#8e0152"
            ],
            [
             0.1,
             "#c51b7d"
            ],
            [
             0.2,
             "#de77ae"
            ],
            [
             0.3,
             "#f1b6da"
            ],
            [
             0.4,
             "#fde0ef"
            ],
            [
             0.5,
             "#f7f7f7"
            ],
            [
             0.6,
             "#e6f5d0"
            ],
            [
             0.7,
             "#b8e186"
            ],
            [
             0.8,
             "#7fbc41"
            ],
            [
             0.9,
             "#4d9221"
            ],
            [
             1,
             "#276419"
            ]
           ],
           "sequential": [
            [
             0,
             "#0d0887"
            ],
            [
             0.1111111111111111,
             "#46039f"
            ],
            [
             0.2222222222222222,
             "#7201a8"
            ],
            [
             0.3333333333333333,
             "#9c179e"
            ],
            [
             0.4444444444444444,
             "#bd3786"
            ],
            [
             0.5555555555555556,
             "#d8576b"
            ],
            [
             0.6666666666666666,
             "#ed7953"
            ],
            [
             0.7777777777777778,
             "#fb9f3a"
            ],
            [
             0.8888888888888888,
             "#fdca26"
            ],
            [
             1,
             "#f0f921"
            ]
           ],
           "sequentialminus": [
            [
             0,
             "#0d0887"
            ],
            [
             0.1111111111111111,
             "#46039f"
            ],
            [
             0.2222222222222222,
             "#7201a8"
            ],
            [
             0.3333333333333333,
             "#9c179e"
            ],
            [
             0.4444444444444444,
             "#bd3786"
            ],
            [
             0.5555555555555556,
             "#d8576b"
            ],
            [
             0.6666666666666666,
             "#ed7953"
            ],
            [
             0.7777777777777778,
             "#fb9f3a"
            ],
            [
             0.8888888888888888,
             "#fdca26"
            ],
            [
             1,
             "#f0f921"
            ]
           ]
          },
          "colorway": [
           "#636efa",
           "#EF553B",
           "#00cc96",
           "#ab63fa",
           "#FFA15A",
           "#19d3f3",
           "#FF6692",
           "#B6E880",
           "#FF97FF",
           "#FECB52"
          ],
          "font": {
           "color": "#f2f5fa"
          },
          "geo": {
           "bgcolor": "rgb(17,17,17)",
           "lakecolor": "rgb(17,17,17)",
           "landcolor": "rgb(17,17,17)",
           "showlakes": true,
           "showland": true,
           "subunitcolor": "#506784"
          },
          "hoverlabel": {
           "align": "left"
          },
          "hovermode": "closest",
          "mapbox": {
           "style": "dark"
          },
          "paper_bgcolor": "rgb(17,17,17)",
          "plot_bgcolor": "rgb(17,17,17)",
          "polar": {
           "angularaxis": {
            "gridcolor": "#506784",
            "linecolor": "#506784",
            "ticks": ""
           },
           "bgcolor": "rgb(17,17,17)",
           "radialaxis": {
            "gridcolor": "#506784",
            "linecolor": "#506784",
            "ticks": ""
           }
          },
          "scene": {
           "xaxis": {
            "backgroundcolor": "rgb(17,17,17)",
            "gridcolor": "#506784",
            "gridwidth": 2,
            "linecolor": "#506784",
            "showbackground": true,
            "ticks": "",
            "zerolinecolor": "#C8D4E3"
           },
           "yaxis": {
            "backgroundcolor": "rgb(17,17,17)",
            "gridcolor": "#506784",
            "gridwidth": 2,
            "linecolor": "#506784",
            "showbackground": true,
            "ticks": "",
            "zerolinecolor": "#C8D4E3"
           },
           "zaxis": {
            "backgroundcolor": "rgb(17,17,17)",
            "gridcolor": "#506784",
            "gridwidth": 2,
            "linecolor": "#506784",
            "showbackground": true,
            "ticks": "",
            "zerolinecolor": "#C8D4E3"
           }
          },
          "shapedefaults": {
           "line": {
            "color": "#f2f5fa"
           }
          },
          "sliderdefaults": {
           "bgcolor": "#C8D4E3",
           "bordercolor": "rgb(17,17,17)",
           "borderwidth": 1,
           "tickwidth": 0
          },
          "ternary": {
           "aaxis": {
            "gridcolor": "#506784",
            "linecolor": "#506784",
            "ticks": ""
           },
           "baxis": {
            "gridcolor": "#506784",
            "linecolor": "#506784",
            "ticks": ""
           },
           "bgcolor": "rgb(17,17,17)",
           "caxis": {
            "gridcolor": "#506784",
            "linecolor": "#506784",
            "ticks": ""
           }
          },
          "title": {
           "x": 0.05
          },
          "updatemenudefaults": {
           "bgcolor": "#506784",
           "borderwidth": 0
          },
          "xaxis": {
           "automargin": true,
           "gridcolor": "#283442",
           "linecolor": "#506784",
           "ticks": "",
           "title": {
            "standoff": 15
           },
           "zerolinecolor": "#283442",
           "zerolinewidth": 2
          },
          "yaxis": {
           "automargin": true,
           "gridcolor": "#283442",
           "linecolor": "#506784",
           "ticks": "",
           "title": {
            "standoff": 15
           },
           "zerolinecolor": "#283442",
           "zerolinewidth": 2
          }
         }
        },
        "title": {
         "text": "Distribution of avg_glucose_level"
        },
        "xaxis": {
         "anchor": "y",
         "domain": [
          0,
          1
         ],
         "title": {
          "text": "avg_glucose_level"
         }
        },
        "yaxis": {
         "anchor": "x",
         "domain": [
          0,
          1
         ],
         "title": {
          "text": "count"
         }
        }
       }
      }
     },
     "metadata": {},
     "output_type": "display_data"
    },
    {
     "data": {
      "application/vnd.plotly.v1+json": {
       "config": {
        "plotlyServerURL": "https://plot.ly"
       },
       "data": [
        {
         "bingroup": "x",
         "hovertemplate": "bmi=%{x}<br>count=%{y}<extra></extra>",
         "legendgroup": "",
         "marker": {
          "color": "lightblue",
          "pattern": {
           "shape": ""
          }
         },
         "name": "",
         "nbinsx": 30,
         "orientation": "v",
         "showlegend": false,
         "type": "histogram",
         "x": {
          "bdata": "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",
          "dtype": "f8"
         },
         "xaxis": "x",
         "yaxis": "y"
        }
       ],
       "layout": {
        "bargap": 0.1,
        "barmode": "relative",
        "legend": {
         "tracegroupgap": 0
        },
        "template": {
         "data": {
          "bar": [
           {
            "error_x": {
             "color": "#f2f5fa"
            },
            "error_y": {
             "color": "#f2f5fa"
            },
            "marker": {
             "line": {
              "color": "rgb(17,17,17)",
              "width": 0.5
             },
             "pattern": {
              "fillmode": "overlay",
              "size": 10,
              "solidity": 0.2
             }
            },
            "type": "bar"
           }
          ],
          "barpolar": [
           {
            "marker": {
             "line": {
              "color": "rgb(17,17,17)",
              "width": 0.5
             },
             "pattern": {
              "fillmode": "overlay",
              "size": 10,
              "solidity": 0.2
             }
            },
            "type": "barpolar"
           }
          ],
          "carpet": [
           {
            "aaxis": {
             "endlinecolor": "#A2B1C6",
             "gridcolor": "#506784",
             "linecolor": "#506784",
             "minorgridcolor": "#506784",
             "startlinecolor": "#A2B1C6"
            },
            "baxis": {
             "endlinecolor": "#A2B1C6",
             "gridcolor": "#506784",
             "linecolor": "#506784",
             "minorgridcolor": "#506784",
             "startlinecolor": "#A2B1C6"
            },
            "type": "carpet"
           }
          ],
          "choropleth": [
           {
            "colorbar": {
             "outlinewidth": 0,
             "ticks": ""
            },
            "type": "choropleth"
           }
          ],
          "contour": [
           {
            "colorbar": {
             "outlinewidth": 0,
             "ticks": ""
            },
            "colorscale": [
             [
              0,
              "#0d0887"
             ],
             [
              0.1111111111111111,
              "#46039f"
             ],
             [
              0.2222222222222222,
              "#7201a8"
             ],
             [
              0.3333333333333333,
              "#9c179e"
             ],
             [
              0.4444444444444444,
              "#bd3786"
             ],
             [
              0.5555555555555556,
              "#d8576b"
             ],
             [
              0.6666666666666666,
              "#ed7953"
             ],
             [
              0.7777777777777778,
              "#fb9f3a"
             ],
             [
              0.8888888888888888,
              "#fdca26"
             ],
             [
              1,
              "#f0f921"
             ]
            ],
            "type": "contour"
           }
          ],
          "contourcarpet": [
           {
            "colorbar": {
             "outlinewidth": 0,
             "ticks": ""
            },
            "type": "contourcarpet"
           }
          ],
          "heatmap": [
           {
            "colorbar": {
             "outlinewidth": 0,
             "ticks": ""
            },
            "colorscale": [
             [
              0,
              "#0d0887"
             ],
             [
              0.1111111111111111,
              "#46039f"
             ],
             [
              0.2222222222222222,
              "#7201a8"
             ],
             [
              0.3333333333333333,
              "#9c179e"
             ],
             [
              0.4444444444444444,
              "#bd3786"
             ],
             [
              0.5555555555555556,
              "#d8576b"
             ],
             [
              0.6666666666666666,
              "#ed7953"
             ],
             [
              0.7777777777777778,
              "#fb9f3a"
             ],
             [
              0.8888888888888888,
              "#fdca26"
             ],
             [
              1,
              "#f0f921"
             ]
            ],
            "type": "heatmap"
           }
          ],
          "histogram": [
           {
            "marker": {
             "pattern": {
              "fillmode": "overlay",
              "size": 10,
              "solidity": 0.2
             }
            },
            "type": "histogram"
           }
          ],
          "histogram2d": [
           {
            "colorbar": {
             "outlinewidth": 0,
             "ticks": ""
            },
            "colorscale": [
             [
              0,
              "#0d0887"
             ],
             [
              0.1111111111111111,
              "#46039f"
             ],
             [
              0.2222222222222222,
              "#7201a8"
             ],
             [
              0.3333333333333333,
              "#9c179e"
             ],
             [
              0.4444444444444444,
              "#bd3786"
             ],
             [
              0.5555555555555556,
              "#d8576b"
             ],
             [
              0.6666666666666666,
              "#ed7953"
             ],
             [
              0.7777777777777778,
              "#fb9f3a"
             ],
             [
              0.8888888888888888,
              "#fdca26"
             ],
             [
              1,
              "#f0f921"
             ]
            ],
            "type": "histogram2d"
           }
          ],
          "histogram2dcontour": [
           {
            "colorbar": {
             "outlinewidth": 0,
             "ticks": ""
            },
            "colorscale": [
             [
              0,
              "#0d0887"
             ],
             [
              0.1111111111111111,
              "#46039f"
             ],
             [
              0.2222222222222222,
              "#7201a8"
             ],
             [
              0.3333333333333333,
              "#9c179e"
             ],
             [
              0.4444444444444444,
              "#bd3786"
             ],
             [
              0.5555555555555556,
              "#d8576b"
             ],
             [
              0.6666666666666666,
              "#ed7953"
             ],
             [
              0.7777777777777778,
              "#fb9f3a"
             ],
             [
              0.8888888888888888,
              "#fdca26"
             ],
             [
              1,
              "#f0f921"
             ]
            ],
            "type": "histogram2dcontour"
           }
          ],
          "mesh3d": [
           {
            "colorbar": {
             "outlinewidth": 0,
             "ticks": ""
            },
            "type": "mesh3d"
           }
          ],
          "parcoords": [
           {
            "line": {
             "colorbar": {
              "outlinewidth": 0,
              "ticks": ""
             }
            },
            "type": "parcoords"
           }
          ],
          "pie": [
           {
            "automargin": true,
            "type": "pie"
           }
          ],
          "scatter": [
           {
            "marker": {
             "line": {
              "color": "#283442"
             }
            },
            "type": "scatter"
           }
          ],
          "scatter3d": [
           {
            "line": {
             "colorbar": {
              "outlinewidth": 0,
              "ticks": ""
             }
            },
            "marker": {
             "colorbar": {
              "outlinewidth": 0,
              "ticks": ""
             }
            },
            "type": "scatter3d"
           }
          ],
          "scattercarpet": [
           {
            "marker": {
             "colorbar": {
              "outlinewidth": 0,
              "ticks": ""
             }
            },
            "type": "scattercarpet"
           }
          ],
          "scattergeo": [
           {
            "marker": {
             "colorbar": {
              "outlinewidth": 0,
              "ticks": ""
             }
            },
            "type": "scattergeo"
           }
          ],
          "scattergl": [
           {
            "marker": {
             "line": {
              "color": "#283442"
             }
            },
            "type": "scattergl"
           }
          ],
          "scattermap": [
           {
            "marker": {
             "colorbar": {
              "outlinewidth": 0,
              "ticks": ""
             }
            },
            "type": "scattermap"
           }
          ],
          "scattermapbox": [
           {
            "marker": {
             "colorbar": {
              "outlinewidth": 0,
              "ticks": ""
             }
            },
            "type": "scattermapbox"
           }
          ],
          "scatterpolar": [
           {
            "marker": {
             "colorbar": {
              "outlinewidth": 0,
              "ticks": ""
             }
            },
            "type": "scatterpolar"
           }
          ],
          "scatterpolargl": [
           {
            "marker": {
             "colorbar": {
              "outlinewidth": 0,
              "ticks": ""
             }
            },
            "type": "scatterpolargl"
           }
          ],
          "scatterternary": [
           {
            "marker": {
             "colorbar": {
              "outlinewidth": 0,
              "ticks": ""
             }
            },
            "type": "scatterternary"
           }
          ],
          "surface": [
           {
            "colorbar": {
             "outlinewidth": 0,
             "ticks": ""
            },
            "colorscale": [
             [
              0,
              "#0d0887"
             ],
             [
              0.1111111111111111,
              "#46039f"
             ],
             [
              0.2222222222222222,
              "#7201a8"
             ],
             [
              0.3333333333333333,
              "#9c179e"
             ],
             [
              0.4444444444444444,
              "#bd3786"
             ],
             [
              0.5555555555555556,
              "#d8576b"
             ],
             [
              0.6666666666666666,
              "#ed7953"
             ],
             [
              0.7777777777777778,
              "#fb9f3a"
             ],
             [
              0.8888888888888888,
              "#fdca26"
             ],
             [
              1,
              "#f0f921"
             ]
            ],
            "type": "surface"
           }
          ],
          "table": [
           {
            "cells": {
             "fill": {
              "color": "#506784"
             },
             "line": {
              "color": "rgb(17,17,17)"
             }
            },
            "header": {
             "fill": {
              "color": "#2a3f5f"
             },
             "line": {
              "color": "rgb(17,17,17)"
             }
            },
            "type": "table"
           }
          ]
         },
         "layout": {
          "annotationdefaults": {
           "arrowcolor": "#f2f5fa",
           "arrowhead": 0,
           "arrowwidth": 1
          },
          "autotypenumbers": "strict",
          "coloraxis": {
           "colorbar": {
            "outlinewidth": 0,
            "ticks": ""
           }
          },
          "colorscale": {
           "diverging": [
            [
             0,
             "#8e0152"
            ],
            [
             0.1,
             "#c51b7d"
            ],
            [
             0.2,
             "#de77ae"
            ],
            [
             0.3,
             "#f1b6da"
            ],
            [
             0.4,
             "#fde0ef"
            ],
            [
             0.5,
             "#f7f7f7"
            ],
            [
             0.6,
             "#e6f5d0"
            ],
            [
             0.7,
             "#b8e186"
            ],
            [
             0.8,
             "#7fbc41"
            ],
            [
             0.9,
             "#4d9221"
            ],
            [
             1,
             "#276419"
            ]
           ],
           "sequential": [
            [
             0,
             "#0d0887"
            ],
            [
             0.1111111111111111,
             "#46039f"
            ],
            [
             0.2222222222222222,
             "#7201a8"
            ],
            [
             0.3333333333333333,
             "#9c179e"
            ],
            [
             0.4444444444444444,
             "#bd3786"
            ],
            [
             0.5555555555555556,
             "#d8576b"
            ],
            [
             0.6666666666666666,
             "#ed7953"
            ],
            [
             0.7777777777777778,
             "#fb9f3a"
            ],
            [
             0.8888888888888888,
             "#fdca26"
            ],
            [
             1,
             "#f0f921"
            ]
           ],
           "sequentialminus": [
            [
             0,
             "#0d0887"
            ],
            [
             0.1111111111111111,
             "#46039f"
            ],
            [
             0.2222222222222222,
             "#7201a8"
            ],
            [
             0.3333333333333333,
             "#9c179e"
            ],
            [
             0.4444444444444444,
             "#bd3786"
            ],
            [
             0.5555555555555556,
             "#d8576b"
            ],
            [
             0.6666666666666666,
             "#ed7953"
            ],
            [
             0.7777777777777778,
             "#fb9f3a"
            ],
            [
             0.8888888888888888,
             "#fdca26"
            ],
            [
             1,
             "#f0f921"
            ]
           ]
          },
          "colorway": [
           "#636efa",
           "#EF553B",
           "#00cc96",
           "#ab63fa",
           "#FFA15A",
           "#19d3f3",
           "#FF6692",
           "#B6E880",
           "#FF97FF",
           "#FECB52"
          ],
          "font": {
           "color": "#f2f5fa"
          },
          "geo": {
           "bgcolor": "rgb(17,17,17)",
           "lakecolor": "rgb(17,17,17)",
           "landcolor": "rgb(17,17,17)",
           "showlakes": true,
           "showland": true,
           "subunitcolor": "#506784"
          },
          "hoverlabel": {
           "align": "left"
          },
          "hovermode": "closest",
          "mapbox": {
           "style": "dark"
          },
          "paper_bgcolor": "rgb(17,17,17)",
          "plot_bgcolor": "rgb(17,17,17)",
          "polar": {
           "angularaxis": {
            "gridcolor": "#506784",
            "linecolor": "#506784",
            "ticks": ""
           },
           "bgcolor": "rgb(17,17,17)",
           "radialaxis": {
            "gridcolor": "#506784",
            "linecolor": "#506784",
            "ticks": ""
           }
          },
          "scene": {
           "xaxis": {
            "backgroundcolor": "rgb(17,17,17)",
            "gridcolor": "#506784",
            "gridwidth": 2,
            "linecolor": "#506784",
            "showbackground": true,
            "ticks": "",
            "zerolinecolor": "#C8D4E3"
           },
           "yaxis": {
            "backgroundcolor": "rgb(17,17,17)",
            "gridcolor": "#506784",
            "gridwidth": 2,
            "linecolor": "#506784",
            "showbackground": true,
            "ticks": "",
            "zerolinecolor": "#C8D4E3"
           },
           "zaxis": {
            "backgroundcolor": "rgb(17,17,17)",
            "gridcolor": "#506784",
            "gridwidth": 2,
            "linecolor": "#506784",
            "showbackground": true,
            "ticks": "",
            "zerolinecolor": "#C8D4E3"
           }
          },
          "shapedefaults": {
           "line": {
            "color": "#f2f5fa"
           }
          },
          "sliderdefaults": {
           "bgcolor": "#C8D4E3",
           "bordercolor": "rgb(17,17,17)",
           "borderwidth": 1,
           "tickwidth": 0
          },
          "ternary": {
           "aaxis": {
            "gridcolor": "#506784",
            "linecolor": "#506784",
            "ticks": ""
           },
           "baxis": {
            "gridcolor": "#506784",
            "linecolor": "#506784",
            "ticks": ""
           },
           "bgcolor": "rgb(17,17,17)",
           "caxis": {
            "gridcolor": "#506784",
            "linecolor": "#506784",
            "ticks": ""
           }
          },
          "title": {
           "x": 0.05
          },
          "updatemenudefaults": {
           "bgcolor": "#506784",
           "borderwidth": 0
          },
          "xaxis": {
           "automargin": true,
           "gridcolor": "#283442",
           "linecolor": "#506784",
           "ticks": "",
           "title": {
            "standoff": 15
           },
           "zerolinecolor": "#283442",
           "zerolinewidth": 2
          },
          "yaxis": {
           "automargin": true,
           "gridcolor": "#283442",
           "linecolor": "#506784",
           "ticks": "",
           "title": {
            "standoff": 15
           },
           "zerolinecolor": "#283442",
           "zerolinewidth": 2
          }
         }
        },
        "title": {
         "text": "Distribution of bmi"
        },
        "xaxis": {
         "anchor": "y",
         "domain": [
          0,
          1
         ],
         "title": {
          "text": "bmi"
         }
        },
        "yaxis": {
         "anchor": "x",
         "domain": [
          0,
          1
         ],
         "title": {
          "text": "count"
         }
        }
       }
      }
     },
     "metadata": {},
     "output_type": "display_data"
    }
   ],
   "source": [
    "numeric_cols = ['age', 'avg_glucose_level', 'bmi']\n",
    "\n",
    "for col in numeric_cols:\n",
    "    fig = px.histogram(df, x=col, nbins=30, title=f\"Distribution of {col}\",\n",
    "                       color_discrete_sequence=['lightblue'])\n",
    "    fig.update_layout(template=\"plotly_dark\", bargap=0.1)\n",
    "    fig.show()"
   ]
  },
  {
   "cell_type": "code",
   "execution_count": 62,
   "metadata": {},
   "outputs": [
    {
     "data": {
      "application/vnd.plotly.v1+json": {
       "config": {
        "plotlyServerURL": "https://plot.ly"
       },
       "data": [
        {
         "hovertemplate": "gender=%{x}<br>count=%{y}<extra></extra>",
         "legendgroup": "Female",
         "marker": {
          "color": "#ffffff",
          "pattern": {
           "shape": ""
          }
         },
         "name": "Female",
         "orientation": "v",
         "showlegend": true,
         "textposition": "auto",
         "type": "bar",
         "x": [
          "Female"
         ],
         "xaxis": "x",
         "y": {
          "bdata": "lQk=",
          "dtype": "i2"
         },
         "yaxis": "y"
        },
        {
         "hovertemplate": "gender=%{x}<br>count=%{y}<extra></extra>",
         "legendgroup": "Male",
         "marker": {
          "color": "#ff3131",
          "pattern": {
           "shape": ""
          }
         },
         "name": "Male",
         "orientation": "v",
         "showlegend": true,
         "textposition": "auto",
         "type": "bar",
         "x": [
          "Male"
         ],
         "xaxis": "x",
         "y": {
          "bdata": "iwY=",
          "dtype": "i2"
         },
         "yaxis": "y"
        },
        {
         "hovertemplate": "gender=%{x}<br>count=%{y}<extra></extra>",
         "legendgroup": "Other",
         "marker": {
          "color": "#00bf63",
          "pattern": {
           "shape": ""
          }
         },
         "name": "Other",
         "orientation": "v",
         "showlegend": true,
         "textposition": "auto",
         "type": "bar",
         "x": [
          "Other"
         ],
         "xaxis": "x",
         "y": {
          "bdata": "AQ==",
          "dtype": "i1"
         },
         "yaxis": "y"
        }
       ],
       "layout": {
        "barmode": "relative",
        "legend": {
         "title": {
          "text": "gender"
         },
         "tracegroupgap": 0
        },
        "template": {
         "data": {
          "bar": [
           {
            "error_x": {
             "color": "#f2f5fa"
            },
            "error_y": {
             "color": "#f2f5fa"
            },
            "marker": {
             "line": {
              "color": "rgb(17,17,17)",
              "width": 0.5
             },
             "pattern": {
              "fillmode": "overlay",
              "size": 10,
              "solidity": 0.2
             }
            },
            "type": "bar"
           }
          ],
          "barpolar": [
           {
            "marker": {
             "line": {
              "color": "rgb(17,17,17)",
              "width": 0.5
             },
             "pattern": {
              "fillmode": "overlay",
              "size": 10,
              "solidity": 0.2
             }
            },
            "type": "barpolar"
           }
          ],
          "carpet": [
           {
            "aaxis": {
             "endlinecolor": "#A2B1C6",
             "gridcolor": "#506784",
             "linecolor": "#506784",
             "minorgridcolor": "#506784",
             "startlinecolor": "#A2B1C6"
            },
            "baxis": {
             "endlinecolor": "#A2B1C6",
             "gridcolor": "#506784",
             "linecolor": "#506784",
             "minorgridcolor": "#506784",
             "startlinecolor": "#A2B1C6"
            },
            "type": "carpet"
           }
          ],
          "choropleth": [
           {
            "colorbar": {
             "outlinewidth": 0,
             "ticks": ""
            },
            "type": "choropleth"
           }
          ],
          "contour": [
           {
            "colorbar": {
             "outlinewidth": 0,
             "ticks": ""
            },
            "colorscale": [
             [
              0,
              "#0d0887"
             ],
             [
              0.1111111111111111,
              "#46039f"
             ],
             [
              0.2222222222222222,
              "#7201a8"
             ],
             [
              0.3333333333333333,
              "#9c179e"
             ],
             [
              0.4444444444444444,
              "#bd3786"
             ],
             [
              0.5555555555555556,
              "#d8576b"
             ],
             [
              0.6666666666666666,
              "#ed7953"
             ],
             [
              0.7777777777777778,
              "#fb9f3a"
             ],
             [
              0.8888888888888888,
              "#fdca26"
             ],
             [
              1,
              "#f0f921"
             ]
            ],
            "type": "contour"
           }
          ],
          "contourcarpet": [
           {
            "colorbar": {
             "outlinewidth": 0,
             "ticks": ""
            },
            "type": "contourcarpet"
           }
          ],
          "heatmap": [
           {
            "colorbar": {
             "outlinewidth": 0,
             "ticks": ""
            },
            "colorscale": [
             [
              0,
              "#0d0887"
             ],
             [
              0.1111111111111111,
              "#46039f"
             ],
             [
              0.2222222222222222,
              "#7201a8"
             ],
             [
              0.3333333333333333,
              "#9c179e"
             ],
             [
              0.4444444444444444,
              "#bd3786"
             ],
             [
              0.5555555555555556,
              "#d8576b"
             ],
             [
              0.6666666666666666,
              "#ed7953"
             ],
             [
              0.7777777777777778,
              "#fb9f3a"
             ],
             [
              0.8888888888888888,
              "#fdca26"
             ],
             [
              1,
              "#f0f921"
             ]
            ],
            "type": "heatmap"
           }
          ],
          "histogram": [
           {
            "marker": {
             "pattern": {
              "fillmode": "overlay",
              "size": 10,
              "solidity": 0.2
             }
            },
            "type": "histogram"
           }
          ],
          "histogram2d": [
           {
            "colorbar": {
             "outlinewidth": 0,
             "ticks": ""
            },
            "colorscale": [
             [
              0,
              "#0d0887"
             ],
             [
              0.1111111111111111,
              "#46039f"
             ],
             [
              0.2222222222222222,
              "#7201a8"
             ],
             [
              0.3333333333333333,
              "#9c179e"
             ],
             [
              0.4444444444444444,
              "#bd3786"
             ],
             [
              0.5555555555555556,
              "#d8576b"
             ],
             [
              0.6666666666666666,
              "#ed7953"
             ],
             [
              0.7777777777777778,
              "#fb9f3a"
             ],
             [
              0.8888888888888888,
              "#fdca26"
             ],
             [
              1,
              "#f0f921"
             ]
            ],
            "type": "histogram2d"
           }
          ],
          "histogram2dcontour": [
           {
            "colorbar": {
             "outlinewidth": 0,
             "ticks": ""
            },
            "colorscale": [
             [
              0,
              "#0d0887"
             ],
             [
              0.1111111111111111,
              "#46039f"
             ],
             [
              0.2222222222222222,
              "#7201a8"
             ],
             [
              0.3333333333333333,
              "#9c179e"
             ],
             [
              0.4444444444444444,
              "#bd3786"
             ],
             [
              0.5555555555555556,
              "#d8576b"
             ],
             [
              0.6666666666666666,
              "#ed7953"
             ],
             [
              0.7777777777777778,
              "#fb9f3a"
             ],
             [
              0.8888888888888888,
              "#fdca26"
             ],
             [
              1,
              "#f0f921"
             ]
            ],
            "type": "histogram2dcontour"
           }
          ],
          "mesh3d": [
           {
            "colorbar": {
             "outlinewidth": 0,
             "ticks": ""
            },
            "type": "mesh3d"
           }
          ],
          "parcoords": [
           {
            "line": {
             "colorbar": {
              "outlinewidth": 0,
              "ticks": ""
             }
            },
            "type": "parcoords"
           }
          ],
          "pie": [
           {
            "automargin": true,
            "type": "pie"
           }
          ],
          "scatter": [
           {
            "marker": {
             "line": {
              "color": "#283442"
             }
            },
            "type": "scatter"
           }
          ],
          "scatter3d": [
           {
            "line": {
             "colorbar": {
              "outlinewidth": 0,
              "ticks": ""
             }
            },
            "marker": {
             "colorbar": {
              "outlinewidth": 0,
              "ticks": ""
             }
            },
            "type": "scatter3d"
           }
          ],
          "scattercarpet": [
           {
            "marker": {
             "colorbar": {
              "outlinewidth": 0,
              "ticks": ""
             }
            },
            "type": "scattercarpet"
           }
          ],
          "scattergeo": [
           {
            "marker": {
             "colorbar": {
              "outlinewidth": 0,
              "ticks": ""
             }
            },
            "type": "scattergeo"
           }
          ],
          "scattergl": [
           {
            "marker": {
             "line": {
              "color": "#283442"
             }
            },
            "type": "scattergl"
           }
          ],
          "scattermap": [
           {
            "marker": {
             "colorbar": {
              "outlinewidth": 0,
              "ticks": ""
             }
            },
            "type": "scattermap"
           }
          ],
          "scattermapbox": [
           {
            "marker": {
             "colorbar": {
              "outlinewidth": 0,
              "ticks": ""
             }
            },
            "type": "scattermapbox"
           }
          ],
          "scatterpolar": [
           {
            "marker": {
             "colorbar": {
              "outlinewidth": 0,
              "ticks": ""
             }
            },
            "type": "scatterpolar"
           }
          ],
          "scatterpolargl": [
           {
            "marker": {
             "colorbar": {
              "outlinewidth": 0,
              "ticks": ""
             }
            },
            "type": "scatterpolargl"
           }
          ],
          "scatterternary": [
           {
            "marker": {
             "colorbar": {
              "outlinewidth": 0,
              "ticks": ""
             }
            },
            "type": "scatterternary"
           }
          ],
          "surface": [
           {
            "colorbar": {
             "outlinewidth": 0,
             "ticks": ""
            },
            "colorscale": [
             [
              0,
              "#0d0887"
             ],
             [
              0.1111111111111111,
              "#46039f"
             ],
             [
              0.2222222222222222,
              "#7201a8"
             ],
             [
              0.3333333333333333,
              "#9c179e"
             ],
             [
              0.4444444444444444,
              "#bd3786"
             ],
             [
              0.5555555555555556,
              "#d8576b"
             ],
             [
              0.6666666666666666,
              "#ed7953"
             ],
             [
              0.7777777777777778,
              "#fb9f3a"
             ],
             [
              0.8888888888888888,
              "#fdca26"
             ],
             [
              1,
              "#f0f921"
             ]
            ],
            "type": "surface"
           }
          ],
          "table": [
           {
            "cells": {
             "fill": {
              "color": "#506784"
             },
             "line": {
              "color": "rgb(17,17,17)"
             }
            },
            "header": {
             "fill": {
              "color": "#2a3f5f"
             },
             "line": {
              "color": "rgb(17,17,17)"
             }
            },
            "type": "table"
           }
          ]
         },
         "layout": {
          "annotationdefaults": {
           "arrowcolor": "#f2f5fa",
           "arrowhead": 0,
           "arrowwidth": 1
          },
          "autotypenumbers": "strict",
          "coloraxis": {
           "colorbar": {
            "outlinewidth": 0,
            "ticks": ""
           }
          },
          "colorscale": {
           "diverging": [
            [
             0,
             "#8e0152"
            ],
            [
             0.1,
             "#c51b7d"
            ],
            [
             0.2,
             "#de77ae"
            ],
            [
             0.3,
             "#f1b6da"
            ],
            [
             0.4,
             "#fde0ef"
            ],
            [
             0.5,
             "#f7f7f7"
            ],
            [
             0.6,
             "#e6f5d0"
            ],
            [
             0.7,
             "#b8e186"
            ],
            [
             0.8,
             "#7fbc41"
            ],
            [
             0.9,
             "#4d9221"
            ],
            [
             1,
             "#276419"
            ]
           ],
           "sequential": [
            [
             0,
             "#0d0887"
            ],
            [
             0.1111111111111111,
             "#46039f"
            ],
            [
             0.2222222222222222,
             "#7201a8"
            ],
            [
             0.3333333333333333,
             "#9c179e"
            ],
            [
             0.4444444444444444,
             "#bd3786"
            ],
            [
             0.5555555555555556,
             "#d8576b"
            ],
            [
             0.6666666666666666,
             "#ed7953"
            ],
            [
             0.7777777777777778,
             "#fb9f3a"
            ],
            [
             0.8888888888888888,
             "#fdca26"
            ],
            [
             1,
             "#f0f921"
            ]
           ],
           "sequentialminus": [
            [
             0,
             "#0d0887"
            ],
            [
             0.1111111111111111,
             "#46039f"
            ],
            [
             0.2222222222222222,
             "#7201a8"
            ],
            [
             0.3333333333333333,
             "#9c179e"
            ],
            [
             0.4444444444444444,
             "#bd3786"
            ],
            [
             0.5555555555555556,
             "#d8576b"
            ],
            [
             0.6666666666666666,
             "#ed7953"
            ],
            [
             0.7777777777777778,
             "#fb9f3a"
            ],
            [
             0.8888888888888888,
             "#fdca26"
            ],
            [
             1,
             "#f0f921"
            ]
           ]
          },
          "colorway": [
           "#636efa",
           "#EF553B",
           "#00cc96",
           "#ab63fa",
           "#FFA15A",
           "#19d3f3",
           "#FF6692",
           "#B6E880",
           "#FF97FF",
           "#FECB52"
          ],
          "font": {
           "color": "#f2f5fa"
          },
          "geo": {
           "bgcolor": "rgb(17,17,17)",
           "lakecolor": "rgb(17,17,17)",
           "landcolor": "rgb(17,17,17)",
           "showlakes": true,
           "showland": true,
           "subunitcolor": "#506784"
          },
          "hoverlabel": {
           "align": "left"
          },
          "hovermode": "closest",
          "mapbox": {
           "style": "dark"
          },
          "paper_bgcolor": "rgb(17,17,17)",
          "plot_bgcolor": "rgb(17,17,17)",
          "polar": {
           "angularaxis": {
            "gridcolor": "#506784",
            "linecolor": "#506784",
            "ticks": ""
           },
           "bgcolor": "rgb(17,17,17)",
           "radialaxis": {
            "gridcolor": "#506784",
            "linecolor": "#506784",
            "ticks": ""
           }
          },
          "scene": {
           "xaxis": {
            "backgroundcolor": "rgb(17,17,17)",
            "gridcolor": "#506784",
            "gridwidth": 2,
            "linecolor": "#506784",
            "showbackground": true,
            "ticks": "",
            "zerolinecolor": "#C8D4E3"
           },
           "yaxis": {
            "backgroundcolor": "rgb(17,17,17)",
            "gridcolor": "#506784",
            "gridwidth": 2,
            "linecolor": "#506784",
            "showbackground": true,
            "ticks": "",
            "zerolinecolor": "#C8D4E3"
           },
           "zaxis": {
            "backgroundcolor": "rgb(17,17,17)",
            "gridcolor": "#506784",
            "gridwidth": 2,
            "linecolor": "#506784",
            "showbackground": true,
            "ticks": "",
            "zerolinecolor": "#C8D4E3"
           }
          },
          "shapedefaults": {
           "line": {
            "color": "#f2f5fa"
           }
          },
          "sliderdefaults": {
           "bgcolor": "#C8D4E3",
           "bordercolor": "rgb(17,17,17)",
           "borderwidth": 1,
           "tickwidth": 0
          },
          "ternary": {
           "aaxis": {
            "gridcolor": "#506784",
            "linecolor": "#506784",
            "ticks": ""
           },
           "baxis": {
            "gridcolor": "#506784",
            "linecolor": "#506784",
            "ticks": ""
           },
           "bgcolor": "rgb(17,17,17)",
           "caxis": {
            "gridcolor": "#506784",
            "linecolor": "#506784",
            "ticks": ""
           }
          },
          "title": {
           "x": 0.05
          },
          "updatemenudefaults": {
           "bgcolor": "#506784",
           "borderwidth": 0
          },
          "xaxis": {
           "automargin": true,
           "gridcolor": "#283442",
           "linecolor": "#506784",
           "ticks": "",
           "title": {
            "standoff": 15
           },
           "zerolinecolor": "#283442",
           "zerolinewidth": 2
          },
          "yaxis": {
           "automargin": true,
           "gridcolor": "#283442",
           "linecolor": "#506784",
           "ticks": "",
           "title": {
            "standoff": 15
           },
           "zerolinecolor": "#283442",
           "zerolinewidth": 2
          }
         }
        },
        "title": {
         "text": "Count Plot of gender"
        },
        "xaxis": {
         "anchor": "y",
         "categoryarray": [
          "Female",
          "Male",
          "Other"
         ],
         "categoryorder": "array",
         "domain": [
          0,
          1
         ],
         "title": {
          "text": "gender"
         }
        },
        "yaxis": {
         "anchor": "x",
         "domain": [
          0,
          1
         ],
         "title": {
          "text": "Count"
         }
        }
       }
      }
     },
     "metadata": {},
     "output_type": "display_data"
    },
    {
     "data": {
      "application/vnd.plotly.v1+json": {
       "config": {
        "plotlyServerURL": "https://plot.ly"
       },
       "data": [
        {
         "hovertemplate": "ever_married=%{x}<br>count=%{y}<extra></extra>",
         "legendgroup": "Yes",
         "marker": {
          "color": "#ffffff",
          "pattern": {
           "shape": ""
          }
         },
         "name": "Yes",
         "orientation": "v",
         "showlegend": true,
         "textposition": "auto",
         "type": "bar",
         "x": [
          "Yes"
         ],
         "xaxis": "x",
         "y": {
          "bdata": "/gk=",
          "dtype": "i2"
         },
         "yaxis": "y"
        },
        {
         "hovertemplate": "ever_married=%{x}<br>count=%{y}<extra></extra>",
         "legendgroup": "No",
         "marker": {
          "color": "#ff3131",
          "pattern": {
           "shape": ""
          }
         },
         "name": "No",
         "orientation": "v",
         "showlegend": true,
         "textposition": "auto",
         "type": "bar",
         "x": [
          "No"
         ],
         "xaxis": "x",
         "y": {
          "bdata": "IwY=",
          "dtype": "i2"
         },
         "yaxis": "y"
        }
       ],
       "layout": {
        "barmode": "relative",
        "legend": {
         "title": {
          "text": "ever_married"
         },
         "tracegroupgap": 0
        },
        "template": {
         "data": {
          "bar": [
           {
            "error_x": {
             "color": "#f2f5fa"
            },
            "error_y": {
             "color": "#f2f5fa"
            },
            "marker": {
             "line": {
              "color": "rgb(17,17,17)",
              "width": 0.5
             },
             "pattern": {
              "fillmode": "overlay",
              "size": 10,
              "solidity": 0.2
             }
            },
            "type": "bar"
           }
          ],
          "barpolar": [
           {
            "marker": {
             "line": {
              "color": "rgb(17,17,17)",
              "width": 0.5
             },
             "pattern": {
              "fillmode": "overlay",
              "size": 10,
              "solidity": 0.2
             }
            },
            "type": "barpolar"
           }
          ],
          "carpet": [
           {
            "aaxis": {
             "endlinecolor": "#A2B1C6",
             "gridcolor": "#506784",
             "linecolor": "#506784",
             "minorgridcolor": "#506784",
             "startlinecolor": "#A2B1C6"
            },
            "baxis": {
             "endlinecolor": "#A2B1C6",
             "gridcolor": "#506784",
             "linecolor": "#506784",
             "minorgridcolor": "#506784",
             "startlinecolor": "#A2B1C6"
            },
            "type": "carpet"
           }
          ],
          "choropleth": [
           {
            "colorbar": {
             "outlinewidth": 0,
             "ticks": ""
            },
            "type": "choropleth"
           }
          ],
          "contour": [
           {
            "colorbar": {
             "outlinewidth": 0,
             "ticks": ""
            },
            "colorscale": [
             [
              0,
              "#0d0887"
             ],
             [
              0.1111111111111111,
              "#46039f"
             ],
             [
              0.2222222222222222,
              "#7201a8"
             ],
             [
              0.3333333333333333,
              "#9c179e"
             ],
             [
              0.4444444444444444,
              "#bd3786"
             ],
             [
              0.5555555555555556,
              "#d8576b"
             ],
             [
              0.6666666666666666,
              "#ed7953"
             ],
             [
              0.7777777777777778,
              "#fb9f3a"
             ],
             [
              0.8888888888888888,
              "#fdca26"
             ],
             [
              1,
              "#f0f921"
             ]
            ],
            "type": "contour"
           }
          ],
          "contourcarpet": [
           {
            "colorbar": {
             "outlinewidth": 0,
             "ticks": ""
            },
            "type": "contourcarpet"
           }
          ],
          "heatmap": [
           {
            "colorbar": {
             "outlinewidth": 0,
             "ticks": ""
            },
            "colorscale": [
             [
              0,
              "#0d0887"
             ],
             [
              0.1111111111111111,
              "#46039f"
             ],
             [
              0.2222222222222222,
              "#7201a8"
             ],
             [
              0.3333333333333333,
              "#9c179e"
             ],
             [
              0.4444444444444444,
              "#bd3786"
             ],
             [
              0.5555555555555556,
              "#d8576b"
             ],
             [
              0.6666666666666666,
              "#ed7953"
             ],
             [
              0.7777777777777778,
              "#fb9f3a"
             ],
             [
              0.8888888888888888,
              "#fdca26"
             ],
             [
              1,
              "#f0f921"
             ]
            ],
            "type": "heatmap"
           }
          ],
          "histogram": [
           {
            "marker": {
             "pattern": {
              "fillmode": "overlay",
              "size": 10,
              "solidity": 0.2
             }
            },
            "type": "histogram"
           }
          ],
          "histogram2d": [
           {
            "colorbar": {
             "outlinewidth": 0,
             "ticks": ""
            },
            "colorscale": [
             [
              0,
              "#0d0887"
             ],
             [
              0.1111111111111111,
              "#46039f"
             ],
             [
              0.2222222222222222,
              "#7201a8"
             ],
             [
              0.3333333333333333,
              "#9c179e"
             ],
             [
              0.4444444444444444,
              "#bd3786"
             ],
             [
              0.5555555555555556,
              "#d8576b"
             ],
             [
              0.6666666666666666,
              "#ed7953"
             ],
             [
              0.7777777777777778,
              "#fb9f3a"
             ],
             [
              0.8888888888888888,
              "#fdca26"
             ],
             [
              1,
              "#f0f921"
             ]
            ],
            "type": "histogram2d"
           }
          ],
          "histogram2dcontour": [
           {
            "colorbar": {
             "outlinewidth": 0,
             "ticks": ""
            },
            "colorscale": [
             [
              0,
              "#0d0887"
             ],
             [
              0.1111111111111111,
              "#46039f"
             ],
             [
              0.2222222222222222,
              "#7201a8"
             ],
             [
              0.3333333333333333,
              "#9c179e"
             ],
             [
              0.4444444444444444,
              "#bd3786"
             ],
             [
              0.5555555555555556,
              "#d8576b"
             ],
             [
              0.6666666666666666,
              "#ed7953"
             ],
             [
              0.7777777777777778,
              "#fb9f3a"
             ],
             [
              0.8888888888888888,
              "#fdca26"
             ],
             [
              1,
              "#f0f921"
             ]
            ],
            "type": "histogram2dcontour"
           }
          ],
          "mesh3d": [
           {
            "colorbar": {
             "outlinewidth": 0,
             "ticks": ""
            },
            "type": "mesh3d"
           }
          ],
          "parcoords": [
           {
            "line": {
             "colorbar": {
              "outlinewidth": 0,
              "ticks": ""
             }
            },
            "type": "parcoords"
           }
          ],
          "pie": [
           {
            "automargin": true,
            "type": "pie"
           }
          ],
          "scatter": [
           {
            "marker": {
             "line": {
              "color": "#283442"
             }
            },
            "type": "scatter"
           }
          ],
          "scatter3d": [
           {
            "line": {
             "colorbar": {
              "outlinewidth": 0,
              "ticks": ""
             }
            },
            "marker": {
             "colorbar": {
              "outlinewidth": 0,
              "ticks": ""
             }
            },
            "type": "scatter3d"
           }
          ],
          "scattercarpet": [
           {
            "marker": {
             "colorbar": {
              "outlinewidth": 0,
              "ticks": ""
             }
            },
            "type": "scattercarpet"
           }
          ],
          "scattergeo": [
           {
            "marker": {
             "colorbar": {
              "outlinewidth": 0,
              "ticks": ""
             }
            },
            "type": "scattergeo"
           }
          ],
          "scattergl": [
           {
            "marker": {
             "line": {
              "color": "#283442"
             }
            },
            "type": "scattergl"
           }
          ],
          "scattermap": [
           {
            "marker": {
             "colorbar": {
              "outlinewidth": 0,
              "ticks": ""
             }
            },
            "type": "scattermap"
           }
          ],
          "scattermapbox": [
           {
            "marker": {
             "colorbar": {
              "outlinewidth": 0,
              "ticks": ""
             }
            },
            "type": "scattermapbox"
           }
          ],
          "scatterpolar": [
           {
            "marker": {
             "colorbar": {
              "outlinewidth": 0,
              "ticks": ""
             }
            },
            "type": "scatterpolar"
           }
          ],
          "scatterpolargl": [
           {
            "marker": {
             "colorbar": {
              "outlinewidth": 0,
              "ticks": ""
             }
            },
            "type": "scatterpolargl"
           }
          ],
          "scatterternary": [
           {
            "marker": {
             "colorbar": {
              "outlinewidth": 0,
              "ticks": ""
             }
            },
            "type": "scatterternary"
           }
          ],
          "surface": [
           {
            "colorbar": {
             "outlinewidth": 0,
             "ticks": ""
            },
            "colorscale": [
             [
              0,
              "#0d0887"
             ],
             [
              0.1111111111111111,
              "#46039f"
             ],
             [
              0.2222222222222222,
              "#7201a8"
             ],
             [
              0.3333333333333333,
              "#9c179e"
             ],
             [
              0.4444444444444444,
              "#bd3786"
             ],
             [
              0.5555555555555556,
              "#d8576b"
             ],
             [
              0.6666666666666666,
              "#ed7953"
             ],
             [
              0.7777777777777778,
              "#fb9f3a"
             ],
             [
              0.8888888888888888,
              "#fdca26"
             ],
             [
              1,
              "#f0f921"
             ]
            ],
            "type": "surface"
           }
          ],
          "table": [
           {
            "cells": {
             "fill": {
              "color": "#506784"
             },
             "line": {
              "color": "rgb(17,17,17)"
             }
            },
            "header": {
             "fill": {
              "color": "#2a3f5f"
             },
             "line": {
              "color": "rgb(17,17,17)"
             }
            },
            "type": "table"
           }
          ]
         },
         "layout": {
          "annotationdefaults": {
           "arrowcolor": "#f2f5fa",
           "arrowhead": 0,
           "arrowwidth": 1
          },
          "autotypenumbers": "strict",
          "coloraxis": {
           "colorbar": {
            "outlinewidth": 0,
            "ticks": ""
           }
          },
          "colorscale": {
           "diverging": [
            [
             0,
             "#8e0152"
            ],
            [
             0.1,
             "#c51b7d"
            ],
            [
             0.2,
             "#de77ae"
            ],
            [
             0.3,
             "#f1b6da"
            ],
            [
             0.4,
             "#fde0ef"
            ],
            [
             0.5,
             "#f7f7f7"
            ],
            [
             0.6,
             "#e6f5d0"
            ],
            [
             0.7,
             "#b8e186"
            ],
            [
             0.8,
             "#7fbc41"
            ],
            [
             0.9,
             "#4d9221"
            ],
            [
             1,
             "#276419"
            ]
           ],
           "sequential": [
            [
             0,
             "#0d0887"
            ],
            [
             0.1111111111111111,
             "#46039f"
            ],
            [
             0.2222222222222222,
             "#7201a8"
            ],
            [
             0.3333333333333333,
             "#9c179e"
            ],
            [
             0.4444444444444444,
             "#bd3786"
            ],
            [
             0.5555555555555556,
             "#d8576b"
            ],
            [
             0.6666666666666666,
             "#ed7953"
            ],
            [
             0.7777777777777778,
             "#fb9f3a"
            ],
            [
             0.8888888888888888,
             "#fdca26"
            ],
            [
             1,
             "#f0f921"
            ]
           ],
           "sequentialminus": [
            [
             0,
             "#0d0887"
            ],
            [
             0.1111111111111111,
             "#46039f"
            ],
            [
             0.2222222222222222,
             "#7201a8"
            ],
            [
             0.3333333333333333,
             "#9c179e"
            ],
            [
             0.4444444444444444,
             "#bd3786"
            ],
            [
             0.5555555555555556,
             "#d8576b"
            ],
            [
             0.6666666666666666,
             "#ed7953"
            ],
            [
             0.7777777777777778,
             "#fb9f3a"
            ],
            [
             0.8888888888888888,
             "#fdca26"
            ],
            [
             1,
             "#f0f921"
            ]
           ]
          },
          "colorway": [
           "#636efa",
           "#EF553B",
           "#00cc96",
           "#ab63fa",
           "#FFA15A",
           "#19d3f3",
           "#FF6692",
           "#B6E880",
           "#FF97FF",
           "#FECB52"
          ],
          "font": {
           "color": "#f2f5fa"
          },
          "geo": {
           "bgcolor": "rgb(17,17,17)",
           "lakecolor": "rgb(17,17,17)",
           "landcolor": "rgb(17,17,17)",
           "showlakes": true,
           "showland": true,
           "subunitcolor": "#506784"
          },
          "hoverlabel": {
           "align": "left"
          },
          "hovermode": "closest",
          "mapbox": {
           "style": "dark"
          },
          "paper_bgcolor": "rgb(17,17,17)",
          "plot_bgcolor": "rgb(17,17,17)",
          "polar": {
           "angularaxis": {
            "gridcolor": "#506784",
            "linecolor": "#506784",
            "ticks": ""
           },
           "bgcolor": "rgb(17,17,17)",
           "radialaxis": {
            "gridcolor": "#506784",
            "linecolor": "#506784",
            "ticks": ""
           }
          },
          "scene": {
           "xaxis": {
            "backgroundcolor": "rgb(17,17,17)",
            "gridcolor": "#506784",
            "gridwidth": 2,
            "linecolor": "#506784",
            "showbackground": true,
            "ticks": "",
            "zerolinecolor": "#C8D4E3"
           },
           "yaxis": {
            "backgroundcolor": "rgb(17,17,17)",
            "gridcolor": "#506784",
            "gridwidth": 2,
            "linecolor": "#506784",
            "showbackground": true,
            "ticks": "",
            "zerolinecolor": "#C8D4E3"
           },
           "zaxis": {
            "backgroundcolor": "rgb(17,17,17)",
            "gridcolor": "#506784",
            "gridwidth": 2,
            "linecolor": "#506784",
            "showbackground": true,
            "ticks": "",
            "zerolinecolor": "#C8D4E3"
           }
          },
          "shapedefaults": {
           "line": {
            "color": "#f2f5fa"
           }
          },
          "sliderdefaults": {
           "bgcolor": "#C8D4E3",
           "bordercolor": "rgb(17,17,17)",
           "borderwidth": 1,
           "tickwidth": 0
          },
          "ternary": {
           "aaxis": {
            "gridcolor": "#506784",
            "linecolor": "#506784",
            "ticks": ""
           },
           "baxis": {
            "gridcolor": "#506784",
            "linecolor": "#506784",
            "ticks": ""
           },
           "bgcolor": "rgb(17,17,17)",
           "caxis": {
            "gridcolor": "#506784",
            "linecolor": "#506784",
            "ticks": ""
           }
          },
          "title": {
           "x": 0.05
          },
          "updatemenudefaults": {
           "bgcolor": "#506784",
           "borderwidth": 0
          },
          "xaxis": {
           "automargin": true,
           "gridcolor": "#283442",
           "linecolor": "#506784",
           "ticks": "",
           "title": {
            "standoff": 15
           },
           "zerolinecolor": "#283442",
           "zerolinewidth": 2
          },
          "yaxis": {
           "automargin": true,
           "gridcolor": "#283442",
           "linecolor": "#506784",
           "ticks": "",
           "title": {
            "standoff": 15
           },
           "zerolinecolor": "#283442",
           "zerolinewidth": 2
          }
         }
        },
        "title": {
         "text": "Count Plot of ever_married"
        },
        "xaxis": {
         "anchor": "y",
         "categoryarray": [
          "Yes",
          "No"
         ],
         "categoryorder": "array",
         "domain": [
          0,
          1
         ],
         "title": {
          "text": "ever_married"
         }
        },
        "yaxis": {
         "anchor": "x",
         "domain": [
          0,
          1
         ],
         "title": {
          "text": "Count"
         }
        }
       }
      }
     },
     "metadata": {},
     "output_type": "display_data"
    },
    {
     "data": {
      "application/vnd.plotly.v1+json": {
       "config": {
        "plotlyServerURL": "https://plot.ly"
       },
       "data": [
        {
         "hovertemplate": "work_type=%{x}<br>count=%{y}<extra></extra>",
         "legendgroup": "Private",
         "marker": {
          "color": "#ffffff",
          "pattern": {
           "shape": ""
          }
         },
         "name": "Private",
         "orientation": "v",
         "showlegend": true,
         "textposition": "auto",
         "type": "bar",
         "x": [
          "Private"
         ],
         "xaxis": "x",
         "y": {
          "bdata": "Jwk=",
          "dtype": "i2"
         },
         "yaxis": "y"
        },
        {
         "hovertemplate": "work_type=%{x}<br>count=%{y}<extra></extra>",
         "legendgroup": "children",
         "marker": {
          "color": "#ff3131",
          "pattern": {
           "shape": ""
          }
         },
         "name": "children",
         "orientation": "v",
         "showlegend": true,
         "textposition": "auto",
         "type": "bar",
         "x": [
          "children"
         ],
         "xaxis": "x",
         "y": {
          "bdata": "hQI=",
          "dtype": "i2"
         },
         "yaxis": "y"
        },
        {
         "hovertemplate": "work_type=%{x}<br>count=%{y}<extra></extra>",
         "legendgroup": "Self-employed",
         "marker": {
          "color": "#00bf63",
          "pattern": {
           "shape": ""
          }
         },
         "name": "Self-employed",
         "orientation": "v",
         "showlegend": true,
         "textposition": "auto",
         "type": "bar",
         "x": [
          "Self-employed"
         ],
         "xaxis": "x",
         "y": {
          "bdata": "YAI=",
          "dtype": "i2"
         },
         "yaxis": "y"
        },
        {
         "hovertemplate": "work_type=%{x}<br>count=%{y}<extra></extra>",
         "legendgroup": "Govt_job",
         "marker": {
          "color": "#48b4bb",
          "pattern": {
           "shape": ""
          }
         },
         "name": "Govt_job",
         "orientation": "v",
         "showlegend": true,
         "textposition": "auto",
         "type": "bar",
         "x": [
          "Govt_job"
         ],
         "xaxis": "x",
         "y": {
          "bdata": "AQI=",
          "dtype": "i2"
         },
         "yaxis": "y"
        },
        {
         "hovertemplate": "work_type=%{x}<br>count=%{y}<extra></extra>",
         "legendgroup": "Never_worked",
         "marker": {
          "color": "#555555",
          "pattern": {
           "shape": ""
          }
         },
         "name": "Never_worked",
         "orientation": "v",
         "showlegend": true,
         "textposition": "auto",
         "type": "bar",
         "x": [
          "Never_worked"
         ],
         "xaxis": "x",
         "y": {
          "bdata": "FA==",
          "dtype": "i1"
         },
         "yaxis": "y"
        }
       ],
       "layout": {
        "barmode": "relative",
        "legend": {
         "title": {
          "text": "work_type"
         },
         "tracegroupgap": 0
        },
        "template": {
         "data": {
          "bar": [
           {
            "error_x": {
             "color": "#f2f5fa"
            },
            "error_y": {
             "color": "#f2f5fa"
            },
            "marker": {
             "line": {
              "color": "rgb(17,17,17)",
              "width": 0.5
             },
             "pattern": {
              "fillmode": "overlay",
              "size": 10,
              "solidity": 0.2
             }
            },
            "type": "bar"
           }
          ],
          "barpolar": [
           {
            "marker": {
             "line": {
              "color": "rgb(17,17,17)",
              "width": 0.5
             },
             "pattern": {
              "fillmode": "overlay",
              "size": 10,
              "solidity": 0.2
             }
            },
            "type": "barpolar"
           }
          ],
          "carpet": [
           {
            "aaxis": {
             "endlinecolor": "#A2B1C6",
             "gridcolor": "#506784",
             "linecolor": "#506784",
             "minorgridcolor": "#506784",
             "startlinecolor": "#A2B1C6"
            },
            "baxis": {
             "endlinecolor": "#A2B1C6",
             "gridcolor": "#506784",
             "linecolor": "#506784",
             "minorgridcolor": "#506784",
             "startlinecolor": "#A2B1C6"
            },
            "type": "carpet"
           }
          ],
          "choropleth": [
           {
            "colorbar": {
             "outlinewidth": 0,
             "ticks": ""
            },
            "type": "choropleth"
           }
          ],
          "contour": [
           {
            "colorbar": {
             "outlinewidth": 0,
             "ticks": ""
            },
            "colorscale": [
             [
              0,
              "#0d0887"
             ],
             [
              0.1111111111111111,
              "#46039f"
             ],
             [
              0.2222222222222222,
              "#7201a8"
             ],
             [
              0.3333333333333333,
              "#9c179e"
             ],
             [
              0.4444444444444444,
              "#bd3786"
             ],
             [
              0.5555555555555556,
              "#d8576b"
             ],
             [
              0.6666666666666666,
              "#ed7953"
             ],
             [
              0.7777777777777778,
              "#fb9f3a"
             ],
             [
              0.8888888888888888,
              "#fdca26"
             ],
             [
              1,
              "#f0f921"
             ]
            ],
            "type": "contour"
           }
          ],
          "contourcarpet": [
           {
            "colorbar": {
             "outlinewidth": 0,
             "ticks": ""
            },
            "type": "contourcarpet"
           }
          ],
          "heatmap": [
           {
            "colorbar": {
             "outlinewidth": 0,
             "ticks": ""
            },
            "colorscale": [
             [
              0,
              "#0d0887"
             ],
             [
              0.1111111111111111,
              "#46039f"
             ],
             [
              0.2222222222222222,
              "#7201a8"
             ],
             [
              0.3333333333333333,
              "#9c179e"
             ],
             [
              0.4444444444444444,
              "#bd3786"
             ],
             [
              0.5555555555555556,
              "#d8576b"
             ],
             [
              0.6666666666666666,
              "#ed7953"
             ],
             [
              0.7777777777777778,
              "#fb9f3a"
             ],
             [
              0.8888888888888888,
              "#fdca26"
             ],
             [
              1,
              "#f0f921"
             ]
            ],
            "type": "heatmap"
           }
          ],
          "histogram": [
           {
            "marker": {
             "pattern": {
              "fillmode": "overlay",
              "size": 10,
              "solidity": 0.2
             }
            },
            "type": "histogram"
           }
          ],
          "histogram2d": [
           {
            "colorbar": {
             "outlinewidth": 0,
             "ticks": ""
            },
            "colorscale": [
             [
              0,
              "#0d0887"
             ],
             [
              0.1111111111111111,
              "#46039f"
             ],
             [
              0.2222222222222222,
              "#7201a8"
             ],
             [
              0.3333333333333333,
              "#9c179e"
             ],
             [
              0.4444444444444444,
              "#bd3786"
             ],
             [
              0.5555555555555556,
              "#d8576b"
             ],
             [
              0.6666666666666666,
              "#ed7953"
             ],
             [
              0.7777777777777778,
              "#fb9f3a"
             ],
             [
              0.8888888888888888,
              "#fdca26"
             ],
             [
              1,
              "#f0f921"
             ]
            ],
            "type": "histogram2d"
           }
          ],
          "histogram2dcontour": [
           {
            "colorbar": {
             "outlinewidth": 0,
             "ticks": ""
            },
            "colorscale": [
             [
              0,
              "#0d0887"
             ],
             [
              0.1111111111111111,
              "#46039f"
             ],
             [
              0.2222222222222222,
              "#7201a8"
             ],
             [
              0.3333333333333333,
              "#9c179e"
             ],
             [
              0.4444444444444444,
              "#bd3786"
             ],
             [
              0.5555555555555556,
              "#d8576b"
             ],
             [
              0.6666666666666666,
              "#ed7953"
             ],
             [
              0.7777777777777778,
              "#fb9f3a"
             ],
             [
              0.8888888888888888,
              "#fdca26"
             ],
             [
              1,
              "#f0f921"
             ]
            ],
            "type": "histogram2dcontour"
           }
          ],
          "mesh3d": [
           {
            "colorbar": {
             "outlinewidth": 0,
             "ticks": ""
            },
            "type": "mesh3d"
           }
          ],
          "parcoords": [
           {
            "line": {
             "colorbar": {
              "outlinewidth": 0,
              "ticks": ""
             }
            },
            "type": "parcoords"
           }
          ],
          "pie": [
           {
            "automargin": true,
            "type": "pie"
           }
          ],
          "scatter": [
           {
            "marker": {
             "line": {
              "color": "#283442"
             }
            },
            "type": "scatter"
           }
          ],
          "scatter3d": [
           {
            "line": {
             "colorbar": {
              "outlinewidth": 0,
              "ticks": ""
             }
            },
            "marker": {
             "colorbar": {
              "outlinewidth": 0,
              "ticks": ""
             }
            },
            "type": "scatter3d"
           }
          ],
          "scattercarpet": [
           {
            "marker": {
             "colorbar": {
              "outlinewidth": 0,
              "ticks": ""
             }
            },
            "type": "scattercarpet"
           }
          ],
          "scattergeo": [
           {
            "marker": {
             "colorbar": {
              "outlinewidth": 0,
              "ticks": ""
             }
            },
            "type": "scattergeo"
           }
          ],
          "scattergl": [
           {
            "marker": {
             "line": {
              "color": "#283442"
             }
            },
            "type": "scattergl"
           }
          ],
          "scattermap": [
           {
            "marker": {
             "colorbar": {
              "outlinewidth": 0,
              "ticks": ""
             }
            },
            "type": "scattermap"
           }
          ],
          "scattermapbox": [
           {
            "marker": {
             "colorbar": {
              "outlinewidth": 0,
              "ticks": ""
             }
            },
            "type": "scattermapbox"
           }
          ],
          "scatterpolar": [
           {
            "marker": {
             "colorbar": {
              "outlinewidth": 0,
              "ticks": ""
             }
            },
            "type": "scatterpolar"
           }
          ],
          "scatterpolargl": [
           {
            "marker": {
             "colorbar": {
              "outlinewidth": 0,
              "ticks": ""
             }
            },
            "type": "scatterpolargl"
           }
          ],
          "scatterternary": [
           {
            "marker": {
             "colorbar": {
              "outlinewidth": 0,
              "ticks": ""
             }
            },
            "type": "scatterternary"
           }
          ],
          "surface": [
           {
            "colorbar": {
             "outlinewidth": 0,
             "ticks": ""
            },
            "colorscale": [
             [
              0,
              "#0d0887"
             ],
             [
              0.1111111111111111,
              "#46039f"
             ],
             [
              0.2222222222222222,
              "#7201a8"
             ],
             [
              0.3333333333333333,
              "#9c179e"
             ],
             [
              0.4444444444444444,
              "#bd3786"
             ],
             [
              0.5555555555555556,
              "#d8576b"
             ],
             [
              0.6666666666666666,
              "#ed7953"
             ],
             [
              0.7777777777777778,
              "#fb9f3a"
             ],
             [
              0.8888888888888888,
              "#fdca26"
             ],
             [
              1,
              "#f0f921"
             ]
            ],
            "type": "surface"
           }
          ],
          "table": [
           {
            "cells": {
             "fill": {
              "color": "#506784"
             },
             "line": {
              "color": "rgb(17,17,17)"
             }
            },
            "header": {
             "fill": {
              "color": "#2a3f5f"
             },
             "line": {
              "color": "rgb(17,17,17)"
             }
            },
            "type": "table"
           }
          ]
         },
         "layout": {
          "annotationdefaults": {
           "arrowcolor": "#f2f5fa",
           "arrowhead": 0,
           "arrowwidth": 1
          },
          "autotypenumbers": "strict",
          "coloraxis": {
           "colorbar": {
            "outlinewidth": 0,
            "ticks": ""
           }
          },
          "colorscale": {
           "diverging": [
            [
             0,
             "#8e0152"
            ],
            [
             0.1,
             "#c51b7d"
            ],
            [
             0.2,
             "#de77ae"
            ],
            [
             0.3,
             "#f1b6da"
            ],
            [
             0.4,
             "#fde0ef"
            ],
            [
             0.5,
             "#f7f7f7"
            ],
            [
             0.6,
             "#e6f5d0"
            ],
            [
             0.7,
             "#b8e186"
            ],
            [
             0.8,
             "#7fbc41"
            ],
            [
             0.9,
             "#4d9221"
            ],
            [
             1,
             "#276419"
            ]
           ],
           "sequential": [
            [
             0,
             "#0d0887"
            ],
            [
             0.1111111111111111,
             "#46039f"
            ],
            [
             0.2222222222222222,
             "#7201a8"
            ],
            [
             0.3333333333333333,
             "#9c179e"
            ],
            [
             0.4444444444444444,
             "#bd3786"
            ],
            [
             0.5555555555555556,
             "#d8576b"
            ],
            [
             0.6666666666666666,
             "#ed7953"
            ],
            [
             0.7777777777777778,
             "#fb9f3a"
            ],
            [
             0.8888888888888888,
             "#fdca26"
            ],
            [
             1,
             "#f0f921"
            ]
           ],
           "sequentialminus": [
            [
             0,
             "#0d0887"
            ],
            [
             0.1111111111111111,
             "#46039f"
            ],
            [
             0.2222222222222222,
             "#7201a8"
            ],
            [
             0.3333333333333333,
             "#9c179e"
            ],
            [
             0.4444444444444444,
             "#bd3786"
            ],
            [
             0.5555555555555556,
             "#d8576b"
            ],
            [
             0.6666666666666666,
             "#ed7953"
            ],
            [
             0.7777777777777778,
             "#fb9f3a"
            ],
            [
             0.8888888888888888,
             "#fdca26"
            ],
            [
             1,
             "#f0f921"
            ]
           ]
          },
          "colorway": [
           "#636efa",
           "#EF553B",
           "#00cc96",
           "#ab63fa",
           "#FFA15A",
           "#19d3f3",
           "#FF6692",
           "#B6E880",
           "#FF97FF",
           "#FECB52"
          ],
          "font": {
           "color": "#f2f5fa"
          },
          "geo": {
           "bgcolor": "rgb(17,17,17)",
           "lakecolor": "rgb(17,17,17)",
           "landcolor": "rgb(17,17,17)",
           "showlakes": true,
           "showland": true,
           "subunitcolor": "#506784"
          },
          "hoverlabel": {
           "align": "left"
          },
          "hovermode": "closest",
          "mapbox": {
           "style": "dark"
          },
          "paper_bgcolor": "rgb(17,17,17)",
          "plot_bgcolor": "rgb(17,17,17)",
          "polar": {
           "angularaxis": {
            "gridcolor": "#506784",
            "linecolor": "#506784",
            "ticks": ""
           },
           "bgcolor": "rgb(17,17,17)",
           "radialaxis": {
            "gridcolor": "#506784",
            "linecolor": "#506784",
            "ticks": ""
           }
          },
          "scene": {
           "xaxis": {
            "backgroundcolor": "rgb(17,17,17)",
            "gridcolor": "#506784",
            "gridwidth": 2,
            "linecolor": "#506784",
            "showbackground": true,
            "ticks": "",
            "zerolinecolor": "#C8D4E3"
           },
           "yaxis": {
            "backgroundcolor": "rgb(17,17,17)",
            "gridcolor": "#506784",
            "gridwidth": 2,
            "linecolor": "#506784",
            "showbackground": true,
            "ticks": "",
            "zerolinecolor": "#C8D4E3"
           },
           "zaxis": {
            "backgroundcolor": "rgb(17,17,17)",
            "gridcolor": "#506784",
            "gridwidth": 2,
            "linecolor": "#506784",
            "showbackground": true,
            "ticks": "",
            "zerolinecolor": "#C8D4E3"
           }
          },
          "shapedefaults": {
           "line": {
            "color": "#f2f5fa"
           }
          },
          "sliderdefaults": {
           "bgcolor": "#C8D4E3",
           "bordercolor": "rgb(17,17,17)",
           "borderwidth": 1,
           "tickwidth": 0
          },
          "ternary": {
           "aaxis": {
            "gridcolor": "#506784",
            "linecolor": "#506784",
            "ticks": ""
           },
           "baxis": {
            "gridcolor": "#506784",
            "linecolor": "#506784",
            "ticks": ""
           },
           "bgcolor": "rgb(17,17,17)",
           "caxis": {
            "gridcolor": "#506784",
            "linecolor": "#506784",
            "ticks": ""
           }
          },
          "title": {
           "x": 0.05
          },
          "updatemenudefaults": {
           "bgcolor": "#506784",
           "borderwidth": 0
          },
          "xaxis": {
           "automargin": true,
           "gridcolor": "#283442",
           "linecolor": "#506784",
           "ticks": "",
           "title": {
            "standoff": 15
           },
           "zerolinecolor": "#283442",
           "zerolinewidth": 2
          },
          "yaxis": {
           "automargin": true,
           "gridcolor": "#283442",
           "linecolor": "#506784",
           "ticks": "",
           "title": {
            "standoff": 15
           },
           "zerolinecolor": "#283442",
           "zerolinewidth": 2
          }
         }
        },
        "title": {
         "text": "Count Plot of work_type"
        },
        "xaxis": {
         "anchor": "y",
         "categoryarray": [
          "Private",
          "children",
          "Self-employed",
          "Govt_job",
          "Never_worked"
         ],
         "categoryorder": "array",
         "domain": [
          0,
          1
         ],
         "title": {
          "text": "work_type"
         }
        },
        "yaxis": {
         "anchor": "x",
         "domain": [
          0,
          1
         ],
         "title": {
          "text": "Count"
         }
        }
       }
      }
     },
     "metadata": {},
     "output_type": "display_data"
    },
    {
     "data": {
      "application/vnd.plotly.v1+json": {
       "config": {
        "plotlyServerURL": "https://plot.ly"
       },
       "data": [
        {
         "hovertemplate": "Residence_type=%{x}<br>count=%{y}<extra></extra>",
         "legendgroup": "Urban",
         "marker": {
          "color": "#ffffff",
          "pattern": {
           "shape": ""
          }
         },
         "name": "Urban",
         "orientation": "v",
         "showlegend": true,
         "textposition": "auto",
         "type": "bar",
         "x": [
          "Urban"
         ],
         "xaxis": "x",
         "y": {
          "bdata": "Lwg=",
          "dtype": "i2"
         },
         "yaxis": "y"
        },
        {
         "hovertemplate": "Residence_type=%{x}<br>count=%{y}<extra></extra>",
         "legendgroup": "Rural",
         "marker": {
          "color": "#ff3131",
          "pattern": {
           "shape": ""
          }
         },
         "name": "Rural",
         "orientation": "v",
         "showlegend": true,
         "textposition": "auto",
         "type": "bar",
         "x": [
          "Rural"
         ],
         "xaxis": "x",
         "y": {
          "bdata": "8gc=",
          "dtype": "i2"
         },
         "yaxis": "y"
        }
       ],
       "layout": {
        "barmode": "relative",
        "legend": {
         "title": {
          "text": "Residence_type"
         },
         "tracegroupgap": 0
        },
        "template": {
         "data": {
          "bar": [
           {
            "error_x": {
             "color": "#f2f5fa"
            },
            "error_y": {
             "color": "#f2f5fa"
            },
            "marker": {
             "line": {
              "color": "rgb(17,17,17)",
              "width": 0.5
             },
             "pattern": {
              "fillmode": "overlay",
              "size": 10,
              "solidity": 0.2
             }
            },
            "type": "bar"
           }
          ],
          "barpolar": [
           {
            "marker": {
             "line": {
              "color": "rgb(17,17,17)",
              "width": 0.5
             },
             "pattern": {
              "fillmode": "overlay",
              "size": 10,
              "solidity": 0.2
             }
            },
            "type": "barpolar"
           }
          ],
          "carpet": [
           {
            "aaxis": {
             "endlinecolor": "#A2B1C6",
             "gridcolor": "#506784",
             "linecolor": "#506784",
             "minorgridcolor": "#506784",
             "startlinecolor": "#A2B1C6"
            },
            "baxis": {
             "endlinecolor": "#A2B1C6",
             "gridcolor": "#506784",
             "linecolor": "#506784",
             "minorgridcolor": "#506784",
             "startlinecolor": "#A2B1C6"
            },
            "type": "carpet"
           }
          ],
          "choropleth": [
           {
            "colorbar": {
             "outlinewidth": 0,
             "ticks": ""
            },
            "type": "choropleth"
           }
          ],
          "contour": [
           {
            "colorbar": {
             "outlinewidth": 0,
             "ticks": ""
            },
            "colorscale": [
             [
              0,
              "#0d0887"
             ],
             [
              0.1111111111111111,
              "#46039f"
             ],
             [
              0.2222222222222222,
              "#7201a8"
             ],
             [
              0.3333333333333333,
              "#9c179e"
             ],
             [
              0.4444444444444444,
              "#bd3786"
             ],
             [
              0.5555555555555556,
              "#d8576b"
             ],
             [
              0.6666666666666666,
              "#ed7953"
             ],
             [
              0.7777777777777778,
              "#fb9f3a"
             ],
             [
              0.8888888888888888,
              "#fdca26"
             ],
             [
              1,
              "#f0f921"
             ]
            ],
            "type": "contour"
           }
          ],
          "contourcarpet": [
           {
            "colorbar": {
             "outlinewidth": 0,
             "ticks": ""
            },
            "type": "contourcarpet"
           }
          ],
          "heatmap": [
           {
            "colorbar": {
             "outlinewidth": 0,
             "ticks": ""
            },
            "colorscale": [
             [
              0,
              "#0d0887"
             ],
             [
              0.1111111111111111,
              "#46039f"
             ],
             [
              0.2222222222222222,
              "#7201a8"
             ],
             [
              0.3333333333333333,
              "#9c179e"
             ],
             [
              0.4444444444444444,
              "#bd3786"
             ],
             [
              0.5555555555555556,
              "#d8576b"
             ],
             [
              0.6666666666666666,
              "#ed7953"
             ],
             [
              0.7777777777777778,
              "#fb9f3a"
             ],
             [
              0.8888888888888888,
              "#fdca26"
             ],
             [
              1,
              "#f0f921"
             ]
            ],
            "type": "heatmap"
           }
          ],
          "histogram": [
           {
            "marker": {
             "pattern": {
              "fillmode": "overlay",
              "size": 10,
              "solidity": 0.2
             }
            },
            "type": "histogram"
           }
          ],
          "histogram2d": [
           {
            "colorbar": {
             "outlinewidth": 0,
             "ticks": ""
            },
            "colorscale": [
             [
              0,
              "#0d0887"
             ],
             [
              0.1111111111111111,
              "#46039f"
             ],
             [
              0.2222222222222222,
              "#7201a8"
             ],
             [
              0.3333333333333333,
              "#9c179e"
             ],
             [
              0.4444444444444444,
              "#bd3786"
             ],
             [
              0.5555555555555556,
              "#d8576b"
             ],
             [
              0.6666666666666666,
              "#ed7953"
             ],
             [
              0.7777777777777778,
              "#fb9f3a"
             ],
             [
              0.8888888888888888,
              "#fdca26"
             ],
             [
              1,
              "#f0f921"
             ]
            ],
            "type": "histogram2d"
           }
          ],
          "histogram2dcontour": [
           {
            "colorbar": {
             "outlinewidth": 0,
             "ticks": ""
            },
            "colorscale": [
             [
              0,
              "#0d0887"
             ],
             [
              0.1111111111111111,
              "#46039f"
             ],
             [
              0.2222222222222222,
              "#7201a8"
             ],
             [
              0.3333333333333333,
              "#9c179e"
             ],
             [
              0.4444444444444444,
              "#bd3786"
             ],
             [
              0.5555555555555556,
              "#d8576b"
             ],
             [
              0.6666666666666666,
              "#ed7953"
             ],
             [
              0.7777777777777778,
              "#fb9f3a"
             ],
             [
              0.8888888888888888,
              "#fdca26"
             ],
             [
              1,
              "#f0f921"
             ]
            ],
            "type": "histogram2dcontour"
           }
          ],
          "mesh3d": [
           {
            "colorbar": {
             "outlinewidth": 0,
             "ticks": ""
            },
            "type": "mesh3d"
           }
          ],
          "parcoords": [
           {
            "line": {
             "colorbar": {
              "outlinewidth": 0,
              "ticks": ""
             }
            },
            "type": "parcoords"
           }
          ],
          "pie": [
           {
            "automargin": true,
            "type": "pie"
           }
          ],
          "scatter": [
           {
            "marker": {
             "line": {
              "color": "#283442"
             }
            },
            "type": "scatter"
           }
          ],
          "scatter3d": [
           {
            "line": {
             "colorbar": {
              "outlinewidth": 0,
              "ticks": ""
             }
            },
            "marker": {
             "colorbar": {
              "outlinewidth": 0,
              "ticks": ""
             }
            },
            "type": "scatter3d"
           }
          ],
          "scattercarpet": [
           {
            "marker": {
             "colorbar": {
              "outlinewidth": 0,
              "ticks": ""
             }
            },
            "type": "scattercarpet"
           }
          ],
          "scattergeo": [
           {
            "marker": {
             "colorbar": {
              "outlinewidth": 0,
              "ticks": ""
             }
            },
            "type": "scattergeo"
           }
          ],
          "scattergl": [
           {
            "marker": {
             "line": {
              "color": "#283442"
             }
            },
            "type": "scattergl"
           }
          ],
          "scattermap": [
           {
            "marker": {
             "colorbar": {
              "outlinewidth": 0,
              "ticks": ""
             }
            },
            "type": "scattermap"
           }
          ],
          "scattermapbox": [
           {
            "marker": {
             "colorbar": {
              "outlinewidth": 0,
              "ticks": ""
             }
            },
            "type": "scattermapbox"
           }
          ],
          "scatterpolar": [
           {
            "marker": {
             "colorbar": {
              "outlinewidth": 0,
              "ticks": ""
             }
            },
            "type": "scatterpolar"
           }
          ],
          "scatterpolargl": [
           {
            "marker": {
             "colorbar": {
              "outlinewidth": 0,
              "ticks": ""
             }
            },
            "type": "scatterpolargl"
           }
          ],
          "scatterternary": [
           {
            "marker": {
             "colorbar": {
              "outlinewidth": 0,
              "ticks": ""
             }
            },
            "type": "scatterternary"
           }
          ],
          "surface": [
           {
            "colorbar": {
             "outlinewidth": 0,
             "ticks": ""
            },
            "colorscale": [
             [
              0,
              "#0d0887"
             ],
             [
              0.1111111111111111,
              "#46039f"
             ],
             [
              0.2222222222222222,
              "#7201a8"
             ],
             [
              0.3333333333333333,
              "#9c179e"
             ],
             [
              0.4444444444444444,
              "#bd3786"
             ],
             [
              0.5555555555555556,
              "#d8576b"
             ],
             [
              0.6666666666666666,
              "#ed7953"
             ],
             [
              0.7777777777777778,
              "#fb9f3a"
             ],
             [
              0.8888888888888888,
              "#fdca26"
             ],
             [
              1,
              "#f0f921"
             ]
            ],
            "type": "surface"
           }
          ],
          "table": [
           {
            "cells": {
             "fill": {
              "color": "#506784"
             },
             "line": {
              "color": "rgb(17,17,17)"
             }
            },
            "header": {
             "fill": {
              "color": "#2a3f5f"
             },
             "line": {
              "color": "rgb(17,17,17)"
             }
            },
            "type": "table"
           }
          ]
         },
         "layout": {
          "annotationdefaults": {
           "arrowcolor": "#f2f5fa",
           "arrowhead": 0,
           "arrowwidth": 1
          },
          "autotypenumbers": "strict",
          "coloraxis": {
           "colorbar": {
            "outlinewidth": 0,
            "ticks": ""
           }
          },
          "colorscale": {
           "diverging": [
            [
             0,
             "#8e0152"
            ],
            [
             0.1,
             "#c51b7d"
            ],
            [
             0.2,
             "#de77ae"
            ],
            [
             0.3,
             "#f1b6da"
            ],
            [
             0.4,
             "#fde0ef"
            ],
            [
             0.5,
             "#f7f7f7"
            ],
            [
             0.6,
             "#e6f5d0"
            ],
            [
             0.7,
             "#b8e186"
            ],
            [
             0.8,
             "#7fbc41"
            ],
            [
             0.9,
             "#4d9221"
            ],
            [
             1,
             "#276419"
            ]
           ],
           "sequential": [
            [
             0,
             "#0d0887"
            ],
            [
             0.1111111111111111,
             "#46039f"
            ],
            [
             0.2222222222222222,
             "#7201a8"
            ],
            [
             0.3333333333333333,
             "#9c179e"
            ],
            [
             0.4444444444444444,
             "#bd3786"
            ],
            [
             0.5555555555555556,
             "#d8576b"
            ],
            [
             0.6666666666666666,
             "#ed7953"
            ],
            [
             0.7777777777777778,
             "#fb9f3a"
            ],
            [
             0.8888888888888888,
             "#fdca26"
            ],
            [
             1,
             "#f0f921"
            ]
           ],
           "sequentialminus": [
            [
             0,
             "#0d0887"
            ],
            [
             0.1111111111111111,
             "#46039f"
            ],
            [
             0.2222222222222222,
             "#7201a8"
            ],
            [
             0.3333333333333333,
             "#9c179e"
            ],
            [
             0.4444444444444444,
             "#bd3786"
            ],
            [
             0.5555555555555556,
             "#d8576b"
            ],
            [
             0.6666666666666666,
             "#ed7953"
            ],
            [
             0.7777777777777778,
             "#fb9f3a"
            ],
            [
             0.8888888888888888,
             "#fdca26"
            ],
            [
             1,
             "#f0f921"
            ]
           ]
          },
          "colorway": [
           "#636efa",
           "#EF553B",
           "#00cc96",
           "#ab63fa",
           "#FFA15A",
           "#19d3f3",
           "#FF6692",
           "#B6E880",
           "#FF97FF",
           "#FECB52"
          ],
          "font": {
           "color": "#f2f5fa"
          },
          "geo": {
           "bgcolor": "rgb(17,17,17)",
           "lakecolor": "rgb(17,17,17)",
           "landcolor": "rgb(17,17,17)",
           "showlakes": true,
           "showland": true,
           "subunitcolor": "#506784"
          },
          "hoverlabel": {
           "align": "left"
          },
          "hovermode": "closest",
          "mapbox": {
           "style": "dark"
          },
          "paper_bgcolor": "rgb(17,17,17)",
          "plot_bgcolor": "rgb(17,17,17)",
          "polar": {
           "angularaxis": {
            "gridcolor": "#506784",
            "linecolor": "#506784",
            "ticks": ""
           },
           "bgcolor": "rgb(17,17,17)",
           "radialaxis": {
            "gridcolor": "#506784",
            "linecolor": "#506784",
            "ticks": ""
           }
          },
          "scene": {
           "xaxis": {
            "backgroundcolor": "rgb(17,17,17)",
            "gridcolor": "#506784",
            "gridwidth": 2,
            "linecolor": "#506784",
            "showbackground": true,
            "ticks": "",
            "zerolinecolor": "#C8D4E3"
           },
           "yaxis": {
            "backgroundcolor": "rgb(17,17,17)",
            "gridcolor": "#506784",
            "gridwidth": 2,
            "linecolor": "#506784",
            "showbackground": true,
            "ticks": "",
            "zerolinecolor": "#C8D4E3"
           },
           "zaxis": {
            "backgroundcolor": "rgb(17,17,17)",
            "gridcolor": "#506784",
            "gridwidth": 2,
            "linecolor": "#506784",
            "showbackground": true,
            "ticks": "",
            "zerolinecolor": "#C8D4E3"
           }
          },
          "shapedefaults": {
           "line": {
            "color": "#f2f5fa"
           }
          },
          "sliderdefaults": {
           "bgcolor": "#C8D4E3",
           "bordercolor": "rgb(17,17,17)",
           "borderwidth": 1,
           "tickwidth": 0
          },
          "ternary": {
           "aaxis": {
            "gridcolor": "#506784",
            "linecolor": "#506784",
            "ticks": ""
           },
           "baxis": {
            "gridcolor": "#506784",
            "linecolor": "#506784",
            "ticks": ""
           },
           "bgcolor": "rgb(17,17,17)",
           "caxis": {
            "gridcolor": "#506784",
            "linecolor": "#506784",
            "ticks": ""
           }
          },
          "title": {
           "x": 0.05
          },
          "updatemenudefaults": {
           "bgcolor": "#506784",
           "borderwidth": 0
          },
          "xaxis": {
           "automargin": true,
           "gridcolor": "#283442",
           "linecolor": "#506784",
           "ticks": "",
           "title": {
            "standoff": 15
           },
           "zerolinecolor": "#283442",
           "zerolinewidth": 2
          },
          "yaxis": {
           "automargin": true,
           "gridcolor": "#283442",
           "linecolor": "#506784",
           "ticks": "",
           "title": {
            "standoff": 15
           },
           "zerolinecolor": "#283442",
           "zerolinewidth": 2
          }
         }
        },
        "title": {
         "text": "Count Plot of Residence_type"
        },
        "xaxis": {
         "anchor": "y",
         "categoryarray": [
          "Urban",
          "Rural"
         ],
         "categoryorder": "array",
         "domain": [
          0,
          1
         ],
         "title": {
          "text": "Residence_type"
         }
        },
        "yaxis": {
         "anchor": "x",
         "domain": [
          0,
          1
         ],
         "title": {
          "text": "Count"
         }
        }
       }
      }
     },
     "metadata": {},
     "output_type": "display_data"
    },
    {
     "data": {
      "application/vnd.plotly.v1+json": {
       "config": {
        "plotlyServerURL": "https://plot.ly"
       },
       "data": [
        {
         "hovertemplate": "smoking_status=%{x}<br>count=%{y}<extra></extra>",
         "legendgroup": "never smoked",
         "marker": {
          "color": "#ffffff",
          "pattern": {
           "shape": ""
          }
         },
         "name": "never smoked",
         "orientation": "v",
         "showlegend": true,
         "textposition": "auto",
         "type": "bar",
         "x": [
          "never smoked"
         ],
         "xaxis": "x",
         "y": {
          "bdata": "9AU=",
          "dtype": "i2"
         },
         "yaxis": "y"
        },
        {
         "hovertemplate": "smoking_status=%{x}<br>count=%{y}<extra></extra>",
         "legendgroup": "Unknown",
         "marker": {
          "color": "#ff3131",
          "pattern": {
           "shape": ""
          }
         },
         "name": "Unknown",
         "orientation": "v",
         "showlegend": true,
         "textposition": "auto",
         "type": "bar",
         "x": [
          "Unknown"
         ],
         "xaxis": "x",
         "y": {
          "bdata": "PAU=",
          "dtype": "i2"
         },
         "yaxis": "y"
        },
        {
         "hovertemplate": "smoking_status=%{x}<br>count=%{y}<extra></extra>",
         "legendgroup": "formerly smoked",
         "marker": {
          "color": "#00bf63",
          "pattern": {
           "shape": ""
          }
         },
         "name": "formerly smoked",
         "orientation": "v",
         "showlegend": true,
         "textposition": "auto",
         "type": "bar",
         "x": [
          "formerly smoked"
         ],
         "xaxis": "x",
         "y": {
          "bdata": "igI=",
          "dtype": "i2"
         },
         "yaxis": "y"
        },
        {
         "hovertemplate": "smoking_status=%{x}<br>count=%{y}<extra></extra>",
         "legendgroup": "smokes",
         "marker": {
          "color": "#48b4bb",
          "pattern": {
           "shape": ""
          }
         },
         "name": "smokes",
         "orientation": "v",
         "showlegend": true,
         "textposition": "auto",
         "type": "bar",
         "x": [
          "smokes"
         ],
         "xaxis": "x",
         "y": {
          "bdata": "ZwI=",
          "dtype": "i2"
         },
         "yaxis": "y"
        }
       ],
       "layout": {
        "barmode": "relative",
        "legend": {
         "title": {
          "text": "smoking_status"
         },
         "tracegroupgap": 0
        },
        "template": {
         "data": {
          "bar": [
           {
            "error_x": {
             "color": "#f2f5fa"
            },
            "error_y": {
             "color": "#f2f5fa"
            },
            "marker": {
             "line": {
              "color": "rgb(17,17,17)",
              "width": 0.5
             },
             "pattern": {
              "fillmode": "overlay",
              "size": 10,
              "solidity": 0.2
             }
            },
            "type": "bar"
           }
          ],
          "barpolar": [
           {
            "marker": {
             "line": {
              "color": "rgb(17,17,17)",
              "width": 0.5
             },
             "pattern": {
              "fillmode": "overlay",
              "size": 10,
              "solidity": 0.2
             }
            },
            "type": "barpolar"
           }
          ],
          "carpet": [
           {
            "aaxis": {
             "endlinecolor": "#A2B1C6",
             "gridcolor": "#506784",
             "linecolor": "#506784",
             "minorgridcolor": "#506784",
             "startlinecolor": "#A2B1C6"
            },
            "baxis": {
             "endlinecolor": "#A2B1C6",
             "gridcolor": "#506784",
             "linecolor": "#506784",
             "minorgridcolor": "#506784",
             "startlinecolor": "#A2B1C6"
            },
            "type": "carpet"
           }
          ],
          "choropleth": [
           {
            "colorbar": {
             "outlinewidth": 0,
             "ticks": ""
            },
            "type": "choropleth"
           }
          ],
          "contour": [
           {
            "colorbar": {
             "outlinewidth": 0,
             "ticks": ""
            },
            "colorscale": [
             [
              0,
              "#0d0887"
             ],
             [
              0.1111111111111111,
              "#46039f"
             ],
             [
              0.2222222222222222,
              "#7201a8"
             ],
             [
              0.3333333333333333,
              "#9c179e"
             ],
             [
              0.4444444444444444,
              "#bd3786"
             ],
             [
              0.5555555555555556,
              "#d8576b"
             ],
             [
              0.6666666666666666,
              "#ed7953"
             ],
             [
              0.7777777777777778,
              "#fb9f3a"
             ],
             [
              0.8888888888888888,
              "#fdca26"
             ],
             [
              1,
              "#f0f921"
             ]
            ],
            "type": "contour"
           }
          ],
          "contourcarpet": [
           {
            "colorbar": {
             "outlinewidth": 0,
             "ticks": ""
            },
            "type": "contourcarpet"
           }
          ],
          "heatmap": [
           {
            "colorbar": {
             "outlinewidth": 0,
             "ticks": ""
            },
            "colorscale": [
             [
              0,
              "#0d0887"
             ],
             [
              0.1111111111111111,
              "#46039f"
             ],
             [
              0.2222222222222222,
              "#7201a8"
             ],
             [
              0.3333333333333333,
              "#9c179e"
             ],
             [
              0.4444444444444444,
              "#bd3786"
             ],
             [
              0.5555555555555556,
              "#d8576b"
             ],
             [
              0.6666666666666666,
              "#ed7953"
             ],
             [
              0.7777777777777778,
              "#fb9f3a"
             ],
             [
              0.8888888888888888,
              "#fdca26"
             ],
             [
              1,
              "#f0f921"
             ]
            ],
            "type": "heatmap"
           }
          ],
          "histogram": [
           {
            "marker": {
             "pattern": {
              "fillmode": "overlay",
              "size": 10,
              "solidity": 0.2
             }
            },
            "type": "histogram"
           }
          ],
          "histogram2d": [
           {
            "colorbar": {
             "outlinewidth": 0,
             "ticks": ""
            },
            "colorscale": [
             [
              0,
              "#0d0887"
             ],
             [
              0.1111111111111111,
              "#46039f"
             ],
             [
              0.2222222222222222,
              "#7201a8"
             ],
             [
              0.3333333333333333,
              "#9c179e"
             ],
             [
              0.4444444444444444,
              "#bd3786"
             ],
             [
              0.5555555555555556,
              "#d8576b"
             ],
             [
              0.6666666666666666,
              "#ed7953"
             ],
             [
              0.7777777777777778,
              "#fb9f3a"
             ],
             [
              0.8888888888888888,
              "#fdca26"
             ],
             [
              1,
              "#f0f921"
             ]
            ],
            "type": "histogram2d"
           }
          ],
          "histogram2dcontour": [
           {
            "colorbar": {
             "outlinewidth": 0,
             "ticks": ""
            },
            "colorscale": [
             [
              0,
              "#0d0887"
             ],
             [
              0.1111111111111111,
              "#46039f"
             ],
             [
              0.2222222222222222,
              "#7201a8"
             ],
             [
              0.3333333333333333,
              "#9c179e"
             ],
             [
              0.4444444444444444,
              "#bd3786"
             ],
             [
              0.5555555555555556,
              "#d8576b"
             ],
             [
              0.6666666666666666,
              "#ed7953"
             ],
             [
              0.7777777777777778,
              "#fb9f3a"
             ],
             [
              0.8888888888888888,
              "#fdca26"
             ],
             [
              1,
              "#f0f921"
             ]
            ],
            "type": "histogram2dcontour"
           }
          ],
          "mesh3d": [
           {
            "colorbar": {
             "outlinewidth": 0,
             "ticks": ""
            },
            "type": "mesh3d"
           }
          ],
          "parcoords": [
           {
            "line": {
             "colorbar": {
              "outlinewidth": 0,
              "ticks": ""
             }
            },
            "type": "parcoords"
           }
          ],
          "pie": [
           {
            "automargin": true,
            "type": "pie"
           }
          ],
          "scatter": [
           {
            "marker": {
             "line": {
              "color": "#283442"
             }
            },
            "type": "scatter"
           }
          ],
          "scatter3d": [
           {
            "line": {
             "colorbar": {
              "outlinewidth": 0,
              "ticks": ""
             }
            },
            "marker": {
             "colorbar": {
              "outlinewidth": 0,
              "ticks": ""
             }
            },
            "type": "scatter3d"
           }
          ],
          "scattercarpet": [
           {
            "marker": {
             "colorbar": {
              "outlinewidth": 0,
              "ticks": ""
             }
            },
            "type": "scattercarpet"
           }
          ],
          "scattergeo": [
           {
            "marker": {
             "colorbar": {
              "outlinewidth": 0,
              "ticks": ""
             }
            },
            "type": "scattergeo"
           }
          ],
          "scattergl": [
           {
            "marker": {
             "line": {
              "color": "#283442"
             }
            },
            "type": "scattergl"
           }
          ],
          "scattermap": [
           {
            "marker": {
             "colorbar": {
              "outlinewidth": 0,
              "ticks": ""
             }
            },
            "type": "scattermap"
           }
          ],
          "scattermapbox": [
           {
            "marker": {
             "colorbar": {
              "outlinewidth": 0,
              "ticks": ""
             }
            },
            "type": "scattermapbox"
           }
          ],
          "scatterpolar": [
           {
            "marker": {
             "colorbar": {
              "outlinewidth": 0,
              "ticks": ""
             }
            },
            "type": "scatterpolar"
           }
          ],
          "scatterpolargl": [
           {
            "marker": {
             "colorbar": {
              "outlinewidth": 0,
              "ticks": ""
             }
            },
            "type": "scatterpolargl"
           }
          ],
          "scatterternary": [
           {
            "marker": {
             "colorbar": {
              "outlinewidth": 0,
              "ticks": ""
             }
            },
            "type": "scatterternary"
           }
          ],
          "surface": [
           {
            "colorbar": {
             "outlinewidth": 0,
             "ticks": ""
            },
            "colorscale": [
             [
              0,
              "#0d0887"
             ],
             [
              0.1111111111111111,
              "#46039f"
             ],
             [
              0.2222222222222222,
              "#7201a8"
             ],
             [
              0.3333333333333333,
              "#9c179e"
             ],
             [
              0.4444444444444444,
              "#bd3786"
             ],
             [
              0.5555555555555556,
              "#d8576b"
             ],
             [
              0.6666666666666666,
              "#ed7953"
             ],
             [
              0.7777777777777778,
              "#fb9f3a"
             ],
             [
              0.8888888888888888,
              "#fdca26"
             ],
             [
              1,
              "#f0f921"
             ]
            ],
            "type": "surface"
           }
          ],
          "table": [
           {
            "cells": {
             "fill": {
              "color": "#506784"
             },
             "line": {
              "color": "rgb(17,17,17)"
             }
            },
            "header": {
             "fill": {
              "color": "#2a3f5f"
             },
             "line": {
              "color": "rgb(17,17,17)"
             }
            },
            "type": "table"
           }
          ]
         },
         "layout": {
          "annotationdefaults": {
           "arrowcolor": "#f2f5fa",
           "arrowhead": 0,
           "arrowwidth": 1
          },
          "autotypenumbers": "strict",
          "coloraxis": {
           "colorbar": {
            "outlinewidth": 0,
            "ticks": ""
           }
          },
          "colorscale": {
           "diverging": [
            [
             0,
             "#8e0152"
            ],
            [
             0.1,
             "#c51b7d"
            ],
            [
             0.2,
             "#de77ae"
            ],
            [
             0.3,
             "#f1b6da"
            ],
            [
             0.4,
             "#fde0ef"
            ],
            [
             0.5,
             "#f7f7f7"
            ],
            [
             0.6,
             "#e6f5d0"
            ],
            [
             0.7,
             "#b8e186"
            ],
            [
             0.8,
             "#7fbc41"
            ],
            [
             0.9,
             "#4d9221"
            ],
            [
             1,
             "#276419"
            ]
           ],
           "sequential": [
            [
             0,
             "#0d0887"
            ],
            [
             0.1111111111111111,
             "#46039f"
            ],
            [
             0.2222222222222222,
             "#7201a8"
            ],
            [
             0.3333333333333333,
             "#9c179e"
            ],
            [
             0.4444444444444444,
             "#bd3786"
            ],
            [
             0.5555555555555556,
             "#d8576b"
            ],
            [
             0.6666666666666666,
             "#ed7953"
            ],
            [
             0.7777777777777778,
             "#fb9f3a"
            ],
            [
             0.8888888888888888,
             "#fdca26"
            ],
            [
             1,
             "#f0f921"
            ]
           ],
           "sequentialminus": [
            [
             0,
             "#0d0887"
            ],
            [
             0.1111111111111111,
             "#46039f"
            ],
            [
             0.2222222222222222,
             "#7201a8"
            ],
            [
             0.3333333333333333,
             "#9c179e"
            ],
            [
             0.4444444444444444,
             "#bd3786"
            ],
            [
             0.5555555555555556,
             "#d8576b"
            ],
            [
             0.6666666666666666,
             "#ed7953"
            ],
            [
             0.7777777777777778,
             "#fb9f3a"
            ],
            [
             0.8888888888888888,
             "#fdca26"
            ],
            [
             1,
             "#f0f921"
            ]
           ]
          },
          "colorway": [
           "#636efa",
           "#EF553B",
           "#00cc96",
           "#ab63fa",
           "#FFA15A",
           "#19d3f3",
           "#FF6692",
           "#B6E880",
           "#FF97FF",
           "#FECB52"
          ],
          "font": {
           "color": "#f2f5fa"
          },
          "geo": {
           "bgcolor": "rgb(17,17,17)",
           "lakecolor": "rgb(17,17,17)",
           "landcolor": "rgb(17,17,17)",
           "showlakes": true,
           "showland": true,
           "subunitcolor": "#506784"
          },
          "hoverlabel": {
           "align": "left"
          },
          "hovermode": "closest",
          "mapbox": {
           "style": "dark"
          },
          "paper_bgcolor": "rgb(17,17,17)",
          "plot_bgcolor": "rgb(17,17,17)",
          "polar": {
           "angularaxis": {
            "gridcolor": "#506784",
            "linecolor": "#506784",
            "ticks": ""
           },
           "bgcolor": "rgb(17,17,17)",
           "radialaxis": {
            "gridcolor": "#506784",
            "linecolor": "#506784",
            "ticks": ""
           }
          },
          "scene": {
           "xaxis": {
            "backgroundcolor": "rgb(17,17,17)",
            "gridcolor": "#506784",
            "gridwidth": 2,
            "linecolor": "#506784",
            "showbackground": true,
            "ticks": "",
            "zerolinecolor": "#C8D4E3"
           },
           "yaxis": {
            "backgroundcolor": "rgb(17,17,17)",
            "gridcolor": "#506784",
            "gridwidth": 2,
            "linecolor": "#506784",
            "showbackground": true,
            "ticks": "",
            "zerolinecolor": "#C8D4E3"
           },
           "zaxis": {
            "backgroundcolor": "rgb(17,17,17)",
            "gridcolor": "#506784",
            "gridwidth": 2,
            "linecolor": "#506784",
            "showbackground": true,
            "ticks": "",
            "zerolinecolor": "#C8D4E3"
           }
          },
          "shapedefaults": {
           "line": {
            "color": "#f2f5fa"
           }
          },
          "sliderdefaults": {
           "bgcolor": "#C8D4E3",
           "bordercolor": "rgb(17,17,17)",
           "borderwidth": 1,
           "tickwidth": 0
          },
          "ternary": {
           "aaxis": {
            "gridcolor": "#506784",
            "linecolor": "#506784",
            "ticks": ""
           },
           "baxis": {
            "gridcolor": "#506784",
            "linecolor": "#506784",
            "ticks": ""
           },
           "bgcolor": "rgb(17,17,17)",
           "caxis": {
            "gridcolor": "#506784",
            "linecolor": "#506784",
            "ticks": ""
           }
          },
          "title": {
           "x": 0.05
          },
          "updatemenudefaults": {
           "bgcolor": "#506784",
           "borderwidth": 0
          },
          "xaxis": {
           "automargin": true,
           "gridcolor": "#283442",
           "linecolor": "#506784",
           "ticks": "",
           "title": {
            "standoff": 15
           },
           "zerolinecolor": "#283442",
           "zerolinewidth": 2
          },
          "yaxis": {
           "automargin": true,
           "gridcolor": "#283442",
           "linecolor": "#506784",
           "ticks": "",
           "title": {
            "standoff": 15
           },
           "zerolinecolor": "#283442",
           "zerolinewidth": 2
          }
         }
        },
        "title": {
         "text": "Count Plot of smoking_status"
        },
        "xaxis": {
         "anchor": "y",
         "categoryarray": [
          "never smoked",
          "Unknown",
          "formerly smoked",
          "smokes"
         ],
         "categoryorder": "array",
         "domain": [
          0,
          1
         ],
         "title": {
          "text": "smoking_status"
         }
        },
        "yaxis": {
         "anchor": "x",
         "domain": [
          0,
          1
         ],
         "title": {
          "text": "Count"
         }
        }
       }
      }
     },
     "metadata": {},
     "output_type": "display_data"
    }
   ],
   "source": [
    "stroke_colors = ['#ffffff', '#ff3131', '#00bf63', '#48b4bb', '#555555']\n",
    "\n",
    "categorical_cols = ['gender', 'ever_married', \n",
    "                    'work_type', 'Residence_type', 'smoking_status']\n",
    "\n",
    "for col in categorical_cols:\n",
    "    count_df = df[col].value_counts().reset_index()\n",
    "    count_df.columns = [col, 'count']  # Rename columns for clarity\n",
    "\n",
    "    fig = px.bar(count_df, \n",
    "                 x=col, y='count', \n",
    "                 title=f\"Count Plot of {col}\",\n",
    "                 color=col, \n",
    "                 color_discrete_sequence=stroke_colors)  # Apply stroke-related colors\n",
    "\n",
    "    fig.update_layout(\n",
    "        template=\"plotly_dark\",\n",
    "        xaxis_title=col, \n",
    "        yaxis_title=\"Count\"\n",
    "    )\n",
    "    fig.show()\n"
   ]
  },
  {
   "cell_type": "code",
   "execution_count": 63,
   "metadata": {},
   "outputs": [
    {
     "data": {
      "application/vnd.plotly.v1+json": {
       "config": {
        "plotlyServerURL": "https://plot.ly"
       },
       "data": [
        {
         "marker": {
          "color": "#00bf63",
          "line": {
           "color": "white",
           "width": 2
          }
         },
         "name": "hypertension = 0",
         "type": "bar",
         "x": [
          "0"
         ],
         "y": [
          3851
         ]
        },
        {
         "marker": {
          "color": "#48b4bb",
          "line": {
           "color": "white",
           "width": 2
          }
         },
         "name": "hypertension = 1",
         "type": "bar",
         "x": [
          "1"
         ],
         "y": [
          278
         ]
        }
       ],
       "layout": {
        "font": {
         "color": "white"
        },
        "paper_bgcolor": "black",
        "plot_bgcolor": "black",
        "showlegend": false,
        "template": {
         "data": {
          "bar": [
           {
            "error_x": {
             "color": "#f2f5fa"
            },
            "error_y": {
             "color": "#f2f5fa"
            },
            "marker": {
             "line": {
              "color": "rgb(17,17,17)",
              "width": 0.5
             },
             "pattern": {
              "fillmode": "overlay",
              "size": 10,
              "solidity": 0.2
             }
            },
            "type": "bar"
           }
          ],
          "barpolar": [
           {
            "marker": {
             "line": {
              "color": "rgb(17,17,17)",
              "width": 0.5
             },
             "pattern": {
              "fillmode": "overlay",
              "size": 10,
              "solidity": 0.2
             }
            },
            "type": "barpolar"
           }
          ],
          "carpet": [
           {
            "aaxis": {
             "endlinecolor": "#A2B1C6",
             "gridcolor": "#506784",
             "linecolor": "#506784",
             "minorgridcolor": "#506784",
             "startlinecolor": "#A2B1C6"
            },
            "baxis": {
             "endlinecolor": "#A2B1C6",
             "gridcolor": "#506784",
             "linecolor": "#506784",
             "minorgridcolor": "#506784",
             "startlinecolor": "#A2B1C6"
            },
            "type": "carpet"
           }
          ],
          "choropleth": [
           {
            "colorbar": {
             "outlinewidth": 0,
             "ticks": ""
            },
            "type": "choropleth"
           }
          ],
          "contour": [
           {
            "colorbar": {
             "outlinewidth": 0,
             "ticks": ""
            },
            "colorscale": [
             [
              0,
              "#0d0887"
             ],
             [
              0.1111111111111111,
              "#46039f"
             ],
             [
              0.2222222222222222,
              "#7201a8"
             ],
             [
              0.3333333333333333,
              "#9c179e"
             ],
             [
              0.4444444444444444,
              "#bd3786"
             ],
             [
              0.5555555555555556,
              "#d8576b"
             ],
             [
              0.6666666666666666,
              "#ed7953"
             ],
             [
              0.7777777777777778,
              "#fb9f3a"
             ],
             [
              0.8888888888888888,
              "#fdca26"
             ],
             [
              1,
              "#f0f921"
             ]
            ],
            "type": "contour"
           }
          ],
          "contourcarpet": [
           {
            "colorbar": {
             "outlinewidth": 0,
             "ticks": ""
            },
            "type": "contourcarpet"
           }
          ],
          "heatmap": [
           {
            "colorbar": {
             "outlinewidth": 0,
             "ticks": ""
            },
            "colorscale": [
             [
              0,
              "#0d0887"
             ],
             [
              0.1111111111111111,
              "#46039f"
             ],
             [
              0.2222222222222222,
              "#7201a8"
             ],
             [
              0.3333333333333333,
              "#9c179e"
             ],
             [
              0.4444444444444444,
              "#bd3786"
             ],
             [
              0.5555555555555556,
              "#d8576b"
             ],
             [
              0.6666666666666666,
              "#ed7953"
             ],
             [
              0.7777777777777778,
              "#fb9f3a"
             ],
             [
              0.8888888888888888,
              "#fdca26"
             ],
             [
              1,
              "#f0f921"
             ]
            ],
            "type": "heatmap"
           }
          ],
          "histogram": [
           {
            "marker": {
             "pattern": {
              "fillmode": "overlay",
              "size": 10,
              "solidity": 0.2
             }
            },
            "type": "histogram"
           }
          ],
          "histogram2d": [
           {
            "colorbar": {
             "outlinewidth": 0,
             "ticks": ""
            },
            "colorscale": [
             [
              0,
              "#0d0887"
             ],
             [
              0.1111111111111111,
              "#46039f"
             ],
             [
              0.2222222222222222,
              "#7201a8"
             ],
             [
              0.3333333333333333,
              "#9c179e"
             ],
             [
              0.4444444444444444,
              "#bd3786"
             ],
             [
              0.5555555555555556,
              "#d8576b"
             ],
             [
              0.6666666666666666,
              "#ed7953"
             ],
             [
              0.7777777777777778,
              "#fb9f3a"
             ],
             [
              0.8888888888888888,
              "#fdca26"
             ],
             [
              1,
              "#f0f921"
             ]
            ],
            "type": "histogram2d"
           }
          ],
          "histogram2dcontour": [
           {
            "colorbar": {
             "outlinewidth": 0,
             "ticks": ""
            },
            "colorscale": [
             [
              0,
              "#0d0887"
             ],
             [
              0.1111111111111111,
              "#46039f"
             ],
             [
              0.2222222222222222,
              "#7201a8"
             ],
             [
              0.3333333333333333,
              "#9c179e"
             ],
             [
              0.4444444444444444,
              "#bd3786"
             ],
             [
              0.5555555555555556,
              "#d8576b"
             ],
             [
              0.6666666666666666,
              "#ed7953"
             ],
             [
              0.7777777777777778,
              "#fb9f3a"
             ],
             [
              0.8888888888888888,
              "#fdca26"
             ],
             [
              1,
              "#f0f921"
             ]
            ],
            "type": "histogram2dcontour"
           }
          ],
          "mesh3d": [
           {
            "colorbar": {
             "outlinewidth": 0,
             "ticks": ""
            },
            "type": "mesh3d"
           }
          ],
          "parcoords": [
           {
            "line": {
             "colorbar": {
              "outlinewidth": 0,
              "ticks": ""
             }
            },
            "type": "parcoords"
           }
          ],
          "pie": [
           {
            "automargin": true,
            "type": "pie"
           }
          ],
          "scatter": [
           {
            "marker": {
             "line": {
              "color": "#283442"
             }
            },
            "type": "scatter"
           }
          ],
          "scatter3d": [
           {
            "line": {
             "colorbar": {
              "outlinewidth": 0,
              "ticks": ""
             }
            },
            "marker": {
             "colorbar": {
              "outlinewidth": 0,
              "ticks": ""
             }
            },
            "type": "scatter3d"
           }
          ],
          "scattercarpet": [
           {
            "marker": {
             "colorbar": {
              "outlinewidth": 0,
              "ticks": ""
             }
            },
            "type": "scattercarpet"
           }
          ],
          "scattergeo": [
           {
            "marker": {
             "colorbar": {
              "outlinewidth": 0,
              "ticks": ""
             }
            },
            "type": "scattergeo"
           }
          ],
          "scattergl": [
           {
            "marker": {
             "line": {
              "color": "#283442"
             }
            },
            "type": "scattergl"
           }
          ],
          "scattermap": [
           {
            "marker": {
             "colorbar": {
              "outlinewidth": 0,
              "ticks": ""
             }
            },
            "type": "scattermap"
           }
          ],
          "scattermapbox": [
           {
            "marker": {
             "colorbar": {
              "outlinewidth": 0,
              "ticks": ""
             }
            },
            "type": "scattermapbox"
           }
          ],
          "scatterpolar": [
           {
            "marker": {
             "colorbar": {
              "outlinewidth": 0,
              "ticks": ""
             }
            },
            "type": "scatterpolar"
           }
          ],
          "scatterpolargl": [
           {
            "marker": {
             "colorbar": {
              "outlinewidth": 0,
              "ticks": ""
             }
            },
            "type": "scatterpolargl"
           }
          ],
          "scatterternary": [
           {
            "marker": {
             "colorbar": {
              "outlinewidth": 0,
              "ticks": ""
             }
            },
            "type": "scatterternary"
           }
          ],
          "surface": [
           {
            "colorbar": {
             "outlinewidth": 0,
             "ticks": ""
            },
            "colorscale": [
             [
              0,
              "#0d0887"
             ],
             [
              0.1111111111111111,
              "#46039f"
             ],
             [
              0.2222222222222222,
              "#7201a8"
             ],
             [
              0.3333333333333333,
              "#9c179e"
             ],
             [
              0.4444444444444444,
              "#bd3786"
             ],
             [
              0.5555555555555556,
              "#d8576b"
             ],
             [
              0.6666666666666666,
              "#ed7953"
             ],
             [
              0.7777777777777778,
              "#fb9f3a"
             ],
             [
              0.8888888888888888,
              "#fdca26"
             ],
             [
              1,
              "#f0f921"
             ]
            ],
            "type": "surface"
           }
          ],
          "table": [
           {
            "cells": {
             "fill": {
              "color": "#506784"
             },
             "line": {
              "color": "rgb(17,17,17)"
             }
            },
            "header": {
             "fill": {
              "color": "#2a3f5f"
             },
             "line": {
              "color": "rgb(17,17,17)"
             }
            },
            "type": "table"
           }
          ]
         },
         "layout": {
          "annotationdefaults": {
           "arrowcolor": "#f2f5fa",
           "arrowhead": 0,
           "arrowwidth": 1
          },
          "autotypenumbers": "strict",
          "coloraxis": {
           "colorbar": {
            "outlinewidth": 0,
            "ticks": ""
           }
          },
          "colorscale": {
           "diverging": [
            [
             0,
             "#8e0152"
            ],
            [
             0.1,
             "#c51b7d"
            ],
            [
             0.2,
             "#de77ae"
            ],
            [
             0.3,
             "#f1b6da"
            ],
            [
             0.4,
             "#fde0ef"
            ],
            [
             0.5,
             "#f7f7f7"
            ],
            [
             0.6,
             "#e6f5d0"
            ],
            [
             0.7,
             "#b8e186"
            ],
            [
             0.8,
             "#7fbc41"
            ],
            [
             0.9,
             "#4d9221"
            ],
            [
             1,
             "#276419"
            ]
           ],
           "sequential": [
            [
             0,
             "#0d0887"
            ],
            [
             0.1111111111111111,
             "#46039f"
            ],
            [
             0.2222222222222222,
             "#7201a8"
            ],
            [
             0.3333333333333333,
             "#9c179e"
            ],
            [
             0.4444444444444444,
             "#bd3786"
            ],
            [
             0.5555555555555556,
             "#d8576b"
            ],
            [
             0.6666666666666666,
             "#ed7953"
            ],
            [
             0.7777777777777778,
             "#fb9f3a"
            ],
            [
             0.8888888888888888,
             "#fdca26"
            ],
            [
             1,
             "#f0f921"
            ]
           ],
           "sequentialminus": [
            [
             0,
             "#0d0887"
            ],
            [
             0.1111111111111111,
             "#46039f"
            ],
            [
             0.2222222222222222,
             "#7201a8"
            ],
            [
             0.3333333333333333,
             "#9c179e"
            ],
            [
             0.4444444444444444,
             "#bd3786"
            ],
            [
             0.5555555555555556,
             "#d8576b"
            ],
            [
             0.6666666666666666,
             "#ed7953"
            ],
            [
             0.7777777777777778,
             "#fb9f3a"
            ],
            [
             0.8888888888888888,
             "#fdca26"
            ],
            [
             1,
             "#f0f921"
            ]
           ]
          },
          "colorway": [
           "#636efa",
           "#EF553B",
           "#00cc96",
           "#ab63fa",
           "#FFA15A",
           "#19d3f3",
           "#FF6692",
           "#B6E880",
           "#FF97FF",
           "#FECB52"
          ],
          "font": {
           "color": "#f2f5fa"
          },
          "geo": {
           "bgcolor": "rgb(17,17,17)",
           "lakecolor": "rgb(17,17,17)",
           "landcolor": "rgb(17,17,17)",
           "showlakes": true,
           "showland": true,
           "subunitcolor": "#506784"
          },
          "hoverlabel": {
           "align": "left"
          },
          "hovermode": "closest",
          "mapbox": {
           "style": "dark"
          },
          "paper_bgcolor": "rgb(17,17,17)",
          "plot_bgcolor": "rgb(17,17,17)",
          "polar": {
           "angularaxis": {
            "gridcolor": "#506784",
            "linecolor": "#506784",
            "ticks": ""
           },
           "bgcolor": "rgb(17,17,17)",
           "radialaxis": {
            "gridcolor": "#506784",
            "linecolor": "#506784",
            "ticks": ""
           }
          },
          "scene": {
           "xaxis": {
            "backgroundcolor": "rgb(17,17,17)",
            "gridcolor": "#506784",
            "gridwidth": 2,
            "linecolor": "#506784",
            "showbackground": true,
            "ticks": "",
            "zerolinecolor": "#C8D4E3"
           },
           "yaxis": {
            "backgroundcolor": "rgb(17,17,17)",
            "gridcolor": "#506784",
            "gridwidth": 2,
            "linecolor": "#506784",
            "showbackground": true,
            "ticks": "",
            "zerolinecolor": "#C8D4E3"
           },
           "zaxis": {
            "backgroundcolor": "rgb(17,17,17)",
            "gridcolor": "#506784",
            "gridwidth": 2,
            "linecolor": "#506784",
            "showbackground": true,
            "ticks": "",
            "zerolinecolor": "#C8D4E3"
           }
          },
          "shapedefaults": {
           "line": {
            "color": "#f2f5fa"
           }
          },
          "sliderdefaults": {
           "bgcolor": "#C8D4E3",
           "bordercolor": "rgb(17,17,17)",
           "borderwidth": 1,
           "tickwidth": 0
          },
          "ternary": {
           "aaxis": {
            "gridcolor": "#506784",
            "linecolor": "#506784",
            "ticks": ""
           },
           "baxis": {
            "gridcolor": "#506784",
            "linecolor": "#506784",
            "ticks": ""
           },
           "bgcolor": "rgb(17,17,17)",
           "caxis": {
            "gridcolor": "#506784",
            "linecolor": "#506784",
            "ticks": ""
           }
          },
          "title": {
           "x": 0.05
          },
          "updatemenudefaults": {
           "bgcolor": "#506784",
           "borderwidth": 0
          },
          "xaxis": {
           "automargin": true,
           "gridcolor": "#283442",
           "linecolor": "#506784",
           "ticks": "",
           "title": {
            "standoff": 15
           },
           "zerolinecolor": "#283442",
           "zerolinewidth": 2
          },
          "yaxis": {
           "automargin": true,
           "gridcolor": "#283442",
           "linecolor": "#506784",
           "ticks": "",
           "title": {
            "standoff": 15
           },
           "zerolinecolor": "#283442",
           "zerolinewidth": 2
          }
         }
        },
        "title": {
         "text": "Count Plot of hypertension"
        },
        "xaxis": {
         "title": {
          "text": "hypertension"
         }
        },
        "yaxis": {
         "title": {
          "text": "Count"
         }
        }
       }
      }
     },
     "metadata": {},
     "output_type": "display_data"
    },
    {
     "data": {
      "application/vnd.plotly.v1+json": {
       "config": {
        "plotlyServerURL": "https://plot.ly"
       },
       "data": [
        {
         "marker": {
          "color": "#00bf63",
          "line": {
           "color": "white",
           "width": 2
          }
         },
         "name": "heart_disease = 0",
         "type": "bar",
         "x": [
          "0"
         ],
         "y": [
          3976
         ]
        },
        {
         "marker": {
          "color": "#48b4bb",
          "line": {
           "color": "white",
           "width": 2
          }
         },
         "name": "heart_disease = 1",
         "type": "bar",
         "x": [
          "1"
         ],
         "y": [
          153
         ]
        }
       ],
       "layout": {
        "font": {
         "color": "white"
        },
        "paper_bgcolor": "black",
        "plot_bgcolor": "black",
        "showlegend": false,
        "template": {
         "data": {
          "bar": [
           {
            "error_x": {
             "color": "#f2f5fa"
            },
            "error_y": {
             "color": "#f2f5fa"
            },
            "marker": {
             "line": {
              "color": "rgb(17,17,17)",
              "width": 0.5
             },
             "pattern": {
              "fillmode": "overlay",
              "size": 10,
              "solidity": 0.2
             }
            },
            "type": "bar"
           }
          ],
          "barpolar": [
           {
            "marker": {
             "line": {
              "color": "rgb(17,17,17)",
              "width": 0.5
             },
             "pattern": {
              "fillmode": "overlay",
              "size": 10,
              "solidity": 0.2
             }
            },
            "type": "barpolar"
           }
          ],
          "carpet": [
           {
            "aaxis": {
             "endlinecolor": "#A2B1C6",
             "gridcolor": "#506784",
             "linecolor": "#506784",
             "minorgridcolor": "#506784",
             "startlinecolor": "#A2B1C6"
            },
            "baxis": {
             "endlinecolor": "#A2B1C6",
             "gridcolor": "#506784",
             "linecolor": "#506784",
             "minorgridcolor": "#506784",
             "startlinecolor": "#A2B1C6"
            },
            "type": "carpet"
           }
          ],
          "choropleth": [
           {
            "colorbar": {
             "outlinewidth": 0,
             "ticks": ""
            },
            "type": "choropleth"
           }
          ],
          "contour": [
           {
            "colorbar": {
             "outlinewidth": 0,
             "ticks": ""
            },
            "colorscale": [
             [
              0,
              "#0d0887"
             ],
             [
              0.1111111111111111,
              "#46039f"
             ],
             [
              0.2222222222222222,
              "#7201a8"
             ],
             [
              0.3333333333333333,
              "#9c179e"
             ],
             [
              0.4444444444444444,
              "#bd3786"
             ],
             [
              0.5555555555555556,
              "#d8576b"
             ],
             [
              0.6666666666666666,
              "#ed7953"
             ],
             [
              0.7777777777777778,
              "#fb9f3a"
             ],
             [
              0.8888888888888888,
              "#fdca26"
             ],
             [
              1,
              "#f0f921"
             ]
            ],
            "type": "contour"
           }
          ],
          "contourcarpet": [
           {
            "colorbar": {
             "outlinewidth": 0,
             "ticks": ""
            },
            "type": "contourcarpet"
           }
          ],
          "heatmap": [
           {
            "colorbar": {
             "outlinewidth": 0,
             "ticks": ""
            },
            "colorscale": [
             [
              0,
              "#0d0887"
             ],
             [
              0.1111111111111111,
              "#46039f"
             ],
             [
              0.2222222222222222,
              "#7201a8"
             ],
             [
              0.3333333333333333,
              "#9c179e"
             ],
             [
              0.4444444444444444,
              "#bd3786"
             ],
             [
              0.5555555555555556,
              "#d8576b"
             ],
             [
              0.6666666666666666,
              "#ed7953"
             ],
             [
              0.7777777777777778,
              "#fb9f3a"
             ],
             [
              0.8888888888888888,
              "#fdca26"
             ],
             [
              1,
              "#f0f921"
             ]
            ],
            "type": "heatmap"
           }
          ],
          "histogram": [
           {
            "marker": {
             "pattern": {
              "fillmode": "overlay",
              "size": 10,
              "solidity": 0.2
             }
            },
            "type": "histogram"
           }
          ],
          "histogram2d": [
           {
            "colorbar": {
             "outlinewidth": 0,
             "ticks": ""
            },
            "colorscale": [
             [
              0,
              "#0d0887"
             ],
             [
              0.1111111111111111,
              "#46039f"
             ],
             [
              0.2222222222222222,
              "#7201a8"
             ],
             [
              0.3333333333333333,
              "#9c179e"
             ],
             [
              0.4444444444444444,
              "#bd3786"
             ],
             [
              0.5555555555555556,
              "#d8576b"
             ],
             [
              0.6666666666666666,
              "#ed7953"
             ],
             [
              0.7777777777777778,
              "#fb9f3a"
             ],
             [
              0.8888888888888888,
              "#fdca26"
             ],
             [
              1,
              "#f0f921"
             ]
            ],
            "type": "histogram2d"
           }
          ],
          "histogram2dcontour": [
           {
            "colorbar": {
             "outlinewidth": 0,
             "ticks": ""
            },
            "colorscale": [
             [
              0,
              "#0d0887"
             ],
             [
              0.1111111111111111,
              "#46039f"
             ],
             [
              0.2222222222222222,
              "#7201a8"
             ],
             [
              0.3333333333333333,
              "#9c179e"
             ],
             [
              0.4444444444444444,
              "#bd3786"
             ],
             [
              0.5555555555555556,
              "#d8576b"
             ],
             [
              0.6666666666666666,
              "#ed7953"
             ],
             [
              0.7777777777777778,
              "#fb9f3a"
             ],
             [
              0.8888888888888888,
              "#fdca26"
             ],
             [
              1,
              "#f0f921"
             ]
            ],
            "type": "histogram2dcontour"
           }
          ],
          "mesh3d": [
           {
            "colorbar": {
             "outlinewidth": 0,
             "ticks": ""
            },
            "type": "mesh3d"
           }
          ],
          "parcoords": [
           {
            "line": {
             "colorbar": {
              "outlinewidth": 0,
              "ticks": ""
             }
            },
            "type": "parcoords"
           }
          ],
          "pie": [
           {
            "automargin": true,
            "type": "pie"
           }
          ],
          "scatter": [
           {
            "marker": {
             "line": {
              "color": "#283442"
             }
            },
            "type": "scatter"
           }
          ],
          "scatter3d": [
           {
            "line": {
             "colorbar": {
              "outlinewidth": 0,
              "ticks": ""
             }
            },
            "marker": {
             "colorbar": {
              "outlinewidth": 0,
              "ticks": ""
             }
            },
            "type": "scatter3d"
           }
          ],
          "scattercarpet": [
           {
            "marker": {
             "colorbar": {
              "outlinewidth": 0,
              "ticks": ""
             }
            },
            "type": "scattercarpet"
           }
          ],
          "scattergeo": [
           {
            "marker": {
             "colorbar": {
              "outlinewidth": 0,
              "ticks": ""
             }
            },
            "type": "scattergeo"
           }
          ],
          "scattergl": [
           {
            "marker": {
             "line": {
              "color": "#283442"
             }
            },
            "type": "scattergl"
           }
          ],
          "scattermap": [
           {
            "marker": {
             "colorbar": {
              "outlinewidth": 0,
              "ticks": ""
             }
            },
            "type": "scattermap"
           }
          ],
          "scattermapbox": [
           {
            "marker": {
             "colorbar": {
              "outlinewidth": 0,
              "ticks": ""
             }
            },
            "type": "scattermapbox"
           }
          ],
          "scatterpolar": [
           {
            "marker": {
             "colorbar": {
              "outlinewidth": 0,
              "ticks": ""
             }
            },
            "type": "scatterpolar"
           }
          ],
          "scatterpolargl": [
           {
            "marker": {
             "colorbar": {
              "outlinewidth": 0,
              "ticks": ""
             }
            },
            "type": "scatterpolargl"
           }
          ],
          "scatterternary": [
           {
            "marker": {
             "colorbar": {
              "outlinewidth": 0,
              "ticks": ""
             }
            },
            "type": "scatterternary"
           }
          ],
          "surface": [
           {
            "colorbar": {
             "outlinewidth": 0,
             "ticks": ""
            },
            "colorscale": [
             [
              0,
              "#0d0887"
             ],
             [
              0.1111111111111111,
              "#46039f"
             ],
             [
              0.2222222222222222,
              "#7201a8"
             ],
             [
              0.3333333333333333,
              "#9c179e"
             ],
             [
              0.4444444444444444,
              "#bd3786"
             ],
             [
              0.5555555555555556,
              "#d8576b"
             ],
             [
              0.6666666666666666,
              "#ed7953"
             ],
             [
              0.7777777777777778,
              "#fb9f3a"
             ],
             [
              0.8888888888888888,
              "#fdca26"
             ],
             [
              1,
              "#f0f921"
             ]
            ],
            "type": "surface"
           }
          ],
          "table": [
           {
            "cells": {
             "fill": {
              "color": "#506784"
             },
             "line": {
              "color": "rgb(17,17,17)"
             }
            },
            "header": {
             "fill": {
              "color": "#2a3f5f"
             },
             "line": {
              "color": "rgb(17,17,17)"
             }
            },
            "type": "table"
           }
          ]
         },
         "layout": {
          "annotationdefaults": {
           "arrowcolor": "#f2f5fa",
           "arrowhead": 0,
           "arrowwidth": 1
          },
          "autotypenumbers": "strict",
          "coloraxis": {
           "colorbar": {
            "outlinewidth": 0,
            "ticks": ""
           }
          },
          "colorscale": {
           "diverging": [
            [
             0,
             "#8e0152"
            ],
            [
             0.1,
             "#c51b7d"
            ],
            [
             0.2,
             "#de77ae"
            ],
            [
             0.3,
             "#f1b6da"
            ],
            [
             0.4,
             "#fde0ef"
            ],
            [
             0.5,
             "#f7f7f7"
            ],
            [
             0.6,
             "#e6f5d0"
            ],
            [
             0.7,
             "#b8e186"
            ],
            [
             0.8,
             "#7fbc41"
            ],
            [
             0.9,
             "#4d9221"
            ],
            [
             1,
             "#276419"
            ]
           ],
           "sequential": [
            [
             0,
             "#0d0887"
            ],
            [
             0.1111111111111111,
             "#46039f"
            ],
            [
             0.2222222222222222,
             "#7201a8"
            ],
            [
             0.3333333333333333,
             "#9c179e"
            ],
            [
             0.4444444444444444,
             "#bd3786"
            ],
            [
             0.5555555555555556,
             "#d8576b"
            ],
            [
             0.6666666666666666,
             "#ed7953"
            ],
            [
             0.7777777777777778,
             "#fb9f3a"
            ],
            [
             0.8888888888888888,
             "#fdca26"
            ],
            [
             1,
             "#f0f921"
            ]
           ],
           "sequentialminus": [
            [
             0,
             "#0d0887"
            ],
            [
             0.1111111111111111,
             "#46039f"
            ],
            [
             0.2222222222222222,
             "#7201a8"
            ],
            [
             0.3333333333333333,
             "#9c179e"
            ],
            [
             0.4444444444444444,
             "#bd3786"
            ],
            [
             0.5555555555555556,
             "#d8576b"
            ],
            [
             0.6666666666666666,
             "#ed7953"
            ],
            [
             0.7777777777777778,
             "#fb9f3a"
            ],
            [
             0.8888888888888888,
             "#fdca26"
            ],
            [
             1,
             "#f0f921"
            ]
           ]
          },
          "colorway": [
           "#636efa",
           "#EF553B",
           "#00cc96",
           "#ab63fa",
           "#FFA15A",
           "#19d3f3",
           "#FF6692",
           "#B6E880",
           "#FF97FF",
           "#FECB52"
          ],
          "font": {
           "color": "#f2f5fa"
          },
          "geo": {
           "bgcolor": "rgb(17,17,17)",
           "lakecolor": "rgb(17,17,17)",
           "landcolor": "rgb(17,17,17)",
           "showlakes": true,
           "showland": true,
           "subunitcolor": "#506784"
          },
          "hoverlabel": {
           "align": "left"
          },
          "hovermode": "closest",
          "mapbox": {
           "style": "dark"
          },
          "paper_bgcolor": "rgb(17,17,17)",
          "plot_bgcolor": "rgb(17,17,17)",
          "polar": {
           "angularaxis": {
            "gridcolor": "#506784",
            "linecolor": "#506784",
            "ticks": ""
           },
           "bgcolor": "rgb(17,17,17)",
           "radialaxis": {
            "gridcolor": "#506784",
            "linecolor": "#506784",
            "ticks": ""
           }
          },
          "scene": {
           "xaxis": {
            "backgroundcolor": "rgb(17,17,17)",
            "gridcolor": "#506784",
            "gridwidth": 2,
            "linecolor": "#506784",
            "showbackground": true,
            "ticks": "",
            "zerolinecolor": "#C8D4E3"
           },
           "yaxis": {
            "backgroundcolor": "rgb(17,17,17)",
            "gridcolor": "#506784",
            "gridwidth": 2,
            "linecolor": "#506784",
            "showbackground": true,
            "ticks": "",
            "zerolinecolor": "#C8D4E3"
           },
           "zaxis": {
            "backgroundcolor": "rgb(17,17,17)",
            "gridcolor": "#506784",
            "gridwidth": 2,
            "linecolor": "#506784",
            "showbackground": true,
            "ticks": "",
            "zerolinecolor": "#C8D4E3"
           }
          },
          "shapedefaults": {
           "line": {
            "color": "#f2f5fa"
           }
          },
          "sliderdefaults": {
           "bgcolor": "#C8D4E3",
           "bordercolor": "rgb(17,17,17)",
           "borderwidth": 1,
           "tickwidth": 0
          },
          "ternary": {
           "aaxis": {
            "gridcolor": "#506784",
            "linecolor": "#506784",
            "ticks": ""
           },
           "baxis": {
            "gridcolor": "#506784",
            "linecolor": "#506784",
            "ticks": ""
           },
           "bgcolor": "rgb(17,17,17)",
           "caxis": {
            "gridcolor": "#506784",
            "linecolor": "#506784",
            "ticks": ""
           }
          },
          "title": {
           "x": 0.05
          },
          "updatemenudefaults": {
           "bgcolor": "#506784",
           "borderwidth": 0
          },
          "xaxis": {
           "automargin": true,
           "gridcolor": "#283442",
           "linecolor": "#506784",
           "ticks": "",
           "title": {
            "standoff": 15
           },
           "zerolinecolor": "#283442",
           "zerolinewidth": 2
          },
          "yaxis": {
           "automargin": true,
           "gridcolor": "#283442",
           "linecolor": "#506784",
           "ticks": "",
           "title": {
            "standoff": 15
           },
           "zerolinecolor": "#283442",
           "zerolinewidth": 2
          }
         }
        },
        "title": {
         "text": "Count Plot of heart_disease"
        },
        "xaxis": {
         "title": {
          "text": "heart_disease"
         }
        },
        "yaxis": {
         "title": {
          "text": "Count"
         }
        }
       }
      }
     },
     "metadata": {},
     "output_type": "display_data"
    },
    {
     "data": {
      "application/vnd.plotly.v1+json": {
       "config": {
        "plotlyServerURL": "https://plot.ly"
       },
       "data": [
        {
         "marker": {
          "color": "#00bf63",
          "line": {
           "color": "white",
           "width": 2
          }
         },
         "name": "stroke = 0",
         "type": "bar",
         "x": [
          "0"
         ],
         "y": [
          3998
         ]
        },
        {
         "marker": {
          "color": "#48b4bb",
          "line": {
           "color": "white",
           "width": 2
          }
         },
         "name": "stroke = 1",
         "type": "bar",
         "x": [
          "1"
         ],
         "y": [
          131
         ]
        }
       ],
       "layout": {
        "font": {
         "color": "white"
        },
        "paper_bgcolor": "black",
        "plot_bgcolor": "black",
        "showlegend": false,
        "template": {
         "data": {
          "bar": [
           {
            "error_x": {
             "color": "#f2f5fa"
            },
            "error_y": {
             "color": "#f2f5fa"
            },
            "marker": {
             "line": {
              "color": "rgb(17,17,17)",
              "width": 0.5
             },
             "pattern": {
              "fillmode": "overlay",
              "size": 10,
              "solidity": 0.2
             }
            },
            "type": "bar"
           }
          ],
          "barpolar": [
           {
            "marker": {
             "line": {
              "color": "rgb(17,17,17)",
              "width": 0.5
             },
             "pattern": {
              "fillmode": "overlay",
              "size": 10,
              "solidity": 0.2
             }
            },
            "type": "barpolar"
           }
          ],
          "carpet": [
           {
            "aaxis": {
             "endlinecolor": "#A2B1C6",
             "gridcolor": "#506784",
             "linecolor": "#506784",
             "minorgridcolor": "#506784",
             "startlinecolor": "#A2B1C6"
            },
            "baxis": {
             "endlinecolor": "#A2B1C6",
             "gridcolor": "#506784",
             "linecolor": "#506784",
             "minorgridcolor": "#506784",
             "startlinecolor": "#A2B1C6"
            },
            "type": "carpet"
           }
          ],
          "choropleth": [
           {
            "colorbar": {
             "outlinewidth": 0,
             "ticks": ""
            },
            "type": "choropleth"
           }
          ],
          "contour": [
           {
            "colorbar": {
             "outlinewidth": 0,
             "ticks": ""
            },
            "colorscale": [
             [
              0,
              "#0d0887"
             ],
             [
              0.1111111111111111,
              "#46039f"
             ],
             [
              0.2222222222222222,
              "#7201a8"
             ],
             [
              0.3333333333333333,
              "#9c179e"
             ],
             [
              0.4444444444444444,
              "#bd3786"
             ],
             [
              0.5555555555555556,
              "#d8576b"
             ],
             [
              0.6666666666666666,
              "#ed7953"
             ],
             [
              0.7777777777777778,
              "#fb9f3a"
             ],
             [
              0.8888888888888888,
              "#fdca26"
             ],
             [
              1,
              "#f0f921"
             ]
            ],
            "type": "contour"
           }
          ],
          "contourcarpet": [
           {
            "colorbar": {
             "outlinewidth": 0,
             "ticks": ""
            },
            "type": "contourcarpet"
           }
          ],
          "heatmap": [
           {
            "colorbar": {
             "outlinewidth": 0,
             "ticks": ""
            },
            "colorscale": [
             [
              0,
              "#0d0887"
             ],
             [
              0.1111111111111111,
              "#46039f"
             ],
             [
              0.2222222222222222,
              "#7201a8"
             ],
             [
              0.3333333333333333,
              "#9c179e"
             ],
             [
              0.4444444444444444,
              "#bd3786"
             ],
             [
              0.5555555555555556,
              "#d8576b"
             ],
             [
              0.6666666666666666,
              "#ed7953"
             ],
             [
              0.7777777777777778,
              "#fb9f3a"
             ],
             [
              0.8888888888888888,
              "#fdca26"
             ],
             [
              1,
              "#f0f921"
             ]
            ],
            "type": "heatmap"
           }
          ],
          "histogram": [
           {
            "marker": {
             "pattern": {
              "fillmode": "overlay",
              "size": 10,
              "solidity": 0.2
             }
            },
            "type": "histogram"
           }
          ],
          "histogram2d": [
           {
            "colorbar": {
             "outlinewidth": 0,
             "ticks": ""
            },
            "colorscale": [
             [
              0,
              "#0d0887"
             ],
             [
              0.1111111111111111,
              "#46039f"
             ],
             [
              0.2222222222222222,
              "#7201a8"
             ],
             [
              0.3333333333333333,
              "#9c179e"
             ],
             [
              0.4444444444444444,
              "#bd3786"
             ],
             [
              0.5555555555555556,
              "#d8576b"
             ],
             [
              0.6666666666666666,
              "#ed7953"
             ],
             [
              0.7777777777777778,
              "#fb9f3a"
             ],
             [
              0.8888888888888888,
              "#fdca26"
             ],
             [
              1,
              "#f0f921"
             ]
            ],
            "type": "histogram2d"
           }
          ],
          "histogram2dcontour": [
           {
            "colorbar": {
             "outlinewidth": 0,
             "ticks": ""
            },
            "colorscale": [
             [
              0,
              "#0d0887"
             ],
             [
              0.1111111111111111,
              "#46039f"
             ],
             [
              0.2222222222222222,
              "#7201a8"
             ],
             [
              0.3333333333333333,
              "#9c179e"
             ],
             [
              0.4444444444444444,
              "#bd3786"
             ],
             [
              0.5555555555555556,
              "#d8576b"
             ],
             [
              0.6666666666666666,
              "#ed7953"
             ],
             [
              0.7777777777777778,
              "#fb9f3a"
             ],
             [
              0.8888888888888888,
              "#fdca26"
             ],
             [
              1,
              "#f0f921"
             ]
            ],
            "type": "histogram2dcontour"
           }
          ],
          "mesh3d": [
           {
            "colorbar": {
             "outlinewidth": 0,
             "ticks": ""
            },
            "type": "mesh3d"
           }
          ],
          "parcoords": [
           {
            "line": {
             "colorbar": {
              "outlinewidth": 0,
              "ticks": ""
             }
            },
            "type": "parcoords"
           }
          ],
          "pie": [
           {
            "automargin": true,
            "type": "pie"
           }
          ],
          "scatter": [
           {
            "marker": {
             "line": {
              "color": "#283442"
             }
            },
            "type": "scatter"
           }
          ],
          "scatter3d": [
           {
            "line": {
             "colorbar": {
              "outlinewidth": 0,
              "ticks": ""
             }
            },
            "marker": {
             "colorbar": {
              "outlinewidth": 0,
              "ticks": ""
             }
            },
            "type": "scatter3d"
           }
          ],
          "scattercarpet": [
           {
            "marker": {
             "colorbar": {
              "outlinewidth": 0,
              "ticks": ""
             }
            },
            "type": "scattercarpet"
           }
          ],
          "scattergeo": [
           {
            "marker": {
             "colorbar": {
              "outlinewidth": 0,
              "ticks": ""
             }
            },
            "type": "scattergeo"
           }
          ],
          "scattergl": [
           {
            "marker": {
             "line": {
              "color": "#283442"
             }
            },
            "type": "scattergl"
           }
          ],
          "scattermap": [
           {
            "marker": {
             "colorbar": {
              "outlinewidth": 0,
              "ticks": ""
             }
            },
            "type": "scattermap"
           }
          ],
          "scattermapbox": [
           {
            "marker": {
             "colorbar": {
              "outlinewidth": 0,
              "ticks": ""
             }
            },
            "type": "scattermapbox"
           }
          ],
          "scatterpolar": [
           {
            "marker": {
             "colorbar": {
              "outlinewidth": 0,
              "ticks": ""
             }
            },
            "type": "scatterpolar"
           }
          ],
          "scatterpolargl": [
           {
            "marker": {
             "colorbar": {
              "outlinewidth": 0,
              "ticks": ""
             }
            },
            "type": "scatterpolargl"
           }
          ],
          "scatterternary": [
           {
            "marker": {
             "colorbar": {
              "outlinewidth": 0,
              "ticks": ""
             }
            },
            "type": "scatterternary"
           }
          ],
          "surface": [
           {
            "colorbar": {
             "outlinewidth": 0,
             "ticks": ""
            },
            "colorscale": [
             [
              0,
              "#0d0887"
             ],
             [
              0.1111111111111111,
              "#46039f"
             ],
             [
              0.2222222222222222,
              "#7201a8"
             ],
             [
              0.3333333333333333,
              "#9c179e"
             ],
             [
              0.4444444444444444,
              "#bd3786"
             ],
             [
              0.5555555555555556,
              "#d8576b"
             ],
             [
              0.6666666666666666,
              "#ed7953"
             ],
             [
              0.7777777777777778,
              "#fb9f3a"
             ],
             [
              0.8888888888888888,
              "#fdca26"
             ],
             [
              1,
              "#f0f921"
             ]
            ],
            "type": "surface"
           }
          ],
          "table": [
           {
            "cells": {
             "fill": {
              "color": "#506784"
             },
             "line": {
              "color": "rgb(17,17,17)"
             }
            },
            "header": {
             "fill": {
              "color": "#2a3f5f"
             },
             "line": {
              "color": "rgb(17,17,17)"
             }
            },
            "type": "table"
           }
          ]
         },
         "layout": {
          "annotationdefaults": {
           "arrowcolor": "#f2f5fa",
           "arrowhead": 0,
           "arrowwidth": 1
          },
          "autotypenumbers": "strict",
          "coloraxis": {
           "colorbar": {
            "outlinewidth": 0,
            "ticks": ""
           }
          },
          "colorscale": {
           "diverging": [
            [
             0,
             "#8e0152"
            ],
            [
             0.1,
             "#c51b7d"
            ],
            [
             0.2,
             "#de77ae"
            ],
            [
             0.3,
             "#f1b6da"
            ],
            [
             0.4,
             "#fde0ef"
            ],
            [
             0.5,
             "#f7f7f7"
            ],
            [
             0.6,
             "#e6f5d0"
            ],
            [
             0.7,
             "#b8e186"
            ],
            [
             0.8,
             "#7fbc41"
            ],
            [
             0.9,
             "#4d9221"
            ],
            [
             1,
             "#276419"
            ]
           ],
           "sequential": [
            [
             0,
             "#0d0887"
            ],
            [
             0.1111111111111111,
             "#46039f"
            ],
            [
             0.2222222222222222,
             "#7201a8"
            ],
            [
             0.3333333333333333,
             "#9c179e"
            ],
            [
             0.4444444444444444,
             "#bd3786"
            ],
            [
             0.5555555555555556,
             "#d8576b"
            ],
            [
             0.6666666666666666,
             "#ed7953"
            ],
            [
             0.7777777777777778,
             "#fb9f3a"
            ],
            [
             0.8888888888888888,
             "#fdca26"
            ],
            [
             1,
             "#f0f921"
            ]
           ],
           "sequentialminus": [
            [
             0,
             "#0d0887"
            ],
            [
             0.1111111111111111,
             "#46039f"
            ],
            [
             0.2222222222222222,
             "#7201a8"
            ],
            [
             0.3333333333333333,
             "#9c179e"
            ],
            [
             0.4444444444444444,
             "#bd3786"
            ],
            [
             0.5555555555555556,
             "#d8576b"
            ],
            [
             0.6666666666666666,
             "#ed7953"
            ],
            [
             0.7777777777777778,
             "#fb9f3a"
            ],
            [
             0.8888888888888888,
             "#fdca26"
            ],
            [
             1,
             "#f0f921"
            ]
           ]
          },
          "colorway": [
           "#636efa",
           "#EF553B",
           "#00cc96",
           "#ab63fa",
           "#FFA15A",
           "#19d3f3",
           "#FF6692",
           "#B6E880",
           "#FF97FF",
           "#FECB52"
          ],
          "font": {
           "color": "#f2f5fa"
          },
          "geo": {
           "bgcolor": "rgb(17,17,17)",
           "lakecolor": "rgb(17,17,17)",
           "landcolor": "rgb(17,17,17)",
           "showlakes": true,
           "showland": true,
           "subunitcolor": "#506784"
          },
          "hoverlabel": {
           "align": "left"
          },
          "hovermode": "closest",
          "mapbox": {
           "style": "dark"
          },
          "paper_bgcolor": "rgb(17,17,17)",
          "plot_bgcolor": "rgb(17,17,17)",
          "polar": {
           "angularaxis": {
            "gridcolor": "#506784",
            "linecolor": "#506784",
            "ticks": ""
           },
           "bgcolor": "rgb(17,17,17)",
           "radialaxis": {
            "gridcolor": "#506784",
            "linecolor": "#506784",
            "ticks": ""
           }
          },
          "scene": {
           "xaxis": {
            "backgroundcolor": "rgb(17,17,17)",
            "gridcolor": "#506784",
            "gridwidth": 2,
            "linecolor": "#506784",
            "showbackground": true,
            "ticks": "",
            "zerolinecolor": "#C8D4E3"
           },
           "yaxis": {
            "backgroundcolor": "rgb(17,17,17)",
            "gridcolor": "#506784",
            "gridwidth": 2,
            "linecolor": "#506784",
            "showbackground": true,
            "ticks": "",
            "zerolinecolor": "#C8D4E3"
           },
           "zaxis": {
            "backgroundcolor": "rgb(17,17,17)",
            "gridcolor": "#506784",
            "gridwidth": 2,
            "linecolor": "#506784",
            "showbackground": true,
            "ticks": "",
            "zerolinecolor": "#C8D4E3"
           }
          },
          "shapedefaults": {
           "line": {
            "color": "#f2f5fa"
           }
          },
          "sliderdefaults": {
           "bgcolor": "#C8D4E3",
           "bordercolor": "rgb(17,17,17)",
           "borderwidth": 1,
           "tickwidth": 0
          },
          "ternary": {
           "aaxis": {
            "gridcolor": "#506784",
            "linecolor": "#506784",
            "ticks": ""
           },
           "baxis": {
            "gridcolor": "#506784",
            "linecolor": "#506784",
            "ticks": ""
           },
           "bgcolor": "rgb(17,17,17)",
           "caxis": {
            "gridcolor": "#506784",
            "linecolor": "#506784",
            "ticks": ""
           }
          },
          "title": {
           "x": 0.05
          },
          "updatemenudefaults": {
           "bgcolor": "#506784",
           "borderwidth": 0
          },
          "xaxis": {
           "automargin": true,
           "gridcolor": "#283442",
           "linecolor": "#506784",
           "ticks": "",
           "title": {
            "standoff": 15
           },
           "zerolinecolor": "#283442",
           "zerolinewidth": 2
          },
          "yaxis": {
           "automargin": true,
           "gridcolor": "#283442",
           "linecolor": "#506784",
           "ticks": "",
           "title": {
            "standoff": 15
           },
           "zerolinecolor": "#283442",
           "zerolinewidth": 2
          }
         }
        },
        "title": {
         "text": "Count Plot of stroke"
        },
        "xaxis": {
         "title": {
          "text": "stroke"
         }
        },
        "yaxis": {
         "title": {
          "text": "Count"
         }
        }
       }
      }
     },
     "metadata": {},
     "output_type": "display_data"
    }
   ],
   "source": [
    "import plotly.graph_objects as go\n",
    "\n",
    "# Define colors (White for 0, Red for 1)\n",
    "stroke_colors = {0: '#00bf63', 1: '#48b4bb'}  # White (No), Red (Yes)\n",
    "\n",
    "# Focus only on binary columns\n",
    "binary_cols = ['hypertension', 'heart_disease', 'stroke']\n",
    "\n",
    "for col in binary_cols:\n",
    "    count_df = df[col].value_counts().sort_index()  # Ensure correct order (0 first, then 1)\n",
    "\n",
    "    # Create the figure\n",
    "    fig = go.Figure()\n",
    "\n",
    "    # Add bars for each category (0 and 1)\n",
    "    for val in count_df.index:\n",
    "        fig.add_trace(go.Bar(\n",
    "            x=[str(val)],  # Convert to string for proper labeling\n",
    "            y=[count_df[val]],\n",
    "            name=f\"{col} = {val}\",\n",
    "            marker=dict(color=stroke_colors[val], line=dict(color='white', width=2))\n",
    "        ))\n",
    "\n",
    "    # Update layout\n",
    "    fig.update_layout(\n",
    "        title=f\"Count Plot of {col}\",\n",
    "        xaxis_title=col,\n",
    "        yaxis_title=\"Count\",\n",
    "        template=\"plotly_dark\",\n",
    "        plot_bgcolor='black',\n",
    "        paper_bgcolor='black',\n",
    "        font=dict(color=\"white\"),\n",
    "        showlegend=False\n",
    "    )\n",
    "\n",
    "    fig.show()\n"
   ]
  },
  {
   "cell_type": "code",
   "execution_count": 68,
   "metadata": {},
   "outputs": [
    {
     "data": {
      "application/vnd.plotly.v1+json": {
       "config": {
        "plotlyServerURL": "https://plot.ly"
       },
       "data": [
        {
         "colorscale": [
          [
           0,
           "rgb(247,252,245)"
          ],
          [
           0.125,
           "rgb(229,245,224)"
          ],
          [
           0.25,
           "rgb(199,233,192)"
          ],
          [
           0.375,
           "rgb(161,217,155)"
          ],
          [
           0.5,
           "rgb(116,196,118)"
          ],
          [
           0.625,
           "rgb(65,171,93)"
          ],
          [
           0.75,
           "rgb(35,139,69)"
          ],
          [
           0.875,
           "rgb(0,109,44)"
          ],
          [
           1,
           "rgb(0,68,27)"
          ]
         ],
         "reversescale": false,
         "showscale": true,
         "type": "heatmap",
         "x": [
          "id",
          "age",
          "hypertension",
          "heart_disease",
          "avg_glucose_level",
          "bmi",
          "stroke"
         ],
         "y": [
          "id",
          "age",
          "hypertension",
          "heart_disease",
          "avg_glucose_level",
          "bmi",
          "stroke"
         ],
         "z": {
          "bdata": "AAAAAAAA8D97FK5H4XqUP3sUrkfheoQ/AAAAAAAAAAB7FK5H4Xqkv3sUrkfhepQ/AAAAAAAAAIB7FK5H4XqUPwAAAAAAAPA/AAAAAAAA0D+4HoXrUbjOP7gehetRuJ6/UrgehetR2D/hehSuR+HKP3sUrkfheoQ/AAAAAAAA0D8AAAAAAADwP5qZmZmZmbk/exSuR+F6lL8zMzMzMzPDP7gehetRuL4/AAAAAAAAAAC4HoXrUbjOP5qZmZmZmbk/AAAAAAAA8D97FK5H4XqUP7gehetRuK4/mpmZmZmZuT97FK5H4Xqkv7gehetRuJ6/exSuR+F6lL97FK5H4XqUPwAAAAAAAPA/AAAAAAAAAAAAAAAAAAAAAHsUrkfhepQ/UrgehetR2D8zMzMzMzPDP7gehetRuK4/AAAAAAAAAAAAAAAAAADwP7gehetRuJ4/AAAAAAAAAIDhehSuR+HKP7gehetRuL4/mpmZmZmZuT8AAAAAAAAAALgehetRuJ4/AAAAAAAA8D8=",
          "dtype": "f8",
          "shape": "7, 7"
         }
        }
       ],
       "layout": {
        "annotations": [
         {
          "font": {
           "color": "#FFFFFF"
          },
          "showarrow": false,
          "text": "1.0",
          "x": "id",
          "xref": "x",
          "y": "id",
          "yref": "y"
         },
         {
          "font": {
           "color": "#000000"
          },
          "showarrow": false,
          "text": "0.02",
          "x": "age",
          "xref": "x",
          "y": "id",
          "yref": "y"
         },
         {
          "font": {
           "color": "#000000"
          },
          "showarrow": false,
          "text": "0.01",
          "x": "hypertension",
          "xref": "x",
          "y": "id",
          "yref": "y"
         },
         {
          "font": {
           "color": "#000000"
          },
          "showarrow": false,
          "text": "0.0",
          "x": "heart_disease",
          "xref": "x",
          "y": "id",
          "yref": "y"
         },
         {
          "font": {
           "color": "#000000"
          },
          "showarrow": false,
          "text": "-0.04",
          "x": "avg_glucose_level",
          "xref": "x",
          "y": "id",
          "yref": "y"
         },
         {
          "font": {
           "color": "#000000"
          },
          "showarrow": false,
          "text": "0.02",
          "x": "bmi",
          "xref": "x",
          "y": "id",
          "yref": "y"
         },
         {
          "font": {
           "color": "#000000"
          },
          "showarrow": false,
          "text": "-0.0",
          "x": "stroke",
          "xref": "x",
          "y": "id",
          "yref": "y"
         },
         {
          "font": {
           "color": "#000000"
          },
          "showarrow": false,
          "text": "0.02",
          "x": "id",
          "xref": "x",
          "y": "age",
          "yref": "y"
         },
         {
          "font": {
           "color": "#FFFFFF"
          },
          "showarrow": false,
          "text": "1.0",
          "x": "age",
          "xref": "x",
          "y": "age",
          "yref": "y"
         },
         {
          "font": {
           "color": "#000000"
          },
          "showarrow": false,
          "text": "0.25",
          "x": "hypertension",
          "xref": "x",
          "y": "age",
          "yref": "y"
         },
         {
          "font": {
           "color": "#000000"
          },
          "showarrow": false,
          "text": "0.24",
          "x": "heart_disease",
          "xref": "x",
          "y": "age",
          "yref": "y"
         },
         {
          "font": {
           "color": "#000000"
          },
          "showarrow": false,
          "text": "-0.03",
          "x": "avg_glucose_level",
          "xref": "x",
          "y": "age",
          "yref": "y"
         },
         {
          "font": {
           "color": "#000000"
          },
          "showarrow": false,
          "text": "0.38",
          "x": "bmi",
          "xref": "x",
          "y": "age",
          "yref": "y"
         },
         {
          "font": {
           "color": "#000000"
          },
          "showarrow": false,
          "text": "0.21",
          "x": "stroke",
          "xref": "x",
          "y": "age",
          "yref": "y"
         },
         {
          "font": {
           "color": "#000000"
          },
          "showarrow": false,
          "text": "0.01",
          "x": "id",
          "xref": "x",
          "y": "hypertension",
          "yref": "y"
         },
         {
          "font": {
           "color": "#000000"
          },
          "showarrow": false,
          "text": "0.25",
          "x": "age",
          "xref": "x",
          "y": "hypertension",
          "yref": "y"
         },
         {
          "font": {
           "color": "#FFFFFF"
          },
          "showarrow": false,
          "text": "1.0",
          "x": "hypertension",
          "xref": "x",
          "y": "hypertension",
          "yref": "y"
         },
         {
          "font": {
           "color": "#000000"
          },
          "showarrow": false,
          "text": "0.1",
          "x": "heart_disease",
          "xref": "x",
          "y": "hypertension",
          "yref": "y"
         },
         {
          "font": {
           "color": "#000000"
          },
          "showarrow": false,
          "text": "-0.02",
          "x": "avg_glucose_level",
          "xref": "x",
          "y": "hypertension",
          "yref": "y"
         },
         {
          "font": {
           "color": "#000000"
          },
          "showarrow": false,
          "text": "0.15",
          "x": "bmi",
          "xref": "x",
          "y": "hypertension",
          "yref": "y"
         },
         {
          "font": {
           "color": "#000000"
          },
          "showarrow": false,
          "text": "0.12",
          "x": "stroke",
          "xref": "x",
          "y": "hypertension",
          "yref": "y"
         },
         {
          "font": {
           "color": "#000000"
          },
          "showarrow": false,
          "text": "0.0",
          "x": "id",
          "xref": "x",
          "y": "heart_disease",
          "yref": "y"
         },
         {
          "font": {
           "color": "#000000"
          },
          "showarrow": false,
          "text": "0.24",
          "x": "age",
          "xref": "x",
          "y": "heart_disease",
          "yref": "y"
         },
         {
          "font": {
           "color": "#000000"
          },
          "showarrow": false,
          "text": "0.1",
          "x": "hypertension",
          "xref": "x",
          "y": "heart_disease",
          "yref": "y"
         },
         {
          "font": {
           "color": "#FFFFFF"
          },
          "showarrow": false,
          "text": "1.0",
          "x": "heart_disease",
          "xref": "x",
          "y": "heart_disease",
          "yref": "y"
         },
         {
          "font": {
           "color": "#000000"
          },
          "showarrow": false,
          "text": "0.02",
          "x": "avg_glucose_level",
          "xref": "x",
          "y": "heart_disease",
          "yref": "y"
         },
         {
          "font": {
           "color": "#000000"
          },
          "showarrow": false,
          "text": "0.06",
          "x": "bmi",
          "xref": "x",
          "y": "heart_disease",
          "yref": "y"
         },
         {
          "font": {
           "color": "#000000"
          },
          "showarrow": false,
          "text": "0.1",
          "x": "stroke",
          "xref": "x",
          "y": "heart_disease",
          "yref": "y"
         },
         {
          "font": {
           "color": "#000000"
          },
          "showarrow": false,
          "text": "-0.04",
          "x": "id",
          "xref": "x",
          "y": "avg_glucose_level",
          "yref": "y"
         },
         {
          "font": {
           "color": "#000000"
          },
          "showarrow": false,
          "text": "-0.03",
          "x": "age",
          "xref": "x",
          "y": "avg_glucose_level",
          "yref": "y"
         },
         {
          "font": {
           "color": "#000000"
          },
          "showarrow": false,
          "text": "-0.02",
          "x": "hypertension",
          "xref": "x",
          "y": "avg_glucose_level",
          "yref": "y"
         },
         {
          "font": {
           "color": "#000000"
          },
          "showarrow": false,
          "text": "0.02",
          "x": "heart_disease",
          "xref": "x",
          "y": "avg_glucose_level",
          "yref": "y"
         },
         {
          "font": {
           "color": "#FFFFFF"
          },
          "showarrow": false,
          "text": "1.0",
          "x": "avg_glucose_level",
          "xref": "x",
          "y": "avg_glucose_level",
          "yref": "y"
         },
         {
          "font": {
           "color": "#000000"
          },
          "showarrow": false,
          "text": "0.0",
          "x": "bmi",
          "xref": "x",
          "y": "avg_glucose_level",
          "yref": "y"
         },
         {
          "font": {
           "color": "#000000"
          },
          "showarrow": false,
          "text": "0.0",
          "x": "stroke",
          "xref": "x",
          "y": "avg_glucose_level",
          "yref": "y"
         },
         {
          "font": {
           "color": "#000000"
          },
          "showarrow": false,
          "text": "0.02",
          "x": "id",
          "xref": "x",
          "y": "bmi",
          "yref": "y"
         },
         {
          "font": {
           "color": "#000000"
          },
          "showarrow": false,
          "text": "0.38",
          "x": "age",
          "xref": "x",
          "y": "bmi",
          "yref": "y"
         },
         {
          "font": {
           "color": "#000000"
          },
          "showarrow": false,
          "text": "0.15",
          "x": "hypertension",
          "xref": "x",
          "y": "bmi",
          "yref": "y"
         },
         {
          "font": {
           "color": "#000000"
          },
          "showarrow": false,
          "text": "0.06",
          "x": "heart_disease",
          "xref": "x",
          "y": "bmi",
          "yref": "y"
         },
         {
          "font": {
           "color": "#000000"
          },
          "showarrow": false,
          "text": "0.0",
          "x": "avg_glucose_level",
          "xref": "x",
          "y": "bmi",
          "yref": "y"
         },
         {
          "font": {
           "color": "#FFFFFF"
          },
          "showarrow": false,
          "text": "1.0",
          "x": "bmi",
          "xref": "x",
          "y": "bmi",
          "yref": "y"
         },
         {
          "font": {
           "color": "#000000"
          },
          "showarrow": false,
          "text": "0.03",
          "x": "stroke",
          "xref": "x",
          "y": "bmi",
          "yref": "y"
         },
         {
          "font": {
           "color": "#000000"
          },
          "showarrow": false,
          "text": "-0.0",
          "x": "id",
          "xref": "x",
          "y": "stroke",
          "yref": "y"
         },
         {
          "font": {
           "color": "#000000"
          },
          "showarrow": false,
          "text": "0.21",
          "x": "age",
          "xref": "x",
          "y": "stroke",
          "yref": "y"
         },
         {
          "font": {
           "color": "#000000"
          },
          "showarrow": false,
          "text": "0.12",
          "x": "hypertension",
          "xref": "x",
          "y": "stroke",
          "yref": "y"
         },
         {
          "font": {
           "color": "#000000"
          },
          "showarrow": false,
          "text": "0.1",
          "x": "heart_disease",
          "xref": "x",
          "y": "stroke",
          "yref": "y"
         },
         {
          "font": {
           "color": "#000000"
          },
          "showarrow": false,
          "text": "0.0",
          "x": "avg_glucose_level",
          "xref": "x",
          "y": "stroke",
          "yref": "y"
         },
         {
          "font": {
           "color": "#000000"
          },
          "showarrow": false,
          "text": "0.03",
          "x": "bmi",
          "xref": "x",
          "y": "stroke",
          "yref": "y"
         },
         {
          "font": {
           "color": "#FFFFFF"
          },
          "showarrow": false,
          "text": "1.0",
          "x": "stroke",
          "xref": "x",
          "y": "stroke",
          "yref": "y"
         }
        ],
        "font": {
         "color": "white"
        },
        "paper_bgcolor": "black",
        "plot_bgcolor": "black",
        "template": {
         "data": {
          "bar": [
           {
            "error_x": {
             "color": "#f2f5fa"
            },
            "error_y": {
             "color": "#f2f5fa"
            },
            "marker": {
             "line": {
              "color": "rgb(17,17,17)",
              "width": 0.5
             },
             "pattern": {
              "fillmode": "overlay",
              "size": 10,
              "solidity": 0.2
             }
            },
            "type": "bar"
           }
          ],
          "barpolar": [
           {
            "marker": {
             "line": {
              "color": "rgb(17,17,17)",
              "width": 0.5
             },
             "pattern": {
              "fillmode": "overlay",
              "size": 10,
              "solidity": 0.2
             }
            },
            "type": "barpolar"
           }
          ],
          "carpet": [
           {
            "aaxis": {
             "endlinecolor": "#A2B1C6",
             "gridcolor": "#506784",
             "linecolor": "#506784",
             "minorgridcolor": "#506784",
             "startlinecolor": "#A2B1C6"
            },
            "baxis": {
             "endlinecolor": "#A2B1C6",
             "gridcolor": "#506784",
             "linecolor": "#506784",
             "minorgridcolor": "#506784",
             "startlinecolor": "#A2B1C6"
            },
            "type": "carpet"
           }
          ],
          "choropleth": [
           {
            "colorbar": {
             "outlinewidth": 0,
             "ticks": ""
            },
            "type": "choropleth"
           }
          ],
          "contour": [
           {
            "colorbar": {
             "outlinewidth": 0,
             "ticks": ""
            },
            "colorscale": [
             [
              0,
              "#0d0887"
             ],
             [
              0.1111111111111111,
              "#46039f"
             ],
             [
              0.2222222222222222,
              "#7201a8"
             ],
             [
              0.3333333333333333,
              "#9c179e"
             ],
             [
              0.4444444444444444,
              "#bd3786"
             ],
             [
              0.5555555555555556,
              "#d8576b"
             ],
             [
              0.6666666666666666,
              "#ed7953"
             ],
             [
              0.7777777777777778,
              "#fb9f3a"
             ],
             [
              0.8888888888888888,
              "#fdca26"
             ],
             [
              1,
              "#f0f921"
             ]
            ],
            "type": "contour"
           }
          ],
          "contourcarpet": [
           {
            "colorbar": {
             "outlinewidth": 0,
             "ticks": ""
            },
            "type": "contourcarpet"
           }
          ],
          "heatmap": [
           {
            "colorbar": {
             "outlinewidth": 0,
             "ticks": ""
            },
            "colorscale": [
             [
              0,
              "#0d0887"
             ],
             [
              0.1111111111111111,
              "#46039f"
             ],
             [
              0.2222222222222222,
              "#7201a8"
             ],
             [
              0.3333333333333333,
              "#9c179e"
             ],
             [
              0.4444444444444444,
              "#bd3786"
             ],
             [
              0.5555555555555556,
              "#d8576b"
             ],
             [
              0.6666666666666666,
              "#ed7953"
             ],
             [
              0.7777777777777778,
              "#fb9f3a"
             ],
             [
              0.8888888888888888,
              "#fdca26"
             ],
             [
              1,
              "#f0f921"
             ]
            ],
            "type": "heatmap"
           }
          ],
          "histogram": [
           {
            "marker": {
             "pattern": {
              "fillmode": "overlay",
              "size": 10,
              "solidity": 0.2
             }
            },
            "type": "histogram"
           }
          ],
          "histogram2d": [
           {
            "colorbar": {
             "outlinewidth": 0,
             "ticks": ""
            },
            "colorscale": [
             [
              0,
              "#0d0887"
             ],
             [
              0.1111111111111111,
              "#46039f"
             ],
             [
              0.2222222222222222,
              "#7201a8"
             ],
             [
              0.3333333333333333,
              "#9c179e"
             ],
             [
              0.4444444444444444,
              "#bd3786"
             ],
             [
              0.5555555555555556,
              "#d8576b"
             ],
             [
              0.6666666666666666,
              "#ed7953"
             ],
             [
              0.7777777777777778,
              "#fb9f3a"
             ],
             [
              0.8888888888888888,
              "#fdca26"
             ],
             [
              1,
              "#f0f921"
             ]
            ],
            "type": "histogram2d"
           }
          ],
          "histogram2dcontour": [
           {
            "colorbar": {
             "outlinewidth": 0,
             "ticks": ""
            },
            "colorscale": [
             [
              0,
              "#0d0887"
             ],
             [
              0.1111111111111111,
              "#46039f"
             ],
             [
              0.2222222222222222,
              "#7201a8"
             ],
             [
              0.3333333333333333,
              "#9c179e"
             ],
             [
              0.4444444444444444,
              "#bd3786"
             ],
             [
              0.5555555555555556,
              "#d8576b"
             ],
             [
              0.6666666666666666,
              "#ed7953"
             ],
             [
              0.7777777777777778,
              "#fb9f3a"
             ],
             [
              0.8888888888888888,
              "#fdca26"
             ],
             [
              1,
              "#f0f921"
             ]
            ],
            "type": "histogram2dcontour"
           }
          ],
          "mesh3d": [
           {
            "colorbar": {
             "outlinewidth": 0,
             "ticks": ""
            },
            "type": "mesh3d"
           }
          ],
          "parcoords": [
           {
            "line": {
             "colorbar": {
              "outlinewidth": 0,
              "ticks": ""
             }
            },
            "type": "parcoords"
           }
          ],
          "pie": [
           {
            "automargin": true,
            "type": "pie"
           }
          ],
          "scatter": [
           {
            "marker": {
             "line": {
              "color": "#283442"
             }
            },
            "type": "scatter"
           }
          ],
          "scatter3d": [
           {
            "line": {
             "colorbar": {
              "outlinewidth": 0,
              "ticks": ""
             }
            },
            "marker": {
             "colorbar": {
              "outlinewidth": 0,
              "ticks": ""
             }
            },
            "type": "scatter3d"
           }
          ],
          "scattercarpet": [
           {
            "marker": {
             "colorbar": {
              "outlinewidth": 0,
              "ticks": ""
             }
            },
            "type": "scattercarpet"
           }
          ],
          "scattergeo": [
           {
            "marker": {
             "colorbar": {
              "outlinewidth": 0,
              "ticks": ""
             }
            },
            "type": "scattergeo"
           }
          ],
          "scattergl": [
           {
            "marker": {
             "line": {
              "color": "#283442"
             }
            },
            "type": "scattergl"
           }
          ],
          "scattermap": [
           {
            "marker": {
             "colorbar": {
              "outlinewidth": 0,
              "ticks": ""
             }
            },
            "type": "scattermap"
           }
          ],
          "scattermapbox": [
           {
            "marker": {
             "colorbar": {
              "outlinewidth": 0,
              "ticks": ""
             }
            },
            "type": "scattermapbox"
           }
          ],
          "scatterpolar": [
           {
            "marker": {
             "colorbar": {
              "outlinewidth": 0,
              "ticks": ""
             }
            },
            "type": "scatterpolar"
           }
          ],
          "scatterpolargl": [
           {
            "marker": {
             "colorbar": {
              "outlinewidth": 0,
              "ticks": ""
             }
            },
            "type": "scatterpolargl"
           }
          ],
          "scatterternary": [
           {
            "marker": {
             "colorbar": {
              "outlinewidth": 0,
              "ticks": ""
             }
            },
            "type": "scatterternary"
           }
          ],
          "surface": [
           {
            "colorbar": {
             "outlinewidth": 0,
             "ticks": ""
            },
            "colorscale": [
             [
              0,
              "#0d0887"
             ],
             [
              0.1111111111111111,
              "#46039f"
             ],
             [
              0.2222222222222222,
              "#7201a8"
             ],
             [
              0.3333333333333333,
              "#9c179e"
             ],
             [
              0.4444444444444444,
              "#bd3786"
             ],
             [
              0.5555555555555556,
              "#d8576b"
             ],
             [
              0.6666666666666666,
              "#ed7953"
             ],
             [
              0.7777777777777778,
              "#fb9f3a"
             ],
             [
              0.8888888888888888,
              "#fdca26"
             ],
             [
              1,
              "#f0f921"
             ]
            ],
            "type": "surface"
           }
          ],
          "table": [
           {
            "cells": {
             "fill": {
              "color": "#506784"
             },
             "line": {
              "color": "rgb(17,17,17)"
             }
            },
            "header": {
             "fill": {
              "color": "#2a3f5f"
             },
             "line": {
              "color": "rgb(17,17,17)"
             }
            },
            "type": "table"
           }
          ]
         },
         "layout": {
          "annotationdefaults": {
           "arrowcolor": "#f2f5fa",
           "arrowhead": 0,
           "arrowwidth": 1
          },
          "autotypenumbers": "strict",
          "coloraxis": {
           "colorbar": {
            "outlinewidth": 0,
            "ticks": ""
           }
          },
          "colorscale": {
           "diverging": [
            [
             0,
             "#8e0152"
            ],
            [
             0.1,
             "#c51b7d"
            ],
            [
             0.2,
             "#de77ae"
            ],
            [
             0.3,
             "#f1b6da"
            ],
            [
             0.4,
             "#fde0ef"
            ],
            [
             0.5,
             "#f7f7f7"
            ],
            [
             0.6,
             "#e6f5d0"
            ],
            [
             0.7,
             "#b8e186"
            ],
            [
             0.8,
             "#7fbc41"
            ],
            [
             0.9,
             "#4d9221"
            ],
            [
             1,
             "#276419"
            ]
           ],
           "sequential": [
            [
             0,
             "#0d0887"
            ],
            [
             0.1111111111111111,
             "#46039f"
            ],
            [
             0.2222222222222222,
             "#7201a8"
            ],
            [
             0.3333333333333333,
             "#9c179e"
            ],
            [
             0.4444444444444444,
             "#bd3786"
            ],
            [
             0.5555555555555556,
             "#d8576b"
            ],
            [
             0.6666666666666666,
             "#ed7953"
            ],
            [
             0.7777777777777778,
             "#fb9f3a"
            ],
            [
             0.8888888888888888,
             "#fdca26"
            ],
            [
             1,
             "#f0f921"
            ]
           ],
           "sequentialminus": [
            [
             0,
             "#0d0887"
            ],
            [
             0.1111111111111111,
             "#46039f"
            ],
            [
             0.2222222222222222,
             "#7201a8"
            ],
            [
             0.3333333333333333,
             "#9c179e"
            ],
            [
             0.4444444444444444,
             "#bd3786"
            ],
            [
             0.5555555555555556,
             "#d8576b"
            ],
            [
             0.6666666666666666,
             "#ed7953"
            ],
            [
             0.7777777777777778,
             "#fb9f3a"
            ],
            [
             0.8888888888888888,
             "#fdca26"
            ],
            [
             1,
             "#f0f921"
            ]
           ]
          },
          "colorway": [
           "#636efa",
           "#EF553B",
           "#00cc96",
           "#ab63fa",
           "#FFA15A",
           "#19d3f3",
           "#FF6692",
           "#B6E880",
           "#FF97FF",
           "#FECB52"
          ],
          "font": {
           "color": "#f2f5fa"
          },
          "geo": {
           "bgcolor": "rgb(17,17,17)",
           "lakecolor": "rgb(17,17,17)",
           "landcolor": "rgb(17,17,17)",
           "showlakes": true,
           "showland": true,
           "subunitcolor": "#506784"
          },
          "hoverlabel": {
           "align": "left"
          },
          "hovermode": "closest",
          "mapbox": {
           "style": "dark"
          },
          "paper_bgcolor": "rgb(17,17,17)",
          "plot_bgcolor": "rgb(17,17,17)",
          "polar": {
           "angularaxis": {
            "gridcolor": "#506784",
            "linecolor": "#506784",
            "ticks": ""
           },
           "bgcolor": "rgb(17,17,17)",
           "radialaxis": {
            "gridcolor": "#506784",
            "linecolor": "#506784",
            "ticks": ""
           }
          },
          "scene": {
           "xaxis": {
            "backgroundcolor": "rgb(17,17,17)",
            "gridcolor": "#506784",
            "gridwidth": 2,
            "linecolor": "#506784",
            "showbackground": true,
            "ticks": "",
            "zerolinecolor": "#C8D4E3"
           },
           "yaxis": {
            "backgroundcolor": "rgb(17,17,17)",
            "gridcolor": "#506784",
            "gridwidth": 2,
            "linecolor": "#506784",
            "showbackground": true,
            "ticks": "",
            "zerolinecolor": "#C8D4E3"
           },
           "zaxis": {
            "backgroundcolor": "rgb(17,17,17)",
            "gridcolor": "#506784",
            "gridwidth": 2,
            "linecolor": "#506784",
            "showbackground": true,
            "ticks": "",
            "zerolinecolor": "#C8D4E3"
           }
          },
          "shapedefaults": {
           "line": {
            "color": "#f2f5fa"
           }
          },
          "sliderdefaults": {
           "bgcolor": "#C8D4E3",
           "bordercolor": "rgb(17,17,17)",
           "borderwidth": 1,
           "tickwidth": 0
          },
          "ternary": {
           "aaxis": {
            "gridcolor": "#506784",
            "linecolor": "#506784",
            "ticks": ""
           },
           "baxis": {
            "gridcolor": "#506784",
            "linecolor": "#506784",
            "ticks": ""
           },
           "bgcolor": "rgb(17,17,17)",
           "caxis": {
            "gridcolor": "#506784",
            "linecolor": "#506784",
            "ticks": ""
           }
          },
          "title": {
           "x": 0.05
          },
          "updatemenudefaults": {
           "bgcolor": "#506784",
           "borderwidth": 0
          },
          "xaxis": {
           "automargin": true,
           "gridcolor": "#283442",
           "linecolor": "#506784",
           "ticks": "",
           "title": {
            "standoff": 15
           },
           "zerolinecolor": "#283442",
           "zerolinewidth": 2
          },
          "yaxis": {
           "automargin": true,
           "gridcolor": "#283442",
           "linecolor": "#506784",
           "ticks": "",
           "title": {
            "standoff": 15
           },
           "zerolinecolor": "#283442",
           "zerolinewidth": 2
          }
         }
        },
        "title": {
         "text": "Correlation Matrix"
        },
        "xaxis": {
         "dtick": 1,
         "gridcolor": "rgb(0, 0, 0)",
         "side": "top",
         "ticks": ""
        },
        "yaxis": {
         "dtick": 1,
         "ticks": "",
         "ticksuffix": "  "
        }
       }
      }
     },
     "metadata": {},
     "output_type": "display_data"
    }
   ],
   "source": [
    "# Convert categorical variables to numeric (if necessary)\n",
    "df_numeric = df.select_dtypes(include=['number'])  # Keep only numeric columns\n",
    "\n",
    "# Compute the correlation matrix\n",
    "corr_matrix = df_numeric.corr().round(2)\n",
    "\n",
    "# Create heatmap\n",
    "fig = ff.create_annotated_heatmap(z=corr_matrix.values, \n",
    "                                  x=list(corr_matrix.columns), \n",
    "                                  y=list(corr_matrix.index),\n",
    "                                  colorscale=\"greens\", \n",
    "                                  showscale=True)\n",
    "\n",
    "# Update layout\n",
    "fig.update_layout(\n",
    "    title=\"Correlation Matrix\",\n",
    "    template=\"plotly_dark\",\n",
    "    plot_bgcolor=\"black\",\n",
    "    paper_bgcolor=\"black\",\n",
    "    font=dict(color=\"white\")\n",
    ")\n",
    "\n",
    "fig.show()"
   ]
  },
  {
   "cell_type": "code",
   "execution_count": 61,
   "metadata": {},
   "outputs": [
    {
     "data": {
      "application/vnd.plotly.v1+json": {
       "config": {
        "plotlyServerURL": "https://plot.ly"
       },
       "data": [
        {
         "hovertemplate": "color=#d62728<br>age=%{x}<br>bmi=%{y}<extra></extra>",
         "legendgroup": "#d62728",
         "marker": {
          "color": "#636efa",
          "opacity": 0.8,
          "size": 7,
          "symbol": "circle"
         },
         "mode": "markers",
         "name": "#d62728",
         "showlegend": true,
         "type": "scattergl",
         "x": {
          "bdata": "AAAAAAAAVEAAAAAAAIBSQAAAAAAAQFFAAAAAAACAU0AAAAAAAEBUQAAAAAAAgE5AAAAAAAAAS0AAAAAAAABOQAAAAAAAwFFAAAAAAAAAVEAAAAAAAEBQQAAAAAAAAEVAAAAAAAAASEAAAAAAAIBUQAAAAAAAAFJAAAAAAAAATUAAAAAAAIBIQAAAAAAAgFNAAAAAAAAAS0AAAAAAAIBUQAAAAAAAAE1AAAAAAABAVEAAAAAAAIBDQAAAAAAAwFNAAAAAAABAU0AAAAAAAIBUQAAAAAAAAFRAAAAAAADAUEAAAAAAAIBGQAAAAAAAgFNAAAAAAAAAU0AAAAAAAIBNQAAAAAAAAFRAAAAAAACAUEAAAAAAAABKQAAAAAAAAFRAAAAAAADAU0AAAAAAAIBNQAAAAAAAwFNAAAAAAAAAUUAAAAAAAABLQAAAAAAAgE5AAAAAAACAUUAAAAAAAIBHQAAAAAAAgFJAAAAAAABAVEAAAAAAAIBMQAAAAAAAAFRAAAAAAACARkAAAAAAAIBRQAAAAAAAgExAAAAAAABAUUAAAAAAAABQQAAAAAAAQFRAAAAAAACATEAAAAAAAABJQAAAAAAAwFNAAAAAAACASkAAAAAAAMBTQAAAAAAAAFRAAAAAAAAAUUAAAAAAAIBOQAAAAAAAgFJAAAAAAAAAQ0AAAAAAAEBTQAAAAAAAAE1AAAAAAACASkAAAAAAAABSQAAAAAAAAFRAAAAAAACAU0AAAAAAAABTQAAAAAAAgFRAAAAAAACATUAAAAAAAIBSQAAAAAAAQFFAAAAAAACAU0AAAAAAAIBMQAAAAAAAAFRAAAAAAAAAUUAAAAAAAIBLQAAAAAAAAElAAAAAAABAVEAAAAAAAIBRQAAAAAAAgFNAAAAAAADAU0AAAAAAAEBUQAAAAAAAAE5AAAAAAAAAVEAAAAAAAABUQAAAAAAAgFNAAAAAAAAAR0AAAAAAAIBNQAAAAAAAAEBAAAAAAACATkAAAAAAAIBPQAAAAAAAgE9AAAAAAACAVEAAAAAAAIBJQAAAAAAAgE1AAAAAAAAAUkAAAAAAAEBRQAAAAAAAgFJAAAAAAABAU0AAAAAAAIBTQAAAAAAAAEtAAAAAAACAU0AAAAAAAEBUQAAAAAAAgFNAAAAAAACAU0AAAAAAAIBPQAAAAAAAgENAAAAAAACASUAAAAAAAABIQAAAAAAAQFRAAAAAAACAU0AAAAAAAMBTQAAAAAAAQFRAAAAAAACASEAAAAAAAIBDQAAAAAAAAFRAAAAAAABAVEAAAAAAAMBTQAAAAAAAQFJAAAAAAACATEAAAAAAAIBJQAAAAAAAAE5AAAAAAACAUEAAAAAAAIBMQAAAAAAAACxAAAAAAADAUkAAAAAAAIBTQA==",
          "dtype": "f8"
         },
         "xaxis": "x",
         "y": {
          "bdata": "AAAAAABAQEBmZmZmZmY7QM3MzMzMzDZAMzMzMzMzOEAzMzMzM7M9QGZmZmZmZkJAzczMzMxMO0BmZmZmZuZCQDMzMzMzMztAAAAAAACAN0AzMzMzMzM8QGZmZmZmZjlAMzMzMzOzPUAAAAAAAIA6QJqZmZmZGTdAAAAAAAAAQEBmZmZmZuY9QGZmZmZm5jdAAAAAAACAPEBmZmZmZmY6QM3MzMzMTENAmpmZmZnZQECamZmZmZlDQDMzMzMzsztAZmZmZmZmP0CamZmZmZlAQDMzMzMzMzZAzczMzMxMOUAzMzMzMzM+QAAAAAAAADhAzczMzMxMNEAAAAAAAAA+QGZmZmZm5jxAmpmZmZkZP0BmZmZmZmY6QDMzMzMzszVAmpmZmZkZOEDNzMzMzAxGQGZmZmZm5jZAMzMzMzOzPUCamZmZmRk9QM3MzMzMTDtAZmZmZmYmQEDNzMzMzIxEQJqZmZmZmTlAzczMzMxMOkAAAAAAAMBCQDMzMzMzMzpAZmZmZmZmPUBmZmZmZmY4QDMzMzMzsztAAAAAAAAAPEDNzMzMzMw8QGZmZmZmZjNAAAAAAACAPEDNzMzMzEw+QDMzMzMzMzhAAAAAAADARECamZmZmZk2QDMzMzMzMzhAmpmZmZkZO0DNzMzMzEw7QM3MzMzMTD9AAAAAAAAAOEAAAAAAAAA/QAAAAAAAADxAzczMzMxMPkBmZmZmZmY8QAAAAAAAADhAmpmZmZkZNEBmZmZmZuY9QAAAAAAAADlAzczMzMzMN0DNzMzMzMw1QGZmZmZmZkJAmpmZmZmZOEAzMzMzM3NAQM3MzMzMDEFAAAAAAACAO0CamZmZmZk5QGZmZmZmZj9AAAAAAAAAOUCamZmZmRlBQJqZmZmZmTdAzczMzMxMNkBmZmZmZmY/QGZmZmZmZjpAMzMzMzNzQEAAAAAAAIBGQAAAAAAAgDlAzczMzMzMPkAAAAAAAABAQGZmZmZm5j1AMzMzMzOzQkAzMzMzM7M/QAAAAAAAQEFAAAAAAACAPUAAAAAAAEBFQAAAAAAAwEFAZmZmZmbmOkAAAAAAAIA8QJqZmZmZmTpAAAAAAAAAQEDNzMzMzMw+QJqZmZmZGT9AAAAAAACAQEBmZmZmZmY3QGZmZmZm5jpAzczMzMzMQEBmZmZmZuY3QM3MzMzMTDpAzczMzMxMO0AAAAAAAIA0QAAAAAAAgDVAmpmZmZkZO0BmZmZmZmY8QM3MzMzMzDlAZmZmZmbmP0CamZmZmZk9QDMzMzMzs0FAZmZmZmbmMEAAAAAAAIA1QDMzMzMzM0FAMzMzMzOzP0BmZmZmZmY8QDMzMzMz80FAMzMzMzMzNUCamZmZmVlCQGZmZmZm5j5AzczMzMxMPUCamZmZmZkzQA==",
          "dtype": "f8"
         },
         "yaxis": "y"
        },
        {
         "hovertemplate": "color=#ffffff<br>age=%{x}<br>bmi=%{y}<extra></extra>",
         "legendgroup": "#ffffff",
         "marker": {
          "color": "#EF553B",
          "opacity": 0.8,
          "size": 7,
          "symbol": "circle"
         },
         "mode": "markers",
         "name": "#ffffff",
         "showlegend": true,
         "type": "scattergl",
         "x": {
          "bdata": "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",
          "dtype": "f8"
         },
         "xaxis": "x",
         "y": {
          "bdata": "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",
          "dtype": "f8"
         },
         "yaxis": "y"
        }
       ],
       "layout": {
        "coloraxis": {
         "showscale": false
        },
        "font": {
         "color": "white"
        },
        "legend": {
         "title": {
          "text": "color"
         },
         "tracegroupgap": 0
        },
        "paper_bgcolor": "black",
        "plot_bgcolor": "black",
        "template": {
         "data": {
          "bar": [
           {
            "error_x": {
             "color": "#f2f5fa"
            },
            "error_y": {
             "color": "#f2f5fa"
            },
            "marker": {
             "line": {
              "color": "rgb(17,17,17)",
              "width": 0.5
             },
             "pattern": {
              "fillmode": "overlay",
              "size": 10,
              "solidity": 0.2
             }
            },
            "type": "bar"
           }
          ],
          "barpolar": [
           {
            "marker": {
             "line": {
              "color": "rgb(17,17,17)",
              "width": 0.5
             },
             "pattern": {
              "fillmode": "overlay",
              "size": 10,
              "solidity": 0.2
             }
            },
            "type": "barpolar"
           }
          ],
          "carpet": [
           {
            "aaxis": {
             "endlinecolor": "#A2B1C6",
             "gridcolor": "#506784",
             "linecolor": "#506784",
             "minorgridcolor": "#506784",
             "startlinecolor": "#A2B1C6"
            },
            "baxis": {
             "endlinecolor": "#A2B1C6",
             "gridcolor": "#506784",
             "linecolor": "#506784",
             "minorgridcolor": "#506784",
             "startlinecolor": "#A2B1C6"
            },
            "type": "carpet"
           }
          ],
          "choropleth": [
           {
            "colorbar": {
             "outlinewidth": 0,
             "ticks": ""
            },
            "type": "choropleth"
           }
          ],
          "contour": [
           {
            "colorbar": {
             "outlinewidth": 0,
             "ticks": ""
            },
            "colorscale": [
             [
              0,
              "#0d0887"
             ],
             [
              0.1111111111111111,
              "#46039f"
             ],
             [
              0.2222222222222222,
              "#7201a8"
             ],
             [
              0.3333333333333333,
              "#9c179e"
             ],
             [
              0.4444444444444444,
              "#bd3786"
             ],
             [
              0.5555555555555556,
              "#d8576b"
             ],
             [
              0.6666666666666666,
              "#ed7953"
             ],
             [
              0.7777777777777778,
              "#fb9f3a"
             ],
             [
              0.8888888888888888,
              "#fdca26"
             ],
             [
              1,
              "#f0f921"
             ]
            ],
            "type": "contour"
           }
          ],
          "contourcarpet": [
           {
            "colorbar": {
             "outlinewidth": 0,
             "ticks": ""
            },
            "type": "contourcarpet"
           }
          ],
          "heatmap": [
           {
            "colorbar": {
             "outlinewidth": 0,
             "ticks": ""
            },
            "colorscale": [
             [
              0,
              "#0d0887"
             ],
             [
              0.1111111111111111,
              "#46039f"
             ],
             [
              0.2222222222222222,
              "#7201a8"
             ],
             [
              0.3333333333333333,
              "#9c179e"
             ],
             [
              0.4444444444444444,
              "#bd3786"
             ],
             [
              0.5555555555555556,
              "#d8576b"
             ],
             [
              0.6666666666666666,
              "#ed7953"
             ],
             [
              0.7777777777777778,
              "#fb9f3a"
             ],
             [
              0.8888888888888888,
              "#fdca26"
             ],
             [
              1,
              "#f0f921"
             ]
            ],
            "type": "heatmap"
           }
          ],
          "histogram": [
           {
            "marker": {
             "pattern": {
              "fillmode": "overlay",
              "size": 10,
              "solidity": 0.2
             }
            },
            "type": "histogram"
           }
          ],
          "histogram2d": [
           {
            "colorbar": {
             "outlinewidth": 0,
             "ticks": ""
            },
            "colorscale": [
             [
              0,
              "#0d0887"
             ],
             [
              0.1111111111111111,
              "#46039f"
             ],
             [
              0.2222222222222222,
              "#7201a8"
             ],
             [
              0.3333333333333333,
              "#9c179e"
             ],
             [
              0.4444444444444444,
              "#bd3786"
             ],
             [
              0.5555555555555556,
              "#d8576b"
             ],
             [
              0.6666666666666666,
              "#ed7953"
             ],
             [
              0.7777777777777778,
              "#fb9f3a"
             ],
             [
              0.8888888888888888,
              "#fdca26"
             ],
             [
              1,
              "#f0f921"
             ]
            ],
            "type": "histogram2d"
           }
          ],
          "histogram2dcontour": [
           {
            "colorbar": {
             "outlinewidth": 0,
             "ticks": ""
            },
            "colorscale": [
             [
              0,
              "#0d0887"
             ],
             [
              0.1111111111111111,
              "#46039f"
             ],
             [
              0.2222222222222222,
              "#7201a8"
             ],
             [
              0.3333333333333333,
              "#9c179e"
             ],
             [
              0.4444444444444444,
              "#bd3786"
             ],
             [
              0.5555555555555556,
              "#d8576b"
             ],
             [
              0.6666666666666666,
              "#ed7953"
             ],
             [
              0.7777777777777778,
              "#fb9f3a"
             ],
             [
              0.8888888888888888,
              "#fdca26"
             ],
             [
              1,
              "#f0f921"
             ]
            ],
            "type": "histogram2dcontour"
           }
          ],
          "mesh3d": [
           {
            "colorbar": {
             "outlinewidth": 0,
             "ticks": ""
            },
            "type": "mesh3d"
           }
          ],
          "parcoords": [
           {
            "line": {
             "colorbar": {
              "outlinewidth": 0,
              "ticks": ""
             }
            },
            "type": "parcoords"
           }
          ],
          "pie": [
           {
            "automargin": true,
            "type": "pie"
           }
          ],
          "scatter": [
           {
            "marker": {
             "line": {
              "color": "#283442"
             }
            },
            "type": "scatter"
           }
          ],
          "scatter3d": [
           {
            "line": {
             "colorbar": {
              "outlinewidth": 0,
              "ticks": ""
             }
            },
            "marker": {
             "colorbar": {
              "outlinewidth": 0,
              "ticks": ""
             }
            },
            "type": "scatter3d"
           }
          ],
          "scattercarpet": [
           {
            "marker": {
             "colorbar": {
              "outlinewidth": 0,
              "ticks": ""
             }
            },
            "type": "scattercarpet"
           }
          ],
          "scattergeo": [
           {
            "marker": {
             "colorbar": {
              "outlinewidth": 0,
              "ticks": ""
             }
            },
            "type": "scattergeo"
           }
          ],
          "scattergl": [
           {
            "marker": {
             "line": {
              "color": "#283442"
             }
            },
            "type": "scattergl"
           }
          ],
          "scattermap": [
           {
            "marker": {
             "colorbar": {
              "outlinewidth": 0,
              "ticks": ""
             }
            },
            "type": "scattermap"
           }
          ],
          "scattermapbox": [
           {
            "marker": {
             "colorbar": {
              "outlinewidth": 0,
              "ticks": ""
             }
            },
            "type": "scattermapbox"
           }
          ],
          "scatterpolar": [
           {
            "marker": {
             "colorbar": {
              "outlinewidth": 0,
              "ticks": ""
             }
            },
            "type": "scatterpolar"
           }
          ],
          "scatterpolargl": [
           {
            "marker": {
             "colorbar": {
              "outlinewidth": 0,
              "ticks": ""
             }
            },
            "type": "scatterpolargl"
           }
          ],
          "scatterternary": [
           {
            "marker": {
             "colorbar": {
              "outlinewidth": 0,
              "ticks": ""
             }
            },
            "type": "scatterternary"
           }
          ],
          "surface": [
           {
            "colorbar": {
             "outlinewidth": 0,
             "ticks": ""
            },
            "colorscale": [
             [
              0,
              "#0d0887"
             ],
             [
              0.1111111111111111,
              "#46039f"
             ],
             [
              0.2222222222222222,
              "#7201a8"
             ],
             [
              0.3333333333333333,
              "#9c179e"
             ],
             [
              0.4444444444444444,
              "#bd3786"
             ],
             [
              0.5555555555555556,
              "#d8576b"
             ],
             [
              0.6666666666666666,
              "#ed7953"
             ],
             [
              0.7777777777777778,
              "#fb9f3a"
             ],
             [
              0.8888888888888888,
              "#fdca26"
             ],
             [
              1,
              "#f0f921"
             ]
            ],
            "type": "surface"
           }
          ],
          "table": [
           {
            "cells": {
             "fill": {
              "color": "#506784"
             },
             "line": {
              "color": "rgb(17,17,17)"
             }
            },
            "header": {
             "fill": {
              "color": "#2a3f5f"
             },
             "line": {
              "color": "rgb(17,17,17)"
             }
            },
            "type": "table"
           }
          ]
         },
         "layout": {
          "annotationdefaults": {
           "arrowcolor": "#f2f5fa",
           "arrowhead": 0,
           "arrowwidth": 1
          },
          "autotypenumbers": "strict",
          "coloraxis": {
           "colorbar": {
            "outlinewidth": 0,
            "ticks": ""
           }
          },
          "colorscale": {
           "diverging": [
            [
             0,
             "#8e0152"
            ],
            [
             0.1,
             "#c51b7d"
            ],
            [
             0.2,
             "#de77ae"
            ],
            [
             0.3,
             "#f1b6da"
            ],
            [
             0.4,
             "#fde0ef"
            ],
            [
             0.5,
             "#f7f7f7"
            ],
            [
             0.6,
             "#e6f5d0"
            ],
            [
             0.7,
             "#b8e186"
            ],
            [
             0.8,
             "#7fbc41"
            ],
            [
             0.9,
             "#4d9221"
            ],
            [
             1,
             "#276419"
            ]
           ],
           "sequential": [
            [
             0,
             "#0d0887"
            ],
            [
             0.1111111111111111,
             "#46039f"
            ],
            [
             0.2222222222222222,
             "#7201a8"
            ],
            [
             0.3333333333333333,
             "#9c179e"
            ],
            [
             0.4444444444444444,
             "#bd3786"
            ],
            [
             0.5555555555555556,
             "#d8576b"
            ],
            [
             0.6666666666666666,
             "#ed7953"
            ],
            [
             0.7777777777777778,
             "#fb9f3a"
            ],
            [
             0.8888888888888888,
             "#fdca26"
            ],
            [
             1,
             "#f0f921"
            ]
           ],
           "sequentialminus": [
            [
             0,
             "#0d0887"
            ],
            [
             0.1111111111111111,
             "#46039f"
            ],
            [
             0.2222222222222222,
             "#7201a8"
            ],
            [
             0.3333333333333333,
             "#9c179e"
            ],
            [
             0.4444444444444444,
             "#bd3786"
            ],
            [
             0.5555555555555556,
             "#d8576b"
            ],
            [
             0.6666666666666666,
             "#ed7953"
            ],
            [
             0.7777777777777778,
             "#fb9f3a"
            ],
            [
             0.8888888888888888,
             "#fdca26"
            ],
            [
             1,
             "#f0f921"
            ]
           ]
          },
          "colorway": [
           "#636efa",
           "#EF553B",
           "#00cc96",
           "#ab63fa",
           "#FFA15A",
           "#19d3f3",
           "#FF6692",
           "#B6E880",
           "#FF97FF",
           "#FECB52"
          ],
          "font": {
           "color": "#f2f5fa"
          },
          "geo": {
           "bgcolor": "rgb(17,17,17)",
           "lakecolor": "rgb(17,17,17)",
           "landcolor": "rgb(17,17,17)",
           "showlakes": true,
           "showland": true,
           "subunitcolor": "#506784"
          },
          "hoverlabel": {
           "align": "left"
          },
          "hovermode": "closest",
          "mapbox": {
           "style": "dark"
          },
          "paper_bgcolor": "rgb(17,17,17)",
          "plot_bgcolor": "rgb(17,17,17)",
          "polar": {
           "angularaxis": {
            "gridcolor": "#506784",
            "linecolor": "#506784",
            "ticks": ""
           },
           "bgcolor": "rgb(17,17,17)",
           "radialaxis": {
            "gridcolor": "#506784",
            "linecolor": "#506784",
            "ticks": ""
           }
          },
          "scene": {
           "xaxis": {
            "backgroundcolor": "rgb(17,17,17)",
            "gridcolor": "#506784",
            "gridwidth": 2,
            "linecolor": "#506784",
            "showbackground": true,
            "ticks": "",
            "zerolinecolor": "#C8D4E3"
           },
           "yaxis": {
            "backgroundcolor": "rgb(17,17,17)",
            "gridcolor": "#506784",
            "gridwidth": 2,
            "linecolor": "#506784",
            "showbackground": true,
            "ticks": "",
            "zerolinecolor": "#C8D4E3"
           },
           "zaxis": {
            "backgroundcolor": "rgb(17,17,17)",
            "gridcolor": "#506784",
            "gridwidth": 2,
            "linecolor": "#506784",
            "showbackground": true,
            "ticks": "",
            "zerolinecolor": "#C8D4E3"
           }
          },
          "shapedefaults": {
           "line": {
            "color": "#f2f5fa"
           }
          },
          "sliderdefaults": {
           "bgcolor": "#C8D4E3",
           "bordercolor": "rgb(17,17,17)",
           "borderwidth": 1,
           "tickwidth": 0
          },
          "ternary": {
           "aaxis": {
            "gridcolor": "#506784",
            "linecolor": "#506784",
            "ticks": ""
           },
           "baxis": {
            "gridcolor": "#506784",
            "linecolor": "#506784",
            "ticks": ""
           },
           "bgcolor": "rgb(17,17,17)",
           "caxis": {
            "gridcolor": "#506784",
            "linecolor": "#506784",
            "ticks": ""
           }
          },
          "title": {
           "x": 0.05
          },
          "updatemenudefaults": {
           "bgcolor": "#506784",
           "borderwidth": 0
          },
          "xaxis": {
           "automargin": true,
           "gridcolor": "#283442",
           "linecolor": "#506784",
           "ticks": "",
           "title": {
            "standoff": 15
           },
           "zerolinecolor": "#283442",
           "zerolinewidth": 2
          },
          "yaxis": {
           "automargin": true,
           "gridcolor": "#283442",
           "linecolor": "#506784",
           "ticks": "",
           "title": {
            "standoff": 15
           },
           "zerolinecolor": "#283442",
           "zerolinewidth": 2
          }
         }
        },
        "title": {
         "text": "age vs bmi (Colored by Stroke Variations)"
        },
        "xaxis": {
         "anchor": "y",
         "domain": [
          0,
          1
         ],
         "title": {
          "text": "age"
         }
        },
        "yaxis": {
         "anchor": "x",
         "domain": [
          0,
          1
         ],
         "title": {
          "text": "bmi"
         }
        }
       }
      }
     },
     "metadata": {},
     "output_type": "display_data"
    },
    {
     "data": {
      "application/vnd.plotly.v1+json": {
       "config": {
        "plotlyServerURL": "https://plot.ly"
       },
       "data": [
        {
         "hovertemplate": "color=#d62728<br>age=%{x}<br>avg_glucose_level=%{y}<extra></extra>",
         "legendgroup": "#d62728",
         "marker": {
          "color": "#636efa",
          "opacity": 0.8,
          "size": 7,
          "symbol": "circle"
         },
         "mode": "markers",
         "name": "#d62728",
         "showlegend": true,
         "type": "scattergl",
         "x": {
          "bdata": "AAAAAAAAVEAAAAAAAIBSQAAAAAAAQFFAAAAAAACAU0AAAAAAAEBUQAAAAAAAgE5AAAAAAAAAS0AAAAAAAABOQAAAAAAAwFFAAAAAAAAAVEAAAAAAAEBQQAAAAAAAAEVAAAAAAAAASEAAAAAAAIBUQAAAAAAAAFJAAAAAAAAATUAAAAAAAIBIQAAAAAAAgFNAAAAAAAAAS0AAAAAAAIBUQAAAAAAAAE1AAAAAAABAVEAAAAAAAIBDQAAAAAAAwFNAAAAAAABAU0AAAAAAAIBUQAAAAAAAAFRAAAAAAADAUEAAAAAAAIBGQAAAAAAAgFNAAAAAAAAAU0AAAAAAAIBNQAAAAAAAAFRAAAAAAACAUEAAAAAAAABKQAAAAAAAAFRAAAAAAADAU0AAAAAAAIBNQAAAAAAAwFNAAAAAAAAAUUAAAAAAAABLQAAAAAAAgE5AAAAAAACAUUAAAAAAAIBHQAAAAAAAgFJAAAAAAABAVEAAAAAAAIBMQAAAAAAAAFRAAAAAAACARkAAAAAAAIBRQAAAAAAAgExAAAAAAABAUUAAAAAAAABQQAAAAAAAQFRAAAAAAACATEAAAAAAAABJQAAAAAAAwFNAAAAAAACASkAAAAAAAMBTQAAAAAAAAFRAAAAAAAAAUUAAAAAAAIBOQAAAAAAAgFJAAAAAAAAAQ0AAAAAAAEBTQAAAAAAAAE1AAAAAAACASkAAAAAAAABSQAAAAAAAAFRAAAAAAACAU0AAAAAAAABTQAAAAAAAgFRAAAAAAACATUAAAAAAAIBSQAAAAAAAQFFAAAAAAACAU0AAAAAAAIBMQAAAAAAAAFRAAAAAAAAAUUAAAAAAAIBLQAAAAAAAAElAAAAAAABAVEAAAAAAAIBRQAAAAAAAgFNAAAAAAADAU0AAAAAAAEBUQAAAAAAAAE5AAAAAAAAAVEAAAAAAAABUQAAAAAAAgFNAAAAAAAAAR0AAAAAAAIBNQAAAAAAAAEBAAAAAAACATkAAAAAAAIBPQAAAAAAAgE9AAAAAAACAVEAAAAAAAIBJQAAAAAAAgE1AAAAAAAAAUkAAAAAAAEBRQAAAAAAAgFJAAAAAAABAU0AAAAAAAIBTQAAAAAAAAEtAAAAAAACAU0AAAAAAAEBUQAAAAAAAgFNAAAAAAACAU0AAAAAAAIBPQAAAAAAAgENAAAAAAACASUAAAAAAAABIQAAAAAAAQFRAAAAAAACAU0AAAAAAAMBTQAAAAAAAQFRAAAAAAACASEAAAAAAAIBDQAAAAAAAAFRAAAAAAABAVEAAAAAAAMBTQAAAAAAAQFJAAAAAAACATEAAAAAAAIBJQAAAAAAAAE5AAAAAAACAUEAAAAAAAIBMQAAAAAAAACxAAAAAAADAUkAAAAAAAIBTQA==",
          "dtype": "f8"
         },
         "xaxis": "x",
         "y": {
          "bdata": "exSuR+F6WkD2KFyPwoVRQClcj8L1mFdAKVyPwvVITUDsUbgehRtUQD0K16NwHV5AcT0K16MgWkCuR+F6FE5WQEjhehSut1lASOF6FK4HWkAfhetRuD5ZQArXo3A92lRAzczMzMwMVUBSuB6F6wFVQLgehetRqFJASOF6FK4nV0AUrkfhenROQFK4HoXrgVNArkfhehTOUUDNzMzMzBxiQHE9Ctej0FpAhetRuB7VWEDsUbgehQtNQMP1KFyP0l9AuB6F61EIX0ApXI/C9ahNQJqZmZmZuVJAuB6F61H4TkCuR+F6FG5XQHE9CtejQFxArkfhehQeWkAfhetRuI5VQHsUrkfhKlJAMzMzMzMjXUD2KFyPwiVYQK5H4XoUrlBAZmZmZma2W0AK16NwPQpYQHsUrkfhOlZAw/UoXI/yU0CuR+F6FD5YQKRwPQrX81tAzczMzMysTUBcj8L1KLxVQDMzMzMzo1hApHA9CtczUkDhehSuRwFRQKRwPQrXI1FAKVyPwvUIUED2KFyPwhVTQHsUrkfhulNApHA9CtezVEBmZmZmZoZSQM3MzMzMrFNA4XoUrkehW0DsUbgehUtSQDMzMzMzQ1dAexSuR+EKUECPwvUoXD9gQFK4HoXrIVFAZmZmZmaGVEDXo3A9CgdTQD0K16NwPVJAUrgeheuRVECuR+F6FE5aQK5H4XoU7k1AZmZmZmZGT0CF61G4Hm1gQMP1KFyPYlJA4XoUrkdRYEAzMzMzM4NhQOxRuB6F61lAXI/C9SgcXUBSuB6F65FRQHsUrkfhClJAw/UoXI/SUEAK16NwPdpQQBSuR+F6JFNAFK5H4Xp0U0AfhetRuD5XQArXo3A9illA4XoUrkeBUkC4HoXrUUhWQK5H4XoUpmBA4XoUrkeBWEDD9Shcj+JWQOxRuB6FW1hA4XoUrkfBVkBcj8L1KBxQQK5H4XoUDkxA7FG4HoWLU0DD9Shcj8JbQLgehetRCFNAj8L1KFwPXECamZmZmSlhQFyPwvUoLF1ASOF6FK6nVUAK16NwPQpcQFK4HoXrgV1AexSuR+F6WECkcD0K13NXQD0K16NwvVJAAAAAAACAVkCuR+F6FF5bQGZmZmZm9lVAj8L1KFyvWkC4HoXrUQhUQFyPwvUojFZAmpmZmZnZYECF61G4HqVaQI/C9Shcz1RA7FG4HoXbWUDXo3A9CodSQPYoXI/C9VdAZmZmZmYGXUAfhetRuC5SQDMzMzMzk1FA16NwPQo3WkBxPQrXo3BYQFK4HoXrgVBAzczMzMx8VEAfhetRuG5YQFyPwvUovFFAMzMzMzOTVUDNzMzMzAxWQHsUrkfh+lZAPQrXo3AdU0A9CtejcD1VQNejcD0K90xAMzMzMzOzU0CkcD0K17NTQA==",
          "dtype": "f8"
         },
         "yaxis": "y"
        },
        {
         "hovertemplate": "color=#ffffff<br>age=%{x}<br>avg_glucose_level=%{y}<extra></extra>",
         "legendgroup": "#ffffff",
         "marker": {
          "color": "#EF553B",
          "opacity": 0.8,
          "size": 7,
          "symbol": "circle"
         },
         "mode": "markers",
         "name": "#ffffff",
         "showlegend": true,
         "type": "scattergl",
         "x": {
          "bdata": "AAAAAAAACEAAAAAAAABNQAAAAAAAACBAAAAAAACAUUAAAAAAAABKQAAAAAAAAEBAAAAAAADAU0AAAAAAAMBTQAAAAAAAgEJAAAAAAAAAREAAAAAAAIBBQAAAAAAAADRAAAAAAAAARUAAAAAAAABGQAAAAAAAwFNAAAAAAABAUEAAAAAAAIBIQAAAAAAAgE1AAAAAAAAAOUAAAAAAAMBQQAAAAAAAAENAAAAAAAAAO0AAAAAAAIBHQAAAAAAAAE1AAAAAAAAACEAAAAAAAAAsQAAAAAAAAEBAAAAAAAAAN0AAAAAAAIBLQAAAAAAAADFAAAAAAACATUAAAAAAAAAqQAAAAAAAABBAAAAAAAAAMEAAAAAAAAA2QAAAAAAAgEZAAAAAAACAUEAAAAAAAABNQAAAAAAAAE1AAAAAAACASkAAAAAAAIBTQAAAAAAAAEZAAAAAAAAAO0AAAAAAAIBFQAAAAAAAACpAAAAAAAAAPkAAAAAAAABHQAAAAAAAgEVAAAAAAADAU0AAAAAAAAA7QAAAAAAAAENAAAAAAACATEAAAAAAAIBOQAAAAAAAgEJAAAAAAAAAPUAAAAAAAAA2QAAAAAAAACZAAAAAAAAANkAAAAAAAIBKQAAAAAAAADtAAAAAAAAAIEAAAAAAAAA1QAAAAAAAADJAAAAAAACASUAAAAAAAAAmQAAAAAAAAEhAAAAAAAAAS0AAAAAAAIBIQAAAAAAAADhAAAAAAACAUEAAAAAAAAA3QAAAAAAAAFFAAAAAAACAS0AAAAAAAAA5QAAAAAAAAEhAAAAAAACAR0AAAAAAAAA0QAAAAAAAAE5AAAAAAAAAQEAAAAAAAIBFQAAAAAAAAEJAAAAAAAAAPUAAAAAAAIBDQAAAAAAAAFNAexSuR+F65D8AAAAAAABBQAAAAAAAgEVAAAAAAACATEAAAAAAAAAQQAAAAAAAAEZAAAAAAAAAMkAAAAAAAIBEQAAAAAAAADdAAAAAAACASkAAAAAAAABMQClcj8L1KOw/AAAAAAAAOUAAAAAAAAAsQAAAAAAAgEpAAAAAAAAAEEAAAAAAAIBDQAAAAAAAgEpAAAAAAAAAFEAAAAAAAAAQQAAAAAAAgEJAAAAAAAAAOEAAAAAAAIBLQAAAAAAAgFFAAAAAAAAAQUAAAAAAAAA6QAAAAAAAgENAAAAAAAAAQ0AAAAAAAAA0QAAAAAAAADFAAAAAAADAUkAAAAAAAAA/QAAAAAAAABRAAAAAAAAAKkAAAAAAAAA2QAAAAAAAAEpAAAAAAACATkAAAAAAAIBTQAAAAAAAgExAAAAAAAAANUAAAAAAAAA2QAAAAAAAAFRAAAAAAAAAHEAAAAAAAABQQAAAAAAAAENAAAAAAAAAKEAAAAAAAAAIQAAAAAAAADZAAAAAAAAAOEAAAAAAAMBSQAAAAAAAAChAAAAAAACAT0AAAAAAAABKQAAAAAAAAFFAAAAAAAAAFEAAAAAAAIBFQAAAAAAAAERAAAAAAAAAP0AAAAAAAABQQAAAAAAAAFBAAAAAAAAAAEAAAAAAAIBKQAAAAAAAQFBAAAAAAAAANkAAAAAAAAA6QAAAAAAAgEpAAAAAAAAANEAAAAAAAAAqQAAAAAAAADVAAAAAAABAUEAAAAAAAEBQQAAAAAAAAEVAAAAAAAAAUkAAAAAAAAAqQAAAAAAAAD1AAAAAAACATUAAAAAAAABFQAAAAAAAACpAAAAAAACAQEAAAAAAAIBFQAAAAAAAACZAAAAAAAAAHEAAAAAAAAAwQAAAAAAAgFNAAAAAAAAAOUAAAAAAAEBRQAAAAAAAAFFAAAAAAAAAOkAAAAAAAAAyQAAAAAAAgEVAAAAAAACARUAAAAAAAABAQAAAAAAAQFRAAAAAAAAAOUAAAAAAAIBQQAAAAAAAACZAAAAAAACASkAAAAAAAIBTQAAAAAAAACJAAAAAAAAASEAAAAAAAAA/QAAAAAAAADRAAAAAAAAANUAAAAAAAABFQAAAAAAAgEFAAAAAAACASkAAAAAAAABOQAAAAAAAgEtAAAAAAADAUUAAAAAAAAAUQAAAAAAAACxAAAAAAAAALkAAAAAAAIBQQAAAAAAAAExAAAAAAAAATkAAAAAAAIBMQAAAAAAAAD1AAAAAAAAAU0AAAAAAAABKQAAAAAAAAEVAAAAAAADAUUAAAAAAAABQQAAAAAAAgENAAAAAAAAAR0AAAAAAAIBJQAAAAAAAAD9AAAAAAAAANkAAAAAAAIBEQAAAAAAAAEZAAAAAAAAAUUAAAAAAAIBIQAAAAAAAACRAAAAAAAAAP0AAAAAAAMBQQAAAAAAAgFFAAAAAAAAAQ0AAAAAAAAAUQAAAAAAAAEtAAAAAAAAAPkAAAAAAAAA3QAAAAAAAAD9AAAAAAAAAUkAAAAAAAAA3QAAAAAAAADlAAAAAAACASUAAAAAAAAA0QAAAAAAAAChAAAAAAACATEAAAAAAAEBQQAAAAAAAAD5AAAAAAAAAPUAAAAAAAABLQAAAAAAAgExAAAAAAAAAMkAAAAAAAAAiQAAAAAAAADpAAAAAAAAAREAAAAAAAAAuQAAAAAAAgEtAAAAAAAAAFEAAAAAAAIBLQAAAAAAAAEJAAAAAAAAAR0AAAAAAAAAUQAAAAAAAAChAAAAAAADAUEDNzMzMzMz8P3sUrkfhetQ/AAAAAAAAUEAAAAAAAAA7QAAAAAAAADlAAAAAAABAVEAAAAAAAABAQAAAAAAAAEpAAAAAAAAAS0AAAAAAAABCQAAAAAAAADJAAAAAAACARkAAAAAAAIBJQAAAAAAAADdAAAAAAAAAS0AAAAAAAABLQAAAAAAAADpAAAAAAAAARUAAAAAAAIBHQAAAAAAAADhAAAAAAACATEAAAAAAAIBJQAAAAAAAAEhAAAAAAAAATEAAAAAAAAA+QAAAAAAAgE9AAAAAAACASkBI4XoUrkfxPwAAAAAAADhAAAAAAACASkAAAAAAAIBDQAAAAAAAADdAAAAAAAAAP0AAAAAAAAAUQAAAAAAAAEZAzczMzMzM/D8AAAAAAABEQAAAAAAAABxAAAAAAAAARUAAAAAAAABIQAAAAAAAgFRAAAAAAAAASkAAAAAAAABFQAAAAAAAgEtAAAAAAACARUAAAAAAAIBSQAAAAAAAQFBAAAAAAAAAREAAAAAAAABKQAAAAAAAgFBAAAAAAAAANEAAAAAAAIBJQAAAAAAAAE5AAAAAAACATUAAAAAAAABNQAAAAAAAAEVAAAAAAAAAPEAAAAAAAIBMQAAAAAAAgFBAAAAAAAAASEAAAAAAAIBCQAAAAAAAADtAAAAAAAAALkAAAAAAAABUQAAAAAAAgEVAAAAAAACASkAAAAAAAIBRQAAAAAAAAE1AAAAAAACASEAAAAAAAEBQQAAAAAAAAEtAAAAAAACAUkAAAAAAAABMQAAAAAAAwFNAAAAAAADAUUAAAAAAAAA8QAAAAAAAACJAAAAAAAAAEEAAAAAAAABCQAAAAAAAgFNAAAAAAAAASkAAAAAAAABUQAAAAAAAAENAAAAAAAAATEAAAAAAAMBSQAAAAAAAAFNAAAAAAAAAJEAAAAAAAABEQAAAAAAAgFRAAAAAAAAATUAAAAAAAAAoQAAAAAAAgEpAAAAAAAAAOkAAAAAAAABIQAAAAAAAADlAAAAAAAAAMEAAAAAAAAA0QAAAAAAAAABAzczMzMzM/D8AAAAAAAA8QAAAAAAAAEBAAAAAAACAQUAAAAAAAABKQAAAAAAAgEtAAAAAAAAARUAAAAAAAABKQAAAAAAAADJAAAAAAAAAKkAAAAAAAIBGQAAAAAAAAD1AAAAAAAAAKEAAAAAAAIBCQAAAAAAAAD5AAAAAAAAARkAAAAAAAMBTQAAAAAAAAENAAAAAAACARkAAAAAAAIBQQAAAAAAAADNAAAAAAACASEAAAAAAAIBHQAAAAAAAADdAAAAAAADAU0AAAAAAAIBCQAAAAAAAgFNAAAAAAACAUUAAAAAAAAA9QAAAAAAAACpAAAAAAAAANkAAAAAAAEBUQAAAAAAAADxAAAAAAAAAIkAAAAAAAABJQAAAAAAAgFFAAAAAAAAAPkAAAAAAAIBJQAAAAAAAADhAAAAAAAAAMUAAAAAAAAAiQAAAAAAAAElAAAAAAACASEAAAAAAAAAYQAAAAAAAAD5AAAAAAABAUkAAAAAAAAA0QAAAAAAAAEVAAAAAAADAU0AAAAAAAIBLQAAAAAAAADtAAAAAAADAUUAAAAAAAAA3QAAAAAAAAExAAAAAAAAAUEAAAAAAAABHQAAAAAAAgEtAAAAAAAAAAEAAAAAAAABNQAAAAAAAgFNAj8L1KFyP8j8AAAAAAIBBQAAAAAAAADJAAAAAAAAAM0AAAAAAAIBHQAAAAAAAAEtAAAAAAACAQ0AAAAAAAAA0QAAAAAAAAD9AAAAAAAAATEAAAAAAAAA/QAAAAAAAgFRAAAAAAACAQEAAAAAAAABFQAAAAAAAADZAAAAAAACATkAAAAAAAAA/QAAAAAAAAD9AAAAAAAAAMUAAAAAAAAA+QAAAAAAAQFFAAAAAAACAT0AAAAAAAAAzQAAAAAAAgElAAAAAAAAAQ0AAAAAAAAAAQAAAAAAAAE1AAAAAAAAAUEAAAAAAAAA/QAAAAAAAgE1AAAAAAAAAS0AAAAAAAAA4QAAAAAAAADNAAAAAAAAAMUAAAAAAAAA9QAAAAAAAAEVAAAAAAAAAP0AAAAAAAAA9QAAAAAAAADdAAAAAAAAAOUAAAAAAAAAsQAAAAAAAgFBAAAAAAABAU0AAAAAAAMBTQAAAAAAAAEpAAAAAAACAREAAAAAAAIBDQAAAAAAAgElAAAAAAAAAREAAAAAAAABIQAAAAAAAgEtAAAAAAACAREAAAAAAAIBDQAAAAAAAgERAAAAAAAAAFEAAAAAAAABDQAAAAAAAAChAAAAAAAAANEAAAAAAAIBKQAAAAAAAADVAAAAAAACAUUAAAAAAAIBOQAAAAAAAgFFAAAAAAAAAQ0AAAAAAAIBNQAAAAAAAAEJAAAAAAAAAP0AAAAAAAEBQQAAAAAAAgE5AAAAAAAAAAEAAAAAAAABKQAAAAAAAgEBAAAAAAAAAS0AAAAAAAIBJQAAAAAAAgENAAAAAAAAAREAAAAAAAAAzQAAAAAAAACJAAAAAAACASkAAAAAAAAA3QAAAAAAAADNAAAAAAAAA8D8AAAAAAABIQAAAAAAAAEZAAAAAAACAUUBmZmZmZmb2PwAAAAAAADFAAAAAAAAAREAAAAAAAABHQAAAAAAAAEBAAAAAAAAAAEAAAAAAAABEQAAAAAAAADNAAAAAAACARUAAAAAAAMBRQAAAAAAAAD9AAAAAAACAREAAAAAAAEBQQAAAAAAAADRAAAAAAACASUAAAAAAAIBCQAAAAAAAgEhAAAAAAAAAT0AAAAAAAAA8QAAAAAAAAFRAAAAAAACARkAAAAAAAIBCQAAAAAAAAAhAAAAAAAAAOkAAAAAAAIBNQAAAAAAAgFJAAAAAAAAAMUAAAAAAAABPQAAAAAAAADNAAAAAAACATUAAAAAAAABPQAAAAAAAAFRAAAAAAAAAS0AAAAAAAAA7QAAAAAAAABBAAAAAAACAREAAAAAAAAA7QAAAAAAAgElAAAAAAACATUAAAAAAAIBJQAAAAAAAwFFAAAAAAAAASEAAAAAAAIBIQAAAAAAAADlAAAAAAAAAP0AAAAAAAABRQAAAAAAAgENAAAAAAAAAQEAAAAAAAIBDQAAAAAAAgE9AAAAAAABAUUAAAAAAAAA9QIXrUbgehfs/AAAAAAAATUAAAAAAAABAQAAAAAAAgE9AAAAAAACATEAAAAAAAEBTQAAAAAAAACBAAAAAAAAANUAAAAAAAAAwQAAAAAAAACBAAAAAAACAUkAAAAAAAAAcQAAAAAAAADNAAAAAAAAAUEAAAAAAAABEQAAAAAAAADhAAAAAAACAUkAAAAAAAABKQAAAAAAAAEtAAAAAAAAAM0AAAAAAAAA3QAAAAAAAACpAAAAAAACASUAAAAAAAABOQAAAAAAAwFNAAAAAAADAUkAAAAAAAEBRQAAAAAAAgExAAAAAAACAQEAAAAAAAIBHQAAAAAAAAC5AAAAAAAAA8D8AAAAAAAA0QAAAAAAAABhAAAAAAAAASUAAAAAAAAA/QAAAAAAAAC5AAAAAAAAACEAAAAAAAAA+QAAAAAAAADFAAAAAAAAAOEAAAAAAAAAUQAAAAAAAgEBAAAAAAAAAPkAAAAAAAIBQQAAAAAAAADtAAAAAAAAANUAAAAAAAIBLQAAAAAAAADNAAAAAAAAAMEAAAAAAAIBIQAAAAAAAACRAAAAAAACAQkAAAAAAAIBNQAAAAAAAABxAAAAAAACATkAAAAAAAABBQAAAAAAAACJAAAAAAAAAR0AAAAAAAABJQAAAAAAAADNAAAAAAAAANUAAAAAAAIBCQAAAAAAAADRAAAAAAAAASUAAAAAAAABIQAAAAAAAgFRAAAAAAAAAUEAAAAAAAABJQGZmZmZmZvY/uB6F61G4zj8AAAAAAIBLQAAAAAAAAD1AAAAAAAAAEEAAAAAAAIBRQAAAAAAAgEFAAAAAAAAAVEAAAAAAAIBDQAAAAAAAADpAAAAAAAAAGEAAAAAAAIBEQAAAAAAAAEVAAAAAAAAAIkAAAAAAAIBLQAAAAAAAACxAAAAAAABAU0AAAAAAAABJQAAAAAAAgEhAAAAAAACASUAAAAAAAMBTQAAAAAAAgE9AAAAAAACAUEAAAAAAAAA0QAAAAAAAgEJAAAAAAAAANkAAAAAAAABOQAAAAAAAgENAAAAAAACASkAAAAAAAIBLQAAAAAAAgE9AAAAAAACATEAAAAAAAIBUQAAAAAAAgERAAAAAAAAAIEAAAAAAAABBQAAAAAAAwFJAAAAAAACATEAAAAAAAABSQAAAAAAAADVAAAAAAACASUAAAAAAAAAuQAAAAAAAADhAAAAAAAAAPkAAAAAAAIBUQAAAAAAAAE9AAAAAAADAU0AAAAAAAAAzQAAAAAAAgEZAAAAAAAAAFEAAAAAAAIBMQAAAAAAAAD9AAAAAAACATkAAAAAAAAA7QAAAAAAAgE5AAAAAAACASkAAAAAAAABTQAAAAAAAgExAAAAAAAAAIkAAAAAAAABBQAAAAAAAgElAAAAAAAAAM0AAAAAAAABUQAAAAAAAACpAAAAAAACAS0AAAAAAAMBQQAAAAAAAAD5AAAAAAACAVEAAAAAAAAAUQAAAAAAAgFBAAAAAAAAAIEAAAAAAAIBHQAAAAAAAADtAAAAAAAAAO0AAAAAAAABCQAAAAAAAAElAAAAAAAAAQEAAAAAAAABNQAAAAAAAQFJAAAAAAAAAT0AAAAAAAABJQAAAAAAAgElAAAAAAAAAM0AAAAAAAAA+QAAAAAAAAD5AAAAAAAAAPEB7FK5H4XrUPwAAAAAAADdAAAAAAAAAMkAAAAAAAIBEQAAAAAAAQFNAAAAAAAAAQUAAAAAAAMBQQD0K16NwPfo/AAAAAACATUAAAAAAAIBHQAAAAAAAADZAAAAAAACAQEAAAAAAAAA7QAAAAAAAAEZAAAAAAAAAMkAAAAAAAIBHQAAAAAAAAEVAAAAAAAAATEAAAAAAAEBRQAAAAAAAgEpAAAAAAAAAQkAAAAAAAEBRQAAAAAAAADNAAAAAAAAACEAAAAAAAAAuQAAAAAAAgE1AAAAAAACATkAAAAAAAAA8QAAAAAAAAEpAAAAAAACAQEAAAAAAAABUQAAAAAAAAABAAAAAAAAASED2KFyPwvX4PwAAAAAAADpAAAAAAAAAT0CF61G4HoX7PwAAAAAAAENAAAAAAAAAPEAAAAAAAMBQQAAAAAAAgExAAAAAAAAAREAAAAAAAAAkQAAAAAAAgEtAAAAAAAAAHEAAAAAAAABMQAAAAAAAgEJAAAAAAABAUUAAAAAAAIBGQAAAAAAAADxAAAAAAAAASkAAAAAAAABHQAAAAAAAgEZAAAAAAAAANUAAAAAAAAAQQAAAAAAAgEZAAAAAAADAUUAAAAAAAAAIQAAAAAAAwFNAAAAAAADAUUAAAAAAAIBSQAAAAAAAAEpAAAAAAACASEAAAAAAAABAQAAAAAAAgFNAAAAAAAAASEAAAAAAAAAyQAAAAAAAAFRAAAAAAAAAQUAAAAAAAABEQAAAAAAAACZAAAAAAACAQUAAAAAAAAA9QAAAAAAAADdAAAAAAAAARkAAAAAAAABPQAAAAAAAAEBAAAAAAAAAAEAAAAAAAMBTQAAAAAAAAABAAAAAAACARUAAAAAAAABPQAAAAAAAAD9AAAAAAAAARUAAAAAAAAA0QAAAAAAAgEtAAAAAAAAAN0AAAAAAAIBAQAAAAAAAACxAAAAAAADAU0AAAAAAAABQQAAAAAAAAEdAAAAAAAAANUAAAAAAAIBAQAAAAAAAAEBACtejcD0K5z8AAAAAAIBEQAAAAAAAgEJAAAAAAAAATUAAAAAAAMBTQAAAAAAAADdAAAAAAACAU0AAAAAAAIBEQAAAAAAAAFFAAAAAAAAAPkAUrkfhehT+PwAAAAAAAEBAAAAAAAAANEAAAAAAAAA0QAAAAAAAACRAAAAAAAAAIEAAAAAAAEBQQAAAAAAAAEdAAAAAAACASkAAAAAAAIBFQAAAAAAAAExAAAAAAAAACEAAAAAAAABAQAAAAAAAgEpAAAAAAADAUEAAAAAAAIBAQAAAAAAAADVAAAAAAABAUUAAAAAAAAAuQAAAAAAAAAhA16NwPQrX8z8AAAAAAAAAQAAAAAAAAElAAAAAAAAAPkAAAAAAAAAuQAAAAAAAABBAAAAAAAAAAEAAAAAAAAAmQAAAAAAAgEZAAAAAAAAANkAAAAAAAIBPQAAAAAAAADlAAAAAAACASEAAAAAAAIBDQAAAAAAAgEVAAAAAAADAUEAAAAAAAABIQAAAAAAAAENAAAAAAAAALEAAAAAAAAA0QAAAAAAAAE5AAAAAAAAAKkAAAAAAAABBQAAAAAAAADZAAAAAAAAAR0AAAAAAAIBKQAAAAAAAADxAAAAAAAAAT0AAAAAAAAAmQAAAAAAAgFBAAAAAAAAAVEAAAAAAAAAgQAAAAAAAAD9AAAAAAACARUAAAAAAAMBTQAAAAAAAACBAAAAAAAAAQ0AAAAAAAABUQAAAAAAAgEhAAAAAAAAASUAAAAAAAAAqQAAAAAAAQFJAAAAAAAAATkAAAAAAAABGQAAAAAAAwFNAAAAAAAAAFEAAAAAAAIBJQAAAAAAAABRAAAAAAABAVEAAAAAAAABGQAAAAAAAADlAAAAAAACASEAAAAAAAAA2QAAAAAAAgE5AAAAAAAAACEAAAAAAAABJQAAAAAAAgEZAAAAAAACAS0AAAAAAAAA1QJqZmZmZmek/AAAAAAAASUAAAAAAAABNQAAAAAAAAD5AAAAAAACATEAAAAAAAEBTQAAAAAAAAD1AAAAAAAAAR0AAAAAAAABEQAAAAAAAAD1AAAAAAACAQUAAAAAAAABLQAAAAAAAAExAAAAAAAAAOkAAAAAAAMBSQAAAAAAAAEZAAAAAAACAT0AAAAAAAAAxQAAAAAAAgEdAAAAAAAAASUAAAAAAAIBHQAAAAAAAgEdAAAAAAADAUUAAAAAAAEBQQAAAAAAAAERAAAAAAACAVEAAAAAAAABQQAAAAAAAAElAAAAAAAAAREAAAAAAAIBSQAAAAAAAAD5AAAAAAAAAGEAAAAAAAAAQQAAAAAAAAE5AAAAAAACATUAAAAAAAABSQAAAAAAAAE9AAAAAAAAAKkAAAAAAAABSQEjhehSuR/E/AAAAAACAQUAAAAAAAABLQAAAAAAAAERAAAAAAAAACEAAAAAAAAAAQAAAAAAAgERAAAAAAACATkAAAAAAAABNQAAAAAAAADFAAAAAAAAAUEAAAAAAAABAQAAAAAAAACRAAAAAAACAU0AAAAAAAAA4QAAAAAAAgEZAAAAAAAAAKEAAAAAAAIBCQAAAAAAAgEVAAAAAAAAAKEAAAAAAAAAqQAAAAAAAgFJAAAAAAAAAAEAAAAAAAIBNQAAAAAAAADVAAAAAAACAS0AAAAAAAAAsQAAAAAAAgEpAAAAAAACAQkAAAAAAAIBIQAAAAAAAgEtAAAAAAACATEAAAAAAAIBGQAAAAAAAAEdAAAAAAAAAKEAAAAAAAAAoQAAAAAAAQFNAAAAAAAAAGEAAAAAAAABTQAAAAAAAAEpAAAAAAABAUUAAAAAAAIBCQAAAAAAAAElAAAAAAACAREAAAAAAAIBFQAAAAAAAgEJAAAAAAAAAIkAAAAAAAAAmQAAAAAAAAExAAAAAAAAAFEAAAAAAAAAxQAAAAAAAABhAAAAAAAAAMkAAAAAAAAAAQAAAAAAAAFNAAAAAAAAA8D8AAAAAAABLQAAAAAAAgEZAAAAAAAAAS0AAAAAAAIBKQAAAAAAAgEdAAAAAAAAARkAAAAAAAEBQQAAAAAAAAERAAAAAAAAACEAAAAAAAEBUQAAAAAAAADhAAAAAAAAAIkAAAAAAAABKQAAAAAAAgE9AAAAAAAAANkAAAAAAAAAAQAAAAAAAwFNAAAAAAACASEAAAAAAAABPQAAAAAAAADBAAAAAAAAAT0AAAAAAAABJQAAAAAAAgEhAAAAAAAAAOEAAAAAAAAA1QAAAAAAAADFAAAAAAAAANkAAAAAAAAAqQAAAAAAAADVAAAAAAAAAIEAAAAAAAAAwQAAAAAAAADJAAAAAAACASEAAAAAAAAA/QAAAAAAAADlAAAAAAACAQ0AAAAAAAIBBQAAAAAAAwFFAAAAAAAAAREAAAAAAAIBEQAAAAAAAAABAAAAAAAAACEAUrkfhehT+PwAAAAAAABRAAAAAAAAAPkAAAAAAAIBIQAAAAAAAAFFAAAAAAAAAN0AAAAAAAAAAQAAAAAAAADhAAAAAAACAREAAAAAAAIBPQAAAAAAAAENA16NwPQrX8z8AAAAAAABDQAAAAAAAADtAAAAAAAAARUAAAAAAAABHQAAAAAAAwFBAAAAAAAAAQUAAAAAAAIBJQAAAAAAAQFNAAAAAAAAAPkAAAAAAAEBUQAAAAAAAADJAAAAAAACAQUAAAAAAAIBUQAAAAAAAgEpAAAAAAADAUkAAAAAAAABAQAAAAAAAADtAAAAAAAAATEAAAAAAAMBRQAAAAAAAgFNAAAAAAAAARkAAAAAAAABPQAAAAAAAADtAAAAAAACAUEAAAAAAAIBIQAAAAAAAACpAAAAAAACARkAAAAAAAABLQAAAAAAAADlAAAAAAACATkAAAAAAAIBLQAAAAAAAADdAAAAAAAAAEEAAAAAAAEBQQAAAAAAAAElAAAAAAAAARUAAAAAAAIBJQAAAAAAAADZAAAAAAAAAFEAAAAAAAAAzQAAAAAAAgEdAAAAAAAAAKEAAAAAAAAA6QAAAAAAAAE9AAAAAAABAVEAAAAAAAIBPQAAAAAAAACBAAAAAAAAAU0AAAAAAAABGQAAAAAAAQFBAAAAAAAAAS0AAAAAAAAA4QAAAAAAAQFBAAAAAAAAAKEAAAAAAAIBAQAAAAAAAgFJAAAAAAABAU0AAAAAAAABIQAAAAAAAAEpAAAAAAAAAN0AAAAAAAAA5QAAAAAAAAEZAAAAAAACAU0AAAAAAAIBCQAAAAAAAwFBAAAAAAACAREAAAAAAAAAAQAAAAAAAADFAAAAAAAAAKkAAAAAAAAA5QAAAAAAAgExAAAAAAAAAP0AAAAAAAIBOQAAAAAAAAC5AAAAAAAAAUUCamZmZmZnZPwAAAAAAAERAAAAAAAAAT0AAAAAAAIBGQAAAAAAAgEdAAAAAAACASUAAAAAAAIBNQNejcD0K1/M/AAAAAAAAMkAAAAAAAEBUQAAAAAAAAC5AAAAAAABAUkB7FK5H4Xq0PwAAAAAAgEpAAAAAAACARkAAAAAAAIBRQAAAAAAAAExAAAAAAAAAHEAAAAAAAIBQQAAAAAAAgEpAAAAAAAAANEAAAAAAAAAuQAAAAAAAgElAAAAAAAAAPEAAAAAAAEBUQAAAAAAAADRArkfhehSu9z8AAAAAAAAAQAAAAAAAQFNAAAAAAAAAQ0AAAAAAAAA3QAAAAAAAwFBAAAAAAACATUAAAAAAAIBEQAAAAAAAgERAAAAAAAAAS0AAAAAAAAA5QAAAAAAAABhAAAAAAAAANUAAAAAAAABAQAAAAAAAAFBAAAAAAACAUUAAAAAAAABGQAAAAAAAgEpAAAAAAACATUAAAAAAAIBPQAAAAAAAAEpAAAAAAAAAT0AAAAAAAABRQAAAAAAAAEJAAAAAAAAACEAAAAAAAAAgQAAAAAAAQFBAAAAAAAAAPEAAAAAAAABEQAAAAAAAQFBAAAAAAAAARkAAAAAAAABLQAAAAAAAwFNAAAAAAAAAT0AAAAAAAIBCQAAAAAAAgE9AAAAAAAAAO0AAAAAAAAAYQAAAAAAAAD5AAAAAAAAALkAAAAAAAABJQAAAAAAAAEBAAAAAAACAQEAAAAAAAABPQAAAAAAAgFRAAAAAAADAUUAAAAAAAAA0QAAAAAAAAEZAAAAAAACATEAAAAAAAABJQAAAAAAAAElAAAAAAACAR0AAAAAAAIBBQAAAAAAAACBAAAAAAAAACEAAAAAAAAA9QAAAAAAAADNAAAAAAACAREAAAAAAAAA3QAAAAAAAACxAAAAAAACAQUAAAAAAAIBGQAAAAAAAADNAAAAAAAAANUAAAAAAAAAgQAAAAAAAgEFAAAAAAACAQEAAAAAAAIBKQAAAAAAAAD9AAAAAAACARUAAAAAAAIBOQAAAAAAAACZAAAAAAAAAQkAAAAAAAAAwQAAAAAAAAE5AAAAAAAAAKkAAAAAAAEBRQAAAAAAAADZAAAAAAACARkAAAAAAAABNQAAAAAAAAD5AAAAAAAAAUUAAAAAAAAAwQAAAAAAAAENAAAAAAACAQ0AAAAAAAIBJQAAAAAAAgEJAAAAAAAAAMEAAAAAAAIBDQAAAAAAAADhAAAAAAACASUAAAAAAAABJQAAAAAAAADtAAAAAAABAUkAAAAAAAEBQQAAAAAAAAFNAAAAAAACASkAAAAAAAEBQQAAAAAAAAD9AhetRuB6F+z8AAAAAAABMQAAAAAAAAE9AAAAAAACAQUAAAAAAAAAwQAAAAAAAAD9AAAAAAAAAFEAAAAAAAAA6QAAAAAAAACRAAAAAAAAANkAAAAAAAABJQAAAAAAAgEdAAAAAAAAAP0AAAAAAAAA2QAAAAAAAAChAAAAAAACAT0AAAAAAAIBTQAAAAAAAABBAAAAAAACAQ0AAAAAAAAAAQAAAAAAAgEJAAAAAAACAU0AAAAAAAMBSQAAAAAAAAEFAAAAAAAAASEAAAAAAAAAqQAAAAAAAAEtAAAAAAAAAKkAAAAAAAAA4QAAAAAAAAFNAAAAAAAAA8D8AAAAAAABHQAAAAAAAAEFAAAAAAAAAOUAAAAAAAABOQAAAAAAAADZAAAAAAACAQUAAAAAAAABIQAAAAAAAAENAAAAAAAAAKEAAAAAAAAA2QHsUrkfheuQ/AAAAAAAAKkAAAAAAAIBTQAAAAAAAADdAAAAAAACAQUAAAAAAAIBTQAAAAAAAAElAAAAAAACATkAAAAAAAIBFQAAAAAAAAE5AAAAAAACASUAAAAAAAAAwQAAAAAAAADlAAAAAAAAAQkAAAAAAAAAgQAAAAAAAAEhAAAAAAAAALEAAAAAAAIBOQAAAAAAAAE5AAAAAAAAATEAAAAAAAAAiQAAAAAAAgEZAAAAAAAAALEAAAAAAAIBCQAAAAAAAAEpAAAAAAACAR0AAAAAAAIBUQAAAAAAAwFNAAAAAAAAAOUAAAAAAAAA6QAAAAAAAAEVAAAAAAACAQkAAAAAAAAAgQAAAAAAAgFNAAAAAAAAAMkAAAAAAAIBTQAAAAAAAAFFAAAAAAACAR0AAAAAAAIBHQAAAAAAAgElAAAAAAACARUAAAAAAAIBTQAAAAAAAgE9AAAAAAACARkAAAAAAAAAoQAAAAAAAAExAAAAAAAAAPUAAAAAAAIBLQAAAAAAAgEhAAAAAAAAAN0AAAAAAAIBKQAAAAAAAAExAAAAAAAAATEAAAAAAAIBGQAAAAAAAAFRAAAAAAACAR0AAAAAAAAAIQAAAAAAAgE9AAAAAAAAAUUAAAAAAAABPQAAAAAAAAD5AAAAAAAAARkAAAAAAAIBHQAAAAAAAADlAAAAAAAAAP0AAAAAAAMBRQAAAAAAAAEZAAAAAAACAT0AAAAAAAABMQAAAAAAAADlAAAAAAAAAM0AAAAAAAAA7QAAAAAAAABRAAAAAAAAANEAAAAAAAAA1QAAAAAAAAEZAAAAAAACAQ0AAAAAAAIBJQAAAAAAAABRAAAAAAACATUAAAAAAAIBGQAAAAAAAgEVAAAAAAAAAVEAAAAAAAABFQAAAAAAAACBAAAAAAAAAUUAAAAAAAAAUQAAAAAAAgExAAAAAAAAARkAAAAAAAAAwQAAAAAAAAE5AAAAAAAAATUAAAAAAAIBFQAAAAAAAAElArkfhehSu9z8AAAAAAAAUQAAAAAAAACJAAAAAAADAUEAAAAAAAABCQAAAAAAAgFFAAAAAAACATEAAAAAAAABKQAAAAAAAADxAAAAAAACAREAAAAAAAEBUQAAAAAAAgEBAAAAAAAAAP0AAAAAAAABFQAAAAAAAACRAAAAAAAAAQUAAAAAAAIBRQAAAAAAAgEBAAAAAAAAATUAAAAAAAAA5QGZmZmZmZvY/AAAAAACAR0AAAAAAAAAsQAAAAAAAgFRAAAAAAAAAUkAAAAAAAABKQAAAAAAAAC5A9ihcj8L1+D8AAAAAAAAYQAAAAAAAAAhAAAAAAAAAMkAAAAAAAIBKQAAAAAAAAE1AAAAAAAAAP0AAAAAAAAA9QAAAAAAAABRAAAAAAAAAREAAAAAAAMBSQAAAAAAAAEpAAAAAAACAQ0AAAAAAAABEQAAAAAAAgENAAAAAAAAAMUAAAAAAAIBGQOxRuB6F6+E/AAAAAAAAKkAAAAAAAAA6QAAAAAAAAEVAAAAAAAAARkAAAAAAAAAIQAAAAAAAADlAAAAAAACAREAAAAAAAIBJQAAAAAAAADRAAAAAAAAAOUAAAAAAAAAyQAAAAAAAgElAAAAAAAAAAEAAAAAAAABDQAAAAAAAAFBAAAAAAAAANkAAAAAAAABAQAAAAAAAAEBAAAAAAACAT0C4HoXrUbjOPwAAAAAAAEtAAAAAAAAAOUAAAAAAAABUQAAAAAAAAD9AAAAAAACAQUAAAAAAAAA/QAAAAAAAAE5A7FG4HoXr4T8AAAAAAAA1QAAAAAAAgFNAAAAAAACATUB7FK5H4XrkPwAAAAAAACRAAAAAAAAATkAAAAAAAAAmQAAAAAAAAElAAAAAAAAANEAAAAAAAAA2QAAAAAAAgEtAAAAAAACATEAAAAAAAAA9QAAAAAAAAEBAAAAAAACAQkAAAAAAAABNQAAAAAAAgERAAAAAAAAAUkAAAAAAAABAQAAAAAAAAEtAAAAAAADAU0AAAAAAAABMQAAAAAAAgEZAAAAAAAAAGEAAAAAAAIBGQAAAAAAAAE5AAAAAAABAUEAAAAAAAIBMQAAAAAAAAE1AAAAAAAAAIEAAAAAAAAAyQAAAAAAAAABAAAAAAAAASkAAAAAAAIBPQAAAAAAAgExAAAAAAAAASUAAAAAAAAAoQAAAAAAAgEFAAAAAAACAQUAAAAAAAABQQAAAAAAAAEVAAAAAAAAAT0AAAAAAAAAIQAAAAAAAgEVAAAAAAAAASkAAAAAAAIBNQAAAAAAAQFRAAAAAAAAALkAAAAAAAABJQAAAAAAAQFJAAAAAAAAAM0AAAAAAAAA+QAAAAAAAgEdAAAAAAACAR0AAAAAAAIBPQAAAAAAAAChAH4XrUbge9T8AAAAAAABHQAAAAAAAACBAAAAAAACAUkAAAAAAAIBSQAAAAAAAADpAAAAAAAAASEAAAAAAAAA4QAAAAAAAgEdAAAAAAACAUUAAAAAAAIBEQAAAAAAAAEVAAAAAAACATEAAAAAAAAAuQAAAAAAAACZAAAAAAAAAO0AAAAAAAIBKQAAAAAAAAEpAAAAAAAAAUUAAAAAAAAA3QAAAAAAAgEVAAAAAAACAS0AAAAAAAABKQAAAAAAAADVAAAAAAACASEAAAAAAAAA7QAAAAAAAADZAAAAAAABAU0AAAAAAAIBMQAAAAAAAACpAAAAAAAAALEAAAAAAAAA9QAAAAAAAgEhA16NwPQrX8z8AAAAAAAA1QAAAAAAAAEJAAAAAAAAARUAAAAAAAABMQAAAAAAAAEdAAAAAAADAU0AAAAAAAAA5QAAAAAAAgEJAAAAAAAAAQkAAAAAAAIBKQAAAAAAAgENAAAAAAAAAMkAAAAAAAIBLQAAAAAAAADhAAAAAAAAAUkAAAAAAAIBEQAAAAAAAAD1AAAAAAAAAOkAAAAAAAAA3QAAAAAAAgEVAAAAAAACARUAAAAAAAIBIQAAAAAAAACpAAAAAAAAAOkAAAAAAAAAkQAAAAAAAgERAAAAAAAAAOUAAAAAAAAAkQAAAAAAAAEtAAAAAAAAAHEAAAAAAAIBKQAAAAAAAgEtAAAAAAAAAGEAAAAAAAABFQAAAAAAAAElAAAAAAACAR0AAAAAAAAAIQAAAAAAAAChAAAAAAAAAREAAAAAAAEBTQAAAAAAAADJAAAAAAABAUkAAAAAAAMBQQAAAAAAAAE1AAAAAAAAAFEAAAAAAAABBQAAAAAAAgFNAAAAAAAAAMUAAAAAAAAAzQAAAAAAAAExAAAAAAAAAKkAAAAAAAABEQAAAAAAAAFRAAAAAAAAAT0AAAAAAAMBTQAAAAAAAACJAAAAAAAAAOkCF61G4HoX7PwAAAAAAADBAAAAAAAAAREAAAAAAAABHQAAAAAAAgEZAAAAAAACATUAAAAAAAEBSQAAAAAAAAFRAAAAAAAAATkAAAAAAAABEQAAAAAAAAD5AAAAAAACAU0AAAAAAAIBCQAAAAAAAgERAAAAAAAAAQUAAAAAAAAAyQAAAAAAAQFFAAAAAAAAAPEAAAAAAAAAIQAAAAAAAgExAAAAAAAAAQUAAAAAAAABJQAAAAAAAgEtAAAAAAAAAAEAAAAAAAIBMQAAAAAAAQFJAAAAAAAAASkAAAAAAAEBQQAAAAAAAAEtAAAAAAAAAIEAAAAAAAIBGQAAAAAAAQFNAAAAAAAAAQUAAAAAAAIBAQAAAAAAAgENAAAAAAACAQ0AAAAAAAABEQAAAAAAAAEdAAAAAAAAAFEAAAAAAAAAsQAAAAAAAgEhAAAAAAACARkAAAAAAAAAqQAAAAAAAAFNAAAAAAAAALEAAAAAAAAA0QAAAAAAAACJAAAAAAACAU0AAAAAAAIBIQAAAAAAAgEtAAAAAAACARUAAAAAAAAAwQAAAAAAAwFBAAAAAAAAAIEAAAAAAAIBHQAAAAAAAgE1AAAAAAAAAPEAAAAAAAMBQQAAAAAAAwFFAAAAAAAAATEAAAAAAAABGQAAAAAAAABhAAAAAAACAU0AAAAAAAABAQAAAAAAAAERAAAAAAACAT0AAAAAAAAA2QAAAAAAAgFRAAAAAAAAAMUAAAAAAAABFQAAAAAAAAEBAAAAAAABAUkAAAAAAAIBHQAAAAAAAAFBAAAAAAACAS0AAAAAAAABQQAAAAAAAADdAAAAAAAAAMkAAAAAAAIBHQAAAAAAAgEdAAAAAAADAUUAAAAAAAABPQAAAAAAAADxAAAAAAAAAHEAAAAAAAABRQAAAAAAAgEJAAAAAAAAAFEAAAAAAAABBQAAAAAAAACBAAAAAAAAAAECPwvUoXI/yPwAAAAAAAFNAAAAAAAAAMkAAAAAAAIBUQAAAAAAAwFBAAAAAAAAAO0AAAAAAAIBMQAAAAAAAAFFAAAAAAAAATEAAAAAAAAAyQAAAAAAAgE9AAAAAAAAAP0AAAAAAAIBCQAAAAAAAAFBAAAAAAACAR0AAAAAAAIBCQAAAAAAAACpAAAAAAABAUkAAAAAAAABIQAAAAAAAADVAAAAAAAAAM0AAAAAAAIBUQAAAAAAAAFRAAAAAAAAANUAAAAAAAABHQAAAAAAAABhAAAAAAAAACEAAAAAAAIBHQAAAAAAAAEFAAAAAAACAREAAAAAAAMBQQAAAAAAAABRAAAAAAAAANEAAAAAAAIBPQAAAAAAAQFJAAAAAAAAAT0ApXI/C9SjsPwAAAAAAAElAAAAAAADAUUAAAAAAAAA+QAAAAAAAAFRAAAAAAAAAUEAAAAAAAAAcQAAAAAAAwFNAAAAAAACAQUAAAAAAAAA8QAAAAAAAAFJAAAAAAAAAKEAAAAAAAAA5QAAAAAAAAE9AAAAAAAAAPkAAAAAAAABMQAAAAAAAADxAAAAAAACAR0AAAAAAAAAwQAAAAAAAAD1AAAAAAAAAOkAAAAAAAAA6QAAAAAAAAD1AAAAAAAAAPUAAAAAAAIBAQAAAAAAAADNAAAAAAAAAJEAAAAAAAAAIQAAAAAAAAE5AAAAAAAAAMEAAAAAAAIBBQAAAAAAAADNAAAAAAACAREA9CtejcD36PwAAAAAAgElAAAAAAACAQEAAAAAAAIBAQAAAAAAAAEhAAAAAAACARkAAAAAAAIBOQAAAAAAAAD9AAAAAAAAATkAAAAAAAIBJQAAAAAAAgEpAAAAAAAAASkAAAAAAAABFQAAAAAAAAExAAAAAAAAAREAAAAAAAABNQAAAAAAAAD5AAAAAAACAR0AAAAAAAABBQAAAAAAAAD9AAAAAAAAATUAAAAAAAIBHQAAAAAAAQFBAAAAAAAAAKkAAAAAAAAAiQAAAAAAAABxAAAAAAACAQkAAAAAAAABPQAAAAAAAAEJAAAAAAAAACEAAAAAAAIBTQAAAAAAAgEhAAAAAAAAARkAAAAAAAAAkQAAAAAAAACBAAAAAAAAATkAAAAAAAEBSQAAAAAAAAEFAAAAAAAAAKkAAAAAAAABUQAAAAAAAAEdAAAAAAAAAVEAAAAAAAEBQQAAAAAAAADhAAAAAAACAQEAAAAAAAAAmQAAAAAAAgExAAAAAAAAAM0AAAAAAAIBDQAAAAAAAAE5AAAAAAAAACEAAAAAAAIBMQAAAAAAAQFBAAAAAAADAUEAAAAAAAABCQAAAAAAAAEJAAAAAAAAAOkAAAAAAAMBRQAAAAAAAgFNAAAAAAABAU0AAAAAAAABJQAAAAAAAACJAPQrXo3A9+j8AAAAAAABLQAAAAAAAACBAAAAAAAAAQkAAAAAAAABDQAAAAAAAABRAAAAAAAAALEApXI/C9SjsPwAAAAAAAD5AAAAAAACAQ0AAAAAAAAAxQAAAAAAAACxAAAAAAACAU0AAAAAAAAAAQAAAAAAAAEBAKVyPwvUo7D8AAAAAAABJQAAAAAAAAEhAAAAAAAAAR0AAAAAAAABLQAAAAAAAQFRAAAAAAAAALkAAAAAAAEBTQAAAAAAAgE1AAAAAAAAASEAAAAAAAIBIQAAAAAAAAEZAAAAAAACAQ0AAAAAAAABBQAAAAAAAAE9AAAAAAAAAQ0AAAAAAAIBFQAAAAAAAADxAAAAAAAAATUAAAAAAAAA8QAAAAAAAADJAAAAAAAAAP0AAAAAAAABLQAAAAAAAQFJAAAAAAABAUkAAAAAAAABDQAAAAAAAADRAAAAAAAAAKEAAAAAAAIBTQAAAAAAAAEVAAAAAAAAAMEAAAAAAAAAQQAAAAAAAAE5AAAAAAACARkAAAAAAAAA3QAAAAAAAADVAAAAAAADAUEAAAAAAAAAkQAAAAAAAADhAAAAAAAAALEAAAAAAAAAqQAAAAAAAAEBAAAAAAAAAR0AAAAAAAIBGQAAAAAAAgEtAAAAAAAAAP0AAAAAAAAA5QAAAAAAAACxAAAAAAAAATkAAAAAAAAA8QAAAAAAAAEdAAAAAAAAAJkAAAAAAAIBPQAAAAAAAgE1AAAAAAACATEAAAAAAAIBBQAAAAAAAABxAAAAAAABAUUAAAAAAAABSQAAAAAAAgEhAAAAAAABAUkAAAAAAAAA4QAAAAAAAADpAAAAAAAAAO0AAAAAAAIBTQAAAAAAAQFNAexSuR+F61D8AAAAAAIBDQAAAAAAAgEFAAAAAAAAAVEAAAAAAAAA2QAAAAAAAgENAAAAAAAAAGEAAAAAAAABPQAAAAAAAACpAAAAAAAAATEAAAAAAAIBKQAAAAAAAABRAAAAAAAAARkAAAAAAAAAqQAAAAAAAgE1AAAAAAACAQUAAAAAAAABKQAAAAAAAwFNAAAAAAABAUUAAAAAAAIBTQAAAAAAAAE5AAAAAAAAAJEAAAAAAAABFQAAAAAAAADVAAAAAAAAATEAAAAAAAEBRQAAAAAAAADlAAAAAAAAAOUAAAAAAAABNQAAAAAAAADxAAAAAAAAAR0AAAAAAAIBKQAAAAAAAgEJAAAAAAAAAKEAAAAAAAAAsQAAAAAAAAE5AAAAAAAAARUAAAAAAAEBQQAAAAAAAAEBAAAAAAACASkAAAAAAAABJQAAAAAAAADdAmpmZmZmZ6T8AAAAAAIBIQAAAAAAAgFFAAAAAAAAAN0AAAAAAAMBTQAAAAAAAgFJAAAAAAAAASUAAAAAAAABBQAAAAAAAgEdAAAAAAADAUEAAAAAAAABPQAAAAAAAADJAAAAAAADAUkAAAAAAAAA9QAAAAAAAAEpAAAAAAAAAMkAAAAAAAMBQQAAAAAAAgFBAAAAAAAAAFEAAAAAAAAAyQAAAAAAAAEpAAAAAAAAARkAAAAAAAABHQAAAAAAAAEJAAAAAAACATkAAAAAAAAAcQAAAAAAAAC5AAAAAAAAANEAAAAAAAAAAQAAAAAAAgEdAAAAAAAAAOUAAAAAAAIBQQAAAAAAAAABAAAAAAACASkAAAAAAAIBAQAAAAAAAADdAAAAAAAAAN0AAAAAAAEBUQAAAAAAAgEtAAAAAAACAUUAAAAAAAABIQAAAAAAAAABAAAAAAABAUUAAAAAAAABKQAAAAAAAAABAAAAAAACAQ0AAAAAAAABDQAAAAAAAgEZA16NwPQrX8z8AAAAAAABHQAAAAAAAAElAAAAAAAAASkAAAAAAAIBEQAAAAAAAgE1AAAAAAAAASEAAAAAAAABFQAAAAAAAADpAAAAAAACAQ0AAAAAAAABBQAAAAAAAAEtA9ihcj8L1+D8AAAAAAABJQAAAAAAAAEZAAAAAAAAAQ0AAAAAAAABAQAAAAAAAADFAAAAAAABAVEAAAAAAAAAuQAAAAAAAABRAAAAAAACAUUAAAAAAAABKQAAAAAAAwFBAAAAAAAAAMUAAAAAAAIBOQAAAAAAAAE1AAAAAAAAAPkAAAAAAAEBQQAAAAAAAADdAAAAAAAAALEAAAAAAAAA7QAAAAAAAgEpAAAAAAAAATUAAAAAAAAAiQAAAAAAAAEdAAAAAAACAREAAAAAAAIBFQAAAAAAAAC5AAAAAAAAAQkAAAAAAAABCQAAAAAAAgEdAAAAAAAAAMkAAAAAAAAAzQAAAAAAAQFBAAAAAAAAAMUAAAAAAAABLQAAAAAAAAEdAAAAAAACATUAAAAAAAAAyQAAAAAAAAExAAAAAAAAACEAAAAAAAIBEQAAAAAAAAE5AAAAAAACAR0AAAAAAAAA4QAAAAAAAgEVAAAAAAAAAMUAAAAAAAIBGQAAAAAAAwFNAAAAAAADAU0AAAAAAAAA7QAAAAAAAAFBAAAAAAAAAQUAAAAAAAABJQAAAAAAAAE1AAAAAAAAAOkAAAAAAAABJQAAAAAAAAFRAAAAAAAAAAEAAAAAAAABHQAAAAAAAAD1AAAAAAAAAGEAAAAAAAAAwQAAAAAAAAEZAAAAAAAAAN0AAAAAAAABIQAAAAAAAAEFAAAAAAACAU0AAAAAAAABFQAAAAAAAACRAAAAAAACAQ0AAAAAAAABFQAAAAAAAgEdAAAAAAAAALEAAAAAAAIBGQAAAAAAAAE1AAAAAAABAUkAAAAAAAABPQAAAAAAAAE9AAAAAAACASUCamZmZmZnpPwAAAAAAgExAAAAAAAAAIEAAAAAAAEBRQAAAAAAAADBAAAAAAAAATEAAAAAAAIBEQNejcD0K1/M/AAAAAAAARUAAAAAAAIBMQAAAAAAAADRAAAAAAAAAIEAAAAAAAIBFQAAAAAAAAE9AAAAAAACAT0AAAAAAAABUQAAAAAAAACpAAAAAAAAANEAAAAAAAMBRQAAAAAAAAElAAAAAAAAAU0AAAAAAAIBEQAAAAAAAAFNAAAAAAACAU0AAAAAAAIBFQAAAAAAAgEhAAAAAAACAUUAAAAAAAAA4QAAAAAAAgERAAAAAAAAANEAAAAAAAABBQAAAAAAAAEBAAAAAAAAAO0AAAAAAAABGQAAAAAAAgExAAAAAAAAAPUAAAAAAAAAwQAAAAAAAgEFAAAAAAAAAFEAAAAAAAIBNQAAAAAAAAElAAAAAAACARUAAAAAAAAA7QAAAAAAAAD5AAAAAAAAAIEAAAAAAAAAsQAAAAAAAADdAAAAAAAAAGEAAAAAAAIBCQAAAAAAAAENAAAAAAAAACEAAAAAAAAA6QAAAAAAAAE1AAAAAAACATEAAAAAAAABNQAAAAAAAwFNAAAAAAAAAQUAAAAAAAMBSQAAAAAAAACZAAAAAAADAUUAAAAAAAABEQAAAAAAAADhAexSuR+F65D8AAAAAAIBUQAAAAAAAAEBAAAAAAABAVEAAAAAAAABPQAAAAAAAgENAAAAAAAAASEAAAAAAAAA4QAAAAAAAgFFAAAAAAAAAMUAAAAAAAABMQAAAAAAAAAhAAAAAAAAAUkAAAAAAAAAkQAAAAAAAAEZAAAAAAAAAR0C4HoXrUbjOPwAAAAAAgEtAAAAAAAAATEAAAAAAAABJQAAAAAAAgFNAAAAAAACAT0AAAAAAAAA/QAAAAAAAQFBAAAAAAACASUAAAAAAAABOQAAAAAAAQFFAAAAAAAAAN0AAAAAAAABHQAAAAAAAADBAAAAAAAAAOkAAAAAAAABGQAAAAAAAADdAAAAAAAAAQ0AAAAAAAAAyQAAAAAAAADdAAAAAAAAAQEAAAAAAAAAgQAAAAAAAQFNAAAAAAACAREAAAAAAAABBQAAAAAAAADlAAAAAAACAQUAAAAAAAAAuQAAAAAAAABBAAAAAAACAQEAAAAAAAIBCQAAAAAAAAElAAAAAAAAAUkAAAAAAAAAwQAAAAAAAAEZAAAAAAAAAR0AAAAAAAABHQAAAAAAAQFJAAAAAAAAAPUAAAAAAAAAzQAAAAAAAADtAAAAAAAAAQkAAAAAAAIBOQAAAAAAAACJAAAAAAAAAUUAAAAAAAAA6QAAAAAAAADFAAAAAAADAUkAAAAAAAABBQAAAAAAAgEpAAAAAAAAAMkAAAAAAAABIQAAAAAAAABRAAAAAAAAAMEAAAAAAAABAQAAAAAAAgEtAAAAAAACASUAAAAAAAIBDQAAAAAAAwFNAAAAAAAAAQUAAAAAAAIBNQAAAAAAAAEtAAAAAAAAANkAAAAAAAAA1QAAAAAAAABBAAAAAAAAAOkAAAAAAAABPQAAAAAAAgEBAAAAAAACASUAAAAAAAMBSQAAAAAAAAEVAAAAAAACAVEAAAAAAAIBOQAAAAAAAgE1AAAAAAAAAP0AAAAAAAAAoQAAAAAAAAFNAAAAAAADAUUAAAAAAAAAuQAAAAAAAAEZAAAAAAAAAPkAAAAAAAIBHQAAAAAAAgEdAAAAAAAAAT0AAAAAAAIBHQAAAAAAAgFNAAAAAAACAQUAAAAAAAIBMQAAAAAAAAChAAAAAAAAAOkAAAAAAAIBAQAAAAAAAAE5AAAAAAACAQUAAAAAAAAAkQAAAAAAAAEZAAAAAAAAAHEAAAAAAAIBGQAAAAAAAAE5AAAAAAACASEAAAAAAAABLQAAAAAAAgENAAAAAAAAAPEAAAAAAAIBRQAAAAAAAADxAAAAAAADAU0AAAAAAAAA+QAAAAAAAADpAAAAAAAAAMEAAAAAAAABEQAAAAAAAQFNAAAAAAAAAQkAAAAAAAABEQAAAAAAAAABAAAAAAAAASkAAAAAAAIBTQAAAAAAAADZAAAAAAACAQEAAAAAAAABEQAAAAAAAADRAAAAAAAAAM0AAAAAAAAA5QAAAAAAAADdAAAAAAAAAPEAAAAAAAAAYQAAAAAAAgEJAAAAAAAAAJEAAAAAAAABBQAAAAAAAAE5AAAAAAAAANkAAAAAAAABKQAAAAAAAgE5AAAAAAAAAJEAAAAAAAABCQAAAAAAAAD1AAAAAAAAAT0AAAAAAAABPQAAAAAAAwFNAAAAAAAAAKkAAAAAAAIBEQAAAAAAAAExAAAAAAAAAIEAAAAAAAIBOQAAAAAAAAERAAAAAAAAANkAAAAAAAABUQAAAAAAAgExAAAAAAACAS0AAAAAAAIBDQAAAAAAAgElAAAAAAABAU0AAAAAAAABAQAAAAAAAgEZAAAAAAACASEAAAAAAAAAqQAAAAAAAgFJAAAAAAAAAUkAAAAAAAIBMQAAAAAAAgElAAAAAAACAS0AAAAAAAEBSQAAAAAAAAChAAAAAAAAAGEAAAAAAAABDQAAAAAAAAElAAAAAAADAUkCPwvUoXI/yPwAAAAAAAEBAAAAAAAAAKEAAAAAAAABAQAAAAAAAACpAH4XrUbge9T8AAAAAAIBPQAAAAAAAAD1AAAAAAACASkAAAAAAAIBIQAAAAAAAQFRAAAAAAACAUEAAAAAAAIBOQAAAAAAAAEpAAAAAAAAAIEAAAAAAAIBFQAAAAAAAABBAAAAAAACARkAAAAAAAABPQAAAAAAAAEVAAAAAAAAAUkAAAAAAAAA6QAAAAAAAACJAAAAAAAAAP0AAAAAAAAA0QAAAAAAAADZAAAAAAAAAN0AAAAAAAIBMQAAAAAAAAEpAAAAAAAAAUEAAAAAAAAA6QAAAAAAAAEtAAAAAAAAAQEAAAAAAAIBQQAAAAAAAACpAAAAAAAAAMkAAAAAAAAAmQAAAAAAAADBAAAAAAABAUkAAAAAAAAAkQAAAAAAAAEtAAAAAAAAASkAAAAAAAABAQAAAAAAAgEVAAAAAAAAAPEAAAAAAAMBTQAAAAAAAACZAAAAAAACAS0AAAAAAAABIQAAAAAAAAExAAAAAAACAS0AAAAAAAEBQQAAAAAAAQFFAAAAAAAAAPUAAAAAAAAAwQAAAAAAAwFJAAAAAAAAAMUAAAAAAAAA4QAAAAAAAAElAAAAAAAAASkAAAAAAAIBUQAAAAAAAAExAAAAAAAAATEAAAAAAAAAyQAAAAAAAgEBAAAAAAACATEAAAAAAAAA+QAAAAAAAAEpAAAAAAAAACEAAAAAAAABGQAAAAAAAgEBAAAAAAAAAOEAAAAAAAAA4QAAAAAAAAEtAAAAAAAAAUkAAAAAAAIBCQAAAAAAAAEJAAAAAAAAANkAAAAAAAAA4QAAAAAAAgEFAAAAAAAAAQEAAAAAAAABKQAAAAAAAADVAAAAAAACAVEAAAAAAAIBAQAAAAAAAAE9AAAAAAACATEAAAAAAAAAsQAAAAAAAAElAAAAAAAAAKEAAAAAAAABUQAAAAAAAgFJAAAAAAAAAR0AAAAAAAIBQQAAAAAAAADpAAAAAAACAUUAAAAAAAABPQAAAAAAAAC5AAAAAAADAUEAAAAAAAIBPQAAAAAAAAEVAAAAAAACASEAAAAAAAIBTQAAAAAAAgE5AAAAAAABAUkAAAAAAAABQQAAAAAAAQFRAAAAAAACAR0AAAAAAAABHQAAAAAAAAABAAAAAAAAATEAAAAAAAABLQAAAAAAAADpAAAAAAACARkAAAAAAAIBMQAAAAAAAgFNAAAAAAAAAAEAAAAAAAIBJQAAAAAAAAEtAAAAAAAAAQkAAAAAAAAA5QAAAAAAAABxAAAAAAAAAU0AAAAAAAIBGQAAAAAAAgEZAAAAAAADAU0AAAAAAAAA5QAAAAAAAgEpAAAAAAACAQUAAAAAAAIBTQAAAAAAAAEBA7FG4HoXr4T8AAAAAAABBQAAAAAAAQFBAAAAAAAAALkAAAAAAAAAxQAAAAAAAwFFAAAAAAAAARUAAAAAAAAA+QAAAAAAAwFJAAAAAAAAAIkAAAAAAAIBHQAAAAAAAwFJAAAAAAACATkAAAAAAAIBOQAAAAAAAADtAAAAAAACAS0AAAAAAAAAAQAAAAAAAgElAAAAAAACARkAAAAAAAABCQAAAAAAAAEdAAAAAAAAASEAAAAAAAMBTQAAAAAAAwFNAAAAAAAAAQEAAAAAAAABCQAAAAAAAADtAAAAAAAAANkAAAAAAAAAUQAAAAAAAACJAAAAAAAAAP0AAAAAAAAA6QAAAAAAAgEVAAAAAAACAQEAAAAAAAABBQAAAAAAAgFBAAAAAAAAARkAAAAAAAMBQQAAAAAAAADJAAAAAAACAS0AAAAAAAIBOQHsUrkfherQ/AAAAAAAASEAAAAAAAABGQAAAAAAAAFFAAAAAAAAASkAAAAAAAAAuQAAAAAAAAABAAAAAAAAATkAAAAAAAIBCQAAAAAAAABRAAAAAAADAU0AAAAAAAIBOQAAAAAAAAEJAAAAAAAAAQUAAAAAAAAAAQAAAAAAAgEVArkfhehSu9z8AAAAAAIBIQAAAAAAAAABAAAAAAACAVEAAAAAAAABOQBSuR+F6FP4/AAAAAAAATUAAAAAAAAAgQAAAAAAAACJAAAAAAAAAQUAAAAAAAAA3QAAAAAAAAFJAAAAAAACAR0AAAAAAAABMQAAAAAAAABRAAAAAAAAAO0AAAAAAAAAqQAAAAAAAgERAAAAAAAAASUAAAAAAAIBEQAAAAAAAABhAAAAAAAAAT0AAAAAAAAAQQAAAAAAAgE1AAAAAAAAAIkAAAAAAAIBEQAAAAAAAAFJAAAAAAACARkAAAAAAAAAzQAAAAAAAgEJAAAAAAABAU0AAAAAAAABDQAAAAAAAgEhAAAAAAAAANEAAAAAAAAA3QAAAAAAAgEtAAAAAAAAAMEAAAAAAAEBUQAAAAAAAADdAAAAAAAAASEAAAAAAAABMQAAAAAAAgE5AAAAAAACARUAAAAAAAIBDQAAAAAAAADZAAAAAAACAREAAAAAAAIBCQAAAAAAAQFBAAAAAAAAAIEAAAAAAAIBJQAAAAAAAgE9AAAAAAAAASEAAAAAAAAAxQAAAAAAAgElAAAAAAACAREAAAAAAAMBSQAAAAAAAAFJAAAAAAAAASkAAAAAAAAAmQAAAAAAAADxAAAAAAACAVEAAAAAAAIBSQAAAAAAAAD9AuB6F61G4zj8AAAAAAAAxQAAAAAAAAD1AAAAAAAAATEAAAAAAAAAuQAAAAAAAAD1AAAAAAADAU0AAAAAAAIBUQAAAAAAAADFAAAAAAAAAIEAAAAAAAAA3QAAAAAAAAEJAAAAAAACAR0AAAAAAAABOQAAAAAAAgE9AAAAAAAAARkAAAAAAAABDQAAAAAAAADpAAAAAAAAAMkAAAAAAAAAyQAAAAAAAACpAAAAAAAAAKkAAAAAAAIBHQAAAAAAAAFRAAAAAAAAAUkAAAAAAAAAUQAAAAAAAgElAAAAAAACAVEAAAAAAAAAUQAAAAAAAgFBAAAAAAAAALkAAAAAAAIBTQAAAAAAAAE9AAAAAAACAREAAAAAAAIBEQAAAAAAAgFNAAAAAAAAALECuR+F6FK73PwAAAAAAwFFAAAAAAAAAQEAAAAAAAAAwQOxRuB6F6+E/AAAAAACATUAAAAAAAABAQAAAAAAAAE1AAAAAAAAAREAAAAAAAIBEQAAAAAAAADVAFK5H4XoU/j8AAAAAAIBLQAAAAAAAwFBAAAAAAACASEAAAAAAAABFQAAAAAAAAEtAAAAAAAAAOUAAAAAAAABPQAAAAAAAAFJAAAAAAAAALEAAAAAAAABDQAAAAAAAgE1AAAAAAAAAN0AAAAAAAABBQAAAAAAAACBAAAAAAAAAPEAAAAAAAIBIQAAAAAAAADhAAAAAAAAAMUAAAAAAAEBRQAAAAAAAAE1AAAAAAAAASUAAAAAAAAAUQAAAAAAAAEFAAAAAAAAAUEAAAAAAAIBHQAAAAAAAgE5AAAAAAAAALEAAAAAAAIBKQAAAAAAAgExAAAAAAAAAQ0AAAAAAAAAqQAAAAAAAgEJAAAAAAACAQ0AAAAAAAAAqQAAAAAAAgExAAAAAAAAAJkAAAAAAAMBTQAAAAAAAADhAAAAAAAAARkAAAAAAAABHQAAAAAAAgFBAAAAAAACATkAAAAAAAAAwQAAAAAAAgEJAAAAAAACARUAAAAAAAAA7QAAAAAAAQFRAAAAAAAAAS0AAAAAAAAA7QAAAAAAAAEhAAAAAAAAAOkAAAAAAAABDQAAAAAAAAD1AAAAAAACASEAAAAAAAIBLQAAAAAAAAEpAAAAAAAAANUAAAAAAAAA4QAAAAAAAADJAAAAAAAAASkAAAAAAAIBJQAAAAAAAAE1AAAAAAADAU0AAAAAAAAAmQAAAAAAAgE5AAAAAAACASUAAAAAAAAA1QAAAAAAAwFFAAAAAAAAAKkAAAAAAAAAwQAAAAAAAgE5AAAAAAACASEAAAAAAAABGQAAAAAAAACZAAAAAAAAANEAAAAAAAABGQAAAAAAAABRAAAAAAACAREAAAAAAAAA3QAAAAAAAABxAAAAAAACAUkAAAAAAAABUQAAAAAAAgEFAAAAAAACARUAAAAAAAAA5QAAAAAAAAFJAAAAAAACARkAAAAAAAAAiQAAAAAAAgEBAAAAAAACASkAAAAAAAMBQQAAAAAAAgE1AH4XrUbge9T8AAAAAAAA7QAAAAAAAAFBAAAAAAAAAREAAAAAAAIBAQAAAAAAAgEBAAAAAAACAQ0AAAAAAAIBSQAAAAAAAAENAAAAAAACASkAAAAAAAAA2QAAAAAAAABRAAAAAAAAAOEAAAAAAAAA7QAAAAAAAgERAAAAAAAAANEAAAAAAAEBQQAAAAAAAAENAAAAAAAAAOUAAAAAAAIBKQAAAAAAAAElA16NwPQrX8z8AAAAAAIBLQAAAAAAAAENAAAAAAAAAPkAAAAAAAEBRQAAAAAAAgE5AAAAAAAAAQUAAAAAAAIBFQAAAAAAAAEhAAAAAAACAQkAAAAAAAABQQAAAAAAAgElAAAAAAAAAO0AAAAAAAIBIQAAAAAAAgFRAAAAAAAAAQkAAAAAAAABQQAAAAAAAAEBAAAAAAAAALkA9CtejcD36PwAAAAAAAEFAAAAAAAAAMUAAAAAAAABTQAAAAAAAgE5AAAAAAAAAPkAAAAAAAAAyQAAAAAAAAEhAexSuR+F6xD8AAAAAAAAQQAAAAAAAAENAAAAAAAAAO0AAAAAAAABJQAAAAAAAADNAAAAAAAAAIECamZmZmZnpPwAAAAAAQFJAAAAAAAAAT0AAAAAAAIBTQAAAAAAAgElAAAAAAACAU0AAAAAAAABEQAAAAAAAgEFAAAAAAAAAR0AAAAAAAIBJQAAAAAAAgEpAAAAAAACAS0AAAAAAAIBFQAAAAAAAAChAAAAAAAAANEAAAAAAAIBKQB+F61G4HvU/AAAAAAAANkAAAAAAAMBSQAAAAAAAgFBAAAAAAAAAHEAAAAAAAAA6QAAAAAAAACxAAAAAAAAAQEAAAAAAAAAYQAAAAAAAAEVAAAAAAAAAEEAAAAAAAABUQAAAAAAAAEpAAAAAAAAAJkAAAAAAAAAsQAAAAAAAgFJAAAAAAAAATUAAAAAAAABUQAAAAAAAAD9AAAAAAAAAPEAAAAAAAAA5QAAAAAAAwFFAAAAAAACASUAAAAAAAAAuQAAAAAAAgEZAAAAAAAAARUAAAAAAAAAQQAAAAAAAAFBAAAAAAAAAFEAAAAAAAABGQAAAAAAAgFNAAAAAAABAUUAAAAAAAABUQAAAAAAAABxAAAAAAAAAAEAAAAAAAEBRQAAAAAAAwFJAAAAAAAAATkAAAAAAAMBSQAAAAAAAACRAAAAAAAAAPEAAAAAAAAAIQAAAAAAAAD9AAAAAAACATUAAAAAAAAA/QAAAAAAAgExAAAAAAACARUAAAAAAAABEQAAAAAAAAEFAAAAAAACAS0AAAAAAAIBDQAAAAAAAAEVAAAAAAAAARkAAAAAAAEBRQAAAAAAAADBAAAAAAAAAIECuR+F6FK73PxSuR+F6FP4/AAAAAABAUUAAAAAAAAAqQAAAAAAAADBAAAAAAAAAUEAAAAAAAAAcQAAAAAAAgERAAAAAAABAUEAAAAAAAIBPQAAAAAAAAEtAAAAAAAAALEAAAAAAAIBGQAAAAAAAgElAAAAAAAAAIEAAAAAAAABKQAAAAAAAgENAAAAAAABAUUAAAAAAAEBSQAAAAAAAAEtAAAAAAAAAJEAAAAAAAAA6QAAAAAAAgERAAAAAAADAUUAAAAAAAABHQAAAAAAAAC5AAAAAAAAAPUAAAAAAAAAgQAAAAAAAADVAAAAAAAAATEAAAAAAAAAsQAAAAAAAgFNAAAAAAAAAQkAAAAAAAIBMQAAAAAAAADpAAAAAAAAANkAAAAAAAABLQAAAAAAAACBAAAAAAAAAT0AAAAAAAAA8QAAAAAAAAElAAAAAAAAAHEAAAAAAAIBAQAAAAAAAgEtAAAAAAAAAOUAAAAAAAAA5QAAAAAAAgEJAAAAAAAAATUAAAAAAAIBGQAAAAAAAAE5AAAAAAAAAQ0AAAAAAAAAmQAAAAAAAgE9AAAAAAAAAM0AAAAAAAAAxQAAAAAAAADNAAAAAAAAAR0AAAAAAAIBTQAAAAAAAgE9AAAAAAAAACEDNzMzMzMz8PwAAAAAAADJAAAAAAAAAIEAAAAAAAIBKQAAAAAAAAENAAAAAAACAUkAAAAAAAAA4QAAAAAAAgFNAAAAAAAAATkAAAAAAAAAoQAAAAAAAAEBAAAAAAAAAFEAAAAAAAABEQAAAAAAAADNAAAAAAAAAPEAAAAAAAABGQAAAAAAAAElAAAAAAAAASUAAAAAAAAAyQD0K16NwPfo/AAAAAAAAFEAAAAAAAIBDQAAAAAAAQFBAAAAAAAAAOkAAAAAAAABFQAAAAAAAAEFAAAAAAACARkAAAAAAAIBFQAAAAAAAAERAAAAAAACAQUAAAAAAAAAAQAAAAAAAgE5AAAAAAAAAUEAAAAAAAABAQAAAAAAAADdAAAAAAACASUAAAAAAAMBSQAAAAAAAAERAAAAAAAAAGEAAAAAAAABAQAAAAAAAgEtAAAAAAAAAN0AAAAAAAABNQAAAAAAAADFAAAAAAAAACEAAAAAAAAA3QAAAAAAAAExAAAAAAACARkAAAAAAAAAsQAAAAAAAgEZAAAAAAACATEAAAAAAAIBBQAAAAAAAACBAAAAAAAAARUAAAAAAAAAgQAAAAAAAAE9AAAAAAACARUAAAAAAAAAgQAAAAAAAAERAAAAAAAAAAEAAAAAAAAA7QAAAAAAAgEpAAAAAAAAAT0AAAAAAAABJQAAAAAAAADpAAAAAAAAAM0B7FK5H4XrUPwAAAAAAgEZAAAAAAACARkAAAAAAAABLQAAAAAAAAFBAAAAAAAAAAEAAAAAAAIBQQAAAAAAAQFJAFK5H4XoU/j8AAAAAAABNQAAAAAAAAChAAAAAAAAATkAAAAAAAAA3QAAAAAAAADpAAAAAAAAAQkAAAAAAAAAIQAAAAAAAADVAAAAAAADAUEAAAAAAAIBBQAAAAAAAADpAAAAAAACAR0A9CtejcD36PwAAAAAAAEpAAAAAAAAAPEAAAAAAAIBGQAAAAAAAADRA9ihcj8L1+D8AAAAAAIBGQAAAAAAAQFNAAAAAAAAASUDsUbgehevhPwAAAAAAAD5AAAAAAAAAP0AAAAAAAAAQQAAAAAAAQFBAAAAAAAAAUUAAAAAAAIBPQAAAAAAAAEtAAAAAAACAUEAAAAAAAAA9QAAAAAAAAExAAAAAAACATEAAAAAAAAAAQAAAAAAAAD9AAAAAAACAR0AAAAAAAIBCQAAAAAAAQFBAAAAAAACATkAAAAAAAIBQQAAAAAAAADhAAAAAAACAUEAAAAAAAABQQAAAAAAAgE9AAAAAAADAUUAAAAAAAAAyQAAAAAAAgExAAAAAAAAAT0DNzMzMzMz8PwAAAAAAgEFAAAAAAAAASUAAAAAAAAA3QAAAAAAAAEBAAAAAAAAAQ0AAAAAAAABJQAAAAAAAgENAAAAAAAAAHEAAAAAAAAAuQAAAAAAAwFBAAAAAAAAAQEAAAAAAAAAUQAAAAAAAgEhAAAAAAAAAJkAAAAAAAIBOQAAAAAAAAFNAAAAAAAAAQUAAAAAAAAA0QAAAAAAAADhAAAAAAACAQ0AAAAAAAIBLQAAAAAAAADBAAAAAAAAAQ0AAAAAAAAA0QAAAAAAAAEpAAAAAAACASEAAAAAAAMBSQAAAAAAAADxAAAAAAACATkB7FK5H4XrEPwAAAAAAgE1AAAAAAAAAKEAAAAAAAABDQAAAAAAAAC5AAAAAAAAAP0AAAAAAAABKQAAAAAAAgE5AAAAAAAAASUAAAAAAAIBEQAAAAAAAADRAAAAAAADAUEAAAAAAAEBSQAAAAAAAgElAAAAAAAAATEAAAAAAAIBIQAAAAAAAACRAAAAAAACASUAAAAAAAIBMQAAAAAAAAFNAAAAAAAAAPEAAAAAAAIBMQAAAAAAAgENAAAAAAACAREAAAAAAAIBGQAAAAAAAgEBAAAAAAAAAT0AAAAAAAAA7QAAAAAAAAD9AAAAAAAAAOEAUrkfhehT+PwAAAAAAADxAAAAAAAAAPkAAAAAAAABDQD0K16NwPfo/AAAAAAAAO0AAAAAAAAA+QAAAAAAAAEVAAAAAAAAAQkAAAAAAAABGQAAAAAAAgE1AAAAAAACATkAAAAAAAAAyQAAAAAAAAEZAAAAAAAAAMEAAAAAAAAAqQAAAAAAAACJAexSuR+F6xD8AAAAAAABDQAAAAAAAAE1AAAAAAAAAFEAAAAAAAABQQAAAAAAAAENAAAAAAAAATUAAAAAAAAAiQAAAAAAAAEFAAAAAAADAU0AAAAAAAABPQAAAAAAAAE5AAAAAAACATUAAAAAAAIBNQAAAAAAAAC5AAAAAAAAALEAAAAAAAAAUQAAAAAAAADFAAAAAAAAAKkAAAAAAAABIQAAAAAAAAFBAAAAAAAAAOkAAAAAAAIBSQLgehetRuN4/AAAAAAAAUUAAAAAAAAAiQAAAAAAAAEJAAAAAAAAAMUAAAAAAAAA4QAAAAAAAQFFAAAAAAAAAQ0AAAAAAAEBRQAAAAAAAAEBAAAAAAAAAOUAAAAAAAAAAQAAAAAAAwFNAAAAAAAAAPEAAAAAAAAAwQAAAAAAAgFBAAAAAAACATkAAAAAAAIBSQAAAAAAAACBAAAAAAACASEAAAAAAAAA+QAAAAAAAgElAAAAAAAAAJEAAAAAAAABBQAAAAAAAAERAAAAAAAAACEAAAAAAAIBGQAAAAAAAABBAAAAAAAAASkAAAAAAAABRQAAAAAAAACBAAAAAAACAVEAAAAAAAABCQAAAAAAAAEVAAAAAAAAAO0AAAAAAAAA/QAAAAAAAgFRAAAAAAACATEAAAAAAAIBLQAAAAAAAgElAAAAAAAAAVEAAAAAAAAAxQAAAAAAAgE5AAAAAAAAALEAAAAAAAABMQAAAAAAAgERAAAAAAACATUAAAAAAAAA9QAAAAAAAgENAAAAAAACAUEAAAAAAAIBBQAAAAAAAAEJAAAAAAACAQUAAAAAAAAA6QAAAAAAAAD9AAAAAAAAATEAAAAAAAABCQAAAAAAAgERAAAAAAAAASUAAAAAAAABFQAAAAAAAwFNAAAAAAACATEAAAAAAAAA5QAAAAAAAQFFAAAAAAACAQkAAAAAAAAAAQAAAAAAAAEJAAAAAAAAAJEAAAAAAAAAQQAAAAAAAAEhAAAAAAAAAUkAAAAAAAIBPQAAAAAAAADxAAAAAAAAAVEAAAAAAAIBIQAAAAAAAgExAAAAAAACATUAAAAAAAIBFQAAAAAAAgEdAAAAAAAAAS0AAAAAAAIBMQAAAAAAAAExAAAAAAACAUEAAAAAAAAAyQAAAAAAAQFRAAAAAAAAAPkAAAAAAAAAgQAAAAAAAgEtAAAAAAADAU0AAAAAAAIBKQAAAAAAAADpAAAAAAAAALEAAAAAAAAA5QAAAAAAAADRAAAAAAAAAMkAAAAAAAABDQAAAAAAAAFJAAAAAAAAASkAAAAAAAMBRQAAAAAAAAEdAAAAAAACAQEAAAAAAAIBCQAAAAAAAAEtAAAAAAAAAFEAAAAAAAIBGQAAAAAAAACxAAAAAAAAAFEAAAAAAAIBBQAAAAAAAADRAAAAAAAAAREAAAAAAAMBTQAAAAAAAgE5AAAAAAACAQEAAAAAAAAA7QAAAAAAAADxAAAAAAADAUEAAAAAAAIBBQAAAAAAAgFNAAAAAAAAANEAAAAAAAIBGQAAAAAAAACZAAAAAAAAAP0AAAAAAAAA+QAAAAAAAADtAAAAAAAAAQUAAAAAAAAAzQAAAAAAAAAhAAAAAAACASkAAAAAAAEBUQAAAAAAAAEZAAAAAAACATUAAAAAAAAAUQAAAAAAAAD9AAAAAAACAR0AAAAAAAAAoQAAAAAAAgEhAAAAAAAAALkAAAAAAAEBUQAAAAAAAAEhAAAAAAAAAOEAAAAAAAIBHQAAAAAAAACpAAAAAAAAAMEAAAAAAAABQQAAAAAAAACZAAAAAAACAS0AAAAAAAIBCQAAAAAAAAEFAAAAAAAAASUAAAAAAAIBLQAAAAAAAAABAAAAAAAAAUUAAAAAAAAA7QAAAAAAAgEpAAAAAAAAAFEAAAAAAAAAIQAAAAAAAADRAAAAAAAAAM0AAAAAAAAA/QAAAAAAAgE9AAAAAAACASEAAAAAAAABSQAAAAAAAgERAAAAAAAAAREAAAAAAAAAxQAAAAAAAAAhAAAAAAACAQEAAAAAAAAAoQAAAAAAAADdAAAAAAAAAP0AAAAAAAIBFQAAAAAAAADZAAAAAAAAAHEAAAAAAAEBUQAAAAAAAACRAAAAAAAAAFEAAAAAAAAA4QAAAAAAAgEZAAAAAAAAAR0AAAAAAAABQQAAAAAAAAChAAAAAAABAVEAAAAAAAEBQQAAAAAAAAERAAAAAAAAAQkAAAAAAAABAQAAAAAAAAD9AAAAAAACAS0AAAAAAAIBDQAAAAAAAADFAAAAAAAAAP0AAAAAAAAAUQAAAAAAAAD1AAAAAAAAAAEAAAAAAAABPQAAAAAAAgEZAAAAAAAAAMkAAAAAAAAA9QAAAAAAAAEpAAAAAAABAUUAAAAAAAMBRQAAAAAAAgEBAAAAAAACARUAAAAAAAIBDQAAAAAAAgE5AuB6F61G4zj8AAAAAAAAmQAAAAAAAwFJAAAAAAAAAUEAAAAAAAIBTQAAAAAAAACxAAAAAAACAUEAAAAAAAABIQAAAAAAAAEZAAAAAAAAAPkCuR+F6FK73PwAAAAAAAEtAAAAAAAAANkAAAAAAAIBHQAAAAAAAwFBAAAAAAACASkAAAAAAAIBGQAAAAAAAgENAAAAAAACATEAAAAAAAIBGQAAAAAAAADxAAAAAAAAAPkAAAAAAAAA/QAAAAAAAgFFAAAAAAAAAMUAAAAAAAABGQAAAAAAAABhAAAAAAAAALkAAAAAAAMBTQAAAAAAAAChAAAAAAAAAS0AAAAAAAIBPQAAAAAAAAABAAAAAAAAAPEAAAAAAAABDQAAAAAAAAFRAAAAAAACARUAAAAAAAABOQAAAAAAAgEZAAAAAAAAAPUAAAAAAAAAQQAAAAAAAAEhAAAAAAACATEAAAAAAAAA9QAAAAAAAAD5AAAAAAACAR0AAAAAAAEBSQAAAAAAAgFBAAAAAAACAUEAAAAAAAABKQAAAAAAAAEFAAAAAAADAU0AAAAAAAIBOQAAAAAAAADpAAAAAAACAQkAAAAAAAAAwQAAAAAAAgElAAAAAAAAALkCF61G4HoX7PwAAAAAAAE5AAAAAAADAUkAAAAAAAABEQAAAAAAAAEpAAAAAAAAAKkAAAAAAAABGQAAAAAAAgEJAAAAAAAAAAEAAAAAAAABIQAAAAAAAQFRAAAAAAAAAJkAAAAAAAAAiQAAAAAAAAEtAAAAAAAAAMEAAAAAAAAAmQAAAAAAAAEBAAAAAAAAAOkAAAAAAAAA1QAAAAAAAgEZAAAAAAAAAREAAAAAAAIBEQAAAAAAAADBAAAAAAAAAHEAAAAAAAAA7QAAAAAAAADZAAAAAAADAU0AAAAAAAABDQAAAAAAAAFBAAAAAAAAAEEAAAAAAAAA3QAAAAAAAgEFAAAAAAACAUEAAAAAAAABBQAAAAAAAADNAAAAAAABAUkAAAAAAAIBGQAAAAAAAQFRACtejcD0K5z8AAAAAAAAqQAAAAAAAgExAAAAAAAAANUAAAAAAAABDQAAAAAAAgERAAAAAAAAAOkAAAAAAAABIQAAAAAAAADJAAAAAAACAUEAAAAAAAAA7QAAAAAAAADJAAAAAAAAAJkAAAAAAAAAcQAAAAAAAAEtAAAAAAACARUAAAAAAAIBOQAAAAAAAAD9AAAAAAAAAREAAAAAAAMBRQAAAAAAAgExAAAAAAAAAKkAAAAAAAAA1QAAAAAAAABxAAAAAAACAU0AAAAAAAIBEQAAAAAAAACZAAAAAAACAS0AAAAAAAABFQAAAAAAAgElAAAAAAADAU0AAAAAAAAA8QAAAAAAAQFJAAAAAAACAU0AAAAAAAIBSQAAAAAAAgE1AAAAAAACAVEAAAAAAAAAzQAAAAAAAADJAAAAAAAAACEAAAAAAAIBIQAAAAAAAgElAAAAAAACASkAAAAAAAAAkQAAAAAAAAEtAAAAAAAAAREAAAAAAAAAIQAAAAAAAAChAAAAAAAAATEAAAAAAAIBFQAAAAAAAADxAAAAAAAAATEAAAAAAAAAsQAAAAAAAgE9AAAAAAAAAPUAAAAAAAIBHQAAAAAAAgE9AAAAAAAAAREAAAAAAAIBLQAAAAAAAgEVAAAAAAACATUAAAAAAAIBTQAAAAAAAADtAAAAAAACASEAAAAAAAAAsQAAAAAAAADFAAAAAAAAARUAAAAAAAABCQAAAAAAAADNAAAAAAACAS0AAAAAAAAAgQAAAAAAAAExAAAAAAAAAS0AAAAAAAAAuQAAAAAAAgEVAAAAAAAAAT0AAAAAAAABLQAAAAAAAABxAAAAAAAAACEAAAAAAAIBDQAAAAAAAAEdAAAAAAAAAKEAAAAAAAAAwQAAAAAAAAABAAAAAAACAVEAAAAAAAABAQAAAAAAAAE9AAAAAAACAQkAAAAAAAAA8QAAAAAAAADlAAAAAAAAARkAAAAAAAAAmQAAAAAAAAEtAAAAAAACARUAAAAAAAABMQAAAAAAAgEJAAAAAAAAATkAAAAAAAAAQQAAAAAAAgElAAAAAAACAVEAAAAAAAABOQAAAAAAAgEFAAAAAAACARkAAAAAAAAAkQAAAAAAAgElAAAAAAAAAIEAAAAAAAAAQQAAAAAAAgEBAAAAAAAAATEAAAAAAAIBIQAAAAAAAAD5AAAAAAAAAMEDNzMzMzMz8PwAAAAAAAEtAAAAAAACASEAAAAAAAAAxQAAAAAAAACZAAAAAAACASUAAAAAAAIBSQAAAAAAAAEVAAAAAAABAUUAAAAAAAAA2QAAAAAAAADlAAAAAAAAAMUAAAAAAAABQQAAAAAAAAElAAAAAAACAQkAAAAAAAAA/QAAAAAAAAEpAAAAAAAAATEAAAAAAAIBFQAAAAAAAACZAAAAAAAAAAEAAAAAAAAAwQAAAAAAAADdAAAAAAAAALkAAAAAAAABIQAAAAAAAgEBAAAAAAAAAR0AAAAAAAIBKQAAAAAAAgExAAAAAAACASUCamZmZmZnZPwAAAAAAAEdAAAAAAAAAN0AAAAAAAAAiQAAAAAAAgEpAAAAAAAAAEEAAAAAAAIBUQAAAAAAAgEBAAAAAAAAACEAAAAAAAAAsQAAAAAAAADBAAAAAAAAAREAAAAAAAAAyQAAAAAAAAD1AAAAAAACAQEAAAAAAAAAAQAAAAAAAAEJAAAAAAAAAPkAAAAAAAAA/QAAAAAAAADBAAAAAAAAATUAAAAAAAAAzQAAAAAAAgEdAAAAAAACATUAAAAAAAABEQAAAAAAAADpAAAAAAAAAMUAAAAAAAAA+QAAAAAAAADNAAAAAAACAU0AAAAAAAIBLQAAAAAAAgExAAAAAAACAQEAAAAAAAIBBQAAAAAAAAEBAAAAAAACAS0AAAAAAAAA8QAAAAAAAgEZAAAAAAACAQEAAAAAAAABCQAAAAAAAAD9AAAAAAAAAS0AAAAAAAIBKQAAAAAAAAEZAAAAAAABAU0AAAAAAAMBQQAAAAAAAAEVAAAAAAAAAUkAAAAAAAIBIQB+F61G4HvU/AAAAAACARkAAAAAAAIBPQAAAAAAAgEBAAAAAAAAAQEC4HoXrUbjePwAAAAAAgE9AAAAAAACAUUAAAAAAAIBMQAAAAAAAACBAAAAAAACAQkAAAAAAAIBNQAAAAAAAgFNAAAAAAAAAJEAAAAAAAAA1QAAAAAAAAABAAAAAAACAS0AAAAAAAAA0QAAAAAAAAENAAAAAAACAQEAAAAAAAAAsQAAAAAAAAEBAAAAAAAAAQEAAAAAAAIBRQAAAAAAAAEZAAAAAAACAQ0AAAAAAAEBUQAAAAAAAADNAAAAAAABAUUAAAAAAAABFQAAAAAAAACBAAAAAAAAAIEAAAAAAAAA8QAAAAAAAgFBAAAAAAACAUEAAAAAAAIBHQAAAAAAAgFNAAAAAAABAUEAAAAAAAIBTQAAAAAAAAFFAAAAAAABAUEAAAAAAAIBRQAAAAAAAgE1AAAAAAAAAP0AAAAAAAABAQAAAAAAAABRAAAAAAACATkAAAAAAAABIQI/C9Shcj/I/AAAAAAAASUAAAAAAAMBQQAAAAAAAgEVAAAAAAACATUAAAAAAAIBHQAAAAAAAAElAAAAAAAAARkAAAAAAAAA4QAAAAAAAAE9AAAAAAACATkAAAAAAAAAuQAAAAAAAADdAAAAAAACATEAAAAAAAIBLQAAAAAAAgFRAAAAAAAAAM0AAAAAAAIBEQAAAAAAAwFNAAAAAAAAAN0AAAAAAAEBTQAAAAAAAADhAAAAAAAAAR0AAAAAAAAA9QAAAAAAAgE1AAAAAAACAREAAAAAAAAAxQAAAAAAAACBAAAAAAAAAN0AAAAAAAIBGQAAAAAAAwFBAAAAAAACAU0AAAAAAAAAyQAAAAAAAgEFAAAAAAADAUkAAAAAAAABIQAAAAAAAAE9AAAAAAAAANEAAAAAAAEBRQAAAAAAAAE5AAAAAAAAAKEAAAAAAAAA8QAAAAAAAgEtAAAAAAACASUAAAAAAAAAwQAAAAAAAAExAAAAAAAAASkAAAAAAAIBNQAAAAAAAACJAAAAAAAAAQUAAAAAAAIBHQAAAAAAAAEdAAAAAAACASEAAAAAAAAAkQAAAAAAAAFNAAAAAAAAACEAAAAAAAABTQAAAAAAAADBAAAAAAAAARkAAAAAAAAAxQAAAAAAAQFJAAAAAAAAAP0AAAAAAAAAxQAAAAAAAADJAAAAAAABAUkAAAAAAAAAgQAAAAAAAAEVAAAAAAAAAREAAAAAAAMBTQAAAAAAAgEpAAAAAAAAASEAAAAAAAAAxQAAAAAAAACJAAAAAAABAVEAAAAAAAAAwQAAAAAAAADVAAAAAAAAAPUAAAAAAAAAgQAAAAAAAgENAAAAAAAAAUEAAAAAAAAAiQAAAAAAAADFAAAAAAAAAIEAAAAAAAABPQAAAAAAAQFJAAAAAAAAASEAAAAAAAAAxQAAAAAAAACRAAAAAAACAUkAAAAAAAABPQAAAAAAAABRAAAAAAACARUAAAAAAAIBDQAAAAAAAgEJAAAAAAAAALkAAAAAAAABCQAAAAAAAAEFAAAAAAACASkAAAAAAAIBOQAAAAAAAgEZAAAAAAAAAMUAAAAAAAAAxQAAAAAAAADNAAAAAAACASUAAAAAAAABGQAAAAAAAgFRAAAAAAACASEAAAAAAAABBQAAAAAAAgE9AAAAAAABAVEAAAAAAAAAsQAAAAAAAAD9AAAAAAACATEAAAAAAAABAQAAAAAAAgFBAAAAAAAAANkAfhetRuB71PwAAAAAAADRAAAAAAACAREAAAAAAAABIQAAAAAAAgEhAAAAAAAAAM0BI4XoUrkfxPwAAAAAAAD9AAAAAAAAAEEAAAAAAAABGQAAAAAAAABBAAAAAAACAS0AAAAAAAABBQAAAAAAAABxAAAAAAADAUkAAAAAAAAAsQAAAAAAAgE5AAAAAAACAS0AAAAAAAAAsQAAAAAAAAEJAAAAAAAAANEAAAAAAAABAQAAAAAAAgEVASOF6FK5H8T8AAAAAAIBKQAAAAAAAADJAAAAAAAAAKkAAAAAAAAAUQAAAAAAAgEJAAAAAAACASEAAAAAAAIBGQAAAAAAAAChAAAAAAAAAKEAAAAAAAAAUQAAAAAAAgENAAAAAAACAREAAAAAAAIBEQAAAAAAAgEdAAAAAAACATEAAAAAAAAAwQAAAAAAAAAhAAAAAAABAUEAAAAAAAABUQAAAAAAAAE1AAAAAAAAAT0AAAAAAAIBAQAAAAAAAADVAAAAAAAAAMUAAAAAAAIBIQAAAAAAAADhAAAAAAAAATEAAAAAAAAA6QAAAAAAAAEtAAAAAAAAARUAAAAAAAIBDQAAAAAAAQFNAAAAAAAAAKEAAAAAAAAAcQAAAAAAAADlAAAAAAAAAP0AAAAAAAAAsQAAAAAAAABRAAAAAAAAATkAAAAAAAIBLQAAAAAAAQFFAexSuR+F61D8AAAAAAABBQAAAAAAAAFRAAAAAAAAANEAAAAAAAIBGQAAAAAAAgERAAAAAAAAAS0AAAAAAAAA3QAAAAAAAwFJAAAAAAAAAQkAAAAAAAMBSQAAAAAAAgEdAAAAAAAAALkAAAAAAAABEQAAAAAAAAENAAAAAAAAAJEAAAAAAAAAmQArXo3A9Cuc/AAAAAAAAIkAAAAAAAIBKQAAAAAAAADxAAAAAAABAVEAAAAAAAAAwQAAAAAAAADhAAAAAAAAAT0AAAAAAAABPQAAAAAAAgE1AAAAAAAAAM0AAAAAAAABDQAAAAAAAADpAAAAAAAAAKkAAAAAAAAAQQAAAAAAAgEtAAAAAAAAARkAAAAAAAAA/QAAAAAAAADFAAAAAAAAAN0AAAAAAAABHQAAAAAAAQFRAAAAAAAAAQUAAAAAAAABJQAAAAAAAgEhAAAAAAAAAAEAAAAAAAIBHQAAAAAAAAEFAAAAAAAAANkAAAAAAAAAmQAAAAAAAAEtAAAAAAAAATkAAAAAAAAAIQAAAAAAAAEdAAAAAAAAAPkAAAAAAAIBPQAAAAAAAAElAAAAAAABAUEAAAAAAAIBTQAAAAAAAAEJAAAAAAAAARkAAAAAAAAAQQAAAAAAAAE5AAAAAAAAAM0AAAAAAAAAuQAAAAAAAADRAAAAAAACAQ0AAAAAAAMBTQAAAAAAAACZAAAAAAAAAEEAAAAAAAIBFQAAAAAAAAEZAAAAAAACAQkAAAAAAAABBQAAAAAAAAERAAAAAAAAAIEAAAAAAAAA4QAAAAAAAADJAAAAAAAAANEAAAAAAAABRQAAAAAAAADFAAAAAAAAAMUAAAAAAAAA1QAAAAAAAgE1AAAAAAADAU0AAAAAAAABSQAAAAAAAAEtAAAAAAAAARkAAAAAAAABIQAAAAAAAAD1AAAAAAAAARkAAAAAAAIBOQAAAAAAAAE1AAAAAAABAVEAAAAAAAAAUQAAAAAAAgEFAAAAAAAAAREAAAAAAAIBCQAAAAAAAgEFAAAAAAAAAOkAAAAAAAAAkQAAAAAAAADVAAAAAAAAANEDXo3A9CtfzPwAAAAAAADpAAAAAAAAATEAAAAAAAABHQAAAAAAAgEtAAAAAAAAAPkAAAAAAAABAQAAAAAAAAENAAAAAAACAQEAAAAAAAABGQAAAAAAAAEZAAAAAAACASUAAAAAAAIBEQAAAAAAAABRAAAAAAAAARUAAAAAAAAAYQAAAAAAAAEdAAAAAAACAR0AAAAAAAAA5QAAAAAAAAERAAAAAAAAANUAAAAAAAIBOQAAAAAAAgFNAAAAAAAAAP0AAAAAAAIBCQAAAAAAAADVAAAAAAAAAVEAAAAAAAAA1QAAAAAAAABRAAAAAAABAVEAAAAAAAIBBQAAAAAAAADhAAAAAAAAASkAAAAAAAIBRQAAAAAAAADFAAAAAAAAAIECF61G4HoX7PwAAAAAAAD1AAAAAAACAS0AAAAAAAABGQAAAAAAAADNAAAAAAADAUEAAAAAAAABSQAAAAAAAgE9AAAAAAAAAUEAK16NwPQrnPwAAAAAAADpAAAAAAACATUAAAAAAAABTQAAAAAAAACpASOF6FK5H8T8AAAAAAIBMQAAAAAAAAFFAAAAAAAAAIkAAAAAAAIBUQAAAAAAAgEZAAAAAAACATEAAAAAAAAAqQAAAAAAAQFRAAAAAAACAQUAAAAAAAABGQA==",
          "dtype": "f8"
         },
         "xaxis": "x",
         "y": {
          "bdata": "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",
          "dtype": "f8"
         },
         "yaxis": "y"
        }
       ],
       "layout": {
        "coloraxis": {
         "showscale": false
        },
        "font": {
         "color": "white"
        },
        "legend": {
         "title": {
          "text": "color"
         },
         "tracegroupgap": 0
        },
        "paper_bgcolor": "black",
        "plot_bgcolor": "black",
        "template": {
         "data": {
          "bar": [
           {
            "error_x": {
             "color": "#f2f5fa"
            },
            "error_y": {
             "color": "#f2f5fa"
            },
            "marker": {
             "line": {
              "color": "rgb(17,17,17)",
              "width": 0.5
             },
             "pattern": {
              "fillmode": "overlay",
              "size": 10,
              "solidity": 0.2
             }
            },
            "type": "bar"
           }
          ],
          "barpolar": [
           {
            "marker": {
             "line": {
              "color": "rgb(17,17,17)",
              "width": 0.5
             },
             "pattern": {
              "fillmode": "overlay",
              "size": 10,
              "solidity": 0.2
             }
            },
            "type": "barpolar"
           }
          ],
          "carpet": [
           {
            "aaxis": {
             "endlinecolor": "#A2B1C6",
             "gridcolor": "#506784",
             "linecolor": "#506784",
             "minorgridcolor": "#506784",
             "startlinecolor": "#A2B1C6"
            },
            "baxis": {
             "endlinecolor": "#A2B1C6",
             "gridcolor": "#506784",
             "linecolor": "#506784",
             "minorgridcolor": "#506784",
             "startlinecolor": "#A2B1C6"
            },
            "type": "carpet"
           }
          ],
          "choropleth": [
           {
            "colorbar": {
             "outlinewidth": 0,
             "ticks": ""
            },
            "type": "choropleth"
           }
          ],
          "contour": [
           {
            "colorbar": {
             "outlinewidth": 0,
             "ticks": ""
            },
            "colorscale": [
             [
              0,
              "#0d0887"
             ],
             [
              0.1111111111111111,
              "#46039f"
             ],
             [
              0.2222222222222222,
              "#7201a8"
             ],
             [
              0.3333333333333333,
              "#9c179e"
             ],
             [
              0.4444444444444444,
              "#bd3786"
             ],
             [
              0.5555555555555556,
              "#d8576b"
             ],
             [
              0.6666666666666666,
              "#ed7953"
             ],
             [
              0.7777777777777778,
              "#fb9f3a"
             ],
             [
              0.8888888888888888,
              "#fdca26"
             ],
             [
              1,
              "#f0f921"
             ]
            ],
            "type": "contour"
           }
          ],
          "contourcarpet": [
           {
            "colorbar": {
             "outlinewidth": 0,
             "ticks": ""
            },
            "type": "contourcarpet"
           }
          ],
          "heatmap": [
           {
            "colorbar": {
             "outlinewidth": 0,
             "ticks": ""
            },
            "colorscale": [
             [
              0,
              "#0d0887"
             ],
             [
              0.1111111111111111,
              "#46039f"
             ],
             [
              0.2222222222222222,
              "#7201a8"
             ],
             [
              0.3333333333333333,
              "#9c179e"
             ],
             [
              0.4444444444444444,
              "#bd3786"
             ],
             [
              0.5555555555555556,
              "#d8576b"
             ],
             [
              0.6666666666666666,
              "#ed7953"
             ],
             [
              0.7777777777777778,
              "#fb9f3a"
             ],
             [
              0.8888888888888888,
              "#fdca26"
             ],
             [
              1,
              "#f0f921"
             ]
            ],
            "type": "heatmap"
           }
          ],
          "histogram": [
           {
            "marker": {
             "pattern": {
              "fillmode": "overlay",
              "size": 10,
              "solidity": 0.2
             }
            },
            "type": "histogram"
           }
          ],
          "histogram2d": [
           {
            "colorbar": {
             "outlinewidth": 0,
             "ticks": ""
            },
            "colorscale": [
             [
              0,
              "#0d0887"
             ],
             [
              0.1111111111111111,
              "#46039f"
             ],
             [
              0.2222222222222222,
              "#7201a8"
             ],
             [
              0.3333333333333333,
              "#9c179e"
             ],
             [
              0.4444444444444444,
              "#bd3786"
             ],
             [
              0.5555555555555556,
              "#d8576b"
             ],
             [
              0.6666666666666666,
              "#ed7953"
             ],
             [
              0.7777777777777778,
              "#fb9f3a"
             ],
             [
              0.8888888888888888,
              "#fdca26"
             ],
             [
              1,
              "#f0f921"
             ]
            ],
            "type": "histogram2d"
           }
          ],
          "histogram2dcontour": [
           {
            "colorbar": {
             "outlinewidth": 0,
             "ticks": ""
            },
            "colorscale": [
             [
              0,
              "#0d0887"
             ],
             [
              0.1111111111111111,
              "#46039f"
             ],
             [
              0.2222222222222222,
              "#7201a8"
             ],
             [
              0.3333333333333333,
              "#9c179e"
             ],
             [
              0.4444444444444444,
              "#bd3786"
             ],
             [
              0.5555555555555556,
              "#d8576b"
             ],
             [
              0.6666666666666666,
              "#ed7953"
             ],
             [
              0.7777777777777778,
              "#fb9f3a"
             ],
             [
              0.8888888888888888,
              "#fdca26"
             ],
             [
              1,
              "#f0f921"
             ]
            ],
            "type": "histogram2dcontour"
           }
          ],
          "mesh3d": [
           {
            "colorbar": {
             "outlinewidth": 0,
             "ticks": ""
            },
            "type": "mesh3d"
           }
          ],
          "parcoords": [
           {
            "line": {
             "colorbar": {
              "outlinewidth": 0,
              "ticks": ""
             }
            },
            "type": "parcoords"
           }
          ],
          "pie": [
           {
            "automargin": true,
            "type": "pie"
           }
          ],
          "scatter": [
           {
            "marker": {
             "line": {
              "color": "#283442"
             }
            },
            "type": "scatter"
           }
          ],
          "scatter3d": [
           {
            "line": {
             "colorbar": {
              "outlinewidth": 0,
              "ticks": ""
             }
            },
            "marker": {
             "colorbar": {
              "outlinewidth": 0,
              "ticks": ""
             }
            },
            "type": "scatter3d"
           }
          ],
          "scattercarpet": [
           {
            "marker": {
             "colorbar": {
              "outlinewidth": 0,
              "ticks": ""
             }
            },
            "type": "scattercarpet"
           }
          ],
          "scattergeo": [
           {
            "marker": {
             "colorbar": {
              "outlinewidth": 0,
              "ticks": ""
             }
            },
            "type": "scattergeo"
           }
          ],
          "scattergl": [
           {
            "marker": {
             "line": {
              "color": "#283442"
             }
            },
            "type": "scattergl"
           }
          ],
          "scattermap": [
           {
            "marker": {
             "colorbar": {
              "outlinewidth": 0,
              "ticks": ""
             }
            },
            "type": "scattermap"
           }
          ],
          "scattermapbox": [
           {
            "marker": {
             "colorbar": {
              "outlinewidth": 0,
              "ticks": ""
             }
            },
            "type": "scattermapbox"
           }
          ],
          "scatterpolar": [
           {
            "marker": {
             "colorbar": {
              "outlinewidth": 0,
              "ticks": ""
             }
            },
            "type": "scatterpolar"
           }
          ],
          "scatterpolargl": [
           {
            "marker": {
             "colorbar": {
              "outlinewidth": 0,
              "ticks": ""
             }
            },
            "type": "scatterpolargl"
           }
          ],
          "scatterternary": [
           {
            "marker": {
             "colorbar": {
              "outlinewidth": 0,
              "ticks": ""
             }
            },
            "type": "scatterternary"
           }
          ],
          "surface": [
           {
            "colorbar": {
             "outlinewidth": 0,
             "ticks": ""
            },
            "colorscale": [
             [
              0,
              "#0d0887"
             ],
             [
              0.1111111111111111,
              "#46039f"
             ],
             [
              0.2222222222222222,
              "#7201a8"
             ],
             [
              0.3333333333333333,
              "#9c179e"
             ],
             [
              0.4444444444444444,
              "#bd3786"
             ],
             [
              0.5555555555555556,
              "#d8576b"
             ],
             [
              0.6666666666666666,
              "#ed7953"
             ],
             [
              0.7777777777777778,
              "#fb9f3a"
             ],
             [
              0.8888888888888888,
              "#fdca26"
             ],
             [
              1,
              "#f0f921"
             ]
            ],
            "type": "surface"
           }
          ],
          "table": [
           {
            "cells": {
             "fill": {
              "color": "#506784"
             },
             "line": {
              "color": "rgb(17,17,17)"
             }
            },
            "header": {
             "fill": {
              "color": "#2a3f5f"
             },
             "line": {
              "color": "rgb(17,17,17)"
             }
            },
            "type": "table"
           }
          ]
         },
         "layout": {
          "annotationdefaults": {
           "arrowcolor": "#f2f5fa",
           "arrowhead": 0,
           "arrowwidth": 1
          },
          "autotypenumbers": "strict",
          "coloraxis": {
           "colorbar": {
            "outlinewidth": 0,
            "ticks": ""
           }
          },
          "colorscale": {
           "diverging": [
            [
             0,
             "#8e0152"
            ],
            [
             0.1,
             "#c51b7d"
            ],
            [
             0.2,
             "#de77ae"
            ],
            [
             0.3,
             "#f1b6da"
            ],
            [
             0.4,
             "#fde0ef"
            ],
            [
             0.5,
             "#f7f7f7"
            ],
            [
             0.6,
             "#e6f5d0"
            ],
            [
             0.7,
             "#b8e186"
            ],
            [
             0.8,
             "#7fbc41"
            ],
            [
             0.9,
             "#4d9221"
            ],
            [
             1,
             "#276419"
            ]
           ],
           "sequential": [
            [
             0,
             "#0d0887"
            ],
            [
             0.1111111111111111,
             "#46039f"
            ],
            [
             0.2222222222222222,
             "#7201a8"
            ],
            [
             0.3333333333333333,
             "#9c179e"
            ],
            [
             0.4444444444444444,
             "#bd3786"
            ],
            [
             0.5555555555555556,
             "#d8576b"
            ],
            [
             0.6666666666666666,
             "#ed7953"
            ],
            [
             0.7777777777777778,
             "#fb9f3a"
            ],
            [
             0.8888888888888888,
             "#fdca26"
            ],
            [
             1,
             "#f0f921"
            ]
           ],
           "sequentialminus": [
            [
             0,
             "#0d0887"
            ],
            [
             0.1111111111111111,
             "#46039f"
            ],
            [
             0.2222222222222222,
             "#7201a8"
            ],
            [
             0.3333333333333333,
             "#9c179e"
            ],
            [
             0.4444444444444444,
             "#bd3786"
            ],
            [
             0.5555555555555556,
             "#d8576b"
            ],
            [
             0.6666666666666666,
             "#ed7953"
            ],
            [
             0.7777777777777778,
             "#fb9f3a"
            ],
            [
             0.8888888888888888,
             "#fdca26"
            ],
            [
             1,
             "#f0f921"
            ]
           ]
          },
          "colorway": [
           "#636efa",
           "#EF553B",
           "#00cc96",
           "#ab63fa",
           "#FFA15A",
           "#19d3f3",
           "#FF6692",
           "#B6E880",
           "#FF97FF",
           "#FECB52"
          ],
          "font": {
           "color": "#f2f5fa"
          },
          "geo": {
           "bgcolor": "rgb(17,17,17)",
           "lakecolor": "rgb(17,17,17)",
           "landcolor": "rgb(17,17,17)",
           "showlakes": true,
           "showland": true,
           "subunitcolor": "#506784"
          },
          "hoverlabel": {
           "align": "left"
          },
          "hovermode": "closest",
          "mapbox": {
           "style": "dark"
          },
          "paper_bgcolor": "rgb(17,17,17)",
          "plot_bgcolor": "rgb(17,17,17)",
          "polar": {
           "angularaxis": {
            "gridcolor": "#506784",
            "linecolor": "#506784",
            "ticks": ""
           },
           "bgcolor": "rgb(17,17,17)",
           "radialaxis": {
            "gridcolor": "#506784",
            "linecolor": "#506784",
            "ticks": ""
           }
          },
          "scene": {
           "xaxis": {
            "backgroundcolor": "rgb(17,17,17)",
            "gridcolor": "#506784",
            "gridwidth": 2,
            "linecolor": "#506784",
            "showbackground": true,
            "ticks": "",
            "zerolinecolor": "#C8D4E3"
           },
           "yaxis": {
            "backgroundcolor": "rgb(17,17,17)",
            "gridcolor": "#506784",
            "gridwidth": 2,
            "linecolor": "#506784",
            "showbackground": true,
            "ticks": "",
            "zerolinecolor": "#C8D4E3"
           },
           "zaxis": {
            "backgroundcolor": "rgb(17,17,17)",
            "gridcolor": "#506784",
            "gridwidth": 2,
            "linecolor": "#506784",
            "showbackground": true,
            "ticks": "",
            "zerolinecolor": "#C8D4E3"
           }
          },
          "shapedefaults": {
           "line": {
            "color": "#f2f5fa"
           }
          },
          "sliderdefaults": {
           "bgcolor": "#C8D4E3",
           "bordercolor": "rgb(17,17,17)",
           "borderwidth": 1,
           "tickwidth": 0
          },
          "ternary": {
           "aaxis": {
            "gridcolor": "#506784",
            "linecolor": "#506784",
            "ticks": ""
           },
           "baxis": {
            "gridcolor": "#506784",
            "linecolor": "#506784",
            "ticks": ""
           },
           "bgcolor": "rgb(17,17,17)",
           "caxis": {
            "gridcolor": "#506784",
            "linecolor": "#506784",
            "ticks": ""
           }
          },
          "title": {
           "x": 0.05
          },
          "updatemenudefaults": {
           "bgcolor": "#506784",
           "borderwidth": 0
          },
          "xaxis": {
           "automargin": true,
           "gridcolor": "#283442",
           "linecolor": "#506784",
           "ticks": "",
           "title": {
            "standoff": 15
           },
           "zerolinecolor": "#283442",
           "zerolinewidth": 2
          },
          "yaxis": {
           "automargin": true,
           "gridcolor": "#283442",
           "linecolor": "#506784",
           "ticks": "",
           "title": {
            "standoff": 15
           },
           "zerolinecolor": "#283442",
           "zerolinewidth": 2
          }
         }
        },
        "title": {
         "text": "age vs avg_glucose_level (Colored by Stroke Variations)"
        },
        "xaxis": {
         "anchor": "y",
         "domain": [
          0,
          1
         ],
         "title": {
          "text": "age"
         }
        },
        "yaxis": {
         "anchor": "x",
         "domain": [
          0,
          1
         ],
         "title": {
          "text": "avg_glucose_level"
         }
        }
       }
      }
     },
     "metadata": {},
     "output_type": "display_data"
    },
    {
     "data": {
      "application/vnd.plotly.v1+json": {
       "config": {
        "plotlyServerURL": "https://plot.ly"
       },
       "data": [
        {
         "hovertemplate": "color=#d62728<br>bmi=%{x}<br>avg_glucose_level=%{y}<extra></extra>",
         "legendgroup": "#d62728",
         "marker": {
          "color": "#636efa",
          "opacity": 0.8,
          "size": 7,
          "symbol": "circle"
         },
         "mode": "markers",
         "name": "#d62728",
         "showlegend": true,
         "type": "scattergl",
         "x": {
          "bdata": "AAAAAABAQEBmZmZmZmY7QM3MzMzMzDZAMzMzMzMzOEAzMzMzM7M9QGZmZmZmZkJAzczMzMxMO0BmZmZmZuZCQDMzMzMzMztAAAAAAACAN0AzMzMzMzM8QGZmZmZmZjlAMzMzMzOzPUAAAAAAAIA6QJqZmZmZGTdAAAAAAAAAQEBmZmZmZuY9QGZmZmZm5jdAAAAAAACAPEBmZmZmZmY6QM3MzMzMTENAmpmZmZnZQECamZmZmZlDQDMzMzMzsztAZmZmZmZmP0CamZmZmZlAQDMzMzMzMzZAzczMzMxMOUAzMzMzMzM+QAAAAAAAADhAzczMzMxMNEAAAAAAAAA+QGZmZmZm5jxAmpmZmZkZP0BmZmZmZmY6QDMzMzMzszVAmpmZmZkZOEDNzMzMzAxGQGZmZmZm5jZAMzMzMzOzPUCamZmZmRk9QM3MzMzMTDtAZmZmZmYmQEDNzMzMzIxEQJqZmZmZmTlAzczMzMxMOkAAAAAAAMBCQDMzMzMzMzpAZmZmZmZmPUBmZmZmZmY4QDMzMzMzsztAAAAAAAAAPEDNzMzMzMw8QGZmZmZmZjNAAAAAAACAPEDNzMzMzEw+QDMzMzMzMzhAAAAAAADARECamZmZmZk2QDMzMzMzMzhAmpmZmZkZO0DNzMzMzEw7QM3MzMzMTD9AAAAAAAAAOEAAAAAAAAA/QAAAAAAAADxAzczMzMxMPkBmZmZmZmY8QAAAAAAAADhAmpmZmZkZNEBmZmZmZuY9QAAAAAAAADlAzczMzMzMN0DNzMzMzMw1QGZmZmZmZkJAmpmZmZmZOEAzMzMzM3NAQM3MzMzMDEFAAAAAAACAO0CamZmZmZk5QGZmZmZmZj9AAAAAAAAAOUCamZmZmRlBQJqZmZmZmTdAzczMzMxMNkBmZmZmZmY/QGZmZmZmZjpAMzMzMzNzQEAAAAAAAIBGQAAAAAAAgDlAzczMzMzMPkAAAAAAAABAQGZmZmZm5j1AMzMzMzOzQkAzMzMzM7M/QAAAAAAAQEFAAAAAAACAPUAAAAAAAEBFQAAAAAAAwEFAZmZmZmbmOkAAAAAAAIA8QJqZmZmZmTpAAAAAAAAAQEDNzMzMzMw+QJqZmZmZGT9AAAAAAACAQEBmZmZmZmY3QGZmZmZm5jpAzczMzMzMQEBmZmZmZuY3QM3MzMzMTDpAzczMzMxMO0AAAAAAAIA0QAAAAAAAgDVAmpmZmZkZO0BmZmZmZmY8QM3MzMzMzDlAZmZmZmbmP0CamZmZmZk9QDMzMzMzs0FAZmZmZmbmMEAAAAAAAIA1QDMzMzMzM0FAMzMzMzOzP0BmZmZmZmY8QDMzMzMz80FAMzMzMzMzNUCamZmZmVlCQGZmZmZm5j5AzczMzMxMPUCamZmZmZkzQA==",
          "dtype": "f8"
         },
         "xaxis": "x",
         "y": {
          "bdata": "exSuR+F6WkD2KFyPwoVRQClcj8L1mFdAKVyPwvVITUDsUbgehRtUQD0K16NwHV5AcT0K16MgWkCuR+F6FE5WQEjhehSut1lASOF6FK4HWkAfhetRuD5ZQArXo3A92lRAzczMzMwMVUBSuB6F6wFVQLgehetRqFJASOF6FK4nV0AUrkfhenROQFK4HoXrgVNArkfhehTOUUDNzMzMzBxiQHE9Ctej0FpAhetRuB7VWEDsUbgehQtNQMP1KFyP0l9AuB6F61EIX0ApXI/C9ahNQJqZmZmZuVJAuB6F61H4TkCuR+F6FG5XQHE9CtejQFxArkfhehQeWkAfhetRuI5VQHsUrkfhKlJAMzMzMzMjXUD2KFyPwiVYQK5H4XoUrlBAZmZmZma2W0AK16NwPQpYQHsUrkfhOlZAw/UoXI/yU0CuR+F6FD5YQKRwPQrX81tAzczMzMysTUBcj8L1KLxVQDMzMzMzo1hApHA9CtczUkDhehSuRwFRQKRwPQrXI1FAKVyPwvUIUED2KFyPwhVTQHsUrkfhulNApHA9CtezVEBmZmZmZoZSQM3MzMzMrFNA4XoUrkehW0DsUbgehUtSQDMzMzMzQ1dAexSuR+EKUECPwvUoXD9gQFK4HoXrIVFAZmZmZmaGVEDXo3A9CgdTQD0K16NwPVJAUrgeheuRVECuR+F6FE5aQK5H4XoU7k1AZmZmZmZGT0CF61G4Hm1gQMP1KFyPYlJA4XoUrkdRYEAzMzMzM4NhQOxRuB6F61lAXI/C9SgcXUBSuB6F65FRQHsUrkfhClJAw/UoXI/SUEAK16NwPdpQQBSuR+F6JFNAFK5H4Xp0U0AfhetRuD5XQArXo3A9illA4XoUrkeBUkC4HoXrUUhWQK5H4XoUpmBA4XoUrkeBWEDD9Shcj+JWQOxRuB6FW1hA4XoUrkfBVkBcj8L1KBxQQK5H4XoUDkxA7FG4HoWLU0DD9Shcj8JbQLgehetRCFNAj8L1KFwPXECamZmZmSlhQFyPwvUoLF1ASOF6FK6nVUAK16NwPQpcQFK4HoXrgV1AexSuR+F6WECkcD0K13NXQD0K16NwvVJAAAAAAACAVkCuR+F6FF5bQGZmZmZm9lVAj8L1KFyvWkC4HoXrUQhUQFyPwvUojFZAmpmZmZnZYECF61G4HqVaQI/C9Shcz1RA7FG4HoXbWUDXo3A9CodSQPYoXI/C9VdAZmZmZmYGXUAfhetRuC5SQDMzMzMzk1FA16NwPQo3WkBxPQrXo3BYQFK4HoXrgVBAzczMzMx8VEAfhetRuG5YQFyPwvUovFFAMzMzMzOTVUDNzMzMzAxWQHsUrkfh+lZAPQrXo3AdU0A9CtejcD1VQNejcD0K90xAMzMzMzOzU0CkcD0K17NTQA==",
          "dtype": "f8"
         },
         "yaxis": "y"
        },
        {
         "hovertemplate": "color=#ffffff<br>bmi=%{x}<br>avg_glucose_level=%{y}<extra></extra>",
         "legendgroup": "#ffffff",
         "marker": {
          "color": "#EF553B",
          "opacity": 0.8,
          "size": 7,
          "symbol": "circle"
         },
         "mode": "markers",
         "name": "#ffffff",
         "showlegend": true,
         "type": "scattergl",
         "x": {
          "bdata": "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",
          "dtype": "f8"
         },
         "xaxis": "x",
         "y": {
          "bdata": "SOF6FK7HV0A9CtejcP1VQClcj8L1uFtAw/UoXI9CUUD2KFyPwmVTQHsUrkfhalNAhetRuB5FU0AK16NwPYpMQAAAAAAAYFJAw/UoXI/CV0BI4XoUrldVQEjhehSuJ1VAexSuR+GqVEAK16NwPapMQPYoXI/C9VBAzczMzMzsUkBcj8L1KBxOQBSuR+F6dFtA7FG4HoVrTkDXo3A9CqdXQI/C9ShcX1hAmpmZmZm5VEBxPQrXo9BZQKRwPQrX40tAj8L1KFxvUkD2KFyPwpVUQM3MzMzMTE9A9ihcj8KFV0D2KFyPwrVLQOxRuB6Fi1RAexSuR+F6XUD2KFyPwrVcQHsUrkfhylNAuB6F61GoW0CkcD0K1/NTQLgehetRaFxASOF6FK6nYUB7FK5H4XpMQDMzMzMzk1dAcT0K16NgVEBI4XoUrjdhQPYoXI/CdVRAKVyPwvWoWUC4HoXrUUBiQHsUrkfh2lJAmpmZmZm5TkBcj8L1KAxWQK5H4XoUzlxA7FG4HoV7WEBmZmZmZmZVQIXrUbge9VNAmpmZmZkZT0CamZmZmUlRQD0K16Nw7V9AKVyPwvX4UUCkcD0K1+NZQFK4HoXrwVNAXI/C9Sh8UUBI4XoUrodWQGZmZmZmxldAMzMzMzODU0Bcj8L1KFxWQLgehetR2FtA9ihcj8J1VkBcj8L1KKxWQLgehetRGFVA16NwPQrnVkCF61G4HkVhQB+F61G4zlJAmpmZmZl5TUB7FK5H4fpYQB+F61G4Dl1AFK5H4Xq0XUAzMzMzM5NQQArXo3A9WllAmpmZmZkZYUAUrkfheiRYQHsUrkfhmlBA9ihcj8KFWEBSuB6F67FVQBSuR+F6tF9AuB6F61HYT0DXo3A9CndWQI/C9Shcv1tAFK5H4Xr0VEAfhetRuD5hQClcj8L1uF1AMzMzMzMjUkAAAAAAAFBXQArXo3A9ulJAMzMzMzMDVEAzMzMzM/NYQK5H4XoU/lZAmpmZmZkZUEDhehSuR0FSQNejcD0KB1ZA4XoUrkdJYUDXo3A9ChdSQHE9CtejMFFArkfhehSOWkDhehSuR2FZQHE9CtejYFtA9ihcj8J1VUCamZmZmYlbQK5H4XoU7lZAZmZmZmbGXkCamZmZmVlYQPYoXI/CFVFApHA9CtczVECkcD0K1xNeQHE9Ctej4FRA9ihcj8KFUkBmZmZmZuZWQOF6FK5H4VVAKVyPwvXYUkAK16NwPZpeQPYoXI/CJVVACtejcD2KUUDhehSuR+FaQLgehetROFRAH4XrUbheV0A9CtejcI1RQHsUrkfhqlVASOF6FK5XWUCuR+F6FE5aQKRwPQrXk1FApHA9CtcDUEBmZmZmZmZUQI/C9Shcb2JA16NwPQq3VUDNzMzMzExSQAAAAAAAgFRAMzMzMzNjWEDD9Shcj5JXQK5H4XoUzlJAFK5H4XqEVkAfhetRuG5SQIXrUbge5VNAuB6F61F4U0BxPQrXo1BNQM3MzMzMfGFAmpmZmZnpVkAfhetRuJ5XQPYoXI/ClVRAH4XrUbgeV0AK16NwPSpdQPYoXI/CBVxAexSuR+FKYED2KFyPwqVUQEjhehSu915AzczMzMysWEBSuB6F67FLQBSuR+F6hFBAPQrXo3ANWkDNzMzMzCRiQFyPwvUoDFFAUrgehethWECkcD0K15NeQHE9Ctej4FRAPQrXo3CdVUCkcD0K1wNcQClcj8L1CFdAXI/C9SicUkDsUbgehftXQHE9Ctej4FVAZmZmZmYWUkCuR+F6FF5cQOxRuB6F21xA9ihcj8LlV0DhehSuR2FZQD0K16NwDVdA9ihcj8IFWUC4HoXrUXhXQDMzMzMzw1JAhetRuB6FUUDNzMzMzIxSQHE9CtejQFFAexSuR+EKWECPwvUoXM9VQIXrUbgepVRAuB6F61E4WEAUrkfhelRSQPYoXI/CpVdAw/UoXI+CYECPwvUoXL9YQB+F61G4HlpAcT0K16OAWEApXI/C9chTQBSuR+F6VFZAj8L1KFxPUEAfhetRuD5UQFyPwvUozFtAUrgehetRV0Bcj8L1KIxeQClcj8L1MGBAUrgeheuhXEAfhetRuG5XQI/C9ShcX1NAuB6F61FYUEDsUbgehYtXQM3MzMzMrF1Aw/UoXI8SWEApXI/C9ahSQI/C9ShcP1hA16NwPQonWUCF61G4HkVYQMP1KFyPMlVAAAAAAACwU0DsUbgehbtUQFK4HoXrMVZAZmZmZmaGXkCkcD0K17NSQFyPwvUovFxAuB6F61EYWkAK16NwPbpZQMP1KFyPMltApHA9CtdTUkDhehSuRyFRQClcj8L1qFlAexSuR+G6UUDXo3A9CodVQIXrUbgeJWBAZmZmZmZ2XEBmZmZmZtZTQMP1KFyPMlRAcT0K16OAXECPwvUoXG9XQJqZmZmZqVZACtejcD2aWEDsUbgehctfQFK4HoXrQWFAXI/C9ShcVkDXo3A9CmdaQFyPwvUoDFRA7FG4HoUrTkAzMzMzM9NTQFyPwvUonFhA9ihcj8KVUUCuR+F6FI5eQMP1KFyP0lJAZmZmZmYWWUA9CtejcL1fQM3MzMzMDFNA7FG4HoXbUUDXo3A9CldXQIXrUbgepU5ASOF6FK7nWUDhehSuRyFZQKRwPQrXw1BAMzMzMzMDYkDhehSuRyFNQD0K16NwbVJAUrgeheshVkDD9Shcj7JcQDMzMzMzc1xACtejcD36UUAzMzMzM1NQQAAAAAAAkFxAcT0K16NQVEC4HoXrUfhVQHsUrkfhClxArkfhehT+WEAK16NwPUpbQD0K16NwnVJAcT0K16OgXUCuR+F6FN5aQPYoXI/ClU1AcT0K16N4YUCPwvUoXKdhQI/C9Shcf1ZAUrgeheshW0CuR+F6FM5PQMP1KFyPYlVAhetRuB41WUApXI/C9ehNQM3MzMzMfFpAmpmZmZnJUUCkcD0K10NOQFK4HoXrwVxASOF6FK73U0ApXI/C9XhYQHE9CtejUF9AFK5H4XqUXEAfhetRuA5XQHE9Ctej4FRA9ihcj8KVWUCPwvUoXA9iQClcj8L1GFZAw/UoXI9yV0AUrkfhemRiQOxRuB6Fm1pAw/UoXI8CVkDNzMzMzAxXQKRwPQrX41JA7FG4HoXbW0D2KFyPwhVRQI/C9ShcL01AzczMzMzMUUAAAAAAAGBZQMP1KFyPAldAAAAAAABAUkCamZmZmclbQDMzMzMzU01Aw/UoXI8iWUAfhetRuO5bQFK4HoXrcVhAw/UoXI9yVUDD9Shcj6JYQEjhehSup1dAexSuR+HqWEApXI/C9dhQQEjhehSux1dApHA9CtdDVUD2KFyPwsVTQPYoXI/ChVhA16NwPQoXU0B7FK5H4ZpYQHE9CtejgFRArkfhehQOTEBmZmZmZvZbQClcj8L1GFdAw/UoXI8iXEB7FK5H4dpPQGZmZmZmllFAmpmZmZmpV0ApXI/C9ShQQMP1KFyPokxAAAAAAADQWkBI4XoUrkdTQClcj8L1qEtASOF6FK5XUUApXI/C9chMQB+F61G4rlhA7FG4HoVLVEA9CtejcB1MQNejcD0KZ1FAH4XrUbi+TUBxPQrXoxBZQAAAAAAAYExAPQrXo3BdU0BxPQrXoxBTQClcj8L1mFVAuB6F61EYXUCPwvUoXO9SQClcj8L1CFdAH4XrUbi+UkAAAAAAAKBLQClcj8L1+FNA7FG4HoVTYEBxPQrXo5BXQPYoXI/ClVdAUrgehetBW0BSuB6F60FUQBSuR+F69FhAw/UoXI+CYUCF61G4HsVNQIXrUbgeFVRAuB6F61FwYEA9CtejcE1WQM3MzMzM3FZAhetRuB6lVkDNzMzMzNxWQLgehetRaFZApHA9CtcDX0CuR+F6FN5YQK5H4XoUPlZA7FG4HoU7VEAUrkfheoRZQFyPwvUo7FZAexSuR+HaT0AzMzMzM9NSQAAAAAAAQE5AMzMzMzN7YEAUrkfhesxgQNejcD0KF0xAKVyPwvVoXEDhehSuR6FNQOF6FK5HoU9Aj8L1KFyPVUCamZmZmblWQPYoXI/CJVVAMzMzMzNzXkCamZmZmWlTQArXo3A9GlBAXI/C9SjMUkCuR+F6FP5QQPYoXI/C1V1AexSuR+G6V0DhehSuR0FVQHE9Ctej4FlAAAAAAACgXEBSuB6F67FRQHE9CtejwFdA16NwPQoHVUDhehSuR4FSQI/C9Shcn1NArkfhehSOUkDsUbgehatLQMP1KFyPwlJAH4XrUbhuW0BSuB6F6zFYQOF6FK5HgVFAFK5H4Xo0T0AK16NwPepLQEjhehSuR1BASOF6FK5nUkCF61G4HnVVQNejcD0K91lAPQrXo3B9TkBcj8L1KKxUQNejcD0KH2BApHA9CtcTVUAzMzMzM7NSQKRwPQrXQ1hAw/UoXI9iU0CF61G4HsVTQOxRuB6Fi1pAPQrXo3CNXECF61G4HsVWQOF6FK5HcVpAuB6F61G4UkCamZmZmcleQFyPwvUobF1A4XoUrkehS0BxPQrXo6BaQMP1KFyPoktAexSuR+GaWEDNzMzMzMxYQHsUrkfhulhAzczMzMwsV0DNzMzMzKxaQPYoXI/CpVRAAAAAAADAVkC4HoXrUXhXQI/C9ShcP1NAj8L1KFx/V0DsUbgehWtbQMP1KFyPAldACtejcD3aW0B7FK5H4XpYQNejcD0KZ1BAj8L1KFwvT0BSuB6F61FZQKRwPQrXE1ZAMzMzMzPjWUDhehSuRyFOQClcj8L12FNAcT0K16OAXkD2KFyPwoVTQM3MzMzMbFZAZmZmZmbGV0ApXI/C9ShcQDMzMzMz81NAzczMzMyMVEAUrkfhepRcQClcj8L1CF1Aj8L1KFyvXkDD9Shcj4JXQGZmZmZmplVAFK5H4XqUVECF61G4HvVUQB+F61G4vlpAuB6F61F4V0BSuB6F66FRQLgehetReFBArkfhehS+WkBmZmZmZpZfQIXrUbgeJWBACtejcD0qVkDNzMzMzDxcQPYoXI/CZVRAFK5H4Xo0U0AAAAAAAHBSQKRwPQrX41ZAMzMzMzMjWkD2KFyPwjVVQKRwPQrXg1VAZmZmZmZGW0BmZmZmZhZRQMP1KFyPQl5AH4XrUbiOUkBxPQrXo7BbQFyPwvUo3FNA4XoUrkfhXUB7FK5H4ZpWQBSuR+F6VFtACtejcD2KU0C4HoXrUchTQKRwPQrXA1VAMzMzMzNTVkA9CtejcE1RQFyPwvUoPE1AZmZmZmbmWEDsUbgehYtfQB+F61G4Pk9AcT0K16OgUkC4HoXrUahXQB+F61G4/lZAw/UoXI9iTEBI4XoUrvdSQFyPwvUoTFNAAAAAAAD4YECF61G4HsVXQLgehetRWF9APQrXo3DtW0ApXI/C9ahXQD0K16NwPVxA16NwPQpXWkC4HoXrUQhVQK5H4XoUnllAw/UoXI9CU0BxPQrXo8BVQB+F61G4fkxAcT0K16NAUkBmZmZmZpZaQLgehetRKFRA16NwPQrnWUCPwvUoXP9bQOF6FK5HwUxAj8L1KFwfUUCamZmZmRlOQD0K16NwvVVApHA9CtfDWEBI4XoUridMQKRwPQrXE1VAexSuR+G6VkCF61G4HhVaQK5H4XoUTk9AMzMzMzOTV0AfhetRuB5aQEjhehSuJ1JAKVyPwvVoVEBSuB6F67FWQD0K16NwrVFA16NwPQoXUkDhehSuR+FNQFK4HoXr0U9AcT0K16MQU0CkcD0K14NUQArXo3A9ultACtejcD1KU0CF61G4HmVRQHE9CtejEFhA4XoUrkfRVUDXo3A9CldQQHE9CtejYFtAUrgehetBVkD2KFyPwtVWQClcj8L16ExAmpmZmZlJVEDD9Shcj9JcQOF6FK5HwVtA16NwPQrnW0DhehSuR0FbQHE9CtejoFpA16NwPQrHVUDXo3A9CtdOQMP1KFyPwl1AMzMzMzODVUDXo3A9CodTQK5H4XoUPllAPQrXo3DNWEA9CtejcE1cQM3MzMzMPFdACtejcD3SYUBI4XoUrjdXQB+F61G43ltAAAAAAADAXkDD9ShcjyJZQOxRuB6Fq1pAmpmZmZmZVUBI4XoUrudOQClcj8L1CGBAH4XrUbh+VkCF61G4HqVYQLgehetR+ExAPQrXo3DNXkD2KFyPwhVTQB+F61G4PldApHA9CtczV0AK16NwPUpVQGZmZmZmhlZAmpmZmZlJUEBI4XoUridaQAAAAAAAUFxApHA9CtejTUAUrkfhekRXQHsUrkfhWlNAXI/C9ShsUkCamZmZmblSQFK4HoXrMU1AMzMzMzODWUCuR+F6FB5cQPYoXI/CNVJAH4XrUbj+VUCkcD0K13NQQGZmZmZmJl9AmpmZmZnpVECkcD0K1zNWQAAAAAAAsFVA16NwPQrXXkDsUbgehWtWQEjhehSud1FArkfhehROW0AfhetRuK5bQClcj8L1yFhAMzMzMzOTTUBcj8L1KFxTQIXrUbgeFVlA16NwPQr3TEA9CtejcP1WQOxRuB6FO1JA4XoUrkcRVUDNzMzMzBxfQHE9CtejoFZASOF6FK63XUD2KFyPwjVMQHsUrkfhalJA16NwPQpHVkDD9Shcj4JSQI/C9ShcJ2JAMzMzMzMzWUCPwvUoXB9SQNejcD0Kp1RAFK5H4XoEUkBmZmZmZvZTQNejcD0KN1VAFK5H4Xp8YEB7FK5H4UpWQHE9CtejeGBAcT0K16OAWUBcj8L1KBRgQDMzMzMzA2JAzczMzMzkYUB7FK5H4SpdQGZmZmZmZlVApHA9CtfDYUCkcD0K1zNZQHsUrkfhSlFAcT0K16MwTUD2KFyPwpVVQFyPwvUo3FdAUrgeheuxV0D2KFyPwmVbQHE9Ctej0FNAPQrXo3CdU0DD9Shcj1JVQOF6FK5HYVFAFK5H4XpUUECuR+F6FB5bQLgehetRaFpA7FG4HoV7U0DNzMzMzMxXQOF6FK5HoVNAKVyPwvW4XEDsUbgehdtXQIXrUbgeBVVAMzMzMzOjW0A9CtejcI1UQLgehetRmFRAKVyPwvV4V0CF61G4HsVSQK5H4XoULlNA7FG4HoU7VUAAAAAAACBTQK5H4XoUXlBACtejcD3KWECkcD0K18NPQJqZmZmZqVNApHA9CtfjT0DhehSuR2FTQClcj8L16FtA9ihcj8J1WEBxPQrXo0BcQD0K16NwPUxA4XoUrkcBWEDhehSuR+FcQLgehetRWE5AexSuR+FqV0DD9Shcj/JQQClcj8L1CExAuB6F61EoWEAzMzMzMxNVQPYoXI/CVVdAmpmZmZmZWkAAAAAAAJBbQM3MzMzMbFFAH4XrUbg+XECuR+F6FJ5UQLgehetR+FJAuB6F61EoVUCkcD0K12NbQM3MzMzMXFZAmpmZmZnpVkApXI/C9UheQOF6FK5H8VVApHA9CtejWkC4HoXrUXhXQJqZmZmZKVZArkfhehTOW0CuR+F6FO5LQD0K16Nw3U9AXI/C9Sj8WUCPwvUoXB9XQKRwPQrXw1JAFK5H4XpkVUDXo3A9CidRQGZmZmZmJkxAH4XrUbh+UECPwvUoXD9QQJqZmZmZWVJAhetRuB61VEAzMzMzM2NXQJqZmZmZmVZAZmZmZmaGWEBxPQrXo8BhQD0K16NwfVZAXI/C9SicVEBmZmZmZjZUQB+F61G4rlVA7FG4HoU7U0BmZmZmZkZcQPYoXI/CNVhACtejcD06WUAAAAAAACBdQOF6FK5HoUxAUrgehespYEBcj8L1KDxMQKRwPQrXg1VArkfhehS+VUBSuB6F67FTQAAAAAAA0FlAexSuR+HSYECPwvUoXG9XQArXo3A9qlZA7FG4HoXrVkDD9Shcj/JSQOxRuB6F61ZA7FG4HoWrWkCkcD0K15NUQKRwPQrXg1ZArkfhehReUECkcD0K1wNNQPYoXI/CxVRAZmZmZmYmVkDXo3A9CpdPQHsUrkfhmlNAhetRuB5FUECuR+F6FN5TQOF6FK5H4VdAAAAAAABAUkAK16NwPUJhQI/C9Shcv1VAFK5H4XoEXEBxPQrXo3BaQPYoXI/C1UtAMzMzMzOjVkA9CtejcM1bQKRwPQrX41RAcT0K16MwXUAAAAAAAOBUQDMzMzMzU1FAMzMzMzPjUEBSuB6F6xFUQD0K16Nw/VBAw/UoXI/SWEBxPQrXo5BhQEjhehSu51JApHA9CtcDXkDNzMzMzFxdQAAAAAAAsF5AKVyPwvWYVEDD9Shcj4JMQB+F61G4/lxA9ihcj8JlWEAUrkfheqRUQPYoXI/C1VNA7FG4HoVrX0D2KFyPwmVQQGZmZmZmNl5AmpmZmZlpWUB7FK5H4XpTQNejcD0KV09AXI/C9SicS0Bcj8L1KLxTQFyPwvUobFtAhetRuB7VU0AK16NwPfpTQD0K16NwHVVAmpmZmZkZUUDsUbgehZtTQGZmZmZmVlVAPQrXo3CtVEBcj8L1KExeQOF6FK5HgVpA16NwPQqXUEDsUbgehctaQIXrUbgepVJAexSuR+E6VEDhehSuR7FWQPYoXI/CtVZAmpmZmZmZTUC4HoXrUbhgQK5H4XoUrk5ASOF6FK6nXUAK16NwPXpTQB+F61G4PlFAhetRuB4FXEDNzMzMzAxYQNejcD0KR1dAw/UoXI/iXEAUrkfheiRWQEjhehSux1RAKVyPwvW4V0CamZmZmclYQArXo3A9Cl9AuB6F61GYVUDsUbgehWtXQB+F61G4rlNAPQrXo3BtV0AK16NwPSpTQLgehetRGFxAXI/C9SjcWUCuR+F6FM5OQEjhehSuh1dAMzMzMzMzT0AAAAAAABBTQB+F61G43llAexSuR+EaWED2KFyPwqVTQHE9Ctej8FlA4XoUrkchUUB7FK5H4QpXQOF6FK5HQVRAhetRuB6VV0DsUbgehZtTQOF6FK5HsVRAuB6F61EIVkDhehSuR7FZQAAAAAAAcFlA9ihcj8JVXEAK16NwPapPQPYoXI/CVVFApHA9CtezXUCF61G4HiVYQFK4HoXr8UxAuB6F61GYU0CamZmZmYlXQFK4HoXrYVZAAAAAAADwX0DD9ShcjzJTQM3MzMzMpGFAuB6F61EoVkDNzMzMzERgQFK4HoXrAVtAFK5H4XoEWkCF61G4HjVWQClcj8L1GFlAexSuR+H6U0DD9ShcjzJYQPYoXI/CtVVAw/UoXI+iTkDXo3A9CidSQArXo3A9mlRArkfhehSuUkCPwvUoXK9MQPYoXI/CFVZA9ihcj8JVWUBxPQrXo8BdQB+F61G4/lFACtejcD06VUC4HoXrUehWQB+F61G4NmJAMzMzMzPTT0CPwvUoXN9VQBSuR+F6NFdAzczMzMwMUkCPwvUoXK9PQBSuR+F6tFJAZmZmZmZmWEDD9Shcj0JXQEjhehSuR1hApHA9CtezVEBmZmZmZs5gQHsUrkfhqlhAFK5H4Xp0VUCF61G4HgViQKRwPQrXo1RArkfhehT+UEDNzMzMzOxRQOF6FK5HAVJASOF6FK7nTkD2KFyPwsVZQAAAAAAAcFJASOF6FK63UUDXo3A9Ck9hQArXo3A9KlBAuB6F61H4VkDD9Shcj7JSQOxRuB6Fi1NAFK5H4Xp0U0AfhetRuA5cQOxRuB6FW15ArkfhehSOV0BI4XoUrpdVQPYoXI/CBVxAhetRuB5VVUCF61G4HpVVQK5H4XoUHlRAexSuR+E6T0BmZmZmZrZTQKRwPQrX81lAw/UoXI+CU0B7FK5H4apXQAAAAAAAIE9AUrgehevRVECF61G4Ho1gQKRwPQrXY09APQrXo3B9VkAAAAAAANBZQI/C9Shcv19A4XoUrkeRWUC4HoXrUWhcQPYoXI/ChVVAhetRuB4FW0D2KFyPwhVbQClcj8L1CExACtejcD26VEAAAAAAALBXQMP1KFyPcllACtejcD0aVkAzMzMzM0NZQBSuR+F6RFVAZmZmZmYGW0B7FK5H4UpXQPYoXI/CFVxAUrgehevBXUDsUbgehWtWQDMzMzMzQ1ZAj8L1KFxvVEBI4XoUrodYQPYoXI/CZVpAAAAAAACAVUBxPQrXo2BQQKRwPQrX405ApHA9CtdjW0AUrkfhenRQQArXo3A9ilZAzczMzMwcUEBmZmZmZvZWQClcj8L1eFhAw/UoXI+SUkCamZmZmdlaQK5H4XoU7lVAj8L1KFx/VUD2KFyPwjVZQNejcD0KJ19AMzMzMzOjVUB7FK5H4ZpWQGZmZmZmNllAj8L1KFzvVUCamZmZmQlUQMP1KFyP0lpA7FG4HoUbVEAUrkfhegReQK5H4XoUXldA4XoUrkcxVEBcj8L1KHxUQAAAAAAAsFFAhetRuB71VEAK16NwPWpSQEjhehSul1lAhetRuB51U0BxPQrXo4BRQLgehetR+F1Aw/UoXI/yXkAfhetRuD5UQD0K16NwDVVApHA9CtdTWUBxPQrXo5BVQNejcD0KN1dAKVyPwvWIYUAK16NwPQpfQDMzMzMzY1dA9ihcj8LVWECPwvUoXO9NQHE9CtejMFJA9ihcj8IVUUDNzMzMzIxOQOF6FK5HMV5AUrgehesxTkD2KFyPwpVfQI/C9ShcT1dASOF6FK5nT0A9CtejcH1QQFK4HoXr4VNAZmZmZmY2WEC4HoXrUchcQDMzMzMzk1lAj8L1KFy/U0AzMzMzMzNRQPYoXI/C9VRACtejcD2qV0AfhetRuP5aQOF6FK5HgU5AFK5H4Xr0YECamZmZmSlXQNejcD0KR15AXI/C9SjsWkCamZmZmYlRQOF6FK5HwVRA9ihcj8JtYUAfhetRuE5TQD0K16NwPU1AhetRuB7VVUD2KFyPwpVZQI/C9ShcB2JAZmZmZmamW0BSuB6F6xFUQOF6FK5HwVtAuB6F61G4XECamZmZmelbQLgehetRIGBAhetRuB4FX0AK16NwPfpaQJqZmZmZ2VdAmpmZmZl5UEAfhetRuL5TQIXrUbge1VtA16NwPQoXWkBI4XoUrvdeQNejcD0Kt1VAPQrXo3B9XEBSuB6F61FUQDMzMzMzg1NAFK5H4XqEVUBmZmZmZoZNQLgehetR+FdA7FG4HoWLUUC4HoXrUchbQDMzMzMz01NA9ihcj8J1UECPwvUoXN9eQGZmZmZm7mFA16NwPQpHVkBmZmZmZiZNQOxRuB6Fq1NACtejcD26WEB7FK5H4fpQQAAAAAAAQFJAAAAAAABgWEDsUbgehRtbQOxRuB6Fm1ZAMzMzMzMTU0DhehSuR1FeQHsUrkfh6l1A16NwPQoHU0DhehSuR0FZQDMzMzMzU1dArkfhehSeW0DhehSuR2FTQHE9CtejYFdAw/UoXI+iWUBSuB6F6/FVQHsUrkfhql9APQrXo3D9WECPwvUoXG9NQHsUrkfhalNAKVyPwvXIVEDsUbgehUtRQK5H4XoUzlFACtejcD2aVEAUrkfheoRUQAAAAAAAQFJAAAAAAADQX0DNzMzMzAxbQM3MzMzM/F5AexSuR+FaTUA9CtejcJ1YQFyPwvUotGBA7FG4HoVbWUAzMzMzM1NQQI/C9ShcH1JAj8L1KFxfUEAzMzMzM7NPQMP1KFyPUlpAhetRuB4FUED2KFyPwpVTQBSuR+F6lFBAH4XrUbheV0DNzMzMzMxTQM3MzMzM3FpA16NwPQr3VEA9CtejcP1dQIXrUbgepVFAzczMzMzsVUDD9Shcj1JQQOxRuB6Fq1tA7FG4HoX7VkDD9ShcjyJWQOxRuB6F+1xAuB6F61HIWECPwvUoXE9RQFK4HoXrkVlApHA9CtfTUUAAAAAAAHBWQNejcD0KR1RAuB6F61FYVECkcD0K12NbQM3MzMzMnFFAXI/C9ShcUkCuR+F6FE5iQMP1KFyPQlBACtejcD2aWkCF61G4HmVXQMP1KFyPgl5ApHA9CtcDVEDsUbgehTtVQJqZmZmZGVFAH4XrUbh+T0A9CtejcHVhQJqZmZmZWVxAexSuR+F6WUAfhetRuH5QQDMzMzMzE1VA9ihcj8K1TkDhehSuR2FVQMP1KFyP8lRAhetRuB51UkC4HoXrUVhRQNejcD0Kh1BAUrgehevxWUC4HoXrUbhcQFyPwvUo/FJA4XoUrkfBS0CPwvUoXG9XQFyPwvUo3FFAhetRuB4lTUCF61G4HvVcQD0K16NwrVlAXI/C9SjsWEApXI/C9bhZQPYoXI/C1VVAcT0K16NgW0D2KFyPwqVTQHE9CtejkFNArkfhehReWkBcj8L1KAxRQK5H4XoUnlxAZmZmZma2UEA9CtejcK1XQKRwPQrXM1RAcT0K16MgUECamZmZmWlbQNejcD0KR1FACtejcD2aXEA9CtejcN1ZQNejcD0K11dACtejcD2qTEC4HoXrUehRQAAAAAAAMFVAj8L1KFxPVkC4HoXrUYhRQHE9CtejkFRAH4XrUbguVED2KFyPwsVSQBSuR+F6JFRAw/UoXI9CU0C4HoXrUShiQIXrUbgehVRAZmZmZmbWWUA9CtejcF1YQJqZmZmZ6V5APQrXo3D9VUB7FK5H4XpVQDMzMzMzM1RAMzMzMzPTWEBI4XoUrkdPQGZmZmZmBmJAuB6F61HYUUAAAAAAAOBXQKRwPQrXw1BACtejcD2KUUCPwvUoXA9aQB+F61G4nl5ApHA9CtcjW0C4HoXrUXhRQMP1KFyP4lZAZmZmZmZ2UEAfhetRuF5OQM3MzMzMrFtA7FG4HoW7U0AAAAAAACBfQJqZmZmZ+UxAFK5H4Xo0V0AAAAAAACBNQNejcD0Kt1JAZmZmZmaWU0BxPQrXo1BZQEjhehSut1VAcT0K16MAX0AK16NwPdpUQJqZmZmZqVFAmpmZmZkZV0DXo3A9CldSQB+F61G4blpAw/UoXI/yVEDD9ShcjwJNQLgehetR+E5APQrXo3DtWEC4HoXrUZhPQOxRuB6Fa0xAXI/C9ShMU0CuR+F6FA5TQHsUrkfhqlFAuB6F61FYTUBmZmZmZjZWQK5H4XoUPmFAzczMzMxMTkB7FK5H4WpXQKRwPQrX41NAPQrXo3CdXkAUrkfhehRXQLgehetRKFRAFK5H4XoUV0BSuB6F6/FNQBSuR+F6JFRA4XoUrkchVkAUrkfhejRWQIXrUbgehVlAmpmZmZk5VUA9CtejcI1UQDMzMzMzg1JAPQrXo3CdVkAUrkfheoRXQEjhehSuR1VApHA9CtfzUUDsUbgehftbQJqZmZmZmVdAAAAAAACAUUAUrkfheuRXQB+F61G4/lZAw/UoXI+SUEAzMzMzMyNTQPYoXI/CVUxA4XoUrkchWUB7FK5H4XpNQArXo3A9alRA4XoUrkcxWEC4HoXrUehWQHE9CtejYFhAFK5H4Xo0V0B7FK5H4WpQQHE9CtejoFJAj8L1KFx/VEBcj8L1KOxVQMP1KFyPUl9AKVyPwvXoW0DsUbgehbtRQOxRuB6Fe1ZAZmZmZmYuYUCkcD0K1wNSQJqZmZmZeVhAZmZmZmY2VUCkcD0K1zNXQEjhehSuB1tAexSuR+FKVUApXI/C9QhVQBSuR+F6ZFVApHA9CtezVEBSuB6F66FbQHE9Ctej8E5Aw/UoXI9CVUDNzMzMzIxhQMP1KFyPIk9AXI/C9SjcWECamZmZmTlWQGZmZmZmBlBAhetRuB5lWEAUrkfhelRNQI/C9ShcD1ZAKVyPwvWoTkAfhetRuH5PQMP1KFyPglVAMzMzMzPTVEBmZmZmZqZgQMP1KFyPYlRA7FG4HoVTYkCF61G4HtVTQKRwPQrXI1VAXI/C9SjcWUBSuB6F66FZQFK4HoXrcVBAzczMzMxMT0DsUbgehUtUQOxRuB6FK1NA16NwPQo3V0DNzMzMzLxWQArXo3A9alVASOF6FK4XUUAUrkfhelRTQEjhehSu511AFK5H4Xo0WUAzMzMzMwNhQI/C9Shc/1NAPQrXo3CNXUBmZmZmZiZMQI/C9ShcH1VA16NwPQpnVkD2KFyPwgVZQNejcD0KZ1dA7FG4HoXbUkCkcD0K1xNZQLgehetRaFpA9ihcj8K1VEBxPQrXo3BNQOF6FK5HEVdAH4XrUbjOXECuR+F6FH5VQIXrUbgelVxA4XoUrkchUkBcj8L1KLxPQIXrUbgepVZAcT0K16MQV0CPwvUoXG9cQMP1KFyPMlJAPQrXo3CtV0CamZmZmSlSQOxRuB6Fq1VAFK5H4XqMYUBI4XoUrndTQM3MzMzMLFpAFK5H4Xr0V0BSuB6F61FgQFK4HoXr8VBAw/UoXI9SWkCuR+F6FOZgQEjhehSuB11AcT0K16PQTUDXo3A9CjdMQD0K16NwzVZACtejcD3KV0Bcj8L1KJxUQNejcD0Kh1JAj8L1KFxnYEBxPQrXo9BUQBSuR+F6xFhAuB6F61EoU0D2KFyPwkVQQFK4HoXryWFAj8L1KFw/VEDD9Shcj5JTQK5H4XoUzk1AAAAAAADwUEBmZmZmZpZWQNejcD0Kd1NAuB6F61H4UUAUrkfherRdQIXrUbge1VBACtejcD1qXkB7FK5H4fpbQBSuR+F6NFdAPQrXo3DdV0AfhetRuP5NQD0K16NwPVFAcT0K16OQVkCamZmZmflWQIXrUbgexVZAMzMzMzOjXUDD9Shcj4JZQOF6FK5HYVBA9ihcj8KFVECF61G4HhVZQAAAAAAA0FZApHA9CtdzVkAUrkfhelRYQFK4HoXr4VJAXI/C9ShcXkDhehSuR+FUQPYoXI/C9UxA4XoUrkfRUkCPwvUoXA9UQFyPwvUoLFZA9ihcj8JFUUD2KFyPwlVPQI/C9Shcr1hA4XoUrkdBTEDNzMzMzHxQQArXo3A9ImBAXI/C9Sg8T0AUrkfhenRRQOxRuB6F61hA16NwPQqXUkCuR+F6FL5ZQGZmZmZmxlVAmpmZmZlZXEC4HoXrUbhXQB+F61G4rlRAMzMzMzPzUEBmZmZmZjZVQBSuR+F6/GBAuB6F61GIWkCF61G4HpVSQJqZmZmZWVtAmpmZmZnZUkBcj8L1KOxVQGZmZmZm9ldA16NwPQqXVkCamZmZmblPQArXo3A9ul5AFK5H4Xq0S0AfhetRuH5OQOF6FK5H8VtAuB6F61FoU0DXo3A9CqdRQPYoXI/CFV9AXI/C9SjcWUAAAAAAACBfQAAAAAAA4FJAZmZmZma2WECkcD0K1wNYQI/C9Shcb1dAZmZmZmZmUECPwvUoXE9cQNejcD0KJ2JAexSuR+E6XEDD9ShcjzJVQFK4HoXr0VlA7FG4HoULWEAK16NwPSpRQNejcD0KF2BAw/UoXI9CVUDXo3A9Cl9iQFyPwvUobFBA4XoUrkdhWEDsUbgehZtWQD0K16NwbVRAcT0K16OgVkBSuB6F63FYQI/C9ShcL1RAw/UoXI+CTEAAAAAAAEBXQEjhehSu11dAAAAAAAAQWECPwvUoXK9VQArXo3A9ik9AhetRuB4lYEDD9Shcj/JYQHE9CtejwFdAhetRuB4FVEAAAAAAAABPQFyPwvUorF1AFK5H4XpkU0AAAAAAADBbQB+F61G4DltA7FG4HoWbVEB7FK5H4cpaQD0K16Nw3VZAMzMzMzNDVEBI4XoUrpdcQMP1KFyPEllASOF6FK4XUUDNzMzMzPxVQOF6FK5HUVJA9ihcj8JtYEDD9Shcj9JaQI/C9ShcD1FAcT0K16OAUkCamZmZmdlXQAAAAAAA8FdAcT0K16MgWkBI4XoUrjdbQBSuR+F6pFVAAAAAAAAQXkBxPQrXo2BVQOxRuB6FC1VASOF6FK6XVECamZmZmQlYQDMzMzMzo1JAzczMzMycXEDsUbgehWtcQArXo3A9+lpAZmZmZmb2VEAzMzMzM1NZQLgehetRCFJAH4XrUbi+V0CamZmZmXlXQLgehetRSFdAZmZmZmZmXkCamZmZmRlVQLgehetRiFRAhetRuB5VUkC4HoXrUfhSQArXo3A9GllAexSuR+HaUUApXI/C9chLQFK4HoXrEU1AUrgeheuhU0DD9Shcj7JTQEjhehSuJ1hAUrgehetRUEB7FK5H4SpXQOxRuB6Fi1xAKVyPwvV4WUCuR+F6FM5aQI/C9Shcf1lApHA9CtcjUkCuR+F6FJ5XQHE9CtejsFhA7FG4HoU7XUDhehSuR/FSQGZmZmZmFl9ArkfhehQ+VkCPwvUoXB9SQOF6FK5H0VpAPQrXo3B9WEAzMzMzMxNcQOF6FK5H8VJAcT0K16MgU0ApXI/C9UhXQPYoXI/CNVRA9ihcj8JVUEA9CtejcK1YQAAAAAAAYFJAPQrXo3C9WUCuR+F6FC5UQFyPwvUojFJASOF6FK5HU0DNzMzMzExUQHE9CtejsFxArkfhehR+W0BI4XoUrjdXQDMzMzMzQ1xAj8L1KFwPUUBmZmZmZpZSQIXrUbgexVZAhetRuB41VkDD9Shcj8pgQHsUrkfhilBACtejcD2KXEBSuB6F6wFTQKRwPQrXQ1JAKVyPwvX4U0DhehSuR8FTQMP1KFyPElJA9ihcj8IlV0B7FK5H4RpUQFyPwvUoPE9AuB6F61H4T0AfhetRuG5TQMP1KFyP8lxAMzMzMzMTWEA9CtejcN1aQIXrUbgeFVtASOF6FK5XVkApXI/C9WhXQFyPwvUo3FRAuB6F61F4V0DsUbgehatLQNejcD0Kp1lACtejcD0KT0BxPQrXo3BUQJqZmZmZmU1ArkfhehTOS0AK16NwPWpQQJqZmZmZWU1AFK5H4XqUXkBmZmZmZoZNQClcj8L1mFRAAAAAAAAQVEBmZmZmZjZUQIXrUbgeJV5AFK5H4XqkVUBxPQrXo4BWQPYoXI/CNVFApHA9CtcjV0CamZmZmYlWQPYoXI/CBVRAUrgeheuBUUDhehSuRyFSQOxRuB6FO1hASOF6FK53VUB7FK5H4XpOQPYoXI/CBV5AuB6F61EIV0AUrkfhesRUQHsUrkfhalNAj8L1KFxPWEDD9Shcj9JfQJqZmZmZ2WBAmpmZmZmpUkD2KFyPwnVVQOxRuB6Fm1ZAZmZmZmaWUkAfhetRuI5RQKRwPQrXw1lA16NwPQo3VEAUrkfhepRcQArXo3A9+lRAXI/C9SjMUkCuR+F6FE5OQClcj8L1SFZAH4XrUbhOWECuR+F6FOZgQB+F61G4nlNAexSuR+H6UkAzMzMzM1NXQClcj8L1WFhA7FG4HoXTYEDhehSuRwFaQDMzMzMzc0xACtejcD0qXEBSuB6F6xFTQHE9CtejgFZA9ihcj8L1WkCkcD0K18NRQHsUrkfhGlpAFK5H4XpkVkBmZmZmZgZhQB+F61G4DlpACtejcD26YEAUrkfhejRUQGZmZmZmlllAH4XrUbgeVkCkcD0K1zNWQPYoXI/CxVJAXI/C9ShsUkDhehSuR9FbQFyPwvUoHFFA16NwPQpXUEBI4XoUrodXQI/C9ShcD1hAAAAAAADQVkDD9Shcj1JTQPYoXI/CRV9A7FG4HoXLWkAK16NwPUJgQGZmZmZmpkxAZmZmZmZWWUBSuB6F64FXQHsUrkfhqlBA4XoUrkcBVkDD9ShcjwJYQM3MzMzMLE5ACtejcD2qXUDhehSuR0FNQMP1KFyPAlhAexSuR+G6W0CuR+F6FC5XQB+F61G4DltA7FG4HoUrTEAK16NwPepOQEjhehSuf2BAUrgehesZYUCamZmZmWlgQAAAAAAAcF1APQrXo3CdU0AAAAAAADBiQIXrUbgeFVZAAAAAAABQWUD2KFyPwm1gQClcj8L1uFRAuB6F61G4VECamZmZmdlYQAAAAAAAcFNAUrgehevBUkApXI/C9ehSQBSuR+F6xFdA16NwPQo/YEBxPQrXoxBfQHsUrkfh+lVAmpmZmZlJVUDXo3A9CtdXQArXo3A9ylVAexSuR+H6UUA9CtejcM1VQK5H4XoUHlRAFK5H4XrUW0BxPQrXo0BQQBSuR+F6hFtASOF6FK5HTkCF61G4HnVWQGZmZmZmllZAAAAAAADgUUA9CtejcO1RQKRwPQrXA1hAzczMzMxMXEDD9Shcj1JSQD0K16NwbVBAFK5H4Xo0TkDXo3A9CkdWQClcj8L1qE9A7FG4HoVrVUDsUbgehetWQKRwPQrXc1VA9ihcj8LlU0CPwvUoXK9aQMP1KFyPwk1AexSuR+E6UEAAAAAAAABUQKRwPQrXw1JA7FG4HoXLVkCkcD0K13NVQDMzMzMzI1BApHA9CtdTWECamZmZmclbQK5H4XoUPlRAuB6F61F4VkAUrkfhelRPQAAAAAAAkF5AhetRuB7FVUAAAAAAAEBVQI/C9ShcH1lApHA9CtcrYkBcj8L1KAxcQB+F61G47lNAuB6F61FIWUAfhetRuH5ZQClcj8L1mFhA4XoUrkcBYEBI4XoUrodYQHsUrkfhuldA4XoUrkfRVEDXo3A9CjdYQB+F61G47lhAPQrXo3DtVkDhehSuR3FQQBSuR+F6lFJA7FG4HoWbUkDXo3A9CpdVQKRwPQrXQ1hAuB6F61GYW0BSuB6F68FTQD0K16NwPU9Aj8L1KFzPS0CamZmZmTlVQDMzMzMzo1VA16NwPQqnXUA9CtejcA1UQD0K16NwfVBA7FG4HoWrTkBmZmZmZiZdQLgehetRSFVAFK5H4XqUVUCuR+F6FE5RQOxRuB6F21RA4XoUrkfJYEBI4XoUrsdcQAAAAAAAkFVAXI/C9Sg8XEDD9Shcj2JSQNejcD0KN1RACtejcD36VEAK16NwPXpRQEjhehSu51dAmpmZmZn5T0AAAAAAAKBeQAAAAAAAgFVA4XoUrkcRXkB7FK5H4VpMQFyPwvUodGBA4XoUrkcxXkB7FK5H4RpZQHE9CtejgFBAj8L1KFy/VUAzMzMzM6NWQEjhehSuB05ACtejcD1qUEDNzMzMzCxaQNejcD0Kd1xAj8L1KFzfWECPwvUoXL9cQIXrUbge5VNASOF6FK5XU0AzMzMzM2NXQFK4HoXrgVhAw/UoXI8yVkCamZmZmTlXQPYoXI/CVV1AAAAAAAAwVEBxPQrXo2BTQLgehetRaFpA9ihcj8KVXECkcD0K1+NVQHE9CtejEFhAKVyPwvUoXUAUrkfheuRTQFyPwvUonFNAmpmZmZkJUEAAAAAAAKBSQBSuR+F6lFFAH4XrUbgeVUDD9ShcjwJiQClcj8L1iFNAw/UoXI+yYEC4HoXrUShUQAAAAAAAAFhA4XoUrkehUkDNzMzMzGxgQDMzMzMzM1tApHA9CtdDWEAK16NwPcpLQEjhehSud1BAUrgehetRVkCPwvUoXA9MQM3MzMzMrFJApHA9CtfDVEC4HoXrUThVQM3MzMzMDFBA16NwPQonYUBcj8L1KFxUQHE9CtejkFZAH4XrUbgeUUDhehSuRwFZQArXo3A9alRArkfhehQOXEBI4XoUrqdWQI/C9ShcH1JArkfhehTeWkDXo3A9CgdXQMP1KFyPolFAKVyPwvWYX0CuR+F6FG5WQIXrUbgeBVdAuB6F61FYVUAAAAAAANBXQArXo3A9+lJAH4XrUbgOVkCuR+F6FF5YQKRwPQrXo01AmpmZmZlJWUC4HoXrURhRQHsUrkfhuktASOF6FK53XEBmZmZmZhZYQD0K16NwzV9AmpmZmZm5U0AUrkfhevRNQK5H4XoUzk1AXI/C9Sj8VUAzMzMzM2NYQOF6FK5HAV1AFK5H4XrUX0AAAAAAAOBSQGZmZmZm1lNApHA9CtcjW0DhehSuR+FSQJqZmZmZiVRAuB6F61E4T0CkcD0K1xNVQFyPwvUoLFhAPQrXo3D9T0ApXI/C9SBiQFK4HoXroVhAj8L1KFzHYEA9CtejcD1PQOF6FK5HoVFAPQrXo3BNV0ApXI/C9ZhUQMP1KFyPElZA7FG4HoULVEDhehSuRwFVQK5H4XoUblFASOF6FK53WUAzMzMzM2NTQOxRuB6F+1ZAcT0K16NQTUCF61G4HrVaQFyPwvUoHFVACtejcD0KV0A9CtejcH1VQArXo3A9WlBAzczMzMxMT0CamZmZmYlXQAAAAAAAYFBApHA9CtdTVEA9CtejcL1TQK5H4XoU3l5AmpmZmZmZVkD2KFyPwuVRQGZmZmZmplVA7FG4HoX7VUBI4XoUrgdcQOF6FK5HAVdAPQrXo3B9TkBmZmZmZpZVQHE9Ctej0FFA16NwPQonUkBSuB6F67FbQFK4HoXr8VhAUrgehevxX0AUrkfhelReQClcj8L1+FRAmpmZmZm5WUAfhetRuM5eQDMzMzMz01FAMzMzMzPDU0A9CtejcI1ZQK5H4XoUTlpAhetRuB4lVUAzMzMzM1NTQMP1KFyPslJAAAAAAAAwVkCuR+F6FH5YQOxRuB6Fy1NAhetRuB5VVEDsUbgehatfQArXo3A9ylNA7FG4HoXrWEAzMzMzM+NTQNejcD0K91VAexSuR+E6U0CPwvUoXE9TQFyPwvUoPF5ACtejcD1qU0AfhetRuN5bQAAAAAAAEFVAcT0K16PAV0CPwvUoXG9aQBSuR+F6NE1AUrgehetxTEAAAAAAAJBVQI/C9Shcn1VArkfhehTeXECuR+F6FA5XQArXo3A9ylRA7FG4HoWrW0CkcD0K14NRQOF6FK5HYVdASOF6FK7nVUB7FK5H4WpTQArXo3A96ldA9ihcj8KlWkCkcD0K18NVQOF6FK5HQVdAzczMzMysVUCkcD0K13NYQMP1KFyPAl1ACtejcD0aUUBcj8L1KJxXQB+F61G4XlJAhetRuB6FUEBcj8L1KAxSQPYoXI/CRVlAhetRuB41VkCamZmZmZlZQHE9Ctej0FVAexSuR+FSYkAAAAAAAIBNQIXrUbgeNVNAhetRuB51WUB7FK5H4bpWQAAAAAAA4FBACtejcD1KWEBI4XoUrmdVQPYoXI/CLWBAcT0K16OAWkAUrkfherRcQClcj8L1WF5ArkfhehS+U0BI4XoUrgdVQMP1KFyPwldAmpmZmZnJWUAK16NwPbpUQOxRuB6Fu1FA9ihcj8ItYEAAAAAAAEBUQKRwPQrX81FAPQrXo3AdVUAUrkfhelRZQEjhehSuR09AUrgehevRVkCPwvUoXH9TQDMzMzMzE1dAPQrXo3AdVUDNzMzMzCxRQArXo3A9KllASOF6FK5nUkAzMzMzMwNZQFyPwvUo/FlAzczMzMwMVUDD9ShcjxJcQB+F61G4flBAZmZmZmbGWED2KFyPwhVaQFyPwvUovExAj8L1KFyPU0C4HoXrUZhXQKRwPQrXE1lAw/UoXI+SUkDsUbgehdtZQIXrUbge9VhApHA9CtfzUUDD9Shcj/JTQHE9CtejsFdA7FG4HoVbWUDXo3A9CvdcQOF6FK5H0VdA4XoUrkdBVkAzMzMzM2NTQNejcD0K91JASOF6FK5nV0A9CtejcC1SQM3MzMzMnFdAFK5H4XokVkBI4XoUrgdVQIXrUbge9VhAexSuR+FqUUA9CtejcF1TQMP1KFyPIllAXI/C9SjMYUBI4XoUrrdbQGZmZmZmZlJAw/UoXI/CTUD2KFyPwtVhQFK4HoXr0VJAAAAAAAAwWUB7FK5H4ZpbQPYoXI/C5VNAj8L1KFz/WkCuR+F6FI5WQGZmZmZm7mFAFK5H4XqkU0AUrkfhevRTQLgehetR+FdAw/UoXI/CXkD2KFyPwhVXQPYoXI/CNV1Aw/UoXI+CVkAK16NwPepeQArXo3A9ClxA7FG4HoUbVkBSuB6F64FVQGZmZmZmZlVA7FG4HoXrW0CPwvUoXF9SQBSuR+F69FVAw/UoXI/SWEA9CtejcN1PQM3MzMzMzFNA7FG4HoV7WkBcj8L1KIxXQFK4HoXrUVFASOF6FK7XUUDsUbgehYtbQNejcD0K101Aj8L1KFyPV0BmZmZmZoZUQI/C9ShcT09AhetRuB71WkD2KFyPwuVaQB+F61G4Pl1AZmZmZmYGVUCamZmZmRlVQLgehetRSFRAXI/C9SgMVkC4HoXrUchfQNejcD0K511A16NwPQrvYUBmZmZmZiZVQFyPwvUoPFFAuB6F61FYUUAAAAAAAABSQOF6FK5H4UxAmpmZmZkpW0B7FK5H4VpQQOxRuB6Fu1NA9ihcj8KVWEAUrkfheqRUQEjhehSuF19APQrXo3A9WUCuR+F6FM5SQM3MzMzM7E1AAAAAAAAwWkAfhetRuL5RQOF6FK5HMVdASOF6FK6HVEBmZmZmZpZaQIXrUbgeVVNAcT0K16MAWECPwvUoXN9aQK5H4XoUHlZAexSuR+H6VUC4HoXrUchWQK5H4XoULlRAXI/C9SgcTkAK16NwPZpUQFK4HoXr8VJAexSuR+GaWUDNzMzMzJxYQHE9CtejYFdA7FG4HoVrXEAK16NwPVpYQDMzMzMzU01A7FG4HoVrVECkcD0K18NhQDMzMzMzU19ApHA9CtezXUAK16NwPQpVQI/C9Shcr1NA4XoUrkfBTECuR+F6FI5OQDMzMzMzk1NAXI/C9SgMU0CPwvUoXP9cQGZmZmZmdldAXI/C9SisV0CPwvUoXAdhQI/C9ShcD0xAUrgehetBV0CkcD0K1/NVQOF6FK5HcVVAH4XrUbgOVkCamZmZmWlSQJqZmZmZuWFAmpmZmZkpV0CF61G4HoVOQLgehetRuFlAKVyPwvXYXkAUrkfhesRQQLgehetReFFAw/UoXI+CTECkcD0K1/NeQNejcD0KV1JAw/UoXI+iVkCPwvUoXE9RQGZmZmZmllJAXI/C9Sj8UUBmZmZmZpZUQFK4HoXrUVJAFK5H4XpkWEAzMzMzM9NUQBSuR+F6RFVAMzMzMzMzTkA9CtejcP1TQD0K16NwvVFA16NwPQq3VEAUrkfhevRWQGZmZmZm9lZAuB6F61EIUUBxPQrXo3BXQClcj8L1+FlAKVyPwvXYVUBSuB6F62FWQNejcD0Kp1BAcT0K16PwWED2KFyPwsVVQOF6FK5HUVhAcT0K16M4YUDNzMzMzCxNQMP1KFyPMlFAXI/C9SiMV0B7FK5H4UpeQArXo3A9mlpAw/UoXI8yWkDsUbgehYtUQKRwPQrXM1hAexSuR+HaWkDNzMzMzExRQB+F61G4LldA16NwPQqHVUBSuB6F6/FbQHE9CtejkF5ACtejcD2KU0DhehSuR3FaQFK4HoXrYVNAZmZmZmZWU0DXo3A9CpdUQHsUrkfh+k5AZmZmZmYGUkCuR+F6FP5aQMP1KFyPYk5ApHA9CtfDUUCuR+F6FC5OQIXrUbge1VRAhetRuB5VUEBSuB6F61FcQPYoXI/C1VlAhetRuB6FWkBmZmZmZgZOQDMzMzMzg1xApHA9CtejTECPwvUoXN9YQM3MzMzMzE9AcT0K16MAVED2KFyPwjVNQLgehetR2FBAhetRuB5lUkB7FK5H4fpZQK5H4XoUDlRAcT0K16PwWUCkcD0K10NTQK5H4XoUjlZAw/UoXI9SVUD2KFyPwuVaQK5H4XoU7lVAH4XrUbiuUUAAAAAAADBSQK5H4XoU3ldAw/UoXI+iUUBSuB6F6wFZQKRwPQrX401AKVyPwvWYVkDhehSuR2FiQHsUrkfhOlBAH4XrUbj+V0BxPQrXo6BZQOF6FK5HIVhASOF6FK6HU0DD9Shcj4JRQNejcD0KZ1hA16NwPQpHXECkcD0K18NRQM3MzMzMPFpAXI/C9Sh8VEBI4XoUrhdYQArXo3A9ilxAhetRuB5lV0ApXI/C9XhSQIXrUbge9VpAPQrXo3DNWkBmZmZmZtZYQHE9CtejYFRAcT0K16NQUUCuR+F6FN5bQPYoXI/ChVVAXI/C9Sg8UkDhehSuRzFTQClcj8L1KE5ASOF6FK6nYEBxPQrXo0BQQLgehetRqFJAAAAAAAAgUkAfhetRuB5RQFK4HoXrQVVAcT0K16MwVEDXo3A9CtdXQIXrUbgelVtA7FG4HoVLVkBSuB6F6+FWQArXo3A9SlBAUrgeheuhUkDD9Shcj1JXQD0K16NwXV5APQrXo3C9UkAAAAAAANBSQBSuR+F69FZAj8L1KFwvTEC4HoXrUVhQQKRwPQrXk1ZAKVyPwvVYUkCkcD0K12NiQGZmZmZmdltAPQrXo3DNWUAAAAAAAFBUQFyPwvUoLFVAexSuR+F6VEAK16NwPbpWQJqZmZmZGVBAw/UoXI/SUEAfhetRuB5fQFK4HoXrcU9AcT0K16PgVUCamZmZmUlXQEjhehSuN1BA7FG4HoWrVkApXI/C9ShaQFyPwvUoHFdAPQrXo3AdXkBI4XoUrndWQFK4HoXrUVpAmpmZmZl5YECF61G4HpVQQBSuR+F6RFlASOF6FK7XVEAzMzMzM/NTQHsUrkfhyllAw/UoXI9CT0DXo3A9CpdbQArXo3A9gmFA16NwPQo3VUBmZmZmZrZaQBSuR+F6hFlAFK5H4XrEUEDNzMzMzGxSQPYoXI/CZVNACtejcD1KUUCamZmZmVlQQNejcD0Kd2FApHA9CtczUkCPwvUoXG9fQD0K16NwjVZAj8L1KFxvYUDhehSuR7FWQHsUrkfhWlRA16NwPQqXWUBmZmZmZrZUQNejcD0Kh1lAexSuR+E6VEAzMzMzM/NRQK5H4XoUHlZA7FG4HoXrUECamZmZmalYQIXrUbge5VRAw/UoXI8CWkCamZmZmVlRQK5H4XoUjlpAPQrXo3AdXEB7FK5H4RpSQB+F61G4LlhAmpmZmZnZWkA9CtejcF1bQDMzMzMzA15AhetRuB6VWkBSuB6F61FYQLgehetRyFRAZmZmZmZWWEDD9Shcj+JTQDMzMzMzI1NArkfhehQOTEDXo3A9CtdWQOF6FK5H0VNAPQrXo3BNXECPwvUoXH9aQNejcD0K901AhetRuB41VkB7FK5H4dpcQOxRuB6F+1FA7FG4HoUbWEAzMzMzMyNaQAAAAAAA0FFA4XoUrkeBVEDhehSuR4FTQD0K16NwzVxASOF6FK5HUEDD9Shcj+phQDMzMzMzI1RAzczMzMwMVkA9CtejcG1iQFK4HoXroVVAzczMzMz8VkBcj8L1KNxPQKRwPQrX409AUrgehevRS0C4HoXrUThWQNejcD0Kp1xACtejcD0KTECPwvUoXM9NQGZmZmZm9lJAFK5H4XoEVEAK16NwPSpMQArXo3A9ylVAPQrXo3CdWUDNzMzMzKxRQHE9CtejUFRA9ihcj8JlVkDhehSuRwFQQFyPwvUorFtArkfhehT+UUAUrkfheoRUQBSuR+F6RFBAKVyPwvUoW0DNzMzMzAxdQEjhehSuJ1xASOF6FK4XVUCF61G4HrVUQB+F61G4nllASOF6FK5HUUC4HoXrUdhXQK5H4XoULltAmpmZmZkpVkBSuB6F63FSQD0K16NwvU1A4XoUrkfxUkA9CtejcD1UQJqZmZmZmVRA7FG4HoW7U0D2KFyPwiVUQPYoXI/CpVFAFK5H4XqkWECPwvUoXO9OQLgehetROFFAAAAAAACQUEAfhetRuE5RQM3MzMzMTFJAzczMzMzcWUDXo3A9CjdaQDMzMzMzk1ZASOF6FK63VkA9CtejcA1TQClcj8L1iFJAAAAAAADQVUC4HoXrURhWQJqZmZmZGVpAexSuR+E6WkDD9Shcj6JaQBSuR+F6dE9AXI/C9Si8TkAAAAAAACBWQNejcD0K51pA4XoUrkexVkCF61G4Hj1hQJqZmZmZCVdAFK5H4XqUX0A9CtejcL1XQOF6FK5HYVZA9ihcj8KlUEBmZmZmZgZUQK5H4XoUblJAj8L1KFyfVkCPwvUoXD9XQClcj8L1SE9AcT0K16NgUEDD9Shcj9JXQM3MzMzM7FRAFK5H4XqUT0DhehSuR/FVQOF6FK5H4VVA7FG4HoV7UEBSuB6F63FXQMP1KFyPYlNA7FG4HoVLV0DsUbgehXtZQFK4HoXrQV9AAAAAAACQVECkcD0K13NVQOF6FK5HUVVApHA9CteDVUDXo3A9ChdaQMP1KFyPklNAMzMzMzNjV0DhehSuR2FaQOF6FK5HUVtA9ihcj8LVVkAfhetRuO5QQOF6FK5HUVJAw/UoXI+SUUCuR+F6FN5WQEjhehSud1JAXI/C9SgcUECamZmZmelbQJqZmZmZqVZAzczMzMyMV0CamZmZmXlMQEjhehSuF1dAH4XrUbjOX0DXo3A9CpdVQK5H4XoUrlRAFK5H4XpkXECF61G4HmVWQGZmZmZm9lZAKVyPwvU4VkAzMzMzM+NTQEjhehSuJ1tAj8L1KFyPU0CPwvUoXB9WQGZmZmZm9lZAcT0K16MAUkA9CtejcH1UQKRwPQrXo1FA4XoUrkfBUUAAAAAAAPBYQM3MzMzMzF9AcT0K16NwUUC4HoXrUahSQOF6FK5HkVlApHA9CtdjUkDD9Shcj+JMQBSuR+F6lFNAAAAAAADgUUDNzMzMzCxVQFK4HoXr0V9ArkfhehQuVEB7FK5H4XpSQI/C9ShcT1dAZmZmZmYmUkDhehSuR3FRQOxRuB6FG1VAuB6F61EIVUDD9Shcj2JUQPYoXI/ClUxAmpmZmZmJVUAK16NwPZpbQIXrUbgepVlArkfhehS+VkAfhetRuJ5hQIXrUbgelVFA7FG4HoULUEAUrkfheuRfQB+F61G4TltAj8L1KFwfX0AK16NwPdphQFyPwvUo7FJAhetRuB6FUkAfhetRuP5SQGZmZmZm5kxAUrgehevBU0A9CtejcJ1QQPYoXI/CNUxArkfhehQuXEDhehSuR4FcQIXrUbgeFVJA7FG4HoXLS0AfhetRuF5SQDMzMzMzQ1pAUrgehesxVUBSuB6F62FRQHsUrkfhWlRA7FG4HoX7VECamZmZmblYQClcj8L1qFRAw/UoXI8iXEAAAAAAANBSQK5H4XoU7k9AzczMzMwMUkCF61G4HgVUQNejcD0KZ1lAFK5H4XqUXEBmZmZmZqZWQHsUrkfhaldAmpmZmZnJVUCuR+F6FC5UQArXo3A9ylRAKVyPwvWIWEC4HoXrUchUQEjhehSux2BAAAAAAADgTkAzMzMzM6NRQLgehetRGF9APQrXo3ANV0AAAAAAANBTQPYoXI/ChVRA9ihcj8K1WEBI4XoUrvdgQDMzMzMzo1BAXI/C9SjsXEBxPQrXo/BQQJqZmZmZKVZA16NwPQqHWkCPwvUoXN9XQClcj8L1iE1AUrgehetxT0D2KFyPwjVYQAAAAAAAUFRAPQrXo3AtV0D2KFyPwmVVQKRwPQrXQ1ZAXI/C9SjcVUAUrkfhegRQQClcj8L12FNA9ihcj8L1UEAfhetRuG5UQOF6FK5HYVpAMzMzMzNjU0B7FK5H4dpfQI/C9Shcb1ZAZmZmZma2UkB7FK5H4fpLQDMzMzMzA1pAhetRuB5FT0DD9Shcj+JVQKRwPQrXM1NAAAAAAACAU0Bcj8L1KNxTQBSuR+F69FJAUrgehetRVkC4HoXrUUhUQFyPwvUonF1ASOF6FK5XWEBxPQrXoyBUQLgehetRuFNA16NwPQrnVEBcj8L1KExSQArXo3A9OlFAMzMzMzMTWkBI4XoUrvdVQM3MzMzMLFhAMzMzMzPDVkDD9Shcj0JSQKRwPQrXc1VACtejcD1aUEDsUbgehStbQMP1KFyPMlZAFK5H4Xr0WkApXI/C9VhYQHsUrkfhomFAuB6F61GYXkAK16NwPXpTQGZmZmZm5llArkfhehSOXUAAAAAAACBVQPYoXI/CZVVAexSuR+EaVUAfhetRuD5ZQNejcD0KR1RAzczMzMzMU0D2KFyPwvVYQDMzMzMzg1hAmpmZmZl5WkAfhetRuEZiQFyPwvUo/FNAUrgehesRUkBmZmZmZsZeQKRwPQrXw1BA7FG4HoWrVEApXI/C9XhfQB+F61G4jlhApHA9CteDVkCamZmZmfldQFK4HoXroVdACtejcD0qUEDD9Shcj/JZQHE9CtejIFZAcT0K16NQWED2KFyPwiVXQClcj8L1uFlAcT0K16MQV0AAAAAAAABUQAAAAAAAYExACtejcD0qWkBSuB6F6zFOQHE9CtejYFpAexSuR+HaVECkcD0K18NRQI/C9ShcT1lAXI/C9SjMVkApXI/C9ShSQLgehetRWE9AhetRuB6lYUDXo3A9CmdWQHsUrkfhGlNAuB6F61EYX0CkcD0K1/NbQClcj8L1yExAFK5H4Xp0U0DsUbgehQtOQOF6FK5HwVZAPQrXo3BdUECuR+F6FGZgQClcj8L1+FNAw/UoXI+iUkAUrkfheuRWQOxRuB6Fy1VAXI/C9Si8U0BxPQrXo0BRQFK4HoXrkVtACtejcD3qUUApXI/C9UhPQClcj8L16FRA7FG4HoXLWkC4HoXrUThVQM3MzMzMfFhAuB6F61EYTUDXo3A9CodRQOF6FK5HMVxAPQrXo3DdUkBxPQrXo9BPQK5H4XoUDllA4XoUrkdxVEAAAAAAAJBXQOF6FK5HEVFASOF6FK4HWUAK16NwPRpcQOxRuB6F+1FAcT0K16NAYUAK16NwPYpQQB+F61G4blpA9ihcj8KVU0BmZmZmZoZZQEjhehSuV1hAFK5H4XqUU0AAAAAAAEBgQAAAAAAAgFJAw/UoXI/CW0AAAAAAAFBYQM3MzMzM/FNA16NwPQqXUkDsUbgehWtRQGZmZmZmllhAH4XrUbjuUkDXo3A9CndVQPYoXI/CFVRAcT0K16NwUkA9CtejcL1XQOxRuB6FC1tAH4XrUbhOVUCF61G4HgVZQEjhehSuJ1FAFK5H4XoEVUCF61G4HpVUQI/C9Shcn1dAPQrXo3AtW0Bcj8L1KDxQQK5H4XoUjlhAAAAAAADgVEApXI/C9XhfQK5H4XoU7lVAXI/C9Sg8UUBxPQrXo6BQQBSuR+F6dFVArkfhehTeVUCPwvUoXO9VQEjhehSuR1VASOF6FK7XWUDsUbgehWtUQHE9CtejIFNAexSuR+GKW0BI4XoUrkdQQLgehetReFtA4XoUrkdxUEBcj8L1KNxLQHsUrkfh6lJA7FG4HoULVkBcj8L1KPxXQOxRuB6Fu1VAexSuR+FKVUBmZmZmZsZbQAAAAAAAAFdArkfhehReWEA9CtejcM1TQK5H4XoU/lRAMzMzMzOjWECamZmZmVlOQK5H4XoUDldAXI/C9Sj8U0DsUbgehetUQHsUrkfhelFAH4XrUbgeYUAUrkfhetRXQFK4HoXr8VpA4XoUrkcBWEBcj8L1KCxcQK5H4XoUTk5A4XoUrkfxU0AK16NwPdpVQClcj8L1KF9AexSuR+FaUUDsUbgehWtTQMP1KFyPMlxAMzMzMzODVECF61G4HgVaQBSuR+F6ZFlAFK5H4XrUUUDNzMzMzJxTQK5H4XoUjk5Aw/UoXI/SVUCPwvUoXJ9UQJqZmZmZyVRAcT0K16PQVEDNzMzMzKxTQFyPwvUo/FtA4XoUrkcxWkBxPQrXoxBaQPYoXI/CdVxAPQrXo3CtXECF61G4HsVOQKRwPQrXs2BAPQrXo3D9W0Bcj8L1KBxcQNejcD0K515A7FG4HoUrVUDD9Shcj6JcQLgehetRmFtAH4XrUbheTEBmZmZmZhZRQOF6FK5H4VRAH4XrUbjeTUD2KFyPwmVUQIXrUbge9V5AzczMzMxMV0D2KFyPwnVVQClcj8L1qFJAexSuR+EKVEBSuB6F60FVQAAAAAAAEF1AMzMzMzOjUEC4HoXrURhWQDMzMzMzQ1RAmpmZmZkZUUDNzMzMzDxYQI/C9Shcj1BApHA9CtfzVkDXo3A9CjdVQLgehetRuF1ACtejcD16VUCamZmZmdlcQPYoXI/C1VJAXI/C9SgMWUD2KFyPwoVcQDMzMzMz01BACtejcD06WEDNzMzMzAxdQMP1KFyPIlJAcT0K16MAWEAK16NwPUpWQClcj8L1KFtACtejcD3qVEA9CtejcE1UQD0K16NwvVVAzczMzMw8V0DXo3A9CvdXQOF6FK5HYVVAj8L1KFyPVECkcD0K13NbQGZmZmZm9lZAj8L1KFzfXkCPwvUoXF9aQFK4HoXrYVlAw/UoXI+CX0CPwvUoXN9XQLgehetRWFZAMzMzMzOTVEDNzMzMzOxTQK5H4XoUjlFAFK5H4XrkVEDNzMzMzExOQI/C9ShcT1hA4XoUrkdRUkBI4XoUridXQAAAAAAAgFZAUrgeheuRU0CkcD0K1/NVQFK4HoXryWFAUrgehevxVEBmZmZmZoZVQD0K16NwvVBAzczMzMwsU0BI4XoUrsdZQFK4HoXrAVVAmpmZmZmJUkDD9Shcj1JSQArXo3A9ylxAMzMzMzPjVECkcD0K18NOQI/C9ShcL1lASOF6FK6nTUBcj8L1KJxPQHE9CtejIFBAFK5H4XqEVkDNzMzMzHxcQBSuR+F61F1ASOF6FK7HWEAfhetRuI5TQDMzMzMzA1NAj8L1KFwfXUAK16NwPfpYQGZmZmZmBlNAj8L1KFx/XkA9CtejcA1dQKRwPQrXo0tAH4XrUbjuWUBcj8L1KKxYQNejcD0Kh1dAUrgehetBXUBmZmZmZtZWQB+F61G4nlRAcT0K16PwWEBmZmZmZsZbQAAAAAAAkF5AXI/C9SgMVUBmZmZmZiZVQGZmZmZmll9AAAAAAADgVUDhehSuR2FTQFyPwvUopGBAZmZmZmYGWEDXo3A9CidbQI/C9ShcL1NAmpmZmZlRYUAK16NwPcpSQIXrUbgeRVNAXI/C9ShMWUCPwvUoXO9aQClcj8L1KE9AKVyPwvUoTEApXI/C9WhgQOF6FK5HwVBArkfhehQuU0AfhetRuH5fQPYoXI/CBVJAMzMzMzMDVkBcj8L1KLxLQK5H4XoUPmJA7FG4HoV7V0CPwvUoXC9TQI/C9Shc71RAhetRuB7lXUAK16NwPSpRQMP1KFyPclBA9ihcj8J1VUBmZmZmZnZXQD0K16NwjVVACtejcD3aUkBSuB6F69FXQEjhehSu91dAKVyPwvXYV0DD9Shcj2JOQPYoXI/CtVlApHA9CtdLYEBcj8L1KFxQQPYoXI/C9VNArkfhehROT0AUrkfheoRRQDMzMzMzM1tA16NwPQoHXEBmZmZmZhZXQBSuR+F6JFNAAAAAAABgUUAfhetRuF5RQOxRuB6FS1ZA9ihcj8IFUUA9CtejcC1XQHsUrkfhGkxApHA9CtejVECPwvUoXI9TQArXo3A9KlVAZmZmZmaWVkBI4XoUrgdRQFK4HoXrkU1AKVyPwvVoVUAK16NwPQpMQAAAAAAAwFhAZmZmZmZmV0AAAAAAAHBaQPYoXI/ChVxA9ihcj8K1TEBxPQrXowBZQAAAAAAAAE9A16NwPQrnWUDhehSuR7FXQEjhehSuB1JAZmZmZmamVkB7FK5H4XpUQGZmZmZmxlBA4XoUrkcBTUDhehSuR5FaQClcj8L1SE5A9ihcj8JVWkBSuB6F6xFYQB+F61G4rl5ASOF6FK4HWkCPwvUoXG9RQM3MzMzMvFpAuB6F61GoV0CuR+F6FL5VQEjhehSuB1NAXI/C9Sj8WEBSuB6F6+FWQB+F61G4LmJA16NwPQq3UkB7FK5H4ZpSQBSuR+F6hFFAZmZmZmZ2VkA9CtejcA1aQKRwPQrXc1lAAAAAAADAWUBmZmZmZnZZQHsUrkfhelVAzczMzMxsTEDD9Shcj0JWQOF6FK5HgU9AH4XrUbheUEBmZmZmZiZRQOxRuB6Fa1RAPQrXo3BNUEBSuB6F6yFSQFK4HoXrcVRAhetRuB41VEA9CtejcA1YQMP1KFyPQl1AcT0K16OQU0BSuB6F66FUQAAAAAAA0FFAj8L1KFw3YECuR+F6FN5cQIXrUbgeZUxACtejcD0KWUBmZmZmZmZYQMP1KFyPolZAuB6F61F4WkApXI/C9XhRQFK4HoXrUVdA4XoUrkfRW0DD9Shcj8JWQM3MzMzMzFVASOF6FK5HW0BSuB6F65FSQM3MzMzMzExAAAAAAABQUEB7FK5H4TpUQEjhehSuF19AKVyPwvWYWUB7FK5H4ZpWQHsUrkfhylNAhetRuB7FUUDD9Shcj2JUQD0K16NwfVdAcT0K16PAWUCPwvUoXB9XQClcj8L1mF5ACtejcD16UEAAAAAAAJBRQM3MzMzMbFBAhetRuB7FUECF61G4HuVaQEjhehSu91dAexSuR+EKUUBI4XoUrtdXQAAAAAAAgFZAZmZmZmaGWkBxPQrXoxBMQGZmZmZmFlVAj8L1KFz/UEDsUbgehbtdQIXrUbgehVRAFK5H4XoUVkAK16NwPUpVQMP1KFyPYlFAj8L1KFwPT0CkcD0K1wNZQLgehetRSFlA9ihcj8LFVkCF61G4HsVOQMP1KFyPAk9A16NwPQrHWUAUrkfhemRTQPYoXI/CVVhAZmZmZmbGUEApXI/C9fhTQMP1KFyP8ldAcT0K16NgV0BSuB6F6zFdQLgehetRaF1A4XoUrkcBTkBmZmZmZiZQQLgehetR6FFAw/UoXI/yVUApXI/C9ehYQFK4HoXroVVASOF6FK6XWEAfhetRuH5dQDMzMzMzU1lAcT0K16PgU0CuR+F6FE5YQNejcD0Kp1JAFK5H4Xp0TkDD9Shcj3JRQGZmZmZm5lRAzczMzMz8VEAAAAAAAGBTQMP1KFyPElBAzczMzMyMTkA9CtejcC1ZQD0K16NwTVBA4XoUrkfxXUApXI/C9ZhZQPYoXI/C1U1ACtejcD3KVEDNzMzMzBxTQM3MzMzM7FdAH4XrUbiOUUCamZmZmclSQDMzMzMz81dAexSuR+GqVkDD9ShcjzJVQAAAAAAAcGJApHA9CtfDYEBI4XoUrqdUQNejcD0KR19AKVyPwvUIV0BI4XoUrudXQDMzMzMzc1dA16NwPQqnVkBmZmZmZmZhQHE9CtejQFNAcT0K16NQWkBmZmZmZhZRQBSuR+F6xFhAhetRuB6lTkB7FK5H4bpYQI/C9Shcr1ZAUrgehethVUDNzMzMzCxTQEjhehSu91BAcT0K16NQU0BSuB6F69FWQK5H4XoUJmBA16NwPQp3WECF61G4HhVcQArXo3A9mltAhetRuB7lVkCuR+F6FG5NQLgehetROFNA4XoUrkdhW0CF61G4HuVZQD0K16NwfVRAMzMzMzMjWkBI4XoUrgdTQOF6FK5HEVBAPQrXo3B9WUB7FK5H4QpVQMP1KFyPclVAPQrXo3DdUUCPwvUoXN9XQEjhehSu51VAKVyPwvWIVEB7FK5H4fpgQIXrUbgetVJAj8L1KFwvTkBSuB6F69FQQMP1KFyPclNAcT0K16MgVkC4HoXrUZhWQD0K16NwrVxAZmZmZmZGTUDsUbgehQtRQAAAAAAAsF1AKVyPwvUIWEDhehSuR2FRQOxRuB6Fe1lAhetRuB7lUUBmZmZmZsZUQD0K16NwvVtAhetRuB61XkCamZmZmelWQGZmZmZmBlVAZmZmZma2XUAUrkfhelRWQNejcD0KF2BAMzMzMzODWEBmZmZmZoZZQFyPwvUoDFhAmpmZmZnZUUDhehSuR5FUQAAAAAAAoFlA7FG4HoULUkBcj8L1KPxXQJqZmZmZyVVA9ihcj8KlVECkcD0K11NWQPYoXI/CNVBA4XoUrkfhWkBxPQrXozBXQArXo3A9ylNAAAAAAADAVUAAAAAAAChiQClcj8L1SF9AZmZmZmYmVkDsUbgehctMQNejcD0Kt01A7FG4HoVbUEBSuB6F63lhQKRwPQrX81tA9ihcj8K1WkCuR+F6FH5RQBSuR+F6RFNAH4XrUbi+TUApXI/C9VhbQK5H4XoUfldAKVyPwvUYX0Bcj8L1KBRgQGZmZmZmBlVAZmZmZmZmU0BxPQrXo6BRQFyPwvUoTFtAPQrXo3CdS0CamZmZmQleQArXo3A9ClJAKVyPwvX4V0DsUbgehStQQHE9CtejoFFA4XoUrkdxVECuR+F6FJ5QQMP1KFyPQmJA7FG4HoXrVkA9CtejcD1bQArXo3A9WlxAhetRuB7FW0AAAAAAAKBTQKRwPQrXQ1ZAzczMzMwMVEDhehSuRyFTQK5H4XoU7lhArkfhehS+WUCkcD0K16NYQKRwPQrXg1VAhetRuB7FXkAAAAAAAMBSQJqZmZmZeVpASOF6FK53UkDD9Shcj4JTQI/C9Shc71pAUrgehetRTkAUrkfheqRUQB+F61G4/lxAuB6F61GYW0D2KFyPwiVXQClcj8L1qFRAUrgeheuRUUDD9Shcj6JaQK5H4XoUjk1AUrgehetxTUCF61G4HjVgQBSuR+F6ZFJAw/UoXI8CUkBcj8L1KHxTQI/C9ShcP1FAcT0K16PwW0DXo3A9CldQQOF6FK5HEVRAH4XrUbhuVECuR+F6FM5TQFyPwvUo1GFAMzMzMzNDWEC4HoXrUZhRQD0K16NwnVxASOF6FK4nUEBI4XoUrodXQFyPwvUojFFAzczMzMysS0DhehSuR+FcQJqZmZmZWU5Aj8L1KFxPUUDD9Shcj9JZQI/C9ShcL1dAPQrXo3CdVEApXI/C9chPQI/C9ShcT1JA7FG4HoWbU0B7FK5H4bpMQArXo3A9ClpAexSuR+GaW0CamZmZmdldQLgehetRyF1ArkfhehQOXkCPwvUoXE9UQMP1KFyPMlZACtejcD26UUBI4XoUrsdVQPYoXI/ChV9AexSuR+EaU0AK16NwPSpMQFK4HoXreWBAH4XrUbjOV0DsUbgehctRQD0K16Nw7VVA7FG4HoXrXEBmZmZmZsZSQK5H4XoUblFA9ihcj8L1W0CF61G4HsVbQOxRuB6FK1FACtejcD3KVkBcj8L1KNxYQGZmZmZmtlNAKVyPwvX4XkBcj8L1KJxWQK5H4XoUTmFApHA9CtfDUkAK16NwPWpVQHE9CtejsFlAw/UoXI/yUUCamZmZmWFgQHsUrkfhulVArkfhehTuWUAAAAAAALBXQK5H4XoUblNA9ihcj8IFU0BmZmZmZuZOQB+F61G47lRAhetRuB7VU0AUrkfhehRbQJqZmZmZ6VlAXI/C9SiMVUA9CtejcG1gQD0K16NwXVFAUrgehesxU0BSuB6F6/FZQOF6FK5HYVdAFK5H4XrEXEDNzMzMzFxRQAAAAAAAQFRACtejcD3KVEC4HoXrUShbQKRwPQrXA1ZAFK5H4XokVECF61G4HuVMQJqZmZmZ2VVAuB6F61EoU0DhehSuRwFNQOxRuB6FW1NAzczMzMwcUEB7FK5H4dpTQFyPwvUovFRAhetRuB5lVEB7FK5H4RpPQKRwPQrXA11A4XoUrkdxXUBcj8L1KKxQQB+F61G4jl5AmpmZmZn5XUCF61G4HpVbQM3MzMzMfFNAZmZmZmYWVEBxPQrXo7BMQK5H4XoUHlhACtejcD2qUUAzMzMzM9NWQKRwPQrX41BASOF6FK6HX0CamZmZmZlVQK5H4XoUzllAZmZmZmY2VkAzMzMzM/NPQBSuR+F6VFRA16NwPQqHU0DNzMzMzNRgQFyPwvUofFNAuB6F61F4TEBSuB6F60FdQOxRuB6FG1VA7FG4HoWLTEApXI/C9bhXQB+F61G4jmBAuB6F61HIUkApXI/C9ShTQBSuR+F61FZAmpmZmZl5VUBcj8L1KAxTQOF6FK5HcVVA9ihcj8K1T0DhehSuRwFcQFyPwvUonFhAFK5H4XrkU0A9CtejcP1PQD0K16NwXVlACtejcD2qUkAK16NwPSpRQI/C9Shcz1tAuB6F61HYYEBmZmZmZoZbQDMzMzMzM1lAhetRuB5FXEA9CtejcD1MQOF6FK5HcVNA4XoUrkcBWkD2KFyPwuVUQClcj8L1+FZAmpmZmZm5U0DNzMzMzOxUQI/C9Shcf1JA7FG4HoWbUUApXI/C9ZhSQHsUrkfhullACtejcD36VUAzMzMzM6NdQBSuR+F6VF9AH4XrUbi+U0DNzMzMzAxZQI/C9Shcz1dAUrgehetRTEAfhetRuB5UQD0K16NwPVxAAAAAAABAUkBxPQrXo5BOQKRwPQrXI1ZACtejcD2KUEAfhetRuD5WQClcj8L1mFdACtejcD16U0BmZmZmZrZVQEjhehSul1dAKVyPwvUoU0CF61G4HtVaQFyPwvUoPFRA4XoUrkcBXEApXI/C9UhWQFyPwvUofFFAhetRuB7lS0CF61G4HkVSQOF6FK5HAVhA7FG4HoVrVkCkcD0K10NZQBSuR+F6VE9AUrgehesBVUC4HoXrURhbQMP1KFyPslNASOF6FK4HU0BxPQrXowBRQNejcD0Kh1ZA4XoUrkexV0AAAAAAAEBVQKRwPQrXq2FAMzMzMzOzWkAK16NwPWpeQOxRuB6FS1VACtejcD1CYECPwvUoXI9SQB+F61G4/lNAcT0K16OwWkD2KFyPwhVTQDMzMzMzI1RAPQrXo3D9T0DXo3A9CvdLQFyPwvUofFJAhetRuB5lUEAzMzMzM/NUQEjhehSu91dAhetRuB41XEDsUbgehTtVQIXrUbgexVlAH4XrUbh+VUAAAAAAAPBUQOxRuB6FW19AhetRuB5lWUAzMzMzMyNcQD0K16NwPVdAXI/C9SgMXECF61G4HkVVQEjhehSuF1xApHA9CtdzUkDNzMzMzExTQIXrUbgeBVNAH4XrUbj+XkBxPQrXoyBbQBSuR+F6hFhAFK5H4Xp0VUA9CtejcI1VQHE9CtejwFhAhetRuB4FVECuR+F6FF5RQBSuR+F6RFVAAAAAAAAAVkAUrkfhegRiQDMzMzMzs1NAUrgeheuxVUCuR+F6FG5aQEjhehSuF1BAMzMzMzNDYkAUrkfhelRNQAAAAAAA4FlAexSuR+FaVkA9CtejcF1OQOxRuB6FS1JAcT0K16OQVECamZmZmdlVQM3MzMzMvFVAAAAAAACAUkAfhetRuH5SQFK4HoXrMV9AzczMzMzMVEBI4XoUridWQHE9CtejYFRAPQrXo3DtXEAzMzMzM7NMQK5H4XoUHllAzczMzMyMW0CamZmZmblYQFyPwvUozFdAUrgehetRWkBSuB6F68FUQArXo3A9WlZApHA9CtejUUDD9Shcj7JTQLgehetRiFFA16NwPQpXT0DhehSuR/FRQI/C9Shcf1NArkfhehRuV0AfhetRuN5PQPYoXI/CVU5AhetRuB4FXECkcD0K13NZQPYoXI/CFU5Aw/UoXI9SUED2KFyPwrVOQHsUrkfhqlVAexSuR+GaVEDD9ShcjyJZQB+F61G43ltAhetRuB5VVUAUrkfheqRfQHE9CtejYFRArkfhehT+UEB7FK5H4XpTQMP1KFyPIlRArkfhehQeU0CamZmZmclVQBSuR+F6hFVA4XoUrkehWkCPwvUoXI9XQB+F61G4blZA7FG4HoUTYEBI4XoUrsdMQHE9CtejcFNAcT0K16MwUkDXo3A9CodWQEjhehSux1FAw/UoXI8CXUDNzMzMzLxUQAAAAAAAMFxAuB6F61GoVEAAAAAAADBXQLgehetRaF1AUrgehesBU0C4HoXrUThPQBSuR+F6NFtACtejcD1qWUCamZmZmUleQFyPwvUoHF1AMzMzMzNTV0DD9ShcjwpiQOF6FK5HgVhAexSuR+EqVEDhehSuR5FXQGZmZmZmFlNASOF6FK7HTEAfhetRuL5PQPYoXI/CJWJApHA9CtcjXkDNzMzMzExRQLgehetRWFRAH4XrUbieU0AAAAAAAMBVQOxRuB6FK1VAKVyPwvX4VkCuR+F6FD5WQB+F61G4Pl1ACtejcD36YEBI4XoUridYQFK4HoXroVpA9ihcj8I1TUBI4XoUrudTQHsUrkfhumFAMzMzMzODU0AK16NwPUpTQDMzMzMzk1VAMzMzMzPjVEAAAAAAAIBZQBSuR+F6BFFA4XoUrkdxVEBI4XoUrqdUQFK4HoXrgVlAH4XrUbg+U0CkcD0K15NUQPYoXI/C9VRAKVyPwvWIWEDD9ShcjwJVQI/C9ShcD1dAexSuR+G6V0DNzMzMzCxcQPYoXI/ClVJAmpmZmZk5WkA9CtejcP1YQOF6FK5HUVVAKVyPwvUoTkApXI/C9YhXQKRwPQrXk1ZAhetRuB7VV0CamZmZmWlVQOxRuB6FG1NACtejcD2qWED2KFyPwvVSQD0K16NwXVVAhetRuB5VVECkcD0K12NZQB+F61G4HlVAPQrXo3BNV0C4HoXrUThSQGZmZmZmBlVA9ihcj8I1UkApXI/C9bhRQClcj8L1CFtAw/UoXI8CVkD2KFyPwnVQQB+F61G4rlpAUrgeheuBWkC4HoXrUThUQDMzMzMzg2FAmpmZmZnZX0CuR+F6FO5VQD0K16NwHU1ASOF6FK5XUUBSuB6F61FNQPYoXI/C1U1AhetRuB6FU0CF61G4HkVaQDMzMzMzU1ZAcT0K16OwTkCuR+F6FA5MQFK4HoXr4VJArkfhehTeWkAAAAAAAABTQFK4HoXrkVZArkfhehROUECPwvUoXI9VQArXo3A9ulNAH4XrUbiuVkAfhetRuA5XQKRwPQrX81NAUrgehetxVEAAAAAAAIBZQHsUrkfhGlFA7FG4HoWrV0CF61G4HlVfQAAAAAAAQFZAPQrXo3B9TkC4HoXrURhNQOxRuB6F61BAj8L1KFw/VUBxPQrXoxBPQM3MzMzMjExAzczMzMx8WECkcD0K14NXQLgehetReFdAMzMzMzOTVkApXI/C9chUQArXo3A9ql1AUrgeheuxVkA9CtejcJ1QQKRwPQrXY1JApHA9CtejTEBI4XoUrjdXQK5H4XoUHlhAXI/C9SjcWEA9CtejcH1TQHE9CtejEE5AexSuR+EKVkAK16NwPRpVQPYoXI/CFVJArkfhehQuUUCkcD0K14NQQHE9CtejcFpAFK5H4XpEUkAfhetRuN5YQGZmZmZm5lNAAAAAAACAUUAfhetRuD5cQClcj8L1iE5A16NwPQq3T0DNzMzMzExSQB+F61G4rllAuB6F61G4UkDsUbgehZteQD0K16NwDVVAexSuR+EaVEBcj8L1KBxUQLgehetRKFRASOF6FK4HWkAUrkfhejRYQGZmZmZmBlZAZmZmZmY2UEBI4XoUrrdZQAAAAAAA8FRAhetRuB5lWEAK16NwPYpSQAAAAAAAgFVA7FG4HoU7WUA9CtejcL1VQAAAAAAA4FBAPQrXo3BNVEApXI/C9YhbQFyPwvUoHF5ASOF6FK6nV0CkcD0K19NXQBSuR+F6xFJAmpmZmZmpWkDNzMzMzARiQEjhehSuZ01Aw/UoXI9CV0BI4XoUrsdPQB+F61G4PlhAzczMzMysUEAK16NwPepTQArXo3A9ilZA9ihcj8IFWkA9CtejcL1WQMP1KFyPolxArkfhehSeWkC4HoXrUWhSQOF6FK5HoVhA16NwPQp3T0BI4XoUrvdQQOxRuB6FG15ApHA9CtcjU0BSuB6F6wFbQArXo3A9ylRAmpmZmZn5UEA9CtejcN1cQFyPwvUo/F5ArkfhehTeUkCPwvUoXI9YQM3MzMzMjFBAexSuR+GqV0DNzMzMzPxSQMP1KFyP8ltAKVyPwvU4VEAK16NwPbpVQK5H4XoUrk1AexSuR+GqUEDD9Shcj+JVQKRwPQrXe2FAexSuR+H6UEBI4XoUrudUQK5H4XoUvltAUrgeheuhUUAK16NwPfpcQB+F61G43k1AUrgehetRT0CkcD0K1zNVQOxRuB6Fq1NAcT0K16PwU0CkcD0K16NPQB+F61G4nlNAH4XrUbieUUA9CtejcD1eQMP1KFyPUlNAcT0K16MgW0BmZmZmZnZcQJqZmZmZaVhAhetRuB51XkBSuB6F62FUQM3MzMzMLE1AexSuR+FaUED2KFyPwlVRQPYoXI/CRVtAexSuR+G6XECF61G4HiVeQNejcD0Kh1BA9ihcj8KVX0DhehSuRxFRQNejcD0KN1dA4XoUrkcxWECPwvUoXE9WQBSuR+F6VFZAuB6F61FoUEAK16NwPepeQClcj8L16E9ApHA9CtcDW0D2KFyPwgVhQMP1KFyP0lFAhetRuB4lU0CF61G4HuVdQDMzMzMzU1tAXI/C9Sj8W0ApXI/C9WhUQClcj8L1aFhAFK5H4XqUW0AAAAAAAMBTQIXrUbgexVdAcT0K16MoYUAK16NwPepMQIXrUbgeBVVAFK5H4XrUYUDhehSuR3FRQJqZmZmZ2VFA16NwPQrnU0A9CtejcF1TQGZmZmZmNlhAcT0K16PQUEDD9ShcjwJOQM3MzMzMXFxApHA9CtcTXEBSuB6F6yFRQDMzMzMzk0xAFK5H4Xr0VkAzMzMzM/NRQBSuR+F6tE9Aj8L1KFyPWkBxPQrXo8BUQHsUrkfh+lBAj8L1KFy/UkCuR+F6FM5SQHE9Ctej8E5AexSuR+FqUEDsUbgehYtbQDMzMzMz011A7FG4HoXLV0DhehSuR9FUQMP1KFyPklZASOF6FK53VEA9CtejcF1ZQI/C9ShcH1JAhetRuB6lVUBxPQrXo1BcQD0K16NwBWBA7FG4HoV7V0BI4XoUrvdYQFK4HoXrKWBA7FG4HoVbVkBmZmZmZmZZQDMzMzMzo1BAXI/C9SgsWEC4HoXrUYhZQK5H4XoUjlBAhetRuB5VW0AK16NwPfpUQHsUrkfh+lBAH4XrUbheUkCkcD0K11NZQArXo3A96llAH4XrUbiuUUDNzMzMzFxTQPYoXI/ClVxAAAAAAABQUUBcj8L1KBxWQPYoXI/CBVVApHA9CtfDVUApXI/C9ShXQNejcD0K11hAXI/C9Sj0YEBcj8L1KJxUQLgehetReFRAXI/C9SjcV0A9CtejcC1SQM3MzMzMXFBA9ihcj8K1W0BI4XoUrsdUQI/C9Shcj0tACtejcD16WkApXI/C9chOQGZmZmZmxlRAFK5H4XqUUECkcD0K1yNSQI/C9Shcf1hAw/UoXI+iT0CkcD0K11NUQBSuR+F69E1AMzMzMzObYEBI4XoUrkdTQHsUrkfhylVAUrgehesBWECkcD0K1+NUQOxRuB6FO1RAw/UoXI8iVUCPwvUoXG9MQDMzMzMz41BAuB6F61EoW0CkcD0K10NRQClcj8L1eFJAj8L1KFwfVUA9CtejcG1SQLgehetRIGBAPQrXo3A9UkAfhetRuI5bQI/C9Shc31NAhetRuB5VVkC4HoXrURhRQOF6FK5H+WBAXI/C9SiMVEDNzMzMzExXQIXrUbge1VtA9ihcj8J1UUA9CtejcG1eQIXrUbgeBVRAmpmZmZkZVUDXo3A9CqdYQNejcD0Kp1VAXI/C9SgcVEAfhetRuE5YQD0K16NwzVZAXI/C9SjsWUBI4XoUrodSQIXrUbgexVFAUrgehesxTUBxPQrXo3BSQD0K16NwzVBAH4XrUbj+VUAfhetRuI5XQNejcD0K11tAFK5H4XoEVUCkcD0K11NdQNejcD0KN1FAXI/C9SicYEB7FK5H4TpfQPYoXI/CtUxACtejcD3qUEBxPQrXo1BPQOxRuB6Fe1NAMzMzMzMTVEBcj8L1KKxaQBSuR+F6xFRAFK5H4XqEYUCamZmZmSlXQEjhehSu11tAAAAAAADAWECPwvUoXI9TQLgehetR+FRAPQrXo3CNVUBI4XoUrodMQAAAAAAAEFxApHA9CtdDVEBI4XoUrhdaQKRwPQrXE19AzczMzMw8XUBxPQrXo/BYQB+F61G4XlpAZmZmZmYmWUAzMzMzM0NQQJqZmZmZ+VJAUrgehetBW0B7FK5H4dpXQMP1KFyPwl5AuB6F61F4VUDsUbgehdtaQM3MzMzMbExAmpmZmZmJWUDsUbgehStWQK5H4XoUfldAUrgehesBWkCPwvUoXP9QQEjhehSu11RACtejcD0qX0AAAAAAADBYQKRwPQrXo09AKVyPwvWoVED2KFyPwtVRQFyPwvUoTFlAcT0K16MgVkB7FK5H4YpSQMP1KFyPAlNASOF6FK53UkAUrkfhesRYQOxRuB6Fu1RASOF6FK6nYEC4HoXrUXhRQEjhehSuR1FAMzMzMzODVUA9CtejcF1YQJqZmZmZeVRAhetRuB7lWEDD9ShcjyJfQGZmZmZmFlxAw/UoXI9SUkCF61G4HgVbQHsUrkfhWlNA9ihcj8JlXUC4HoXrUfhOQOxRuB6FK11ASOF6FK53X0D2KFyPwgVQQIXrUbgeVVBA9ihcj8I1WECamZmZmSlZQClcj8L1GFxAZmZmZmZGVEAzMzMzM5NYQOxRuB6Fa1ZACtejcD3KV0DD9Shcj8JWQEjhehSud1lA16NwPQo3WEAzMzMzM8NWQOxRuB6F60tAw/UoXI8CVUCkcD0K1wNXQNejcD0KZ1ZAw/UoXI9SVkAfhetRuA5eQFyPwvUoHE5AcT0K16NAVkAK16NwPZpdQLgehetRUGFAUrgehesBXkBxPQrXo8BWQD0K16Nw/U5ACtejcD3qYEBcj8L1KFxNQHsUrkfhmlZAAAAAAAAAWkAAAAAAAKBZQKRwPQrXo1pApHA9CtcTU0BSuB6F61FTQOF6FK5HoVZAZmZmZmYWW0BSuB6F6wFSQBSuR+F6pFZAw/UoXI9CWEApXI/C9fhUQOxRuB6F+1JAKVyPwvU4U0BxPQrXoxBPQGZmZmZmNllAMzMzMzPDV0BmZmZmZpZUQLgehetRmFRAmpmZmZnJU0BI4XoUridTQOxRuB6F61ZAuB6F61H4UUCuR+F6FP5RQM3MzMzMfFhA7FG4HoV7U0CF61G4HsVZQM3MzMzMTF9Aj8L1KFy/VEBSuB6F61FVQA==",
          "dtype": "f8"
         },
         "yaxis": "y"
        }
       ],
       "layout": {
        "coloraxis": {
         "showscale": false
        },
        "font": {
         "color": "white"
        },
        "legend": {
         "title": {
          "text": "color"
         },
         "tracegroupgap": 0
        },
        "paper_bgcolor": "black",
        "plot_bgcolor": "black",
        "template": {
         "data": {
          "bar": [
           {
            "error_x": {
             "color": "#f2f5fa"
            },
            "error_y": {
             "color": "#f2f5fa"
            },
            "marker": {
             "line": {
              "color": "rgb(17,17,17)",
              "width": 0.5
             },
             "pattern": {
              "fillmode": "overlay",
              "size": 10,
              "solidity": 0.2
             }
            },
            "type": "bar"
           }
          ],
          "barpolar": [
           {
            "marker": {
             "line": {
              "color": "rgb(17,17,17)",
              "width": 0.5
             },
             "pattern": {
              "fillmode": "overlay",
              "size": 10,
              "solidity": 0.2
             }
            },
            "type": "barpolar"
           }
          ],
          "carpet": [
           {
            "aaxis": {
             "endlinecolor": "#A2B1C6",
             "gridcolor": "#506784",
             "linecolor": "#506784",
             "minorgridcolor": "#506784",
             "startlinecolor": "#A2B1C6"
            },
            "baxis": {
             "endlinecolor": "#A2B1C6",
             "gridcolor": "#506784",
             "linecolor": "#506784",
             "minorgridcolor": "#506784",
             "startlinecolor": "#A2B1C6"
            },
            "type": "carpet"
           }
          ],
          "choropleth": [
           {
            "colorbar": {
             "outlinewidth": 0,
             "ticks": ""
            },
            "type": "choropleth"
           }
          ],
          "contour": [
           {
            "colorbar": {
             "outlinewidth": 0,
             "ticks": ""
            },
            "colorscale": [
             [
              0,
              "#0d0887"
             ],
             [
              0.1111111111111111,
              "#46039f"
             ],
             [
              0.2222222222222222,
              "#7201a8"
             ],
             [
              0.3333333333333333,
              "#9c179e"
             ],
             [
              0.4444444444444444,
              "#bd3786"
             ],
             [
              0.5555555555555556,
              "#d8576b"
             ],
             [
              0.6666666666666666,
              "#ed7953"
             ],
             [
              0.7777777777777778,
              "#fb9f3a"
             ],
             [
              0.8888888888888888,
              "#fdca26"
             ],
             [
              1,
              "#f0f921"
             ]
            ],
            "type": "contour"
           }
          ],
          "contourcarpet": [
           {
            "colorbar": {
             "outlinewidth": 0,
             "ticks": ""
            },
            "type": "contourcarpet"
           }
          ],
          "heatmap": [
           {
            "colorbar": {
             "outlinewidth": 0,
             "ticks": ""
            },
            "colorscale": [
             [
              0,
              "#0d0887"
             ],
             [
              0.1111111111111111,
              "#46039f"
             ],
             [
              0.2222222222222222,
              "#7201a8"
             ],
             [
              0.3333333333333333,
              "#9c179e"
             ],
             [
              0.4444444444444444,
              "#bd3786"
             ],
             [
              0.5555555555555556,
              "#d8576b"
             ],
             [
              0.6666666666666666,
              "#ed7953"
             ],
             [
              0.7777777777777778,
              "#fb9f3a"
             ],
             [
              0.8888888888888888,
              "#fdca26"
             ],
             [
              1,
              "#f0f921"
             ]
            ],
            "type": "heatmap"
           }
          ],
          "histogram": [
           {
            "marker": {
             "pattern": {
              "fillmode": "overlay",
              "size": 10,
              "solidity": 0.2
             }
            },
            "type": "histogram"
           }
          ],
          "histogram2d": [
           {
            "colorbar": {
             "outlinewidth": 0,
             "ticks": ""
            },
            "colorscale": [
             [
              0,
              "#0d0887"
             ],
             [
              0.1111111111111111,
              "#46039f"
             ],
             [
              0.2222222222222222,
              "#7201a8"
             ],
             [
              0.3333333333333333,
              "#9c179e"
             ],
             [
              0.4444444444444444,
              "#bd3786"
             ],
             [
              0.5555555555555556,
              "#d8576b"
             ],
             [
              0.6666666666666666,
              "#ed7953"
             ],
             [
              0.7777777777777778,
              "#fb9f3a"
             ],
             [
              0.8888888888888888,
              "#fdca26"
             ],
             [
              1,
              "#f0f921"
             ]
            ],
            "type": "histogram2d"
           }
          ],
          "histogram2dcontour": [
           {
            "colorbar": {
             "outlinewidth": 0,
             "ticks": ""
            },
            "colorscale": [
             [
              0,
              "#0d0887"
             ],
             [
              0.1111111111111111,
              "#46039f"
             ],
             [
              0.2222222222222222,
              "#7201a8"
             ],
             [
              0.3333333333333333,
              "#9c179e"
             ],
             [
              0.4444444444444444,
              "#bd3786"
             ],
             [
              0.5555555555555556,
              "#d8576b"
             ],
             [
              0.6666666666666666,
              "#ed7953"
             ],
             [
              0.7777777777777778,
              "#fb9f3a"
             ],
             [
              0.8888888888888888,
              "#fdca26"
             ],
             [
              1,
              "#f0f921"
             ]
            ],
            "type": "histogram2dcontour"
           }
          ],
          "mesh3d": [
           {
            "colorbar": {
             "outlinewidth": 0,
             "ticks": ""
            },
            "type": "mesh3d"
           }
          ],
          "parcoords": [
           {
            "line": {
             "colorbar": {
              "outlinewidth": 0,
              "ticks": ""
             }
            },
            "type": "parcoords"
           }
          ],
          "pie": [
           {
            "automargin": true,
            "type": "pie"
           }
          ],
          "scatter": [
           {
            "marker": {
             "line": {
              "color": "#283442"
             }
            },
            "type": "scatter"
           }
          ],
          "scatter3d": [
           {
            "line": {
             "colorbar": {
              "outlinewidth": 0,
              "ticks": ""
             }
            },
            "marker": {
             "colorbar": {
              "outlinewidth": 0,
              "ticks": ""
             }
            },
            "type": "scatter3d"
           }
          ],
          "scattercarpet": [
           {
            "marker": {
             "colorbar": {
              "outlinewidth": 0,
              "ticks": ""
             }
            },
            "type": "scattercarpet"
           }
          ],
          "scattergeo": [
           {
            "marker": {
             "colorbar": {
              "outlinewidth": 0,
              "ticks": ""
             }
            },
            "type": "scattergeo"
           }
          ],
          "scattergl": [
           {
            "marker": {
             "line": {
              "color": "#283442"
             }
            },
            "type": "scattergl"
           }
          ],
          "scattermap": [
           {
            "marker": {
             "colorbar": {
              "outlinewidth": 0,
              "ticks": ""
             }
            },
            "type": "scattermap"
           }
          ],
          "scattermapbox": [
           {
            "marker": {
             "colorbar": {
              "outlinewidth": 0,
              "ticks": ""
             }
            },
            "type": "scattermapbox"
           }
          ],
          "scatterpolar": [
           {
            "marker": {
             "colorbar": {
              "outlinewidth": 0,
              "ticks": ""
             }
            },
            "type": "scatterpolar"
           }
          ],
          "scatterpolargl": [
           {
            "marker": {
             "colorbar": {
              "outlinewidth": 0,
              "ticks": ""
             }
            },
            "type": "scatterpolargl"
           }
          ],
          "scatterternary": [
           {
            "marker": {
             "colorbar": {
              "outlinewidth": 0,
              "ticks": ""
             }
            },
            "type": "scatterternary"
           }
          ],
          "surface": [
           {
            "colorbar": {
             "outlinewidth": 0,
             "ticks": ""
            },
            "colorscale": [
             [
              0,
              "#0d0887"
             ],
             [
              0.1111111111111111,
              "#46039f"
             ],
             [
              0.2222222222222222,
              "#7201a8"
             ],
             [
              0.3333333333333333,
              "#9c179e"
             ],
             [
              0.4444444444444444,
              "#bd3786"
             ],
             [
              0.5555555555555556,
              "#d8576b"
             ],
             [
              0.6666666666666666,
              "#ed7953"
             ],
             [
              0.7777777777777778,
              "#fb9f3a"
             ],
             [
              0.8888888888888888,
              "#fdca26"
             ],
             [
              1,
              "#f0f921"
             ]
            ],
            "type": "surface"
           }
          ],
          "table": [
           {
            "cells": {
             "fill": {
              "color": "#506784"
             },
             "line": {
              "color": "rgb(17,17,17)"
             }
            },
            "header": {
             "fill": {
              "color": "#2a3f5f"
             },
             "line": {
              "color": "rgb(17,17,17)"
             }
            },
            "type": "table"
           }
          ]
         },
         "layout": {
          "annotationdefaults": {
           "arrowcolor": "#f2f5fa",
           "arrowhead": 0,
           "arrowwidth": 1
          },
          "autotypenumbers": "strict",
          "coloraxis": {
           "colorbar": {
            "outlinewidth": 0,
            "ticks": ""
           }
          },
          "colorscale": {
           "diverging": [
            [
             0,
             "#8e0152"
            ],
            [
             0.1,
             "#c51b7d"
            ],
            [
             0.2,
             "#de77ae"
            ],
            [
             0.3,
             "#f1b6da"
            ],
            [
             0.4,
             "#fde0ef"
            ],
            [
             0.5,
             "#f7f7f7"
            ],
            [
             0.6,
             "#e6f5d0"
            ],
            [
             0.7,
             "#b8e186"
            ],
            [
             0.8,
             "#7fbc41"
            ],
            [
             0.9,
             "#4d9221"
            ],
            [
             1,
             "#276419"
            ]
           ],
           "sequential": [
            [
             0,
             "#0d0887"
            ],
            [
             0.1111111111111111,
             "#46039f"
            ],
            [
             0.2222222222222222,
             "#7201a8"
            ],
            [
             0.3333333333333333,
             "#9c179e"
            ],
            [
             0.4444444444444444,
             "#bd3786"
            ],
            [
             0.5555555555555556,
             "#d8576b"
            ],
            [
             0.6666666666666666,
             "#ed7953"
            ],
            [
             0.7777777777777778,
             "#fb9f3a"
            ],
            [
             0.8888888888888888,
             "#fdca26"
            ],
            [
             1,
             "#f0f921"
            ]
           ],
           "sequentialminus": [
            [
             0,
             "#0d0887"
            ],
            [
             0.1111111111111111,
             "#46039f"
            ],
            [
             0.2222222222222222,
             "#7201a8"
            ],
            [
             0.3333333333333333,
             "#9c179e"
            ],
            [
             0.4444444444444444,
             "#bd3786"
            ],
            [
             0.5555555555555556,
             "#d8576b"
            ],
            [
             0.6666666666666666,
             "#ed7953"
            ],
            [
             0.7777777777777778,
             "#fb9f3a"
            ],
            [
             0.8888888888888888,
             "#fdca26"
            ],
            [
             1,
             "#f0f921"
            ]
           ]
          },
          "colorway": [
           "#636efa",
           "#EF553B",
           "#00cc96",
           "#ab63fa",
           "#FFA15A",
           "#19d3f3",
           "#FF6692",
           "#B6E880",
           "#FF97FF",
           "#FECB52"
          ],
          "font": {
           "color": "#f2f5fa"
          },
          "geo": {
           "bgcolor": "rgb(17,17,17)",
           "lakecolor": "rgb(17,17,17)",
           "landcolor": "rgb(17,17,17)",
           "showlakes": true,
           "showland": true,
           "subunitcolor": "#506784"
          },
          "hoverlabel": {
           "align": "left"
          },
          "hovermode": "closest",
          "mapbox": {
           "style": "dark"
          },
          "paper_bgcolor": "rgb(17,17,17)",
          "plot_bgcolor": "rgb(17,17,17)",
          "polar": {
           "angularaxis": {
            "gridcolor": "#506784",
            "linecolor": "#506784",
            "ticks": ""
           },
           "bgcolor": "rgb(17,17,17)",
           "radialaxis": {
            "gridcolor": "#506784",
            "linecolor": "#506784",
            "ticks": ""
           }
          },
          "scene": {
           "xaxis": {
            "backgroundcolor": "rgb(17,17,17)",
            "gridcolor": "#506784",
            "gridwidth": 2,
            "linecolor": "#506784",
            "showbackground": true,
            "ticks": "",
            "zerolinecolor": "#C8D4E3"
           },
           "yaxis": {
            "backgroundcolor": "rgb(17,17,17)",
            "gridcolor": "#506784",
            "gridwidth": 2,
            "linecolor": "#506784",
            "showbackground": true,
            "ticks": "",
            "zerolinecolor": "#C8D4E3"
           },
           "zaxis": {
            "backgroundcolor": "rgb(17,17,17)",
            "gridcolor": "#506784",
            "gridwidth": 2,
            "linecolor": "#506784",
            "showbackground": true,
            "ticks": "",
            "zerolinecolor": "#C8D4E3"
           }
          },
          "shapedefaults": {
           "line": {
            "color": "#f2f5fa"
           }
          },
          "sliderdefaults": {
           "bgcolor": "#C8D4E3",
           "bordercolor": "rgb(17,17,17)",
           "borderwidth": 1,
           "tickwidth": 0
          },
          "ternary": {
           "aaxis": {
            "gridcolor": "#506784",
            "linecolor": "#506784",
            "ticks": ""
           },
           "baxis": {
            "gridcolor": "#506784",
            "linecolor": "#506784",
            "ticks": ""
           },
           "bgcolor": "rgb(17,17,17)",
           "caxis": {
            "gridcolor": "#506784",
            "linecolor": "#506784",
            "ticks": ""
           }
          },
          "title": {
           "x": 0.05
          },
          "updatemenudefaults": {
           "bgcolor": "#506784",
           "borderwidth": 0
          },
          "xaxis": {
           "automargin": true,
           "gridcolor": "#283442",
           "linecolor": "#506784",
           "ticks": "",
           "title": {
            "standoff": 15
           },
           "zerolinecolor": "#283442",
           "zerolinewidth": 2
          },
          "yaxis": {
           "automargin": true,
           "gridcolor": "#283442",
           "linecolor": "#506784",
           "ticks": "",
           "title": {
            "standoff": 15
           },
           "zerolinecolor": "#283442",
           "zerolinewidth": 2
          }
         }
        },
        "title": {
         "text": "bmi vs avg_glucose_level (Colored by Stroke Variations)"
        },
        "xaxis": {
         "anchor": "y",
         "domain": [
          0,
          1
         ],
         "title": {
          "text": "bmi"
         }
        },
        "yaxis": {
         "anchor": "x",
         "domain": [
          0,
          1
         ],
         "title": {
          "text": "avg_glucose_level"
         }
        }
       }
      }
     },
     "metadata": {},
     "output_type": "display_data"
    }
   ],
   "source": [
    "# Manually define color mapping for stroke (0 → White, 1 → Shades of Red)\n",
    "stroke_color_map = {0: \"#ffffff\", 1: \"#d62728\"}  # White for No Stroke, Dark Red for Stroke\n",
    "\n",
    "scatter_plots = [\n",
    "    ('age', 'bmi'),\n",
    "    ('age', 'avg_glucose_level'),\n",
    "    ('bmi', 'avg_glucose_level')\n",
    "]\n",
    "\n",
    "for x_col, y_col in scatter_plots:\n",
    "    fig = px.scatter(df, x=x_col, y=y_col, color=df[\"stroke\"].map(stroke_color_map),\n",
    "                     title=f\"{x_col} vs {y_col} (Colored by Stroke Variations)\",\n",
    "                     opacity=0.8)\n",
    "\n",
    "    fig.update_traces(marker=dict(size=7))  # Adjust marker size for better visibility\n",
    "\n",
    "    fig.update_layout(\n",
    "        template=\"plotly_dark\",\n",
    "        plot_bgcolor=\"black\",\n",
    "        paper_bgcolor=\"black\",\n",
    "        font=dict(color=\"white\"),\n",
    "        coloraxis_showscale=False  # Hide color scale since it's binary\n",
    "    )\n",
    "    \n",
    "    fig.show()"
   ]
  },
  {
   "cell_type": "code",
   "execution_count": 69,
   "metadata": {},
   "outputs": [
    {
     "data": {
      "application/vnd.plotly.v1+json": {
       "config": {
        "plotlyServerURL": "https://plot.ly"
       },
       "data": [
        {
         "alignmentgroup": "True",
         "box": {
          "visible": true
         },
         "hovertemplate": "stroke=1<br>age=%{y}<extra></extra>",
         "legendgroup": "1",
         "marker": {
          "color": "#ffffff"
         },
         "name": "1",
         "offsetgroup": "1",
         "orientation": "v",
         "points": "all",
         "scalegroup": "True",
         "showlegend": true,
         "type": "violin",
         "x0": " ",
         "xaxis": "x",
         "y": {
          "bdata": "AAAAAAAAVEAAAAAAAIBSQAAAAAAAQFFAAAAAAACAU0AAAAAAAEBUQAAAAAAAgE5AAAAAAAAAS0AAAAAAAABOQAAAAAAAwFFAAAAAAAAAVEAAAAAAAEBQQAAAAAAAAEVAAAAAAAAASEAAAAAAAIBUQAAAAAAAAFJAAAAAAAAATUAAAAAAAIBIQAAAAAAAgFNAAAAAAAAAS0AAAAAAAIBUQAAAAAAAAE1AAAAAAABAVEAAAAAAAIBDQAAAAAAAwFNAAAAAAABAU0AAAAAAAIBUQAAAAAAAAFRAAAAAAADAUEAAAAAAAIBGQAAAAAAAgFNAAAAAAAAAU0AAAAAAAIBNQAAAAAAAAFRAAAAAAACAUEAAAAAAAABKQAAAAAAAAFRAAAAAAADAU0AAAAAAAIBNQAAAAAAAwFNAAAAAAAAAUUAAAAAAAABLQAAAAAAAgE5AAAAAAACAUUAAAAAAAIBHQAAAAAAAgFJAAAAAAABAVEAAAAAAAIBMQAAAAAAAAFRAAAAAAACARkAAAAAAAIBRQAAAAAAAgExAAAAAAABAUUAAAAAAAABQQAAAAAAAQFRAAAAAAACATEAAAAAAAABJQAAAAAAAwFNAAAAAAACASkAAAAAAAMBTQAAAAAAAAFRAAAAAAAAAUUAAAAAAAIBOQAAAAAAAgFJAAAAAAAAAQ0AAAAAAAEBTQAAAAAAAAE1AAAAAAACASkAAAAAAAABSQAAAAAAAAFRAAAAAAACAU0AAAAAAAABTQAAAAAAAgFRAAAAAAACATUAAAAAAAIBSQAAAAAAAQFFAAAAAAACAU0AAAAAAAIBMQAAAAAAAAFRAAAAAAAAAUUAAAAAAAIBLQAAAAAAAAElAAAAAAABAVEAAAAAAAIBRQAAAAAAAgFNAAAAAAADAU0AAAAAAAEBUQAAAAAAAAE5AAAAAAAAAVEAAAAAAAABUQAAAAAAAgFNAAAAAAAAAR0AAAAAAAIBNQAAAAAAAAEBAAAAAAACATkAAAAAAAIBPQAAAAAAAgE9AAAAAAACAVEAAAAAAAIBJQAAAAAAAgE1AAAAAAAAAUkAAAAAAAEBRQAAAAAAAgFJAAAAAAABAU0AAAAAAAIBTQAAAAAAAAEtAAAAAAACAU0AAAAAAAEBUQAAAAAAAgFNAAAAAAACAU0AAAAAAAIBPQAAAAAAAgENAAAAAAACASUAAAAAAAABIQAAAAAAAQFRAAAAAAACAU0AAAAAAAMBTQAAAAAAAQFRAAAAAAACASEAAAAAAAIBDQAAAAAAAAFRAAAAAAABAVEAAAAAAAMBTQAAAAAAAQFJAAAAAAACATEAAAAAAAIBJQAAAAAAAAE5AAAAAAACAUEAAAAAAAIBMQAAAAAAAACxAAAAAAADAUkAAAAAAAIBTQA==",
          "dtype": "f8"
         },
         "y0": " ",
         "yaxis": "y"
        },
        {
         "alignmentgroup": "True",
         "box": {
          "visible": true
         },
         "hovertemplate": "stroke=0<br>age=%{y}<extra></extra>",
         "legendgroup": "0",
         "marker": {
          "color": "#d62728"
         },
         "name": "0",
         "offsetgroup": "0",
         "orientation": "v",
         "points": "all",
         "scalegroup": "True",
         "showlegend": true,
         "type": "violin",
         "x0": " ",
         "xaxis": "x",
         "y": {
          "bdata": "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",
          "dtype": "f8"
         },
         "y0": " ",
         "yaxis": "y"
        }
       ],
       "layout": {
        "font": {
         "color": "white"
        },
        "legend": {
         "title": {
          "text": "stroke"
         },
         "tracegroupgap": 0
        },
        "paper_bgcolor": "black",
        "plot_bgcolor": "black",
        "template": {
         "data": {
          "bar": [
           {
            "error_x": {
             "color": "#f2f5fa"
            },
            "error_y": {
             "color": "#f2f5fa"
            },
            "marker": {
             "line": {
              "color": "rgb(17,17,17)",
              "width": 0.5
             },
             "pattern": {
              "fillmode": "overlay",
              "size": 10,
              "solidity": 0.2
             }
            },
            "type": "bar"
           }
          ],
          "barpolar": [
           {
            "marker": {
             "line": {
              "color": "rgb(17,17,17)",
              "width": 0.5
             },
             "pattern": {
              "fillmode": "overlay",
              "size": 10,
              "solidity": 0.2
             }
            },
            "type": "barpolar"
           }
          ],
          "carpet": [
           {
            "aaxis": {
             "endlinecolor": "#A2B1C6",
             "gridcolor": "#506784",
             "linecolor": "#506784",
             "minorgridcolor": "#506784",
             "startlinecolor": "#A2B1C6"
            },
            "baxis": {
             "endlinecolor": "#A2B1C6",
             "gridcolor": "#506784",
             "linecolor": "#506784",
             "minorgridcolor": "#506784",
             "startlinecolor": "#A2B1C6"
            },
            "type": "carpet"
           }
          ],
          "choropleth": [
           {
            "colorbar": {
             "outlinewidth": 0,
             "ticks": ""
            },
            "type": "choropleth"
           }
          ],
          "contour": [
           {
            "colorbar": {
             "outlinewidth": 0,
             "ticks": ""
            },
            "colorscale": [
             [
              0,
              "#0d0887"
             ],
             [
              0.1111111111111111,
              "#46039f"
             ],
             [
              0.2222222222222222,
              "#7201a8"
             ],
             [
              0.3333333333333333,
              "#9c179e"
             ],
             [
              0.4444444444444444,
              "#bd3786"
             ],
             [
              0.5555555555555556,
              "#d8576b"
             ],
             [
              0.6666666666666666,
              "#ed7953"
             ],
             [
              0.7777777777777778,
              "#fb9f3a"
             ],
             [
              0.8888888888888888,
              "#fdca26"
             ],
             [
              1,
              "#f0f921"
             ]
            ],
            "type": "contour"
           }
          ],
          "contourcarpet": [
           {
            "colorbar": {
             "outlinewidth": 0,
             "ticks": ""
            },
            "type": "contourcarpet"
           }
          ],
          "heatmap": [
           {
            "colorbar": {
             "outlinewidth": 0,
             "ticks": ""
            },
            "colorscale": [
             [
              0,
              "#0d0887"
             ],
             [
              0.1111111111111111,
              "#46039f"
             ],
             [
              0.2222222222222222,
              "#7201a8"
             ],
             [
              0.3333333333333333,
              "#9c179e"
             ],
             [
              0.4444444444444444,
              "#bd3786"
             ],
             [
              0.5555555555555556,
              "#d8576b"
             ],
             [
              0.6666666666666666,
              "#ed7953"
             ],
             [
              0.7777777777777778,
              "#fb9f3a"
             ],
             [
              0.8888888888888888,
              "#fdca26"
             ],
             [
              1,
              "#f0f921"
             ]
            ],
            "type": "heatmap"
           }
          ],
          "histogram": [
           {
            "marker": {
             "pattern": {
              "fillmode": "overlay",
              "size": 10,
              "solidity": 0.2
             }
            },
            "type": "histogram"
           }
          ],
          "histogram2d": [
           {
            "colorbar": {
             "outlinewidth": 0,
             "ticks": ""
            },
            "colorscale": [
             [
              0,
              "#0d0887"
             ],
             [
              0.1111111111111111,
              "#46039f"
             ],
             [
              0.2222222222222222,
              "#7201a8"
             ],
             [
              0.3333333333333333,
              "#9c179e"
             ],
             [
              0.4444444444444444,
              "#bd3786"
             ],
             [
              0.5555555555555556,
              "#d8576b"
             ],
             [
              0.6666666666666666,
              "#ed7953"
             ],
             [
              0.7777777777777778,
              "#fb9f3a"
             ],
             [
              0.8888888888888888,
              "#fdca26"
             ],
             [
              1,
              "#f0f921"
             ]
            ],
            "type": "histogram2d"
           }
          ],
          "histogram2dcontour": [
           {
            "colorbar": {
             "outlinewidth": 0,
             "ticks": ""
            },
            "colorscale": [
             [
              0,
              "#0d0887"
             ],
             [
              0.1111111111111111,
              "#46039f"
             ],
             [
              0.2222222222222222,
              "#7201a8"
             ],
             [
              0.3333333333333333,
              "#9c179e"
             ],
             [
              0.4444444444444444,
              "#bd3786"
             ],
             [
              0.5555555555555556,
              "#d8576b"
             ],
             [
              0.6666666666666666,
              "#ed7953"
             ],
             [
              0.7777777777777778,
              "#fb9f3a"
             ],
             [
              0.8888888888888888,
              "#fdca26"
             ],
             [
              1,
              "#f0f921"
             ]
            ],
            "type": "histogram2dcontour"
           }
          ],
          "mesh3d": [
           {
            "colorbar": {
             "outlinewidth": 0,
             "ticks": ""
            },
            "type": "mesh3d"
           }
          ],
          "parcoords": [
           {
            "line": {
             "colorbar": {
              "outlinewidth": 0,
              "ticks": ""
             }
            },
            "type": "parcoords"
           }
          ],
          "pie": [
           {
            "automargin": true,
            "type": "pie"
           }
          ],
          "scatter": [
           {
            "marker": {
             "line": {
              "color": "#283442"
             }
            },
            "type": "scatter"
           }
          ],
          "scatter3d": [
           {
            "line": {
             "colorbar": {
              "outlinewidth": 0,
              "ticks": ""
             }
            },
            "marker": {
             "colorbar": {
              "outlinewidth": 0,
              "ticks": ""
             }
            },
            "type": "scatter3d"
           }
          ],
          "scattercarpet": [
           {
            "marker": {
             "colorbar": {
              "outlinewidth": 0,
              "ticks": ""
             }
            },
            "type": "scattercarpet"
           }
          ],
          "scattergeo": [
           {
            "marker": {
             "colorbar": {
              "outlinewidth": 0,
              "ticks": ""
             }
            },
            "type": "scattergeo"
           }
          ],
          "scattergl": [
           {
            "marker": {
             "line": {
              "color": "#283442"
             }
            },
            "type": "scattergl"
           }
          ],
          "scattermap": [
           {
            "marker": {
             "colorbar": {
              "outlinewidth": 0,
              "ticks": ""
             }
            },
            "type": "scattermap"
           }
          ],
          "scattermapbox": [
           {
            "marker": {
             "colorbar": {
              "outlinewidth": 0,
              "ticks": ""
             }
            },
            "type": "scattermapbox"
           }
          ],
          "scatterpolar": [
           {
            "marker": {
             "colorbar": {
              "outlinewidth": 0,
              "ticks": ""
             }
            },
            "type": "scatterpolar"
           }
          ],
          "scatterpolargl": [
           {
            "marker": {
             "colorbar": {
              "outlinewidth": 0,
              "ticks": ""
             }
            },
            "type": "scatterpolargl"
           }
          ],
          "scatterternary": [
           {
            "marker": {
             "colorbar": {
              "outlinewidth": 0,
              "ticks": ""
             }
            },
            "type": "scatterternary"
           }
          ],
          "surface": [
           {
            "colorbar": {
             "outlinewidth": 0,
             "ticks": ""
            },
            "colorscale": [
             [
              0,
              "#0d0887"
             ],
             [
              0.1111111111111111,
              "#46039f"
             ],
             [
              0.2222222222222222,
              "#7201a8"
             ],
             [
              0.3333333333333333,
              "#9c179e"
             ],
             [
              0.4444444444444444,
              "#bd3786"
             ],
             [
              0.5555555555555556,
              "#d8576b"
             ],
             [
              0.6666666666666666,
              "#ed7953"
             ],
             [
              0.7777777777777778,
              "#fb9f3a"
             ],
             [
              0.8888888888888888,
              "#fdca26"
             ],
             [
              1,
              "#f0f921"
             ]
            ],
            "type": "surface"
           }
          ],
          "table": [
           {
            "cells": {
             "fill": {
              "color": "#506784"
             },
             "line": {
              "color": "rgb(17,17,17)"
             }
            },
            "header": {
             "fill": {
              "color": "#2a3f5f"
             },
             "line": {
              "color": "rgb(17,17,17)"
             }
            },
            "type": "table"
           }
          ]
         },
         "layout": {
          "annotationdefaults": {
           "arrowcolor": "#f2f5fa",
           "arrowhead": 0,
           "arrowwidth": 1
          },
          "autotypenumbers": "strict",
          "coloraxis": {
           "colorbar": {
            "outlinewidth": 0,
            "ticks": ""
           }
          },
          "colorscale": {
           "diverging": [
            [
             0,
             "#8e0152"
            ],
            [
             0.1,
             "#c51b7d"
            ],
            [
             0.2,
             "#de77ae"
            ],
            [
             0.3,
             "#f1b6da"
            ],
            [
             0.4,
             "#fde0ef"
            ],
            [
             0.5,
             "#f7f7f7"
            ],
            [
             0.6,
             "#e6f5d0"
            ],
            [
             0.7,
             "#b8e186"
            ],
            [
             0.8,
             "#7fbc41"
            ],
            [
             0.9,
             "#4d9221"
            ],
            [
             1,
             "#276419"
            ]
           ],
           "sequential": [
            [
             0,
             "#0d0887"
            ],
            [
             0.1111111111111111,
             "#46039f"
            ],
            [
             0.2222222222222222,
             "#7201a8"
            ],
            [
             0.3333333333333333,
             "#9c179e"
            ],
            [
             0.4444444444444444,
             "#bd3786"
            ],
            [
             0.5555555555555556,
             "#d8576b"
            ],
            [
             0.6666666666666666,
             "#ed7953"
            ],
            [
             0.7777777777777778,
             "#fb9f3a"
            ],
            [
             0.8888888888888888,
             "#fdca26"
            ],
            [
             1,
             "#f0f921"
            ]
           ],
           "sequentialminus": [
            [
             0,
             "#0d0887"
            ],
            [
             0.1111111111111111,
             "#46039f"
            ],
            [
             0.2222222222222222,
             "#7201a8"
            ],
            [
             0.3333333333333333,
             "#9c179e"
            ],
            [
             0.4444444444444444,
             "#bd3786"
            ],
            [
             0.5555555555555556,
             "#d8576b"
            ],
            [
             0.6666666666666666,
             "#ed7953"
            ],
            [
             0.7777777777777778,
             "#fb9f3a"
            ],
            [
             0.8888888888888888,
             "#fdca26"
            ],
            [
             1,
             "#f0f921"
            ]
           ]
          },
          "colorway": [
           "#636efa",
           "#EF553B",
           "#00cc96",
           "#ab63fa",
           "#FFA15A",
           "#19d3f3",
           "#FF6692",
           "#B6E880",
           "#FF97FF",
           "#FECB52"
          ],
          "font": {
           "color": "#f2f5fa"
          },
          "geo": {
           "bgcolor": "rgb(17,17,17)",
           "lakecolor": "rgb(17,17,17)",
           "landcolor": "rgb(17,17,17)",
           "showlakes": true,
           "showland": true,
           "subunitcolor": "#506784"
          },
          "hoverlabel": {
           "align": "left"
          },
          "hovermode": "closest",
          "mapbox": {
           "style": "dark"
          },
          "paper_bgcolor": "rgb(17,17,17)",
          "plot_bgcolor": "rgb(17,17,17)",
          "polar": {
           "angularaxis": {
            "gridcolor": "#506784",
            "linecolor": "#506784",
            "ticks": ""
           },
           "bgcolor": "rgb(17,17,17)",
           "radialaxis": {
            "gridcolor": "#506784",
            "linecolor": "#506784",
            "ticks": ""
           }
          },
          "scene": {
           "xaxis": {
            "backgroundcolor": "rgb(17,17,17)",
            "gridcolor": "#506784",
            "gridwidth": 2,
            "linecolor": "#506784",
            "showbackground": true,
            "ticks": "",
            "zerolinecolor": "#C8D4E3"
           },
           "yaxis": {
            "backgroundcolor": "rgb(17,17,17)",
            "gridcolor": "#506784",
            "gridwidth": 2,
            "linecolor": "#506784",
            "showbackground": true,
            "ticks": "",
            "zerolinecolor": "#C8D4E3"
           },
           "zaxis": {
            "backgroundcolor": "rgb(17,17,17)",
            "gridcolor": "#506784",
            "gridwidth": 2,
            "linecolor": "#506784",
            "showbackground": true,
            "ticks": "",
            "zerolinecolor": "#C8D4E3"
           }
          },
          "shapedefaults": {
           "line": {
            "color": "#f2f5fa"
           }
          },
          "sliderdefaults": {
           "bgcolor": "#C8D4E3",
           "bordercolor": "rgb(17,17,17)",
           "borderwidth": 1,
           "tickwidth": 0
          },
          "ternary": {
           "aaxis": {
            "gridcolor": "#506784",
            "linecolor": "#506784",
            "ticks": ""
           },
           "baxis": {
            "gridcolor": "#506784",
            "linecolor": "#506784",
            "ticks": ""
           },
           "bgcolor": "rgb(17,17,17)",
           "caxis": {
            "gridcolor": "#506784",
            "linecolor": "#506784",
            "ticks": ""
           }
          },
          "title": {
           "x": 0.05
          },
          "updatemenudefaults": {
           "bgcolor": "#506784",
           "borderwidth": 0
          },
          "xaxis": {
           "automargin": true,
           "gridcolor": "#283442",
           "linecolor": "#506784",
           "ticks": "",
           "title": {
            "standoff": 15
           },
           "zerolinecolor": "#283442",
           "zerolinewidth": 2
          },
          "yaxis": {
           "automargin": true,
           "gridcolor": "#283442",
           "linecolor": "#506784",
           "ticks": "",
           "title": {
            "standoff": 15
           },
           "zerolinecolor": "#283442",
           "zerolinewidth": 2
          }
         }
        },
        "title": {
         "text": "Violin Plot of age (Colored by Stroke)"
        },
        "violinmode": "group",
        "xaxis": {
         "anchor": "y",
         "domain": [
          0,
          1
         ]
        },
        "yaxis": {
         "anchor": "x",
         "domain": [
          0,
          1
         ],
         "title": {
          "text": "age"
         }
        }
       }
      }
     },
     "metadata": {},
     "output_type": "display_data"
    },
    {
     "data": {
      "application/vnd.plotly.v1+json": {
       "config": {
        "plotlyServerURL": "https://plot.ly"
       },
       "data": [
        {
         "alignmentgroup": "True",
         "box": {
          "visible": true
         },
         "hovertemplate": "stroke=1<br>avg_glucose_level=%{y}<extra></extra>",
         "legendgroup": "1",
         "marker": {
          "color": "#ffffff"
         },
         "name": "1",
         "offsetgroup": "1",
         "orientation": "v",
         "points": "all",
         "scalegroup": "True",
         "showlegend": true,
         "type": "violin",
         "x0": " ",
         "xaxis": "x",
         "y": {
          "bdata": "exSuR+F6WkD2KFyPwoVRQClcj8L1mFdAKVyPwvVITUDsUbgehRtUQD0K16NwHV5AcT0K16MgWkCuR+F6FE5WQEjhehSut1lASOF6FK4HWkAfhetRuD5ZQArXo3A92lRAzczMzMwMVUBSuB6F6wFVQLgehetRqFJASOF6FK4nV0AUrkfhenROQFK4HoXrgVNArkfhehTOUUDNzMzMzBxiQHE9Ctej0FpAhetRuB7VWEDsUbgehQtNQMP1KFyP0l9AuB6F61EIX0ApXI/C9ahNQJqZmZmZuVJAuB6F61H4TkCuR+F6FG5XQHE9CtejQFxArkfhehQeWkAfhetRuI5VQHsUrkfhKlJAMzMzMzMjXUD2KFyPwiVYQK5H4XoUrlBAZmZmZma2W0AK16NwPQpYQHsUrkfhOlZAw/UoXI/yU0CuR+F6FD5YQKRwPQrX81tAzczMzMysTUBcj8L1KLxVQDMzMzMzo1hApHA9CtczUkDhehSuRwFRQKRwPQrXI1FAKVyPwvUIUED2KFyPwhVTQHsUrkfhulNApHA9CtezVEBmZmZmZoZSQM3MzMzMrFNA4XoUrkehW0DsUbgehUtSQDMzMzMzQ1dAexSuR+EKUECPwvUoXD9gQFK4HoXrIVFAZmZmZmaGVEDXo3A9CgdTQD0K16NwPVJAUrgeheuRVECuR+F6FE5aQK5H4XoU7k1AZmZmZmZGT0CF61G4Hm1gQMP1KFyPYlJA4XoUrkdRYEAzMzMzM4NhQOxRuB6F61lAXI/C9SgcXUBSuB6F65FRQHsUrkfhClJAw/UoXI/SUEAK16NwPdpQQBSuR+F6JFNAFK5H4Xp0U0AfhetRuD5XQArXo3A9illA4XoUrkeBUkC4HoXrUUhWQK5H4XoUpmBA4XoUrkeBWEDD9Shcj+JWQOxRuB6FW1hA4XoUrkfBVkBcj8L1KBxQQK5H4XoUDkxA7FG4HoWLU0DD9Shcj8JbQLgehetRCFNAj8L1KFwPXECamZmZmSlhQFyPwvUoLF1ASOF6FK6nVUAK16NwPQpcQFK4HoXrgV1AexSuR+F6WECkcD0K13NXQD0K16NwvVJAAAAAAACAVkCuR+F6FF5bQGZmZmZm9lVAj8L1KFyvWkC4HoXrUQhUQFyPwvUojFZAmpmZmZnZYECF61G4HqVaQI/C9Shcz1RA7FG4HoXbWUDXo3A9CodSQPYoXI/C9VdAZmZmZmYGXUAfhetRuC5SQDMzMzMzk1FA16NwPQo3WkBxPQrXo3BYQFK4HoXrgVBAzczMzMx8VEAfhetRuG5YQFyPwvUovFFAMzMzMzOTVUDNzMzMzAxWQHsUrkfh+lZAPQrXo3AdU0A9CtejcD1VQNejcD0K90xAMzMzMzOzU0CkcD0K17NTQA==",
          "dtype": "f8"
         },
         "y0": " ",
         "yaxis": "y"
        },
        {
         "alignmentgroup": "True",
         "box": {
          "visible": true
         },
         "hovertemplate": "stroke=0<br>avg_glucose_level=%{y}<extra></extra>",
         "legendgroup": "0",
         "marker": {
          "color": "#d62728"
         },
         "name": "0",
         "offsetgroup": "0",
         "orientation": "v",
         "points": "all",
         "scalegroup": "True",
         "showlegend": true,
         "type": "violin",
         "x0": " ",
         "xaxis": "x",
         "y": {
          "bdata": "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",
          "dtype": "f8"
         },
         "y0": " ",
         "yaxis": "y"
        }
       ],
       "layout": {
        "font": {
         "color": "white"
        },
        "legend": {
         "title": {
          "text": "stroke"
         },
         "tracegroupgap": 0
        },
        "paper_bgcolor": "black",
        "plot_bgcolor": "black",
        "template": {
         "data": {
          "bar": [
           {
            "error_x": {
             "color": "#f2f5fa"
            },
            "error_y": {
             "color": "#f2f5fa"
            },
            "marker": {
             "line": {
              "color": "rgb(17,17,17)",
              "width": 0.5
             },
             "pattern": {
              "fillmode": "overlay",
              "size": 10,
              "solidity": 0.2
             }
            },
            "type": "bar"
           }
          ],
          "barpolar": [
           {
            "marker": {
             "line": {
              "color": "rgb(17,17,17)",
              "width": 0.5
             },
             "pattern": {
              "fillmode": "overlay",
              "size": 10,
              "solidity": 0.2
             }
            },
            "type": "barpolar"
           }
          ],
          "carpet": [
           {
            "aaxis": {
             "endlinecolor": "#A2B1C6",
             "gridcolor": "#506784",
             "linecolor": "#506784",
             "minorgridcolor": "#506784",
             "startlinecolor": "#A2B1C6"
            },
            "baxis": {
             "endlinecolor": "#A2B1C6",
             "gridcolor": "#506784",
             "linecolor": "#506784",
             "minorgridcolor": "#506784",
             "startlinecolor": "#A2B1C6"
            },
            "type": "carpet"
           }
          ],
          "choropleth": [
           {
            "colorbar": {
             "outlinewidth": 0,
             "ticks": ""
            },
            "type": "choropleth"
           }
          ],
          "contour": [
           {
            "colorbar": {
             "outlinewidth": 0,
             "ticks": ""
            },
            "colorscale": [
             [
              0,
              "#0d0887"
             ],
             [
              0.1111111111111111,
              "#46039f"
             ],
             [
              0.2222222222222222,
              "#7201a8"
             ],
             [
              0.3333333333333333,
              "#9c179e"
             ],
             [
              0.4444444444444444,
              "#bd3786"
             ],
             [
              0.5555555555555556,
              "#d8576b"
             ],
             [
              0.6666666666666666,
              "#ed7953"
             ],
             [
              0.7777777777777778,
              "#fb9f3a"
             ],
             [
              0.8888888888888888,
              "#fdca26"
             ],
             [
              1,
              "#f0f921"
             ]
            ],
            "type": "contour"
           }
          ],
          "contourcarpet": [
           {
            "colorbar": {
             "outlinewidth": 0,
             "ticks": ""
            },
            "type": "contourcarpet"
           }
          ],
          "heatmap": [
           {
            "colorbar": {
             "outlinewidth": 0,
             "ticks": ""
            },
            "colorscale": [
             [
              0,
              "#0d0887"
             ],
             [
              0.1111111111111111,
              "#46039f"
             ],
             [
              0.2222222222222222,
              "#7201a8"
             ],
             [
              0.3333333333333333,
              "#9c179e"
             ],
             [
              0.4444444444444444,
              "#bd3786"
             ],
             [
              0.5555555555555556,
              "#d8576b"
             ],
             [
              0.6666666666666666,
              "#ed7953"
             ],
             [
              0.7777777777777778,
              "#fb9f3a"
             ],
             [
              0.8888888888888888,
              "#fdca26"
             ],
             [
              1,
              "#f0f921"
             ]
            ],
            "type": "heatmap"
           }
          ],
          "histogram": [
           {
            "marker": {
             "pattern": {
              "fillmode": "overlay",
              "size": 10,
              "solidity": 0.2
             }
            },
            "type": "histogram"
           }
          ],
          "histogram2d": [
           {
            "colorbar": {
             "outlinewidth": 0,
             "ticks": ""
            },
            "colorscale": [
             [
              0,
              "#0d0887"
             ],
             [
              0.1111111111111111,
              "#46039f"
             ],
             [
              0.2222222222222222,
              "#7201a8"
             ],
             [
              0.3333333333333333,
              "#9c179e"
             ],
             [
              0.4444444444444444,
              "#bd3786"
             ],
             [
              0.5555555555555556,
              "#d8576b"
             ],
             [
              0.6666666666666666,
              "#ed7953"
             ],
             [
              0.7777777777777778,
              "#fb9f3a"
             ],
             [
              0.8888888888888888,
              "#fdca26"
             ],
             [
              1,
              "#f0f921"
             ]
            ],
            "type": "histogram2d"
           }
          ],
          "histogram2dcontour": [
           {
            "colorbar": {
             "outlinewidth": 0,
             "ticks": ""
            },
            "colorscale": [
             [
              0,
              "#0d0887"
             ],
             [
              0.1111111111111111,
              "#46039f"
             ],
             [
              0.2222222222222222,
              "#7201a8"
             ],
             [
              0.3333333333333333,
              "#9c179e"
             ],
             [
              0.4444444444444444,
              "#bd3786"
             ],
             [
              0.5555555555555556,
              "#d8576b"
             ],
             [
              0.6666666666666666,
              "#ed7953"
             ],
             [
              0.7777777777777778,
              "#fb9f3a"
             ],
             [
              0.8888888888888888,
              "#fdca26"
             ],
             [
              1,
              "#f0f921"
             ]
            ],
            "type": "histogram2dcontour"
           }
          ],
          "mesh3d": [
           {
            "colorbar": {
             "outlinewidth": 0,
             "ticks": ""
            },
            "type": "mesh3d"
           }
          ],
          "parcoords": [
           {
            "line": {
             "colorbar": {
              "outlinewidth": 0,
              "ticks": ""
             }
            },
            "type": "parcoords"
           }
          ],
          "pie": [
           {
            "automargin": true,
            "type": "pie"
           }
          ],
          "scatter": [
           {
            "marker": {
             "line": {
              "color": "#283442"
             }
            },
            "type": "scatter"
           }
          ],
          "scatter3d": [
           {
            "line": {
             "colorbar": {
              "outlinewidth": 0,
              "ticks": ""
             }
            },
            "marker": {
             "colorbar": {
              "outlinewidth": 0,
              "ticks": ""
             }
            },
            "type": "scatter3d"
           }
          ],
          "scattercarpet": [
           {
            "marker": {
             "colorbar": {
              "outlinewidth": 0,
              "ticks": ""
             }
            },
            "type": "scattercarpet"
           }
          ],
          "scattergeo": [
           {
            "marker": {
             "colorbar": {
              "outlinewidth": 0,
              "ticks": ""
             }
            },
            "type": "scattergeo"
           }
          ],
          "scattergl": [
           {
            "marker": {
             "line": {
              "color": "#283442"
             }
            },
            "type": "scattergl"
           }
          ],
          "scattermap": [
           {
            "marker": {
             "colorbar": {
              "outlinewidth": 0,
              "ticks": ""
             }
            },
            "type": "scattermap"
           }
          ],
          "scattermapbox": [
           {
            "marker": {
             "colorbar": {
              "outlinewidth": 0,
              "ticks": ""
             }
            },
            "type": "scattermapbox"
           }
          ],
          "scatterpolar": [
           {
            "marker": {
             "colorbar": {
              "outlinewidth": 0,
              "ticks": ""
             }
            },
            "type": "scatterpolar"
           }
          ],
          "scatterpolargl": [
           {
            "marker": {
             "colorbar": {
              "outlinewidth": 0,
              "ticks": ""
             }
            },
            "type": "scatterpolargl"
           }
          ],
          "scatterternary": [
           {
            "marker": {
             "colorbar": {
              "outlinewidth": 0,
              "ticks": ""
             }
            },
            "type": "scatterternary"
           }
          ],
          "surface": [
           {
            "colorbar": {
             "outlinewidth": 0,
             "ticks": ""
            },
            "colorscale": [
             [
              0,
              "#0d0887"
             ],
             [
              0.1111111111111111,
              "#46039f"
             ],
             [
              0.2222222222222222,
              "#7201a8"
             ],
             [
              0.3333333333333333,
              "#9c179e"
             ],
             [
              0.4444444444444444,
              "#bd3786"
             ],
             [
              0.5555555555555556,
              "#d8576b"
             ],
             [
              0.6666666666666666,
              "#ed7953"
             ],
             [
              0.7777777777777778,
              "#fb9f3a"
             ],
             [
              0.8888888888888888,
              "#fdca26"
             ],
             [
              1,
              "#f0f921"
             ]
            ],
            "type": "surface"
           }
          ],
          "table": [
           {
            "cells": {
             "fill": {
              "color": "#506784"
             },
             "line": {
              "color": "rgb(17,17,17)"
             }
            },
            "header": {
             "fill": {
              "color": "#2a3f5f"
             },
             "line": {
              "color": "rgb(17,17,17)"
             }
            },
            "type": "table"
           }
          ]
         },
         "layout": {
          "annotationdefaults": {
           "arrowcolor": "#f2f5fa",
           "arrowhead": 0,
           "arrowwidth": 1
          },
          "autotypenumbers": "strict",
          "coloraxis": {
           "colorbar": {
            "outlinewidth": 0,
            "ticks": ""
           }
          },
          "colorscale": {
           "diverging": [
            [
             0,
             "#8e0152"
            ],
            [
             0.1,
             "#c51b7d"
            ],
            [
             0.2,
             "#de77ae"
            ],
            [
             0.3,
             "#f1b6da"
            ],
            [
             0.4,
             "#fde0ef"
            ],
            [
             0.5,
             "#f7f7f7"
            ],
            [
             0.6,
             "#e6f5d0"
            ],
            [
             0.7,
             "#b8e186"
            ],
            [
             0.8,
             "#7fbc41"
            ],
            [
             0.9,
             "#4d9221"
            ],
            [
             1,
             "#276419"
            ]
           ],
           "sequential": [
            [
             0,
             "#0d0887"
            ],
            [
             0.1111111111111111,
             "#46039f"
            ],
            [
             0.2222222222222222,
             "#7201a8"
            ],
            [
             0.3333333333333333,
             "#9c179e"
            ],
            [
             0.4444444444444444,
             "#bd3786"
            ],
            [
             0.5555555555555556,
             "#d8576b"
            ],
            [
             0.6666666666666666,
             "#ed7953"
            ],
            [
             0.7777777777777778,
             "#fb9f3a"
            ],
            [
             0.8888888888888888,
             "#fdca26"
            ],
            [
             1,
             "#f0f921"
            ]
           ],
           "sequentialminus": [
            [
             0,
             "#0d0887"
            ],
            [
             0.1111111111111111,
             "#46039f"
            ],
            [
             0.2222222222222222,
             "#7201a8"
            ],
            [
             0.3333333333333333,
             "#9c179e"
            ],
            [
             0.4444444444444444,
             "#bd3786"
            ],
            [
             0.5555555555555556,
             "#d8576b"
            ],
            [
             0.6666666666666666,
             "#ed7953"
            ],
            [
             0.7777777777777778,
             "#fb9f3a"
            ],
            [
             0.8888888888888888,
             "#fdca26"
            ],
            [
             1,
             "#f0f921"
            ]
           ]
          },
          "colorway": [
           "#636efa",
           "#EF553B",
           "#00cc96",
           "#ab63fa",
           "#FFA15A",
           "#19d3f3",
           "#FF6692",
           "#B6E880",
           "#FF97FF",
           "#FECB52"
          ],
          "font": {
           "color": "#f2f5fa"
          },
          "geo": {
           "bgcolor": "rgb(17,17,17)",
           "lakecolor": "rgb(17,17,17)",
           "landcolor": "rgb(17,17,17)",
           "showlakes": true,
           "showland": true,
           "subunitcolor": "#506784"
          },
          "hoverlabel": {
           "align": "left"
          },
          "hovermode": "closest",
          "mapbox": {
           "style": "dark"
          },
          "paper_bgcolor": "rgb(17,17,17)",
          "plot_bgcolor": "rgb(17,17,17)",
          "polar": {
           "angularaxis": {
            "gridcolor": "#506784",
            "linecolor": "#506784",
            "ticks": ""
           },
           "bgcolor": "rgb(17,17,17)",
           "radialaxis": {
            "gridcolor": "#506784",
            "linecolor": "#506784",
            "ticks": ""
           }
          },
          "scene": {
           "xaxis": {
            "backgroundcolor": "rgb(17,17,17)",
            "gridcolor": "#506784",
            "gridwidth": 2,
            "linecolor": "#506784",
            "showbackground": true,
            "ticks": "",
            "zerolinecolor": "#C8D4E3"
           },
           "yaxis": {
            "backgroundcolor": "rgb(17,17,17)",
            "gridcolor": "#506784",
            "gridwidth": 2,
            "linecolor": "#506784",
            "showbackground": true,
            "ticks": "",
            "zerolinecolor": "#C8D4E3"
           },
           "zaxis": {
            "backgroundcolor": "rgb(17,17,17)",
            "gridcolor": "#506784",
            "gridwidth": 2,
            "linecolor": "#506784",
            "showbackground": true,
            "ticks": "",
            "zerolinecolor": "#C8D4E3"
           }
          },
          "shapedefaults": {
           "line": {
            "color": "#f2f5fa"
           }
          },
          "sliderdefaults": {
           "bgcolor": "#C8D4E3",
           "bordercolor": "rgb(17,17,17)",
           "borderwidth": 1,
           "tickwidth": 0
          },
          "ternary": {
           "aaxis": {
            "gridcolor": "#506784",
            "linecolor": "#506784",
            "ticks": ""
           },
           "baxis": {
            "gridcolor": "#506784",
            "linecolor": "#506784",
            "ticks": ""
           },
           "bgcolor": "rgb(17,17,17)",
           "caxis": {
            "gridcolor": "#506784",
            "linecolor": "#506784",
            "ticks": ""
           }
          },
          "title": {
           "x": 0.05
          },
          "updatemenudefaults": {
           "bgcolor": "#506784",
           "borderwidth": 0
          },
          "xaxis": {
           "automargin": true,
           "gridcolor": "#283442",
           "linecolor": "#506784",
           "ticks": "",
           "title": {
            "standoff": 15
           },
           "zerolinecolor": "#283442",
           "zerolinewidth": 2
          },
          "yaxis": {
           "automargin": true,
           "gridcolor": "#283442",
           "linecolor": "#506784",
           "ticks": "",
           "title": {
            "standoff": 15
           },
           "zerolinecolor": "#283442",
           "zerolinewidth": 2
          }
         }
        },
        "title": {
         "text": "Violin Plot of avg_glucose_level (Colored by Stroke)"
        },
        "violinmode": "group",
        "xaxis": {
         "anchor": "y",
         "domain": [
          0,
          1
         ]
        },
        "yaxis": {
         "anchor": "x",
         "domain": [
          0,
          1
         ],
         "title": {
          "text": "avg_glucose_level"
         }
        }
       }
      }
     },
     "metadata": {},
     "output_type": "display_data"
    },
    {
     "data": {
      "application/vnd.plotly.v1+json": {
       "config": {
        "plotlyServerURL": "https://plot.ly"
       },
       "data": [
        {
         "alignmentgroup": "True",
         "box": {
          "visible": true
         },
         "hovertemplate": "stroke=1<br>bmi=%{y}<extra></extra>",
         "legendgroup": "1",
         "marker": {
          "color": "#ffffff"
         },
         "name": "1",
         "offsetgroup": "1",
         "orientation": "v",
         "points": "all",
         "scalegroup": "True",
         "showlegend": true,
         "type": "violin",
         "x0": " ",
         "xaxis": "x",
         "y": {
          "bdata": "AAAAAABAQEBmZmZmZmY7QM3MzMzMzDZAMzMzMzMzOEAzMzMzM7M9QGZmZmZmZkJAzczMzMxMO0BmZmZmZuZCQDMzMzMzMztAAAAAAACAN0AzMzMzMzM8QGZmZmZmZjlAMzMzMzOzPUAAAAAAAIA6QJqZmZmZGTdAAAAAAAAAQEBmZmZmZuY9QGZmZmZm5jdAAAAAAACAPEBmZmZmZmY6QM3MzMzMTENAmpmZmZnZQECamZmZmZlDQDMzMzMzsztAZmZmZmZmP0CamZmZmZlAQDMzMzMzMzZAzczMzMxMOUAzMzMzMzM+QAAAAAAAADhAzczMzMxMNEAAAAAAAAA+QGZmZmZm5jxAmpmZmZkZP0BmZmZmZmY6QDMzMzMzszVAmpmZmZkZOEDNzMzMzAxGQGZmZmZm5jZAMzMzMzOzPUCamZmZmRk9QM3MzMzMTDtAZmZmZmYmQEDNzMzMzIxEQJqZmZmZmTlAzczMzMxMOkAAAAAAAMBCQDMzMzMzMzpAZmZmZmZmPUBmZmZmZmY4QDMzMzMzsztAAAAAAAAAPEDNzMzMzMw8QGZmZmZmZjNAAAAAAACAPEDNzMzMzEw+QDMzMzMzMzhAAAAAAADARECamZmZmZk2QDMzMzMzMzhAmpmZmZkZO0DNzMzMzEw7QM3MzMzMTD9AAAAAAAAAOEAAAAAAAAA/QAAAAAAAADxAzczMzMxMPkBmZmZmZmY8QAAAAAAAADhAmpmZmZkZNEBmZmZmZuY9QAAAAAAAADlAzczMzMzMN0DNzMzMzMw1QGZmZmZmZkJAmpmZmZmZOEAzMzMzM3NAQM3MzMzMDEFAAAAAAACAO0CamZmZmZk5QGZmZmZmZj9AAAAAAAAAOUCamZmZmRlBQJqZmZmZmTdAzczMzMxMNkBmZmZmZmY/QGZmZmZmZjpAMzMzMzNzQEAAAAAAAIBGQAAAAAAAgDlAzczMzMzMPkAAAAAAAABAQGZmZmZm5j1AMzMzMzOzQkAzMzMzM7M/QAAAAAAAQEFAAAAAAACAPUAAAAAAAEBFQAAAAAAAwEFAZmZmZmbmOkAAAAAAAIA8QJqZmZmZmTpAAAAAAAAAQEDNzMzMzMw+QJqZmZmZGT9AAAAAAACAQEBmZmZmZmY3QGZmZmZm5jpAzczMzMzMQEBmZmZmZuY3QM3MzMzMTDpAzczMzMxMO0AAAAAAAIA0QAAAAAAAgDVAmpmZmZkZO0BmZmZmZmY8QM3MzMzMzDlAZmZmZmbmP0CamZmZmZk9QDMzMzMzs0FAZmZmZmbmMEAAAAAAAIA1QDMzMzMzM0FAMzMzMzOzP0BmZmZmZmY8QDMzMzMz80FAMzMzMzMzNUCamZmZmVlCQGZmZmZm5j5AzczMzMxMPUCamZmZmZkzQA==",
          "dtype": "f8"
         },
         "y0": " ",
         "yaxis": "y"
        },
        {
         "alignmentgroup": "True",
         "box": {
          "visible": true
         },
         "hovertemplate": "stroke=0<br>bmi=%{y}<extra></extra>",
         "legendgroup": "0",
         "marker": {
          "color": "#d62728"
         },
         "name": "0",
         "offsetgroup": "0",
         "orientation": "v",
         "points": "all",
         "scalegroup": "True",
         "showlegend": true,
         "type": "violin",
         "x0": " ",
         "xaxis": "x",
         "y": {
          "bdata": "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",
          "dtype": "f8"
         },
         "y0": " ",
         "yaxis": "y"
        }
       ],
       "layout": {
        "font": {
         "color": "white"
        },
        "legend": {
         "title": {
          "text": "stroke"
         },
         "tracegroupgap": 0
        },
        "paper_bgcolor": "black",
        "plot_bgcolor": "black",
        "template": {
         "data": {
          "bar": [
           {
            "error_x": {
             "color": "#f2f5fa"
            },
            "error_y": {
             "color": "#f2f5fa"
            },
            "marker": {
             "line": {
              "color": "rgb(17,17,17)",
              "width": 0.5
             },
             "pattern": {
              "fillmode": "overlay",
              "size": 10,
              "solidity": 0.2
             }
            },
            "type": "bar"
           }
          ],
          "barpolar": [
           {
            "marker": {
             "line": {
              "color": "rgb(17,17,17)",
              "width": 0.5
             },
             "pattern": {
              "fillmode": "overlay",
              "size": 10,
              "solidity": 0.2
             }
            },
            "type": "barpolar"
           }
          ],
          "carpet": [
           {
            "aaxis": {
             "endlinecolor": "#A2B1C6",
             "gridcolor": "#506784",
             "linecolor": "#506784",
             "minorgridcolor": "#506784",
             "startlinecolor": "#A2B1C6"
            },
            "baxis": {
             "endlinecolor": "#A2B1C6",
             "gridcolor": "#506784",
             "linecolor": "#506784",
             "minorgridcolor": "#506784",
             "startlinecolor": "#A2B1C6"
            },
            "type": "carpet"
           }
          ],
          "choropleth": [
           {
            "colorbar": {
             "outlinewidth": 0,
             "ticks": ""
            },
            "type": "choropleth"
           }
          ],
          "contour": [
           {
            "colorbar": {
             "outlinewidth": 0,
             "ticks": ""
            },
            "colorscale": [
             [
              0,
              "#0d0887"
             ],
             [
              0.1111111111111111,
              "#46039f"
             ],
             [
              0.2222222222222222,
              "#7201a8"
             ],
             [
              0.3333333333333333,
              "#9c179e"
             ],
             [
              0.4444444444444444,
              "#bd3786"
             ],
             [
              0.5555555555555556,
              "#d8576b"
             ],
             [
              0.6666666666666666,
              "#ed7953"
             ],
             [
              0.7777777777777778,
              "#fb9f3a"
             ],
             [
              0.8888888888888888,
              "#fdca26"
             ],
             [
              1,
              "#f0f921"
             ]
            ],
            "type": "contour"
           }
          ],
          "contourcarpet": [
           {
            "colorbar": {
             "outlinewidth": 0,
             "ticks": ""
            },
            "type": "contourcarpet"
           }
          ],
          "heatmap": [
           {
            "colorbar": {
             "outlinewidth": 0,
             "ticks": ""
            },
            "colorscale": [
             [
              0,
              "#0d0887"
             ],
             [
              0.1111111111111111,
              "#46039f"
             ],
             [
              0.2222222222222222,
              "#7201a8"
             ],
             [
              0.3333333333333333,
              "#9c179e"
             ],
             [
              0.4444444444444444,
              "#bd3786"
             ],
             [
              0.5555555555555556,
              "#d8576b"
             ],
             [
              0.6666666666666666,
              "#ed7953"
             ],
             [
              0.7777777777777778,
              "#fb9f3a"
             ],
             [
              0.8888888888888888,
              "#fdca26"
             ],
             [
              1,
              "#f0f921"
             ]
            ],
            "type": "heatmap"
           }
          ],
          "histogram": [
           {
            "marker": {
             "pattern": {
              "fillmode": "overlay",
              "size": 10,
              "solidity": 0.2
             }
            },
            "type": "histogram"
           }
          ],
          "histogram2d": [
           {
            "colorbar": {
             "outlinewidth": 0,
             "ticks": ""
            },
            "colorscale": [
             [
              0,
              "#0d0887"
             ],
             [
              0.1111111111111111,
              "#46039f"
             ],
             [
              0.2222222222222222,
              "#7201a8"
             ],
             [
              0.3333333333333333,
              "#9c179e"
             ],
             [
              0.4444444444444444,
              "#bd3786"
             ],
             [
              0.5555555555555556,
              "#d8576b"
             ],
             [
              0.6666666666666666,
              "#ed7953"
             ],
             [
              0.7777777777777778,
              "#fb9f3a"
             ],
             [
              0.8888888888888888,
              "#fdca26"
             ],
             [
              1,
              "#f0f921"
             ]
            ],
            "type": "histogram2d"
           }
          ],
          "histogram2dcontour": [
           {
            "colorbar": {
             "outlinewidth": 0,
             "ticks": ""
            },
            "colorscale": [
             [
              0,
              "#0d0887"
             ],
             [
              0.1111111111111111,
              "#46039f"
             ],
             [
              0.2222222222222222,
              "#7201a8"
             ],
             [
              0.3333333333333333,
              "#9c179e"
             ],
             [
              0.4444444444444444,
              "#bd3786"
             ],
             [
              0.5555555555555556,
              "#d8576b"
             ],
             [
              0.6666666666666666,
              "#ed7953"
             ],
             [
              0.7777777777777778,
              "#fb9f3a"
             ],
             [
              0.8888888888888888,
              "#fdca26"
             ],
             [
              1,
              "#f0f921"
             ]
            ],
            "type": "histogram2dcontour"
           }
          ],
          "mesh3d": [
           {
            "colorbar": {
             "outlinewidth": 0,
             "ticks": ""
            },
            "type": "mesh3d"
           }
          ],
          "parcoords": [
           {
            "line": {
             "colorbar": {
              "outlinewidth": 0,
              "ticks": ""
             }
            },
            "type": "parcoords"
           }
          ],
          "pie": [
           {
            "automargin": true,
            "type": "pie"
           }
          ],
          "scatter": [
           {
            "marker": {
             "line": {
              "color": "#283442"
             }
            },
            "type": "scatter"
           }
          ],
          "scatter3d": [
           {
            "line": {
             "colorbar": {
              "outlinewidth": 0,
              "ticks": ""
             }
            },
            "marker": {
             "colorbar": {
              "outlinewidth": 0,
              "ticks": ""
             }
            },
            "type": "scatter3d"
           }
          ],
          "scattercarpet": [
           {
            "marker": {
             "colorbar": {
              "outlinewidth": 0,
              "ticks": ""
             }
            },
            "type": "scattercarpet"
           }
          ],
          "scattergeo": [
           {
            "marker": {
             "colorbar": {
              "outlinewidth": 0,
              "ticks": ""
             }
            },
            "type": "scattergeo"
           }
          ],
          "scattergl": [
           {
            "marker": {
             "line": {
              "color": "#283442"
             }
            },
            "type": "scattergl"
           }
          ],
          "scattermap": [
           {
            "marker": {
             "colorbar": {
              "outlinewidth": 0,
              "ticks": ""
             }
            },
            "type": "scattermap"
           }
          ],
          "scattermapbox": [
           {
            "marker": {
             "colorbar": {
              "outlinewidth": 0,
              "ticks": ""
             }
            },
            "type": "scattermapbox"
           }
          ],
          "scatterpolar": [
           {
            "marker": {
             "colorbar": {
              "outlinewidth": 0,
              "ticks": ""
             }
            },
            "type": "scatterpolar"
           }
          ],
          "scatterpolargl": [
           {
            "marker": {
             "colorbar": {
              "outlinewidth": 0,
              "ticks": ""
             }
            },
            "type": "scatterpolargl"
           }
          ],
          "scatterternary": [
           {
            "marker": {
             "colorbar": {
              "outlinewidth": 0,
              "ticks": ""
             }
            },
            "type": "scatterternary"
           }
          ],
          "surface": [
           {
            "colorbar": {
             "outlinewidth": 0,
             "ticks": ""
            },
            "colorscale": [
             [
              0,
              "#0d0887"
             ],
             [
              0.1111111111111111,
              "#46039f"
             ],
             [
              0.2222222222222222,
              "#7201a8"
             ],
             [
              0.3333333333333333,
              "#9c179e"
             ],
             [
              0.4444444444444444,
              "#bd3786"
             ],
             [
              0.5555555555555556,
              "#d8576b"
             ],
             [
              0.6666666666666666,
              "#ed7953"
             ],
             [
              0.7777777777777778,
              "#fb9f3a"
             ],
             [
              0.8888888888888888,
              "#fdca26"
             ],
             [
              1,
              "#f0f921"
             ]
            ],
            "type": "surface"
           }
          ],
          "table": [
           {
            "cells": {
             "fill": {
              "color": "#506784"
             },
             "line": {
              "color": "rgb(17,17,17)"
             }
            },
            "header": {
             "fill": {
              "color": "#2a3f5f"
             },
             "line": {
              "color": "rgb(17,17,17)"
             }
            },
            "type": "table"
           }
          ]
         },
         "layout": {
          "annotationdefaults": {
           "arrowcolor": "#f2f5fa",
           "arrowhead": 0,
           "arrowwidth": 1
          },
          "autotypenumbers": "strict",
          "coloraxis": {
           "colorbar": {
            "outlinewidth": 0,
            "ticks": ""
           }
          },
          "colorscale": {
           "diverging": [
            [
             0,
             "#8e0152"
            ],
            [
             0.1,
             "#c51b7d"
            ],
            [
             0.2,
             "#de77ae"
            ],
            [
             0.3,
             "#f1b6da"
            ],
            [
             0.4,
             "#fde0ef"
            ],
            [
             0.5,
             "#f7f7f7"
            ],
            [
             0.6,
             "#e6f5d0"
            ],
            [
             0.7,
             "#b8e186"
            ],
            [
             0.8,
             "#7fbc41"
            ],
            [
             0.9,
             "#4d9221"
            ],
            [
             1,
             "#276419"
            ]
           ],
           "sequential": [
            [
             0,
             "#0d0887"
            ],
            [
             0.1111111111111111,
             "#46039f"
            ],
            [
             0.2222222222222222,
             "#7201a8"
            ],
            [
             0.3333333333333333,
             "#9c179e"
            ],
            [
             0.4444444444444444,
             "#bd3786"
            ],
            [
             0.5555555555555556,
             "#d8576b"
            ],
            [
             0.6666666666666666,
             "#ed7953"
            ],
            [
             0.7777777777777778,
             "#fb9f3a"
            ],
            [
             0.8888888888888888,
             "#fdca26"
            ],
            [
             1,
             "#f0f921"
            ]
           ],
           "sequentialminus": [
            [
             0,
             "#0d0887"
            ],
            [
             0.1111111111111111,
             "#46039f"
            ],
            [
             0.2222222222222222,
             "#7201a8"
            ],
            [
             0.3333333333333333,
             "#9c179e"
            ],
            [
             0.4444444444444444,
             "#bd3786"
            ],
            [
             0.5555555555555556,
             "#d8576b"
            ],
            [
             0.6666666666666666,
             "#ed7953"
            ],
            [
             0.7777777777777778,
             "#fb9f3a"
            ],
            [
             0.8888888888888888,
             "#fdca26"
            ],
            [
             1,
             "#f0f921"
            ]
           ]
          },
          "colorway": [
           "#636efa",
           "#EF553B",
           "#00cc96",
           "#ab63fa",
           "#FFA15A",
           "#19d3f3",
           "#FF6692",
           "#B6E880",
           "#FF97FF",
           "#FECB52"
          ],
          "font": {
           "color": "#f2f5fa"
          },
          "geo": {
           "bgcolor": "rgb(17,17,17)",
           "lakecolor": "rgb(17,17,17)",
           "landcolor": "rgb(17,17,17)",
           "showlakes": true,
           "showland": true,
           "subunitcolor": "#506784"
          },
          "hoverlabel": {
           "align": "left"
          },
          "hovermode": "closest",
          "mapbox": {
           "style": "dark"
          },
          "paper_bgcolor": "rgb(17,17,17)",
          "plot_bgcolor": "rgb(17,17,17)",
          "polar": {
           "angularaxis": {
            "gridcolor": "#506784",
            "linecolor": "#506784",
            "ticks": ""
           },
           "bgcolor": "rgb(17,17,17)",
           "radialaxis": {
            "gridcolor": "#506784",
            "linecolor": "#506784",
            "ticks": ""
           }
          },
          "scene": {
           "xaxis": {
            "backgroundcolor": "rgb(17,17,17)",
            "gridcolor": "#506784",
            "gridwidth": 2,
            "linecolor": "#506784",
            "showbackground": true,
            "ticks": "",
            "zerolinecolor": "#C8D4E3"
           },
           "yaxis": {
            "backgroundcolor": "rgb(17,17,17)",
            "gridcolor": "#506784",
            "gridwidth": 2,
            "linecolor": "#506784",
            "showbackground": true,
            "ticks": "",
            "zerolinecolor": "#C8D4E3"
           },
           "zaxis": {
            "backgroundcolor": "rgb(17,17,17)",
            "gridcolor": "#506784",
            "gridwidth": 2,
            "linecolor": "#506784",
            "showbackground": true,
            "ticks": "",
            "zerolinecolor": "#C8D4E3"
           }
          },
          "shapedefaults": {
           "line": {
            "color": "#f2f5fa"
           }
          },
          "sliderdefaults": {
           "bgcolor": "#C8D4E3",
           "bordercolor": "rgb(17,17,17)",
           "borderwidth": 1,
           "tickwidth": 0
          },
          "ternary": {
           "aaxis": {
            "gridcolor": "#506784",
            "linecolor": "#506784",
            "ticks": ""
           },
           "baxis": {
            "gridcolor": "#506784",
            "linecolor": "#506784",
            "ticks": ""
           },
           "bgcolor": "rgb(17,17,17)",
           "caxis": {
            "gridcolor": "#506784",
            "linecolor": "#506784",
            "ticks": ""
           }
          },
          "title": {
           "x": 0.05
          },
          "updatemenudefaults": {
           "bgcolor": "#506784",
           "borderwidth": 0
          },
          "xaxis": {
           "automargin": true,
           "gridcolor": "#283442",
           "linecolor": "#506784",
           "ticks": "",
           "title": {
            "standoff": 15
           },
           "zerolinecolor": "#283442",
           "zerolinewidth": 2
          },
          "yaxis": {
           "automargin": true,
           "gridcolor": "#283442",
           "linecolor": "#506784",
           "ticks": "",
           "title": {
            "standoff": 15
           },
           "zerolinecolor": "#283442",
           "zerolinewidth": 2
          }
         }
        },
        "title": {
         "text": "Violin Plot of bmi (Colored by Stroke)"
        },
        "violinmode": "group",
        "xaxis": {
         "anchor": "y",
         "domain": [
          0,
          1
         ]
        },
        "yaxis": {
         "anchor": "x",
         "domain": [
          0,
          1
         ],
         "title": {
          "text": "bmi"
         }
        }
       }
      }
     },
     "metadata": {},
     "output_type": "display_data"
    }
   ],
   "source": [
    "for col in numeric_cols:\n",
    "    fig = px.violin(df, y=col, color=\"stroke\", box=True, points=\"all\",\n",
    "                    title=f\"Violin Plot of {col} (Colored by Stroke)\",\n",
    "                    color_discrete_sequence=[\"#ffffff\", \"#d62728\"])  # White = No Stroke, Red = Stroke\n",
    "\n",
    "    fig.update_layout(\n",
    "        template=\"plotly_dark\",\n",
    "        plot_bgcolor=\"black\",\n",
    "        paper_bgcolor=\"black\",\n",
    "        font=dict(color=\"white\")\n",
    "    )\n",
    "    \n",
    "    fig.show()"
   ]
  },
  {
   "cell_type": "markdown",
   "metadata": {},
   "source": [
    "---\n",
    "<a href=#six></a>\n",
    "## **Modeling**\n",
    "<a href=#cont>Back to Table of Contents</a>\n",
    "\n",
    "* **Purpose:** Develop and train predictive or statistical models.\n",
    "* **Details:** Describe the choice of models, feature selection and engineering processes, and show how the models are trained. Include code for setting up the models and explanations of the model parameters.\n",
    "---\n"
   ]
  },
  {
   "cell_type": "code",
   "execution_count": null,
   "metadata": {},
   "outputs": [],
   "source": [
    "#Please use code cells to code in and do not forget to comment your code."
   ]
  },
  {
   "cell_type": "markdown",
   "metadata": {},
   "source": [
    "---\n",
    "<a href=#seven></a>\n",
    "## **Evaluation and Validation**\n",
    "<a href=#cont>Back to Table of Contents</a>\n",
    "\n",
    "* **Purpose:** Evaluate and validate the effectiveness and accuracy of the models.\n",
    "* **Details:** Present metrics used to evaluate the models, such as accuracy, precision, recall, F1-score, etc. Discuss validation techniques employed, such as cross-validation or train/test split.\n",
    "---"
   ]
  },
  {
   "cell_type": "code",
   "execution_count": null,
   "metadata": {},
   "outputs": [],
   "source": [
    "#Please use code cells to code in and do not forget to comment your code."
   ]
  },
  {
   "cell_type": "markdown",
   "metadata": {},
   "source": [
    "---\n",
    "<a href=#eight></a>\n",
    "## **Final Model**\n",
    "<a href=#cont>Back to Table of Contents</a>\n",
    "\n",
    "* **Purpose:** Present the final model and its performance.\n",
    "* **Details:** Highlight the best-performing model and discuss its configuration, performance, and why it was chosen over others.\n",
    "---\n"
   ]
  },
  {
   "cell_type": "code",
   "execution_count": null,
   "metadata": {},
   "outputs": [],
   "source": [
    "#Please use code cells to code in and do not forget to comment your code."
   ]
  },
  {
   "cell_type": "markdown",
   "metadata": {},
   "source": [
    "---\n",
    "<a href=#nine></a>\n",
    "## **Conclusion and Future Work**\n",
    "<a href=#cont>Back to Table of Contents</a>\n",
    "\n",
    "* **Purpose:** Summarize the findings and discuss future directions.\n",
    "* **Details:** Conclude with a summary of the results, insights gained, limitations of the study, and suggestions for future projects or improvements in methodology or data collection.\n",
    "---\n"
   ]
  },
  {
   "cell_type": "code",
   "execution_count": null,
   "metadata": {},
   "outputs": [],
   "source": [
    "#Please use code cells to code in and do not forget to comment your code."
   ]
  },
  {
   "cell_type": "markdown",
   "metadata": {},
   "source": [
    "---\n",
    "<a href=#ten></a>\n",
    "## **References**\n",
    "<a href=#cont>Back to Table of Contents</a>\n",
    "\n",
    "* **Purpose:** Provide citations and sources of external content.\n",
    "* **Details:** List all the references and sources consulted during the project, including data sources, research papers, and documentation for tools and libraries used.\n",
    "---"
   ]
  },
  {
   "cell_type": "code",
   "execution_count": null,
   "metadata": {},
   "outputs": [],
   "source": [
    "#Please use code cells to code in and do not forget to comment your code."
   ]
  },
  {
   "cell_type": "markdown",
   "metadata": {},
   "source": [
    "## Additional Sections to Consider\n",
    "\n",
    "* ### Appendix: \n",
    "For any additional code, detailed tables, or extended data visualizations that are supplementary to the main content.\n",
    "\n",
    "* ### Contributors: \n",
    "If this is a group project, list the contributors and their roles or contributions to the project.\n"
   ]
  }
 ],
 "metadata": {
  "kernelspec": {
   "display_name": "environment",
   "language": "python",
   "name": "python3"
  },
  "language_info": {
   "codemirror_mode": {
    "name": "ipython",
    "version": 3
   },
   "file_extension": ".py",
   "mimetype": "text/x-python",
   "name": "python",
   "nbconvert_exporter": "python",
   "pygments_lexer": "ipython3",
   "version": "3.12.4"
  },
  "orig_nbformat": 4
 },
 "nbformat": 4,
 "nbformat_minor": 2
}
